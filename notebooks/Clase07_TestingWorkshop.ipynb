{
 "cells": [
  {
   "cell_type": "markdown",
   "metadata": {},
   "source": [
    "<img src=\"../static/logopython.png\" alt=\"Logo Python\" style=\"width: 300px; display: inline\"/>\n",
    "<img src=\"../static/deimoslogo.png\" alt=\"Logo Deimos\" style=\"width: 300px; display: inline\"/>"
   ]
  },
  {
   "cell_type": "markdown",
   "metadata": {},
   "source": [
    "# Clase 7: Taller de depuración y pruebas\n",
    "\n",
    "En este capítulo vamos a hacer un workshop. Simularemos una sesión de testing y depuración usando las herramientas que Python pone a nuestra disposición:\n",
    "\n",
    "* El [módulo unittest](https://docs.python.org/3.5/library/unittest.html) y su interfaz de línea de comandos\n",
    "* El [módulo logging](https://docs.python.org/3.5/library/logging.html) para mostrar mensajes de error\n",
    "* El [depurador de Python, pdb](https://docs.python.org/3.5/library/pdb.html)"
   ]
  },
  {
   "cell_type": "markdown",
   "metadata": {},
   "source": [
    "Vamos a utilizar el código disponible en [este repositorio de Github](https://github.com/jorgeas80/nicar2016-python-testing-debugging-exercises). Se puede seguir el taller de dos maneras:\n",
    "\n",
    "* Descargando el código del repositorio en formato zip en nuestra máquina\n",
    "* Clonando el repositorio en nuestra máquina"
   ]
  },
  {
   "cell_type": "markdown",
   "metadata": {},
   "source": [
    "<div class=\"alert alert-info\">Si clonamos el repositorio en nuestra máquina, podemos ir alternando entre la rama *master*, en la que trabajaremos, y la rama *solutions*, donde se encuentran resueltos los ejercicios propuestos durante el taller</div>"
   ]
  },
  {
   "cell_type": "markdown",
   "metadata": {},
   "source": [
    "## Tests unitarios\n",
    "\n",
    "Vamos a empezar ejecutando unos cuantos tests unitarios\n",
    "\n",
    "```python\n",
    "python3 -m unittest tests.test_basic```\n",
    "\n",
    "Veremos una salida como ésta\n",
    "\n",
    "```bash\n",
    "t_basic\n",
    "F..\n",
    "======================================================================\n",
    "FAIL: test_true_is_true (tests.test_basic.FailingTestCase)\n",
    "----------------------------------------------------------------------\n",
    "Traceback (most recent call last):\n",
    "  File \"/home/jorge/Dev/github/nicar2016-python-testing-debugging-exercises/tests/test_basic.py\", line 13, in test_true_is_true\n",
    "    self.assertEqual(False, True)\n",
    "AssertionError: False != True\n",
    "\n",
    "----------------------------------------------------------------------\n",
    "Ran 3 tests in 0.001s\n",
    "\n",
    "FAILED (failures=1)```\n",
    "\n",
    "Abriendo el fichero tests/test_basic.py, vemos el test que ha fallado. Es bastante sencillo\n",
    "\n",
    "```python3\n",
    "self.assertEqual(False, True)```\n"
   ]
  },
  {
   "cell_type": "markdown",
   "metadata": {},
   "source": [
    "En este punto, aun no hemos visto nada sobre tests unitarios en Python, pero mirando el código, entendemos lo básico:\n",
    "\n",
    "* El módulo que importamos se llama *unittest*. Contiene lo necesario para implementar tests unitarios\n",
    "* La clase básica es *TestCase*. De ahí heredaremos las nuestras\n",
    "* Dentro de cada clase hija de *TestCase*, definiremos tantos métodos como pruebas queramos hacer\n",
    "* Compararemos los valores esperados con los valores devueltos mediante la familia de funciones *assert*"
   ]
  },
  {
   "cell_type": "markdown",
   "metadata": {},
   "source": [
    "Continuamos lanzando tests. Dentro una test suite podemos lanzar tests cases individuales\n",
    "\n",
    "```python\n",
    "\n",
    "python3 -m unittest tests.test_basic.NoFailuresTestCase```"
   ]
  },
  {
   "cell_type": "markdown",
   "metadata": {},
   "source": [
    "Incluso funciones de tests individuales\n",
    "\n",
    "```python \n",
    "\n",
    "python3 -m unittest tests.test_basic.NoFailuresTestCase.test_true_is_true```"
   ]
  },
  {
   "cell_type": "markdown",
   "metadata": {},
   "source": [
    "### Capturando excepciones en tests\n",
    "\n",
    "Es posible que se nos haya escapado capturar alguna excepción, y los tests ni siquiera lleguen a ejecutarse por eso. Para provocar ese error, ejecutar:\n",
    "\n",
    "```python\n",
    "\n",
    "python3 -m unittest tests.test_result_loader```\n",
    "\n",
    "Obtendremos algo así\n",
    "\n",
    "```bash\n",
    "t_result_loader\n",
    "E\n",
    "======================================================================\n",
    "ERROR: test_load_bad_json (tests.test_result_loader.SimpleResultLoaderTestCase)\n",
    "----------------------------------------------------------------------\n",
    "Traceback (most recent call last):\n",
    "  File \"/home/jorge/Dev/github/nicar2016-python-testing-debugging-exercises/tests/test_result_loader.py\", line 13, in test_load_bad_json\n",
    "    results = loader.load(sample_json)\n",
    "  File \"/home/jorge/Dev/github/nicar2016-python-testing-debugging-exercises/results/__init__.py\", line 11, in load\n",
    "    parsed = json.loads(s)\n",
    "  File \"/usr/lib/python3.5/json/__init__.py\", line 319, in loads\n",
    "    return _default_decoder.decode(s)\n",
    "  File \"/usr/lib/python3.5/json/decoder.py\", line 339, in decode\n",
    "    obj, end = self.raw_decode(s, idx=_w(s, 0).end())\n",
    "  File \"/usr/lib/python3.5/json/decoder.py\", line 357, in raw_decode\n",
    "    raise JSONDecodeError(\"Expecting value\", s, err.value) from None\n",
    "json.decoder.JSONDecodeError: Expecting value: line 4 column 9 (char 42)\n",
    "\n",
    "----------------------------------------------------------------------\n",
    "Ran 1 test in 0.001s\n",
    "\n",
    "FAILED (errors=1)```"
   ]
  },
  {
   "cell_type": "markdown",
   "metadata": {},
   "source": [
    "Como vemos, el error está en el fichero *tests/test_result_loader.py*. Concretamente en la línea 13, función *test_load_bad_json*\n",
    "\n",
    "Abrimos el fichero, y vemos que en esa línea se llama a una función que carga un dato de tipo JSON, pero dentro de la función, no se comprueba si el dato ha sido correctamente cargado o no antes de operar con él. Eso provoca un error al intentar acceder a uno de sus campos"
   ]
  },
  {
   "cell_type": "markdown",
   "metadata": {},
   "source": [
    "<div class=\"alert alert-warning\">__Ejercicio__: Arregla la situación para evitar que se produzca la excepción incontrolada</div>"
   ]
  },
  {
   "cell_type": "markdown",
   "metadata": {},
   "source": [
    "Esto tipo de problemas casi siempre se da porque damos por sentadas cosas sin probarlas antes. Por ejemplo, ¿qué pruebas ejecutarías en este trozo de código para tener controlados los errores?\n",
    "\n",
    "```python\n",
    "def pruebame(items):\n",
    "    return [items[1].upper(), items[0].upper()]```"
   ]
  },
  {
   "cell_type": "markdown",
   "metadata": {},
   "source": [
    "<div class=\"alert alert-warning\">__Ejercicio__: Haz la función anterior segura ante potenciales errores por inconsistencia en los datos de entrada"
   ]
  },
  {
   "cell_type": "markdown",
   "metadata": {},
   "source": [
    "### TDD\n",
    "\n",
    "Un posible enfoque a la hora de desarrollar software es escribir primero el código de prueba, y luego el código a probar, una vez has cubierto todos los casos que se necesitan. Sus defensores mantienen que ayuda a escribir mejor código y más mantenible.\n",
    "\n",
    "Vamos a intentar este enfoque con un ejercicio sencillo:\n",
    "\n",
    "El fichero *tests/test_names.py* está vacío. Crea una clase de tests llamada TestNames. Dentro, un solo método, llamado *test_parse_names*. En dicho método, llamarás a una función *parse_names*, que implementarás dentro del fichero *names/\\__init\\__.py*. \n",
    "\n",
    "La función recibirá como argumento una cadena con las partes del nombre de una persona, separadas por comas. Por ejemplo: \n",
    "\n",
    "*Arévalo, de Soto, Jorge, Sr.*. \n",
    "\n",
    "Como respuesta, devolverá un json como éste:\n",
    "\n",
    "```json\n",
    "{\n",
    "    \"first_name\": \"Jorge\",\n",
    "    \"last_name\": \"de Soto\",\n",
    "    \"middle_name\": \"Arévalo\",\n",
    "    \"suffix\": \"Sr\"\n",
    "}```\n",
    "\n",
    "Si el sufijo no existe, se devolverá *None* en ese campo.\n",
    "\n",
    "Por supuesto, habrás de implementar luego la clase *parse_names*, importarla, y llamarla con los casos de prueba que se te hayan ocurrido. \n",
    "\n",
    "Una vez termines tanto el código de tests como la función en si, podrás ejecutar el test de esta forma\n",
    "\n",
    "```python\n",
    "python3 -m unittest tests.test_names```\n",
    "\n",
    "Y deberías obtener una salida similar a ésta\n",
    "\n",
    "```bash\n",
    "test_names\n",
    ".\n",
    "----------------------------------------------------------------------\n",
    "Ran 1 test in 0.000s\n",
    "\n",
    "OK```"
   ]
  },
  {
   "cell_type": "markdown",
   "metadata": {},
   "source": [
    "<div class=\"alert alert-warning\">__Ejercicio__: Implementa la clase de pruebas y la función a probar</div>"
   ]
  },
  {
   "cell_type": "markdown",
   "metadata": {},
   "source": [
    "### Refactorizando\n",
    "\n",
    "A veces, diseñamos nuestro código de manera que es complicado de probar. Creamos clases o funciones excesivamente complejas, cuando lo ideal sería crear pequeñas funciones que fueran sencillas de probar.\n",
    "\n",
    "Por ejemplo, corramos el siguiente test\n",
    "\n",
    "```python\n",
    "\n",
    "python3 -m unittest tests.test_chicago_result_loader.TestChicagoResultLoader```\n",
    "\n",
    "Si abres el código del test, verás que se prueba el método *ChicagoResultsLoader.load*, que abre un fichero de texto y carga datos, devolviendo una estructura de tipo JSON, cuyos valores se comprueban en el test.\n",
    "\n",
    "Sería más interesante que tuviéramos dos funciones:\n",
    "\n",
    "* función *load*, para cargar los datos del fichero, línea a línea\n",
    "* funcion *parse_result*, para transformar la línea leída en un elemento JSON\n",
    "\n",
    "Y pudiéramos probar esas dos funciones por separado desde nuestra función de test.\n",
    "\n",
    "Dado que en esas circunstancias pasaríamos a tener más de una función de test, hay ciertas tareas repetitivas que ejecutamos en cada caso de test, y que podríamos extraer fuera (instanciar la clase a probar, y obtener la ruta al fichero de datos).\n",
    "\n",
    "Por último, podría ser interesante añadir funcionalidad de log al código a probar. De esta forma, además de probarlo con los tests, también generaríamos en un fichero de texto la salida que la función probada va generando"
   ]
  },
  {
   "cell_type": "markdown",
   "metadata": {},
   "source": [
    "<div class=\"alert alert-warning\">__Ejercicio__: Haz las siguientes tareas:\n",
    " \n",
    " <ul>\n",
    " <li>Refactoriza el código de la clase ChicagoResultsLoader.load, dividiendolo en dos métodos: load y parse_result, que probarás por separado</li>\n",
    " <li>En cada caso de test, habrá código repetitivo que podrás sacar fuera (instanciar la clase a probar, y obtener la ruta al fichero de datos). Investiga el uso de la función [unittest.TestCase.setUp](https://docs.python.org/3.5/library/unittest.html#unittest.TestCase.setUp) para centralizar tareas repetitivas que se tendrían que realizar en todos los tests</li>\n",
    "<li>Añade a los métodos refactorizados ChicagoResultsLoader.load y ChicagoResultsLoader.parse_result funcionalidad de logging. Deberán sacar el log a un fichero de texto externo. Investiga el módulo [logging](https://docs.python.org/3.5/library/logging.html) para averiguar cómo sacar log a un fichero externo</li>\n",
    "</ul>\n",
    "</div>\n"
   ]
  },
  {
   "cell_type": "markdown",
   "metadata": {},
   "source": [
    "## Depurando código\n",
    "\n",
    "Por muchos tests que escribamos y muy bien que diseñemos nuestro código, en algún momento tendremos que acabar depurando para encontrar algún error que se nos ha escapado. Vamos a ver el uso básico del depurador de Python, *pdb*, y algunas funciones útiles"
   ]
  },
  {
   "cell_type": "markdown",
   "metadata": {},
   "source": [
    "Empecemos con algo sencillo. Mostrar el contenido de un objeto JSON en una sesión de depuración. Podemos abrir una consola del intérprete desde la carpeta *tests/data*, o ejecutar la celda de abajo"
   ]
  },
  {
   "cell_type": "code",
   "execution_count": 1,
   "metadata": {
    "collapsed": false,
    "scrolled": true
   },
   "outputs": [
    {
     "name": "stdout",
     "output_type": "stream",
     "text": [
      "{'raceID': '10673', 'party': 'GOP', 'lastUpdated': '2016-03-02T15:42:49Z', 'statePostal': 'FL', 'raceTypeID': 'R', 'national': True, 'officeID': 'P', 'officeName': 'President', 'candidates': [{'first': 'Jeb', 'party': 'GOP', 'last': 'Bush', 'ballotOrder': 1, 'polNum': '14561', 'polID': '1239', 'candidateID': '20408'}, {'first': 'Ben', 'party': 'GOP', 'last': 'Carson', 'ballotOrder': 2, 'polNum': '14562', 'polID': '64509', 'candidateID': '20409'}, {'first': 'Chris', 'party': 'GOP', 'last': 'Christie', 'ballotOrder': 3, 'polNum': '14563', 'polID': '60051', 'candidateID': '20410'}, {'first': 'Ted', 'party': 'GOP', 'last': 'Cruz', 'ballotOrder': 4, 'polNum': '14564', 'polID': '61815', 'candidateID': '20411'}, {'first': 'Carly', 'party': 'GOP', 'last': 'Fiorina', 'ballotOrder': 5, 'polNum': '14566', 'polID': '60339', 'candidateID': '20414'}, {'first': 'Lindsey', 'party': 'GOP', 'last': 'Graham', 'ballotOrder': 7, 'polNum': '14568', 'polID': '1408', 'candidateID': '20416'}, {'abbrv': 'Huckabe', 'party': 'GOP', 'last': 'Huckabee', 'ballotOrder': 8, 'polNum': '14569', 'first': 'Mike', 'polID': '1187', 'candidateID': '20419'}, {'first': 'John', 'party': 'GOP', 'last': 'Kasich', 'ballotOrder': 9, 'polNum': '14571', 'polID': '36679', 'candidateID': '20421'}, {'first': 'Rand', 'party': 'GOP', 'last': 'Paul', 'ballotOrder': 10, 'polNum': '14573', 'polID': '60208', 'candidateID': '20423'}, {'first': 'Marco', 'party': 'GOP', 'last': 'Rubio', 'ballotOrder': 11, 'polNum': '12082', 'polID': '53044', 'candidateID': '20425'}, {'first': 'Rick', 'party': 'GOP', 'last': 'Santorum', 'ballotOrder': 12, 'polNum': '13890', 'polID': '1752', 'candidateID': '20427'}, {'first': 'Donald', 'party': 'GOP', 'last': 'Trump', 'ballotOrder': 13, 'polNum': '14574', 'polID': '8639', 'candidateID': '20428'}, {'first': 'Jim', 'party': 'GOP', 'last': 'Gilmore', 'ballotOrder': 6, 'polNum': '14567', 'polID': '45650', 'candidateID': '20429'}]}\n"
     ]
    }
   ],
   "source": [
    "# Cargamos datos JSON desde fichero\n",
    "import json\n",
    "with open('ap_elections_loader_recording-1456935370.json') as f:\n",
    "    data = json.load(f)\n",
    "    print(data['races'][0])"
   ]
  },
  {
   "cell_type": "markdown",
   "metadata": {},
   "source": [
    "Bastante poco práctico. Vamos a usar el módulo [pprint](https://docs.python.org/3/library/pprint.html)"
   ]
  },
  {
   "cell_type": "code",
   "execution_count": 5,
   "metadata": {
    "collapsed": false
   },
   "outputs": [
    {
     "name": "stdout",
     "output_type": "stream",
     "text": [
      "{'candidates': [{'ballotOrder': 1,\n",
      "                 'candidateID': '20408',\n",
      "                 'first': 'Jeb',\n",
      "                 'last': 'Bush',\n",
      "                 'party': 'GOP',\n",
      "                 'polID': '1239',\n",
      "                 'polNum': '14561'},\n",
      "                {'ballotOrder': 2,\n",
      "                 'candidateID': '20409',\n",
      "                 'first': 'Ben',\n",
      "                 'last': 'Carson',\n",
      "                 'party': 'GOP',\n",
      "                 'polID': '64509',\n",
      "                 'polNum': '14562'},\n",
      "                {'ballotOrder': 3,\n",
      "                 'candidateID': '20410',\n",
      "                 'first': 'Chris',\n",
      "                 'last': 'Christie',\n",
      "                 'party': 'GOP',\n",
      "                 'polID': '60051',\n",
      "                 'polNum': '14563'},\n",
      "                {'ballotOrder': 4,\n",
      "                 'candidateID': '20411',\n",
      "                 'first': 'Ted',\n",
      "                 'last': 'Cruz',\n",
      "                 'party': 'GOP',\n",
      "                 'polID': '61815',\n",
      "                 'polNum': '14564'},\n",
      "                {'ballotOrder': 5,\n",
      "                 'candidateID': '20414',\n",
      "                 'first': 'Carly',\n",
      "                 'last': 'Fiorina',\n",
      "                 'party': 'GOP',\n",
      "                 'polID': '60339',\n",
      "                 'polNum': '14566'},\n",
      "                {'ballotOrder': 7,\n",
      "                 'candidateID': '20416',\n",
      "                 'first': 'Lindsey',\n",
      "                 'last': 'Graham',\n",
      "                 'party': 'GOP',\n",
      "                 'polID': '1408',\n",
      "                 'polNum': '14568'},\n",
      "                {'abbrv': 'Huckabe',\n",
      "                 'ballotOrder': 8,\n",
      "                 'candidateID': '20419',\n",
      "                 'first': 'Mike',\n",
      "                 'last': 'Huckabee',\n",
      "                 'party': 'GOP',\n",
      "                 'polID': '1187',\n",
      "                 'polNum': '14569'},\n",
      "                {'ballotOrder': 9,\n",
      "                 'candidateID': '20421',\n",
      "                 'first': 'John',\n",
      "                 'last': 'Kasich',\n",
      "                 'party': 'GOP',\n",
      "                 'polID': '36679',\n",
      "                 'polNum': '14571'},\n",
      "                {'ballotOrder': 10,\n",
      "                 'candidateID': '20423',\n",
      "                 'first': 'Rand',\n",
      "                 'last': 'Paul',\n",
      "                 'party': 'GOP',\n",
      "                 'polID': '60208',\n",
      "                 'polNum': '14573'},\n",
      "                {'ballotOrder': 11,\n",
      "                 'candidateID': '20425',\n",
      "                 'first': 'Marco',\n",
      "                 'last': 'Rubio',\n",
      "                 'party': 'GOP',\n",
      "                 'polID': '53044',\n",
      "                 'polNum': '12082'},\n",
      "                {'ballotOrder': 12,\n",
      "                 'candidateID': '20427',\n",
      "                 'first': 'Rick',\n",
      "                 'last': 'Santorum',\n",
      "                 'party': 'GOP',\n",
      "                 'polID': '1752',\n",
      "                 'polNum': '13890'},\n",
      "                {'ballotOrder': 13,\n",
      "                 'candidateID': '20428',\n",
      "                 'first': 'Donald',\n",
      "                 'last': 'Trump',\n",
      "                 'party': 'GOP',\n",
      "                 'polID': '8639',\n",
      "                 'polNum': '14574'},\n",
      "                {'ballotOrder': 6,\n",
      "                 'candidateID': '20429',\n",
      "                 'first': 'Jim',\n",
      "                 'last': 'Gilmore',\n",
      "                 'party': 'GOP',\n",
      "                 'polID': '45650',\n",
      "                 'polNum': '14567'}],\n",
      " 'lastUpdated': '2016-03-02T15:42:49Z',\n",
      " 'national': True,\n",
      " 'officeID': 'P',\n",
      " 'officeName': 'President',\n",
      " 'party': 'GOP',\n",
      " 'raceID': '10673',\n",
      " 'raceTypeID': 'R',\n",
      " 'statePostal': 'FL'}\n"
     ]
    }
   ],
   "source": [
    "# Ahora usamos pprint para mostrarlo por pantalla\n",
    "import json\n",
    "import pprint\n",
    "with open('ap_elections_loader_recording-1456935370.json') as f:\n",
    "    data = json.load(f)\n",
    "    pprint.pprint(data['races'][0])"
   ]
  },
  {
   "cell_type": "markdown",
   "metadata": {},
   "source": [
    "Bastante mejor"
   ]
  },
  {
   "cell_type": "markdown",
   "metadata": {},
   "source": [
    "### Usando pdb\n",
    "\n",
    "A grandes rasgos, hay dos situaciones en las que voy a usar pdb"
   ]
  },
  {
   "cell_type": "markdown",
   "metadata": {},
   "source": [
    "Metiendo en mi código llamadas a [*pdb.set_trace()*](https://docs.python.org/3.5/library/pdb.html#pdb.set_trace) para que el intérprete pare (lo que serían puntos de parada de depuración)\n",
    "\n",
    "```python\n",
    "\n",
    "import pdb\n",
    "def debug_this(i1, i2):\n",
    "    result = i1\n",
    "    pdb.set_trace() # Va a parar aqui\n",
    "    for i in range(5):\n",
    "        result += i2\n",
    "    return result```\n",
    "    \n",
    "    "
   ]
  },
  {
   "cell_type": "markdown",
   "metadata": {},
   "source": [
    "Entrando en una sesión del intérprete de Python y depurando explicitamente la función mediante una llamada a [*pdb.runcall*](https://docs.python.org/3.5/library/pdb.html#pdb.runcall)\n",
    "\n",
    "```python\n",
    "\n",
    "import pdb\n",
    "\n",
    "# Ahora la función no tiene puntos de parada\n",
    "def debug_this(i1, i2):\n",
    "    result = i1\n",
    "    for i in range(5):\n",
    "        result += i2\n",
    "    return result\n",
    "    \n",
    "# Pero ya la llamo yo\n",
    "pdb.runcall(debug_this, 1, 1)```"
   ]
  },
  {
   "cell_type": "markdown",
   "metadata": {},
   "source": [
    "En cualquiera de los dos casos, entraríamos en una sesión del depurador y podríamos ejecutar las instrucciones paso a paso, entre otros comandos. Los más populares que podríamos usar son:"
   ]
  },
  {
   "cell_type": "markdown",
   "metadata": {},
   "source": [
    "#### Comando (l)ist \n",
    "\n",
    "Para ver las líneas de código donde nos encontramos\n",
    "\n",
    "```python\n",
    "\n",
    "(Pdb) l\n",
    "  1  \tdef debug_this(i1, i2):\n",
    "  2  ->\t    result = i1\n",
    "  3  \t    for i in range(5):\n",
    "  4  \t        result += i2\n",
    "  5  \t    return result```"
   ]
  },
  {
   "cell_type": "markdown",
   "metadata": {},
   "source": [
    "#### Comando (w)here\n",
    "\n",
    "Para ver dónde nos encontramos dentro de la pila de llamadas (puede ser bastante profunda)\n",
    "\n",
    "```python\n",
    "\n",
    "(Pdb) w\n",
    "  /usr/lib/python3.5/bdb.py(465)runcall()\n",
    "-> res = func(*args, **kwds)\n",
    "> <ipython-input-2-a2c915a1f1da>(2)debug_this()```"
   ]
  },
  {
   "cell_type": "markdown",
   "metadata": {},
   "source": [
    "#### Comando (s)tep\n",
    "\n",
    "Para entrar en el código de una función\n",
    "\n",
    "```python\n",
    "(Pdb) l\n",
    "  1  \tdef foo():\n",
    "  2  \t    a = \"hola\"\n",
    "  3  \t    b = \"bola\"\n",
    "  4  ->\t    bar()\n",
    "  5  \t\n",
    "[EOF]\n",
    "(Pdb) s\n",
    "--Call--\n",
    "> <ipython-input-4-d5b067988c12>(1)bar()\n",
    "-> def bar():\n",
    "(Pdb) l\n",
    "  1  ->\tdef bar():\n",
    "  2  \t    x = 2\n",
    "  3  \t    y = 3\n",
    "  4  \t    z = x + y\n",
    "  5  \t\n",
    "[EOF]```\n"
   ]
  },
  {
   "cell_type": "markdown",
   "metadata": {},
   "source": [
    "#### Comando (b)reak\n",
    "\n",
    "Para añadir un punto de parada. Acepta dos modalidades:\n",
    "\n",
    "* b [n]: Siendo n una línea del fichero actual (si estamos depurando una función en un fichero, por ejemplo). Si es una sesión de depuración en vivo, no cargando un fichero, simplemente indica el número de línea\n",
    "\n",
    "* b [funcion]: Siendo *funcion* una función concreta. Añade un punto de parada en la primera línea evaluable de la función\n",
    "\n",
    "```python\n",
    "pdb.runcall(foo)\n",
    "> <ipython-input-5-22ce54bbfd1f>(2)foo()\n",
    "-> a = \"hola\"\n",
    "(Pdb) l\n",
    "  1  \tdef foo():\n",
    "  2  ->\t    a = \"hola\"\n",
    "  3  \t    b = \"bola\"\n",
    "  4  \t    bar()\n",
    "  5  \t\n",
    "[EOF]\n",
    "(Pdb) b bar\n",
    "Breakpoint 2 at <ipython-input-4-d5b067988c12>:1```\n",
    "\n"
   ]
  },
  {
   "cell_type": "markdown",
   "metadata": {},
   "source": [
    "#### Comando (c)ontinue\n",
    "\n",
    "Para continuar hasta el siguiente punto de parada, o hasta el final del programa, si no hay ninguno más\n",
    "\n",
    "```python\n",
    "pdb.runcall(foo)\n",
    "> <ipython-input-5-22ce54bbfd1f>(2)foo()\n",
    "-> a = \"hola\"\n",
    "(Pdb) l\n",
    "  1  \tdef foo():\n",
    "  2  ->\t    a = \"hola\"\n",
    "  3  \t    b = \"bola\"\n",
    "  4  \t    bar()\n",
    "  5  \t\n",
    "[EOF]\n",
    "(Pdb) b bar\n",
    "Breakpoint 2 at <ipython-input-4-d5b067988c12>:1\n",
    "(Pdb) c\n",
    "> <ipython-input-4-d5b067988c12>(2)bar()\n",
    "-> x = 2\n",
    "(Pdb) l\n",
    "  1 B\tdef bar():\n",
    "  2  ->\t    x = 2\n",
    "  3  \t    y = 3\n",
    "  4  \t    z = x + y\n",
    "  5  \t\n",
    "[EOF]```"
   ]
  },
  {
   "cell_type": "markdown",
   "metadata": {},
   "source": [
    "#### Inspeccionar valores\n",
    "\n",
    "En cualquier momento, podemos imprimir el valor de una variable para ver su contenido en ese momento.\n",
    "\n",
    "```python\n",
    "(Pdb) x\n",
    "2```"
   ]
  },
  {
   "cell_type": "markdown",
   "metadata": {},
   "source": [
    "Si quieres investigar un poco más, puedes probar a ejecutar los tests unitarios de\n",
    "\n",
    "```python\n",
    "\n",
    "python3 -m unittest tests.test_using_debugger```"
   ]
  },
  {
   "cell_type": "markdown",
   "metadata": {},
   "source": [
    "### Rastreando errores\n",
    "\n",
    "Vamos a intentar encontrar un problema en el código usando pdb. Ejecutemos\n",
    "\n",
    "```python3\n",
    "\n",
    "python3 -m unittest tests.test_chicago_result_loader.TestBrokenChicagoResultLoader```\n",
    "\n",
    "Veremos una salida de error similar a ésta\n",
    "\n",
    "```bash\n",
    "F\n",
    "======================================================================\n",
    "FAIL: test_load (tests.test_chicago_result_loader.TestBrokenChicagoResultLoader)\n",
    "----------------------------------------------------------------------\n",
    "Traceback (most recent call last):\n",
    "  File \"/home/jorge/Dev/github/nicar2016-python-testing-debugging-exercises/tests/test_chicago_result_loader.py\", line 27, in test_load\n",
    "    self.assertEqual(alvarez['contest_code'], '0079')\n",
    "AssertionError: '0790' != '0079'\n",
    "- 0790\n",
    "?    -\n",
    "+ 0079\n",
    "? +\n",
    "\n",
    "\n",
    "----------------------------------------------------------------------\n",
    "Ran 1 test in 0.012s\n",
    "\n",
    "FAILED (failures=1)```"
   ]
  },
  {
   "cell_type": "markdown",
   "metadata": {},
   "source": [
    "Por lo que se deduce del error, unos datos de un diccionario parecen erróneos, o desplazados con respecto al valor esperado.\n",
    "\n",
    "El test ejecuta el método *BrokenChicagoResultsLoader.load*, que carga datos del fichero *tests/data/summary.txt*. En dicho fichero hay un registro por línea (es un fichero [TSV](https://en.wikipedia.org/wiki/Tab-separated_values) en realidad), y parece que hay algún problema leyendo el campo *contest_code*. "
   ]
  },
  {
   "cell_type": "markdown",
   "metadata": {},
   "source": [
    "<div class=\"alert alert-warning\">__Ejercicio__: Investiga mediante una sesión de depuración cuáles son los valores esperados para ese campo, y cuáles son los valores que en realidad se están leyendo y porqué. Una vez identificado el error, arréglalo y vuelve a pasar los tests\n",
    "\n",
    "<ul>\n",
    "<li>__Pista__: En el método BrokenChicagoResultsLoader.load explica el formato del fichero</li>\n",
    "\n",
    "<li>__Pista__: Fíjate en el nombre que causa el error. Tal vez te interese centrarte en ese nombre, generando una versión reducida del fichero para que te resulte más sencillo</li>\n",
    "</ul>\n",
    "\n",
    "</div>"
   ]
  },
  {
   "cell_type": "code",
   "execution_count": 6,
   "metadata": {
    "collapsed": false
   },
   "outputs": [
    {
     "data": {
      "text/html": [
       "/* This template is inspired in the one used by Lorena Barba\n",
       "in the numerical-mooc repository: https://github.com/numerical-mooc/numerical-mooc\n",
       "We thank her work and hope you also enjoy the look of the notobooks with this style */\n",
       "\n",
       "<link href='http://fonts.googleapis.com/css?family=Source+Sans+Pro|Josefin+Sans:400,700,400italic|Ubuntu+Condensed' rel='stylesheet' type='text/css'>\n",
       "\n",
       "El estilo se ha aplicado =)\n",
       "\n",
       "<style>\n",
       "\n",
       "\n",
       "\n",
       "#notebook_panel { /* main background */\n",
       "    background: #f7f7f7;\n",
       "}\n",
       "\n",
       "div.cell { /* set cell width */\n",
       "    width: 900px;\n",
       "}\n",
       "\n",
       "div #notebook { /* centre the content */\n",
       "    background: #fff; /* white background for content */\n",
       "    width: 950px;\n",
       "    margin: auto;\n",
       "    padding-left: 0em;\n",
       "}\n",
       "\n",
       "#notebook li { /* More space between bullet points */\n",
       "    margin-top:0.7em;\n",
       "}\n",
       "\n",
       "/* draw border around running cells */\n",
       "div.cell.border-box-sizing.code_cell.running { \n",
       "    border: 1px solid #111;\n",
       "}\n",
       "\n",
       "/* Put a solid color box around each cell and its output, visually linking them*/\n",
       "div.cell.code_cell {\n",
       "    font-family: 'Source Sans Pro', sans-serif;\n",
       "    background-color: rgb(256,256,256);\n",
       "    font-size: 110%;\n",
       "    border-radius: 0px; \n",
       "    padding: 0.5em;\n",
       "    margin-left:1em;\n",
       "    margin-top: 1em;\n",
       "}\n",
       "\n",
       "div.text_cell_render{\n",
       "    font-family: 'Josefin Sans', serif;\n",
       "    line-height: 145%;\n",
       "    font-size: 125%;\n",
       "    font-weight: 500;\n",
       "    width:750px;\n",
       "    margin-left:auto;\n",
       "    margin-right:auto;\n",
       "}\n",
       "\n",
       "\n",
       "/* Formatting for header cells */\n",
       ".text_cell_render h1, .text_cell_render h2, .text_cell_render h3,\n",
       ".text_cell_render h4, .text_cell_render h5 {\n",
       "    font-family: 'Ubuntu Condensed', sans-serif;\n",
       "}\n",
       "/*\n",
       ".text_cell_render h1 {\n",
       "    font-family: Flux, 'Ubuntu Condensed', serif;\n",
       "    font-style:regular;\n",
       "    font-weight: 400;    \n",
       "    font-size: 30pt;\n",
       "    text-align: center;\n",
       "    line-height: 100%;\n",
       "    color: #335082;\n",
       "    margin-bottom: 0.5em;\n",
       "    margin-top: 0.5em;\n",
       "    display: block;\n",
       "}\n",
       "*/\n",
       ".text_cell_render h1 {\n",
       "    font-weight: 600;\n",
       "    font-size: 35pt;\n",
       "    line-height: 100%;\n",
       "    color: #000000;\n",
       "    margin-bottom: 0.1em;\n",
       "    margin-top: 0.3em;\n",
       "    display: block;\n",
       "}\n",
       "\n",
       ".text_cell_render h2 {\n",
       "    margin-top:16px;\n",
       "    font-size: 27pt;\n",
       "    font-weight: 550;\n",
       "    margin-bottom: 0.1em;\n",
       "    margin-top: 0.3em;\n",
       "    font-style: regular;\n",
       "    color: #2c6391;\n",
       "}\t\n",
       "\n",
       ".text_cell_render h3 {\n",
       "    font-size: 20pt;\n",
       "    font-weight: 550\n",
       "    text-align: left;\n",
       "    margin-bottom: 0.1em;\n",
       "    margin-top: 0.3em;\n",
       "    font-style: regular;\n",
       "    color:  #387eb8;\n",
       "}\n",
       "\n",
       ".text_cell_render h4 {    /*Use this for captions*/\n",
       "    font-size: 18pt;\n",
       "    font-weight: 450\n",
       "    text-align: left;\n",
       "    margin-bottom: 0.1em;\n",
       "    margin-top: 0.3em;\n",
       "    font-style: regular;\n",
       "    color:  #5797cc;\n",
       "}\n",
       "\n",
       ".text_cell_render h5 {  /*Use this for small titles*/\n",
       "    font-size: 18pt;\n",
       "    font-weight: 550;\n",
       "    color: rgb(163,0,0);\n",
       "    font-style: italic;\n",
       "    margin-bottom: .1em;\n",
       "    margin-top: 0.8em;\n",
       "    display: block;\n",
       "    color:  #b21c0d;\n",
       "}\n",
       "\n",
       ".text_cell_render h6 { /*use this for copyright note*/\n",
       "    font-family: 'Ubuntu Condensed', sans-serif;\n",
       "    font-weight: 300;\n",
       "    font-size: 14pt;\n",
       "    line-height: 100%;\n",
       "    color: #252525;\n",
       "    text-align: right;\n",
       "    margin-bottom: 1px;\n",
       "    margin-top: 1px;\n",
       "}\n",
       "\n",
       ".CodeMirror{\n",
       "        font-family: 'Duru Sans', sans-serif;\n",
       "        font-size: 100%;\n",
       "}\n",
       "\n",
       "</style>\n",
       "<script>\n",
       "    MathJax.Hub.Config({\n",
       "                        TeX: {\n",
       "                           extensions: [\"AMSmath.js\"],\n",
       "                           equationNumbers: { autoNumber: \"AMS\", useLabelIds: true}\n",
       "                           },\n",
       "                tex2jax: {\n",
       "                    inlineMath: [ ['$','$'], [\"\\\\(\",\"\\\\)\"] ],\n",
       "                    displayMath: [ ['$$','$$'], [\"\\\\[\",\"\\\\]\"] ]\n",
       "                },\n",
       "                displayAlign: 'center', // Change this to 'center' to center equations.\n",
       "                \"HTML-CSS\": {\n",
       "                    styles: {'.MathJax_Display': {\"margin\": 4}}\n",
       "                }\n",
       "        });\n",
       "</script>\n"
      ],
      "text/plain": [
       "<IPython.core.display.HTML object>"
      ]
     },
     "execution_count": 6,
     "metadata": {},
     "output_type": "execute_result"
    }
   ],
   "source": [
    "# Esta celda da el estilo al notebook\n",
    "from IPython.core.display import HTML\n",
    "css_file = '../static/styles/style.css'\n",
    "HTML(open(css_file, \"r\").read())"
   ]
  }
 ],
 "metadata": {
  "kernelspec": {
   "display_name": "Python 3",
   "language": "python",
   "name": "python3"
  },
  "language_info": {
   "codemirror_mode": {
    "name": "ipython",
    "version": 3
   },
   "file_extension": ".py",
   "mimetype": "text/x-python",
   "name": "python",
   "nbconvert_exporter": "python",
   "pygments_lexer": "ipython3",
   "version": "3.5.1+"
  }
 },
 "nbformat": 4,
 "nbformat_minor": 0
}
