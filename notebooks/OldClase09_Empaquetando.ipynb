{
 "cells": [
  {
   "cell_type": "markdown",
   "metadata": {
    "collapsed": true
   },
   "source": [
    "TODO: Creamos un paquete con dos ficheros:\n",
    "\n",
    "* App para leer de un json\n",
    "* App para leer de un excel\n",
    "\n",
    "Las apps tendrán gestión de parámetros por línea de comandos. Y nos crearemos un paquete de Python usando distutils: https://www.digitalocean.com/community/tutorials/how-to-package-and-distribute-python-applications\n",
    "\n",
    "TODO:\n",
    "\n",
    "* Consejos si estamos desarrollando apps de línea de comandos: http://docs.python-guide.org/en/latest/scenarios/cli/ \n",
    "* Consejos si estamos desarrollando GUIs en Python: http://docs.python-guide.org/en/latest/scenarios/gui/ \n",
    "* Consejos para empaquetar: http://docs.python-guide.org/en/latest/shipping/packaging/"
   ]
  }
 ],
 "metadata": {
  "kernelspec": {
   "display_name": "Python 3",
   "language": "python",
   "name": "python3"
  },
  "language_info": {
   "codemirror_mode": {
    "name": "ipython",
    "version": 3
   },
   "file_extension": ".py",
   "mimetype": "text/x-python",
   "name": "python",
   "nbconvert_exporter": "python",
   "pygments_lexer": "ipython3",
   "version": "3.5.1+"
  }
 },
 "nbformat": 4,
 "nbformat_minor": 0
}
