{
 "cells": [
  {
   "cell_type": "markdown",
   "metadata": {},
   "source": [
    "<img src=\"../static/logopython.png\" alt=\"Logo Python\" style=\"width: 300px; display: inline\"/>\n",
    "<img src=\"../static/deimoslogo.png\" alt=\"Logo Deimos\" style=\"width: 300px; display: inline\"/>"
   ]
  },
  {
   "cell_type": "markdown",
   "metadata": {},
   "source": [
    "# Clase 3: Herramientas para programar como un pythonista\n",
    "\n",
    "Ya hemos visto que la orientación a objetos es solo uno de los paradigmas que podemos usar cuando programamos en Python. Al margen de frameworks, como <a href=\"https://www.djangoproject.com/\">Django</a>, orientado al desarrollo web, existen una serie de estructuras y herramientas en el propio lenguaje que nos ayudan a tomar decisiones cuando creamos una aplicación Python. Veremos a continuación las más populares"
   ]
  },
  {
   "cell_type": "markdown",
   "metadata": {},
   "source": [
    "## Módulos y namespaces"
   ]
  },
  {
   "cell_type": "markdown",
   "metadata": {},
   "source": [
    "Como ya dijimos en el capítulo anterior, Python proporciona algunas herramientas que ayudan a la organización de nuestro código, más allá del paradigma de la programación orientada a objetos. Los módulos y los namespaces son posiblemente los más conocidos. Veámoslos a continuación"
   ]
  },
  {
   "cell_type": "markdown",
   "metadata": {},
   "source": [
    "### Namespaces"
   ]
  },
  {
   "cell_type": "markdown",
   "metadata": {},
   "source": [
    "Como ya vimos en la introducción, un *nombre* en Python es lo que en otros lenguajes de programación llamaríamos una *variable*"
   ]
  },
  {
   "cell_type": "code",
   "execution_count": 2,
   "metadata": {
    "collapsed": false
   },
   "outputs": [],
   "source": [
    "# Creamos nombres diversos"
   ]
  },
  {
   "cell_type": "markdown",
   "metadata": {},
   "source": [
    "Pero un *nombre* también puede almacenar una función"
   ]
  },
  {
   "cell_type": "code",
   "execution_count": 3,
   "metadata": {
    "collapsed": false
   },
   "outputs": [],
   "source": [
    "# Creamos una función, la asignamos a una variable y la llamamos"
   ]
  },
  {
   "cell_type": "markdown",
   "metadata": {},
   "source": [
    "Un *namespace* no es otra cosa que un espacio en memoria donde se almacenan un conjunto de nombres. Se crean de manera automática, sin que nosotros hagamos nada."
   ]
  },
  {
   "cell_type": "markdown",
   "metadata": {},
   "source": [
    "### Modules"
   ]
  },
  {
   "cell_type": "markdown",
   "metadata": {},
   "source": [
    "Los módulos van unidos conceptualmente a los *namespaces*. Un módulo es un fichero que contiene código Python, ya sea en forma de clases, funciones o simplemente una lista de nombres. Y cada módulo obtiene su propio *namespace*. Por eso no podemos tener en el mismo fichero dos clases o funciones con el mismo nombre\n",
    "\n",
    "Por otro lado, <strong>cada *namespace* está totalmente aislado del resto</strong>, de manera que dos módulos pueden tener clases o funciones con el mismo nombre.\n",
    "\n",
    "Por último, cuando ejecutamos un script Python, el intérprete crea un módulo llamado *\\__main\\__*, con su propio namespace"
   ]
  },
  {
   "cell_type": "markdown",
   "metadata": {},
   "source": [
    "<div class=\"alert alert-info\">Los módulos constituyen las capas de abstracción más naturales en el lengujar Python. Permiten separar el código en varias partes que comparten funcionalidad</div>"
   ]
  },
  {
   "cell_type": "markdown",
   "metadata": {},
   "source": [
    "Para poder usar módulos en nuestra aplicación, tenemos que importarlos. Veremos a continuación cómo hacerlo"
   ]
  },
  {
   "cell_type": "markdown",
   "metadata": {},
   "source": [
    "#### import modulename"
   ]
  },
  {
   "cell_type": "markdown",
   "metadata": {},
   "source": [
    "Mediante esta instrucción, obtenemos acceso a todo el espacio de nombres de un módulo. Deberemos preceder cada elemento del \n",
    "módulo con el nombre del módulo."
   ]
  },
  {
   "cell_type": "code",
   "execution_count": 4,
   "metadata": {
    "collapsed": false
   },
   "outputs": [],
   "source": [
    "# Importamos el módulo math y podemos acceder a sus nombres. Es seguro porque todos los nombres del módulo requieren que\n",
    "# pongamos delante el nombre del módulo en si."
   ]
  },
  {
   "cell_type": "markdown",
   "metadata": {},
   "source": [
    "#### from module import name"
   ]
  },
  {
   "cell_type": "markdown",
   "metadata": {},
   "source": [
    "Podemos también importar un nombre completo de un módulo. No será necesario preceder el nombre de cada nombre con el nombre del módulo, de manera que puede chocar con nombres que tengamos en nuestro namespace"
   ]
  },
  {
   "cell_type": "code",
   "execution_count": 5,
   "metadata": {
    "collapsed": false
   },
   "outputs": [],
   "source": [
    "# Importamos solo el nombre pi. Considerado mala práctica, porque los nombres importados podrían chocar con los nuestros"
   ]
  },
  {
   "cell_type": "markdown",
   "metadata": {},
   "source": [
    "#### from module import *"
   ]
  },
  {
   "cell_type": "markdown",
   "metadata": {},
   "source": [
    "También podemos importar todos los nombres de un módulo."
   ]
  },
  {
   "cell_type": "code",
   "execution_count": 6,
   "metadata": {
    "collapsed": false
   },
   "outputs": [],
   "source": [
    "# Importamos todos los nombres de un módulo. Considerado mala práctica, por lo mismo que en el caso anterior"
   ]
  },
  {
   "cell_type": "markdown",
   "metadata": {},
   "source": [
    "<div class=\"alert alert-info\">Cuando importamos un módulo, Python lo busca en el directorio actual. Si no lo encuentra, lo buscará en su *path*, que está definido en tiempo de compilación</div>"
   ]
  },
  {
   "cell_type": "markdown",
   "metadata": {},
   "source": [
    "## Paquetes"
   ]
  },
  {
   "cell_type": "markdown",
   "metadata": {},
   "source": [
    "Igual que un fichero de código Python se considera un módulo, <strong>un directorio que contiene varios ficheros se considera un paquete ,siempre y cuando uno de esos ficheros se llame *\\__init\\__.py*</strong>. En este fichero se suelen almacenar nombres que serán usados por el resto de módulos del mismo, si son necesarios. Pero es habitual, e incluso buena práctica, que el fichero esté vacío."
   ]
  },
  {
   "cell_type": "markdown",
   "metadata": {},
   "source": [
    "<div class=\"alert alert-info\">Los paquetes son una capa de abstracción superior a los módulos. Cada paquete suele contener módulos con funcionalidades complementarias</div>"
   ]
  },
  {
   "cell_type": "markdown",
   "metadata": {},
   "source": [
    "Para importar un módulo (fichero) dentro de un paquete (directorio), escribimos: *import package.module*. Python buscará el fichero *module.py* dentro del directorio *package*. Primero en el directorio actual, y si no lo encuentra, acudirá a su propio *path* a buscarlo."
   ]
  },
  {
   "cell_type": "markdown",
   "metadata": {},
   "source": [
    "<div class=\"alert alert-success\"><strong>Buenas prácticas</strong>: Se considera buena práctica definir *alias* al cargar paquetes con una estructura de directorios demasiado profunda, para evitar escribir de más al acceder a los nombres del módulo importado. Ejemplo: *import very.deep.module as mod*</div>"
   ]
  },
  {
   "cell_type": "markdown",
   "metadata": {},
   "source": [
    "Ahora que ya sabemos cómo encapsular nuestro código, tanto si usamos programación orientada a objetos como si no, veamos ciertas herramientas que nos ayudan a diseñar programas de manera más eficiente y elegante. Empezaremos con los *context managers*"
   ]
  },
  {
   "cell_type": "markdown",
   "metadata": {},
   "source": [
    "## Context Managers"
   ]
  },
  {
   "cell_type": "markdown",
   "metadata": {},
   "source": [
    "Los *context managers* son objetos especiales que proporcionan información contextual adicional a una acción. Se aseguran de que sucedan cosas tanto **antes** como **después** de que la acción se lleve a cabo. Para especificar que un bloque de código se ejecuta bajo la supervisión de un *context manager*, usamos la palabra clave reservada *with*"
   ]
  },
  {
   "cell_type": "markdown",
   "metadata": {},
   "source": [
    "El ejemplo clásico es leer o escribir en un fichero. Mediante un *context manager*:\n",
    "\n",
    "<ul>\n",
    "    <li>Me aseguro de que el fichero se abra antes de comenzar la operación de lectura/escritura</li>\n",
    "    <li>Me aseguro de que el fichero se cierre después de terminar la operación de lectura/escritura</li>\n",
    "</ul>"
   ]
  },
  {
   "cell_type": "markdown",
   "metadata": {},
   "source": [
    "El ejemplo básico sería así"
   ]
  },
  {
   "cell_type": "code",
   "execution_count": 7,
   "metadata": {
    "collapsed": true
   },
   "outputs": [],
   "source": [
    "# Abrimos un fichero y escribimos texto dentro. No es necesario que lo cerremos. Se encarga el context manager"
   ]
  },
  {
   "cell_type": "markdown",
   "metadata": {},
   "source": [
    "Podríamos implementar nuestra propia versión de este *context manager*"
   ]
  },
  {
   "cell_type": "code",
   "execution_count": 8,
   "metadata": {
    "collapsed": false
   },
   "outputs": [],
   "source": [
    "# Nuestra propia funcion CustomOpen"
   ]
  },
  {
   "cell_type": "markdown",
   "metadata": {},
   "source": [
    "Python proporciona un *decorator* especial para facilitar la creación de *context manager*. Se denomina *contextmanager* y se encuentra dentro del paquete *contextlib*, presente en la instalación estándar."
   ]
  },
  {
   "cell_type": "code",
   "execution_count": 9,
   "metadata": {
    "collapsed": false
   },
   "outputs": [],
   "source": [
    "# Implementación del mismo context manager usando contextlib.contextmanager"
   ]
  },
  {
   "cell_type": "markdown",
   "metadata": {},
   "source": [
    "<div class=\"alert alert-info\">No te preocupes del significado de *yield* ahora. Lo veremos cuando estudiemos los generadores. Quedémonos con que devuelve un valor</div>"
   ]
  },
  {
   "cell_type": "markdown",
   "metadata": {},
   "source": [
    "<div class=\"alert alert-success\"><strong>Buenas prácticas</strong>: Usa el zen de Python para decidir qué método de los dos anteriores utilizar. Implementa tu propia clase *Context Manager* si el código a encapsular contiene mucha lógica. Usa el módulo *contextmanager* del paquete *contextlib* si lo que quieres encapsular es una acción relativamente sencilla</div>"
   ]
  },
  {
   "cell_type": "markdown",
   "metadata": {},
   "source": [
    "## Iterables"
   ]
  },
  {
   "cell_type": "markdown",
   "metadata": {},
   "source": [
    "Los iterables son elementos que se pueden recorrer. Como las listas, los diccionarios o los *strings*. "
   ]
  },
  {
   "cell_type": "code",
   "execution_count": 10,
   "metadata": {
    "collapsed": false
   },
   "outputs": [],
   "source": [
    "# Una lista es un iterable\n",
    "    \n",
    "# Un string también es un iterable"
   ]
  },
  {
   "cell_type": "markdown",
   "metadata": {},
   "source": [
    "También es posible crear un *iterable* a partir de una *comprehension list* (veremos *comprehension* al final de este tema)"
   ]
  },
  {
   "cell_type": "code",
   "execution_count": 11,
   "metadata": {
    "collapsed": false
   },
   "outputs": [],
   "source": [
    "# Construimos iterable (lista) a partir de una comprehension list"
   ]
  },
  {
   "cell_type": "markdown",
   "metadata": {},
   "source": [
    "Otro ejemplo de *iterable* a partir de una expresión de tipo *comprehension list*: los 15 primeros dígitos de la <a href=\"https://es.wikipedia.org/wiki/Sucesi%C3%B3n_de_Fibonacci\">Sucesión de Fibonnaci</a>"
   ]
  },
  {
   "cell_type": "code",
   "execution_count": 12,
   "metadata": {
    "collapsed": false
   },
   "outputs": [],
   "source": [
    "# 15 primeros dígitos de la secuencia de Fibonacci con comprehension list"
   ]
  },
  {
   "cell_type": "markdown",
   "metadata": {},
   "source": [
    "También podemos demostrar lo *nerds* que somos usando la <a href=\"http://stackoverflow.com/a/6504560\">Fórmula de Binet</a> para generar la lista"
   ]
  },
  {
   "cell_type": "code",
   "execution_count": 63,
   "metadata": {
    "collapsed": false
   },
   "outputs": [
    {
     "name": "stdout",
     "output_type": "stream",
     "text": [
      "[0, 1, 1, 2, 3, 5, 8, 13, 21, 34, 55, 89, 144, 233, 377, 610, 987]\n"
     ]
    }
   ],
   "source": [
    "fib = [round(0.4472135954999579392818347337462552470881236719223051448541*(pow(1.6180339887498948482045868343656381177203091798057628621354,n) - pow(-0.618033988749894848204586834365638117720309179805762862135,n))) for n in range(17)]\n",
    "print(fib)"
   ]
  },
  {
   "cell_type": "markdown",
   "metadata": {},
   "source": [
    "Incluso podríamos implementarlo mediante <a href=\"https://docs.python.org/3/tutorial/controlflow.html#lambda-expressions\">expresiones lambda</a> y <a href=\"https://docs.python.org/3/library/functools.html#functools.reduce\">reduce</a>, frecuentes en programación funcional. Aunque Guido Van Rosuum prefiere las *list comprehension*"
   ]
  },
  {
   "cell_type": "code",
   "execution_count": 65,
   "metadata": {
    "collapsed": false
   },
   "outputs": [
    {
     "name": "stdout",
     "output_type": "stream",
     "text": [
      "[0, 1, 1, 2, 3, 5, 8, 13, 21, 34, 55, 89, 144, 233, 377, 610, 987]\n"
     ]
    }
   ],
   "source": [
    "import functools\n",
    "\n",
    "fib_function = lambda n:functools.reduce(lambda x,n:[x[1],x[0]+x[1]], range(n),[0,1])[0]\n",
    "\n",
    "fib = [fib_function(n) for n in range(17)]\n",
    "print(fib)"
   ]
  },
  {
   "cell_type": "markdown",
   "metadata": {},
   "source": [
    "Al trabajar con iterables, en cualquier caso, es una buena idea usar el módulo *itertools*"
   ]
  },
  {
   "cell_type": "markdown",
   "metadata": {},
   "source": [
    "<div class=\"alert alert-success\"><strong>Buenas prácticas</strong>: Usa el módulo <a href=\"https://docs.python.org/3.4/library/itertools.html\">*itertools*</a> siempre que trabajes con iterables. Tiene muchas utilidades que te ahorrarán trabajo.</div>"
   ]
  },
  {
   "cell_type": "markdown",
   "metadata": {},
   "source": [
    "Veamos a continuación algunos ejemplos de cosas que podemos hacer con *itertools*"
   ]
  },
  {
   "cell_type": "code",
   "execution_count": 13,
   "metadata": {
    "collapsed": false
   },
   "outputs": [],
   "source": [
    "# Genera todas las permutaciones de 4 elementos usando itertools"
   ]
  },
  {
   "cell_type": "markdown",
   "metadata": {},
   "source": [
    "¿Qué tal si calculamos el producto cartesiano de dos iterables? De hecho, no tienen porqué ser listas. Puede ser cualquier iterable, como un string"
   ]
  },
  {
   "cell_type": "code",
   "execution_count": 14,
   "metadata": {
    "collapsed": false
   },
   "outputs": [],
   "source": [
    "# Genera el producto cartesiano de dos iterables definidos como string"
   ]
  },
  {
   "cell_type": "markdown",
   "metadata": {},
   "source": [
    "O las combinaciones de elementos de un iterable, cogidas de 2 en 2"
   ]
  },
  {
   "cell_type": "code",
   "execution_count": 15,
   "metadata": {
    "collapsed": false
   },
   "outputs": [],
   "source": [
    "# Genera combinaciones de elementos de un iterable, cogidas de 2 en 2"
   ]
  },
  {
   "cell_type": "markdown",
   "metadata": {},
   "source": [
    "¿Y si agrupamos listas de elementos en función de un criterio, como la longitud de los mismos?"
   ]
  },
  {
   "cell_type": "code",
   "execution_count": 16,
   "metadata": {
    "collapsed": false
   },
   "outputs": [],
   "source": [
    "# En este ejercicio agruparemos nombres de personas por su longitud, usando itertools\n",
    "\n",
    "# Context manager en acción...\n",
    "\n",
    "    \n",
    "    # Necesitamos eliminar el salto de línea al final de cada nombre leído del fichero\n",
    "    # Esto es una list comprehension. Las veremos al final de este tema\n",
    "\n",
    "    # Esto es por si no estuviera el fichero\n",
    "    #names = ['Paco', 'Julia', 'Javier', 'Sara', 'Jose','Gala', 'Jorge', 'Marta', 'Alex', 'Carmen']\n",
    "\n",
    "    # Groupby genera, a partir de un iterable, iterables con elementos que devuelvan el mismo resultado al aplicarles una función\n",
    "    # El problema es que el iterable se detiene cuando un elemento ya no devuelve el mismo resultado que el anterior, sin importar si\n",
    "    # ya ha generado iterables que devuelvan ese mismo resultado.\n",
    "    # En nuestro caso, si la lista de nombres no estuviera ordenada por longitud, crearía un iterable para 'Paco' (longitud 4),\n",
    "    # otro iterable para 'Julia' y 'Javier' (longitud 5), luego otro para 'Sara' (longitud 4), etc. Lo interesante sería que\n",
    "    # 'Paco' y 'Sara' fueran en el mismo iterable, pues tienen la misma longitud.\n",
    "    # Para conseguir eso, ordenamos la lista mediante el mismo criterio que usaremos en la generación de iterables.\n",
    "    # Ver lo que pasa si llamamos a groupby sobre 'names' a secas"
   ]
  },
  {
   "cell_type": "markdown",
   "metadata": {},
   "source": [
    "## Iteradores"
   ]
  },
  {
   "cell_type": "markdown",
   "metadata": {},
   "source": [
    "Por ahora hemos visto lo que es un iterable: un elemento que se puede recorrer. Pero vamos a precisar un poco más la definición exacta, para poder introducir un nuevo tipo de datos, clave en Python: <strong>el iterador</strong>"
   ]
  },
  {
   "cell_type": "markdown",
   "metadata": {},
   "source": [
    "<div class=\"alert alert-info\">Un iterable es un elemento capaz de devolver un iterador, con la finalidad de poder iterar sobre todos los elementos que contiene. Cualquier clase puede convertirse en iterable implementando un método *\\__iter\\__()* que devuelva un objeto de tipo *iterator*</div>"
   ]
  },
  {
   "cell_type": "markdown",
   "metadata": {},
   "source": [
    "Muy bien, ya sabemos qué es un iterable, en terminología de Python. Ahora, definamos qué es un objeto de tipo *iterator*"
   ]
  },
  {
   "cell_type": "markdown",
   "metadata": {},
   "source": [
    "<div class=\"alert alert-info\">Un iterador es una clase que contiene un método *\\__next\\__()*, que devuelve el siguiente elemento de una secuencia (un *iterable*). Eso implica que, para construir un iterador, necesitamos un objeto *iterable*.</div>"
   ]
  },
  {
   "cell_type": "markdown",
   "metadata": {},
   "source": [
    "Veamos más claro el concepto con este ejemplo"
   ]
  },
  {
   "cell_type": "code",
   "execution_count": 17,
   "metadata": {
    "collapsed": false
   },
   "outputs": [],
   "source": [
    "# Una lista es un iterable\n",
    "\n",
    "# Creamos dos iteradores a partir de la lista, mediante la función iter()\n",
    "\n",
    "# Vamos recorriendo el iterador 1, consumiendo un elemento en cada paso, mediante la función next()\n",
    "\n",
    "# Ahora recorremos el iterador 2, que seguirá en la primera posición<"
   ]
  },
  {
   "cell_type": "markdown",
   "metadata": {},
   "source": [
    "En el ejemplo anterior, hemos partido de un tipo nativo de Python: una lista. Este tipo nativo consiste, internamente, en una clase con un método *\\__iter\\__()*. Mediante la llamada a la función iter(), hemos llamado realmente a *a_list.\\__iter\\__()*, que nos ha devuelto un iterador. De esta forma, hemos construido dos iteradores: *it1* e *it2*.\n",
    "\n",
    "Posteriormente, hemos llamado a la función *next()* pasándole el iterador como argumento. Eso hace que se llame al método *it1.\\__next\\__()* (lo mismo con *it2*). Y cada llamada a *next()*, nos devuelve el siguiente elemento de la lista."
   ]
  },
  {
   "cell_type": "markdown",
   "metadata": {},
   "source": [
    "Para entender el funcionamiento interno de un iterador, podemos construirnos uno sencillo: <strong>Iterador que construye la secuencia de Fibonacci</strong>"
   ]
  },
  {
   "cell_type": "code",
   "execution_count": 18,
   "metadata": {
    "collapsed": false
   },
   "outputs": [],
   "source": [
    "# Construir iterador para generar secuencia de Fibonacci\n",
    "\n",
    "    \n",
    "    # Constructor\n",
    "\n",
    "    # Esto es llamado cada vez que se llama a iter(Fib). Algo que for hace automáticamente, pero lo podríamos hacer a mano.\n",
    "    # La función __iter__ debe devolver cualquier objeto que implemente __next__. En este caso, la propia clase\n",
    "\n",
    "\n",
    "    # Esto es llamado cada vez que se llama a next(Fib). Algo que for hace automáticamente, pero lo podríamos hacer a mano.\n",
    "\n",
    "   \n",
    "# f guarda un iterador. En este momento no se ha llamado a nada, solo se ha construido el iterador\n",
    "\n",
    "\n",
    "# Recorremos nuestro iterador, llamando a next(). Dentro del for se llama automáticamente a iter(f)\n",
    "\n",
    "    \n",
    "# Otra manera más elegante de hacerlo, con itertools\n",
    "#print([0] + list(itertools.islice(f, 0, 16)))"
   ]
  },
  {
   "cell_type": "markdown",
   "metadata": {},
   "source": [
    "Es importante destacar que, la clase *Fib*, <strong>es a la vez un *iterator* y un *iterable*</strong>\n",
    "\n",
    "<ul>\n",
    "    <li>Un *iterable* porque contiene un método *\\__iter()\\__*. Este método ha de devolver un iterador (una clase con un método *\\__next\\__()*), de manera que se devuelve a si misma.</li>\n",
    "    <li>Un *iterator* porque contiene un método *\\__next()\\__*. El siguiente elemento de la secuencia a devolver se va calculando mediante una fórmula matemática, pero podría estar guardado en algún lado (en una base de datos, en una caché...), si quisiéramos evitar realizar el cálculo, por ser excesivamente complejo</li>\n",
    "</ul>"
   ]
  },
  {
   "cell_type": "markdown",
   "metadata": {},
   "source": [
    "La clave que hace al iterador una herramienta tan poderosa es que <strong>los valores que se devuelven no están almacenados en memoria, sino que se producen *on the fly*</strong>.\n",
    "\n",
    "Cuando recorremos un generador hasta el final, se dice que lo *agotamos* (en inglés: *we exhaust the generator*). Para poder volver a recorrerlo, hay que construirlo de nuevo. En nuestro ejemplo, el iterador no tiene fin, y sigue generando valores hasta el infinito (en la práctica: hasta que sobrepasemos el tamaño de un dato numérico en Python)."
   ]
  },
  {
   "cell_type": "markdown",
   "metadata": {},
   "source": [
    "<div class=\"alert alert-info\">Un iterador es una *lazy factory*. Solo genera valores cuando se le piden. De manera que, aunque lo usemos para generar una secuencia potencialmente infinita de elementos, solo tendremos en memoria cada vez el elemento de la secuencia con el que estemos trabajando. Nuestro iterador tiene un orden de crecimiento O(1), ¡y eso es una pasada!</div>"
   ]
  },
  {
   "cell_type": "markdown",
   "metadata": {},
   "source": [
    "Por último destacar que, si queremos empezar a recorrer un *iterator* desde la primera posición una segunda vez, tendremos que <strong>instanciarlo de nuevo</strong>"
   ]
  },
  {
   "cell_type": "markdown",
   "metadata": {},
   "source": [
    "Los iteradores son un <strong>concepto fundamental de Python</strong>. Son la base para construir otras estructuras del lenguaje, como generadores o comprehensions, y su uso es una de las piedras angulares dentro del paradigma de programación funcional en Python"
   ]
  },
  {
   "cell_type": "markdown",
   "metadata": {},
   "source": [
    "## Generadores"
   ]
  },
  {
   "cell_type": "markdown",
   "metadata": {},
   "source": [
    "Un *generator* se puede considerar como <a href=\"https://en.wikipedia.org/wiki/Syntactic_sugar\">*azúcar sintáctico*</a> para la creación de objetos de tipo *iterator*. Es decir: <strong>un *iterator* escrito con una sintáxis más sencilla</strong>"
   ]
  },
  {
   "cell_type": "markdown",
   "metadata": {},
   "source": [
    "Veámoslo con un ejemplo. Reescribamos el *iterator* del ejemplo anterior usando un *generator*. Concretamente una <strong>función generadora</strong>. Veremos lo que es esto a continuación."
   ]
  },
  {
   "cell_type": "code",
   "execution_count": 19,
   "metadata": {
    "collapsed": false
   },
   "outputs": [],
   "source": [
    "# Iterador a partir de una función generadora\n",
    "\n",
    "# Recorremos nuestro iterador, llamando a next(). Dentro del for se llama automáticamente a iter(f)\n"
   ]
  },
  {
   "cell_type": "markdown",
   "metadata": {},
   "source": [
    "Mucho más sencillo de escribir, ¿verdad? Además, ahora queda más clara la potencia de este tipo de estructura. Contiene un bucle infinito: *while True*. Y,a pesar de ello, no vamos a tener problemas de memoria."
   ]
  },
  {
   "cell_type": "markdown",
   "metadata": {},
   "source": [
    "Por otro lado, vuelve a aparecer la sentencia *yield*, que vimos fugazmente al estudiar los *context manager*. Ahora vamos a entenderla mejor."
   ]
  },
  {
   "cell_type": "markdown",
   "metadata": {},
   "source": [
    "Recordemos algo que ya se ha mencionado al explicar los iteradores, pero que es fundamental: cuando llamamos a *fib()*,<strong>no estamos ejecutando nada del código de nuestra función</strong>. \n",
    "\n",
    "Lo que sucede es que la función <strong>devuelve una estructura de tipo *generator*</strong> (de ahí que se denomine *generator function*). <strong>El cuerpo de la función en si, se va a ejecutar cuando se llame a la función *next()* con el generador como argumento</strong>. En ese momento, <strong>la función se ejecutará hasta que encuentre una llamada a *yield*</strong>, devolviéndose el valor que lance *yield* y <strong>dejando la función en *stand-by*</strong>.\n",
    "\n",
    "<strong>La función seguirá *congelada* hasta que se vuelva a llamar a *next()*, momento en el cuál la función correrá hasta encontrar nuevamente una sentencia *yield*</strong>. Esto seguirá hasta que no haya más valores que *lanzar* mediante *yield*. En ese momento, diremos que el generador se ha *agotado*"
   ]
  },
  {
   "cell_type": "markdown",
   "metadata": {},
   "source": [
    "<div class=\"alert alert-info\">*yield* pausa una función generadora, mientras que *next()* hace que continúe en el punto donde se quedó</div>"
   ]
  },
  {
   "cell_type": "markdown",
   "metadata": {},
   "source": [
    "¿Lo queremos aun más claro? Vayamos a un ejemplo más sencillo. Recuperemos el *iterable* a partir de una *comprehension list* del apartado de *Iterables*. Pero ahora, en lugar de generar una lista, vamos a generar un objeto de tipo *generator*.\n",
    "\n",
    "La expresión con la que lo generamos es muy parecida a la *comprehension list*, pero usamos paréntesis *()* en lugar de corchetes *[]*. La expresión se llama *generation expression*. La veremos después."
   ]
  },
  {
   "cell_type": "code",
   "execution_count": 20,
   "metadata": {
    "collapsed": false
   },
   "outputs": [],
   "source": [
    "# Generador a partir de una *generation expression*\n",
    "\n",
    "# Si lo intentamos recorrer una segunda vez, esta vacio\n"
   ]
  },
  {
   "cell_type": "markdown",
   "metadata": {},
   "source": [
    "Para entenderlo mejor, vamos a escribir nosotros una *generator function* que genere el mismo objeto de tipo *generator* que la *generator expression*"
   ]
  },
  {
   "cell_type": "code",
   "execution_count": 21,
   "metadata": {
    "collapsed": false
   },
   "outputs": [],
   "source": [
    "# Creando nuestra propia *generator function*\n"
   ]
  },
  {
   "cell_type": "markdown",
   "metadata": {},
   "source": [
    "*Deconstruyamos* nuestra función, para escribirla de otra forma..."
   ]
  },
  {
   "cell_type": "code",
   "execution_count": 22,
   "metadata": {
    "collapsed": false
   },
   "outputs": [],
   "source": [
    "# Deconstruyendo nuestra función generadora... \n",
    "\n",
    "    # Ni siquiera necesitamos limite. Vamos a llamar a yield 3 veces, simulando lo que pasaría dentro del bucle\n",
    "    \n",
    "\n",
    "# En lugar de hacer un bucle, llamemos 3 veces seguidas a next(), que es lo que hace el for\n",
    "\n",
    "# Si intentamos acceder a un generador agotado, se lanza una excepción de tipo StopIteration\n",
    "# La capturamos y terminamos silenciosamente, que es lo que hace for"
   ]
  },
  {
   "cell_type": "markdown",
   "metadata": {},
   "source": [
    "Para terminar este apartado, simplemente recopilemos algo que hemos ido viendo mientras explicábamos lo que es un *generator*. Hay <strong>dos tipos de *generator*</strong>\n",
    "\n",
    "<ul>\n",
    "    <li><strong>*generator function*</strong>: Una función que contiene la palabra *yield* en el cuerpo de la misma al menos una vez</li>\n",
    "    <li><strong>*generator expression*</strong>: Una expresión de Python que genera un iterador</li>\n",
    "</ul>"
   ]
  },
  {
   "cell_type": "code",
   "execution_count": 23,
   "metadata": {
    "collapsed": false
   },
   "outputs": [],
   "source": [
    "# Esto es una generator function. La podemos llamar hasta que se agote\n",
    "\n",
    "\n",
    "# Esto es una *generator expression*. Como nos devuelve un iterador, podemos iterar sobre él hasta que se agote\n"
   ]
  },
  {
   "cell_type": "markdown",
   "metadata": {},
   "source": [
    "## Comprehensions"
   ]
  },
  {
   "cell_type": "markdown",
   "metadata": {
    "collapsed": true
   },
   "source": [
    "Las *comprehensions* son expresiones que transforman una secuencia en otra, y que permiten elegir condicionalmente qué elementos de la secuencia origen van a participar, y cómo, en la secuencia destino. Se consideran una alternativa a los bucles en algunas situaciones"
   ]
  },
  {
   "cell_type": "markdown",
   "metadata": {},
   "source": [
    "<div class=\"alert alert-success\"><strong>Buenas prácticas</strong>: Si puedes sustituir un bucle por una expresión de tipo *comprehension*, hazlo</div>"
   ]
  },
  {
   "cell_type": "markdown",
   "metadata": {},
   "source": [
    "En la versión 2 de Python se introdujeron las *list comprehensions*, y en Python 3 se añadieron dos tipos más: las *dictionary comprehensions* y las *set comprehensions*. Las 3 son muy parecidas. Veámoslas"
   ]
  },
  {
   "cell_type": "markdown",
   "metadata": {},
   "source": [
    "### List comprehensions"
   ]
  },
  {
   "cell_type": "markdown",
   "metadata": {},
   "source": [
    "Las más antiguas y conocidas. Se construyen de la siguiente manera"
   ]
  },
  {
   "cell_type": "code",
   "execution_count": 25,
   "metadata": {
    "collapsed": false
   },
   "outputs": [],
   "source": [
    "# Creamos una lista a partir de otra mediante una list comprehension"
   ]
  },
  {
   "cell_type": "markdown",
   "metadata": {},
   "source": [
    "Cualquier tipo de expresión Python es válida para generar los elementos de salida de una *list comprehension*"
   ]
  },
  {
   "cell_type": "code",
   "execution_count": 24,
   "metadata": {
    "collapsed": false
   },
   "outputs": [],
   "source": [
    "# Aquí aplicamos una llamada a función y un condicional"
   ]
  },
  {
   "cell_type": "markdown",
   "metadata": {},
   "source": [
    "### Dictionary comprehensions"
   ]
  },
  {
   "cell_type": "markdown",
   "metadata": {},
   "source": [
    "La idea es la misma que en las list comprehensions, pero aplicado a diccionarios, Veamos un sencillo ejemplo, en el que cambiamos claves por valores"
   ]
  },
  {
   "cell_type": "code",
   "execution_count": 26,
   "metadata": {
    "collapsed": false
   },
   "outputs": [],
   "source": [
    "# Ejemplo sencillo: cambiar claves por valores\n",
    "\n",
    "# A destacar la llamada a .items() para obtener los elementos del diccionario"
   ]
  },
  {
   "cell_type": "markdown",
   "metadata": {},
   "source": [
    "Es interesante ver qué sucede si intentamos hacer lo mismo pero teniendo como valor una lista, en lugar de un número"
   ]
  },
  {
   "cell_type": "code",
   "execution_count": 27,
   "metadata": {
    "collapsed": false
   },
   "outputs": [],
   "source": [
    "# Intentamos lo mismo, pero teniendo una lista como valor en lugar de un número"
   ]
  },
  {
   "cell_type": "markdown",
   "metadata": {},
   "source": [
    "Lo que sucede es que una lista no puede ser utilizada como clave de un diccionario, porque una lista es lo que se conoce en Python como un *mutable object*:\n",
    "\n",
    "<ul>\n",
    "    <li><strong>mutable object</strong>: son objetos cuyo contenido puede cambiar sin que cambie el nombre asociado al mismo (la variable que los almacena). Ejemplos son listas, diccionarios y conjuntos (objetos tipo *set*). Estos objetos <strong>no pueden usarse como claves de diccionarios</strong></li>\n",
    "    <li><strong>immutable object</strong>: son objetos cuyo contenido no puede cambiar sin que cambie el nombre asociado al mismo (la variable que los almacena). Ejemplos son números, cadenas (objetos tipo *string*) o tuplas. Estos objetos <strong>sí pueden usarse como claves de diccionarios</strong></li>\n",
    "</ul>"
   ]
  },
  {
   "cell_type": "markdown",
   "metadata": {},
   "source": [
    "Veamos la diferencia de manera clara en un ejemplo"
   ]
  },
  {
   "cell_type": "code",
   "execution_count": 28,
   "metadata": {
    "collapsed": false
   },
   "outputs": [],
   "source": [
    "# mutable vs immutable\n",
    "\n",
    "# ok, se puede cambiar el objeto sin cambiar la variable que lo apunta\n",
    "\n",
    "# error, no se puede cambiar el objeto sin cambiar la variable que lo apunta. Tendríamos que cambiar el objeto entero."
   ]
  },
  {
   "cell_type": "markdown",
   "metadata": {},
   "source": [
    "<div class=\"alert alert-warning\">No intentes usar un objeto de tipo mutable como clave de un diccionario. Se producirá un *TypeError*</div>"
   ]
  },
  {
   "cell_type": "markdown",
   "metadata": {},
   "source": [
    "¿Y cómo lo haríamos entonces para cambiar una simple letra de un string, o un elemento de una tupla?\n",
    "\n",
    "Debemos convertir el objeto en lista, o cualquier otro elemento mutable, cambiarlo y volverlo a transformar en string. Ejemplo"
   ]
  },
  {
   "cell_type": "code",
   "execution_count": 29,
   "metadata": {
    "collapsed": true
   },
   "outputs": [],
   "source": [
    "# Cambiando un objeto immutable"
   ]
  },
  {
   "cell_type": "markdown",
   "metadata": {},
   "source": [
    "### Set comprehensions"
   ]
  },
  {
   "cell_type": "code",
   "execution_count": 30,
   "metadata": {
    "collapsed": false
   },
   "outputs": [],
   "source": [
    "# set comprehension\n",
    "\n",
    "# El set no está ordenado\n"
   ]
  },
  {
   "cell_type": "markdown",
   "metadata": {},
   "source": [
    "Son muy parecidos a los *dictionary comprehension*, pero los *set* solo tienen valores, en lugar de parejas clave:valor. "
   ]
  },
  {
   "cell_type": "markdown",
   "metadata": {},
   "source": [
    "##### <a rel=\"license\" href=\"http://creativecommons.org/licenses/by/4.0/deed.es\"><img alt=\"Licencia Creative Commons\" style=\"border-width:0\" src=\"http://i.creativecommons.org/l/by/4.0/88x31.png\" /></a><br /><span xmlns:dct=\"http://purl.org/dc/terms/\" property=\"dct:title\">Curso Python</span> por <span xmlns:cc=\"http://creativecommons.org/ns#\" property=\"cc:attributionName\">Jorge Arévalo</span> se distribuye bajo una <a rel=\"license\" href=\"http://creativecommons.org/licenses/by/4.0/deed.es\">Licencia Creative Commons Atribución 4.0 Internacional</a>."
   ]
  },
  {
   "cell_type": "markdown",
   "metadata": {},
   "source": [
    "---\n",
    "_Las siguientes celdas contienen configuración del Notebook_\n",
    "\n",
    "_Para visualizar y utlizar los enlaces a Twitter el notebook debe ejecutarse como [seguro](http://ipython.org/ipython-doc/dev/notebook/security.html)_\n",
    "\n",
    "    File > Trusted Notebook"
   ]
  },
  {
   "cell_type": "code",
   "execution_count": 1,
   "metadata": {
    "collapsed": false
   },
   "outputs": [
    {
     "data": {
      "text/html": [
       "/* This template is inspired in the one used by Lorena Barba\n",
       "in the numerical-mooc repository: https://github.com/numerical-mooc/numerical-mooc\n",
       "We thank her work and hope you also enjoy the look of the notobooks with this style */\n",
       "\n",
       "<link href='http://fonts.googleapis.com/css?family=Source+Sans+Pro|Josefin+Sans:400,700,400italic|Ubuntu+Condensed' rel='stylesheet' type='text/css'>\n",
       "\n",
       "El estilo se ha aplicado =)\n",
       "\n",
       "<style>\n",
       "\n",
       "\n",
       "\n",
       "#notebook_panel { /* main background */\n",
       "    background: #f7f7f7;\n",
       "}\n",
       "\n",
       "div.cell { /* set cell width */\n",
       "    width: 900px;\n",
       "}\n",
       "\n",
       "div #notebook { /* centre the content */\n",
       "    background: #fff; /* white background for content */\n",
       "    width: 950px;\n",
       "    margin: auto;\n",
       "    padding-left: 0em;\n",
       "}\n",
       "\n",
       "#notebook li { /* More space between bullet points */\n",
       "    margin-top:0.7em;\n",
       "}\n",
       "\n",
       "/* draw border around running cells */\n",
       "div.cell.border-box-sizing.code_cell.running { \n",
       "    border: 1px solid #111;\n",
       "}\n",
       "\n",
       "/* Put a solid color box around each cell and its output, visually linking them*/\n",
       "div.cell.code_cell {\n",
       "    font-family: 'Source Sans Pro', sans-serif;\n",
       "    background-color: rgb(256,256,256);\n",
       "    font-size: 110%;\n",
       "    border-radius: 0px; \n",
       "    padding: 0.5em;\n",
       "    margin-left:1em;\n",
       "    margin-top: 1em;\n",
       "}\n",
       "\n",
       "div.text_cell_render{\n",
       "    font-family: 'Josefin Sans', serif;\n",
       "    line-height: 145%;\n",
       "    font-size: 125%;\n",
       "    font-weight: 500;\n",
       "    width:750px;\n",
       "    margin-left:auto;\n",
       "    margin-right:auto;\n",
       "}\n",
       "\n",
       "\n",
       "/* Formatting for header cells */\n",
       ".text_cell_render h1, .text_cell_render h2, .text_cell_render h3,\n",
       ".text_cell_render h4, .text_cell_render h5 {\n",
       "    font-family: 'Ubuntu Condensed', sans-serif;\n",
       "}\n",
       "/*\n",
       ".text_cell_render h1 {\n",
       "    font-family: Flux, 'Ubuntu Condensed', serif;\n",
       "    font-style:regular;\n",
       "    font-weight: 400;    \n",
       "    font-size: 30pt;\n",
       "    text-align: center;\n",
       "    line-height: 100%;\n",
       "    color: #335082;\n",
       "    margin-bottom: 0.5em;\n",
       "    margin-top: 0.5em;\n",
       "    display: block;\n",
       "}\n",
       "*/\n",
       ".text_cell_render h1 {\n",
       "    font-weight: 600;\n",
       "    font-size: 35pt;\n",
       "    line-height: 100%;\n",
       "    color: #000000;\n",
       "    margin-bottom: 0.1em;\n",
       "    margin-top: 0.3em;\n",
       "    display: block;\n",
       "}\n",
       "\n",
       ".text_cell_render h2 {\n",
       "    margin-top:16px;\n",
       "    font-size: 27pt;\n",
       "    font-weight: 550;\n",
       "    margin-bottom: 0.1em;\n",
       "    margin-top: 0.3em;\n",
       "    font-style: regular;\n",
       "    color: #2c6391;\n",
       "}\t\n",
       "\n",
       ".text_cell_render h3 {\n",
       "    font-size: 20pt;\n",
       "    font-weight: 550\n",
       "    text-align: left;\n",
       "    margin-bottom: 0.1em;\n",
       "    margin-top: 0.3em;\n",
       "    font-style: regular;\n",
       "    color:  #387eb8;\n",
       "}\n",
       "\n",
       ".text_cell_render h4 {    /*Use this for captions*/\n",
       "    font-size: 18pt;\n",
       "    font-weight: 450\n",
       "    text-align: left;\n",
       "    margin-bottom: 0.1em;\n",
       "    margin-top: 0.3em;\n",
       "    font-style: regular;\n",
       "    color:  #5797cc;\n",
       "}\n",
       "\n",
       ".text_cell_render h5 {  /*Use this for small titles*/\n",
       "    font-size: 18pt;\n",
       "    font-weight: 550;\n",
       "    color: rgb(163,0,0);\n",
       "    font-style: italic;\n",
       "    margin-bottom: .1em;\n",
       "    margin-top: 0.8em;\n",
       "    display: block;\n",
       "    color:  #b21c0d;\n",
       "}\n",
       "\n",
       ".text_cell_render h6 { /*use this for copyright note*/\n",
       "    font-family: 'Ubuntu Condensed', sans-serif;\n",
       "    font-weight: 300;\n",
       "    font-size: 14pt;\n",
       "    line-height: 100%;\n",
       "    color: #252525;\n",
       "    text-align: right;\n",
       "    margin-bottom: 1px;\n",
       "    margin-top: 1px;\n",
       "}\n",
       "\n",
       ".CodeMirror{\n",
       "        font-family: 'Duru Sans', sans-serif;\n",
       "        font-size: 100%;\n",
       "}\n",
       "\n",
       "</style>\n",
       "<script>\n",
       "    MathJax.Hub.Config({\n",
       "                        TeX: {\n",
       "                           extensions: [\"AMSmath.js\"],\n",
       "                           equationNumbers: { autoNumber: \"AMS\", useLabelIds: true}\n",
       "                           },\n",
       "                tex2jax: {\n",
       "                    inlineMath: [ ['$','$'], [\"\\\\(\",\"\\\\)\"] ],\n",
       "                    displayMath: [ ['$$','$$'], [\"\\\\[\",\"\\\\]\"] ]\n",
       "                },\n",
       "                displayAlign: 'center', // Change this to 'center' to center equations.\n",
       "                \"HTML-CSS\": {\n",
       "                    styles: {'.MathJax_Display': {\"margin\": 4}}\n",
       "                }\n",
       "        });\n",
       "</script>\n"
      ],
      "text/plain": [
       "<IPython.core.display.HTML object>"
      ]
     },
     "execution_count": 1,
     "metadata": {},
     "output_type": "execute_result"
    }
   ],
   "source": [
    "# Esta celda da el estilo al notebook\n",
    "from IPython.core.display import HTML\n",
    "css_file = '../static/styles/style.css'\n",
    "HTML(open(css_file, \"r\").read())"
   ]
  },
  {
   "cell_type": "code",
   "execution_count": null,
   "metadata": {
    "collapsed": true
   },
   "outputs": [],
   "source": []
  }
 ],
 "metadata": {
  "kernelspec": {
   "display_name": "Python 3",
   "language": "python",
   "name": "python3"
  },
  "language_info": {
   "codemirror_mode": {
    "name": "ipython",
    "version": 3
   },
   "file_extension": ".py",
   "mimetype": "text/x-python",
   "name": "python",
   "nbconvert_exporter": "python",
   "pygments_lexer": "ipython3",
   "version": "3.5.1"
  }
 },
 "nbformat": 4,
 "nbformat_minor": 0
}
