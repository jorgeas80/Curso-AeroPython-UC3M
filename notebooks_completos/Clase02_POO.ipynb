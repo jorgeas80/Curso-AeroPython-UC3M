{
 "cells": [
  {
   "cell_type": "markdown",
   "metadata": {},
   "source": [
    "<img src=\"../static/logopython.png\" alt=\"Logo Python\" style=\"width: 300px; display: inline\"/>\n",
    "<img src=\"../static/deimoslogo.png\" alt=\"Logo Deimos\" style=\"width: 300px; display: inline\"/>"
   ]
  },
  {
   "cell_type": "markdown",
   "metadata": {},
   "source": [
    "# Clase 1b: Clases y objetos en Python\n",
    "\n",
    "Python es un lenguaje totalmente orientado a objetos. Podemos crear nuestras propias clases, heredar de otras clases ya existentes e instanciar cualquier clase para trabajar con ella."
   ]
  },
  {
   "cell_type": "markdown",
   "metadata": {},
   "source": [
    "## Creando clases en Python"
   ]
  },
  {
   "cell_type": "markdown",
   "metadata": {},
   "source": [
    "Crear una clase en Python no podría ser más sencillo"
   ]
  },
  {
   "cell_type": "code",
   "execution_count": 2,
   "metadata": {
    "collapsed": false
   },
   "outputs": [
    {
     "name": "stdout",
     "output_type": "stream",
     "text": [
      "<__main__.MiClase object at 0x000001FFB58E60F0>\n"
     ]
    }
   ],
   "source": [
    "# Clase vacía en Python\n",
    "class MiClase:\n",
    "    pass\n",
    "\n",
    "c = MiClase()\n",
    "print(c)"
   ]
  },
  {
   "cell_type": "markdown",
   "metadata": {},
   "source": [
    "<div class=\"alert alert-info\"><strong>Python tips</strong>: La palabra clave `pass` en Python no tiene ningún efecto. Simplemente, no hace nada.</div>"
   ]
  },
  {
   "cell_type": "markdown",
   "metadata": {},
   "source": [
    "Una clase puede tener **atributos** y **métodos**. Y se pueden definir de manera estática (cuando escribimos el código de la clase) como de manera dinámica (en tiempo de ejecución)"
   ]
  },
  {
   "cell_type": "code",
   "execution_count": 4,
   "metadata": {
    "collapsed": false
   },
   "outputs": [
    {
     "name": "stdout",
     "output_type": "stream",
     "text": [
      "1 2\n",
      "3\n"
     ]
    }
   ],
   "source": [
    "# Esta clase tiene atributos estáticos y dinámicos\n",
    "class MiClase:\n",
    "    \n",
    "    # Estos atributos serían compartidos por todas las instancias de la clase\n",
    "    x = 1\n",
    "    y = 2\n",
    "    \n",
    "c = MiClase()\n",
    "print(c.x, c.y)\n",
    "\n",
    "# Nuevo atributo\n",
    "c.z = 3\n",
    "print(c.z)"
   ]
  },
  {
   "cell_type": "markdown",
   "metadata": {},
   "source": [
    "Los métodos de nuestra clase, tendrán siempre un <strong>primer argumento *self*</strong>, que representa la instancia de la propia clase con la que es llamado el método (el equivalente al *this* en otros lenguajes orientados a objetos). Esto es una convención en Python."
   ]
  },
  {
   "cell_type": "code",
   "execution_count": 1,
   "metadata": {
    "collapsed": false,
    "scrolled": true
   },
   "outputs": [
    {
     "name": "stdout",
     "output_type": "stream",
     "text": [
      "Hola\n",
      "1 2\n",
      "Hola\n"
     ]
    }
   ],
   "source": [
    "# Podemos llamar a los métodos de la clase\n",
    "class MiClase:\n",
    "    x = 1\n",
    "    y = 2\n",
    "    \n",
    "    def saludar(self):\n",
    "        print(\"Hola\")\n",
    "        \n",
    "\n",
    "c = MiClase()\n",
    "c.saludar()\n",
    "\n",
    "print(c.x, c.y)\n",
    "\n",
    "# También podemos asignar el método a una variable y llamarlo después. Ojo: usamos el nombre del método sin paréntesis\n",
    "saludo = c.saludar\n",
    "\n",
    "# Ahora lo llamamos\n",
    "saludo()"
   ]
  },
  {
   "cell_type": "markdown",
   "metadata": {},
   "source": [
    "### Creando constructores"
   ]
  },
  {
   "cell_type": "markdown",
   "metadata": {},
   "source": [
    "Podemos controlar lo que pasa en la instanciación de nuestra clase mediante el método *\\__init\\__*, que hace el papel de <strong>constructor de nuestra clase</strong>"
   ]
  },
  {
   "cell_type": "code",
   "execution_count": 2,
   "metadata": {
    "collapsed": false
   },
   "outputs": [
    {
     "name": "stdout",
     "output_type": "stream",
     "text": [
      "7 12\n"
     ]
    }
   ],
   "source": [
    "# Implementamos un constructor para nuestra clase, y dentro del constructor asignamos variables.\n",
    "class MiClase:\n",
    "    def __init__(self, x, y):\n",
    "        \n",
    "        # self.x y self.y son propias de la instancia, no compartidas\n",
    "        self.x = x\n",
    "        self.y = y\n",
    "        \n",
    "c = MiClase(7, 12)\n",
    "\n",
    "print(c.x, c.y)"
   ]
  },
  {
   "cell_type": "markdown",
   "metadata": {},
   "source": [
    "Otro método interesante es *\\__str\\__*, que devuelve una representación textual de la clase"
   ]
  },
  {
   "cell_type": "code",
   "execution_count": 3,
   "metadata": {
    "collapsed": false
   },
   "outputs": [
    {
     "name": "stdout",
     "output_type": "stream",
     "text": [
      "x = 7, y=12\n"
     ]
    }
   ],
   "source": [
    "# Implementamos un método __str__ que será llamado cuando pasemos una instancia de la clase como argumento de print()\n",
    "class MiClase:\n",
    "    def __init__(self, x, y):\n",
    "        \n",
    "        # self.x y self.y son propias de la instancia, no compartidas\n",
    "        self.x = x\n",
    "        self.y = y\n",
    "        \n",
    "    def __str__(self):\n",
    "        return \"x = {0}, y={1}\".format(self.x, self.y)\n",
    "        \n",
    "c = MiClase(7, 12)\n",
    "print(c)"
   ]
  },
  {
   "cell_type": "markdown",
   "metadata": {},
   "source": [
    "### Herencia en Python"
   ]
  },
  {
   "cell_type": "markdown",
   "metadata": {},
   "source": [
    "Python permite herencia múltiple, de manera que una clase puede heredar de una o más clases padre"
   ]
  },
  {
   "cell_type": "code",
   "execution_count": 13,
   "metadata": {
    "collapsed": false
   },
   "outputs": [
    {
     "name": "stdout",
     "output_type": "stream",
     "text": [
      "x = 3, y=4\n",
      "x = 5, y=6, z=7\n"
     ]
    }
   ],
   "source": [
    "# Creamos una clase padre y una clase hija, que heredará sus métodos y atributos\n",
    "class ClasePadre:\n",
    "    def __init__(self, x, y):\n",
    "        self.x = x\n",
    "        self.y = y\n",
    "        \n",
    "    def __str__(self):\n",
    "        return \"x = {0}, y={1}\".format(self.x, self.y)\n",
    "    \n",
    "# Entre paréntesis van las clases padres, separadas por comas\n",
    "class ClaseHija(ClasePadre):\n",
    "    def __init__(self, x, y, z):\n",
    "        # Podemos llamar al constructor del padre mediante super\n",
    "        super().__init__(x, y)\n",
    "        \n",
    "        # Y asignar nuestras propias variables\n",
    "        self.z = z\n",
    "        \n",
    "    def __str__(self):\n",
    "        # Podemos llamar a cualquier método de nuestra clase padre, igual que llamamos a __init__\n",
    "        return \"{0}, z={1}\".format(super().__str__(), self.z)\n",
    "    \n",
    "    \n",
    "padre = ClasePadre(3, 4)\n",
    "hija = ClaseHija(5, 6, 7)\n",
    "\n",
    "print(padre)\n",
    "print(hija)"
   ]
  },
  {
   "cell_type": "markdown",
   "metadata": {},
   "source": [
    "## ¿Es Python realmente orientado a objetos?"
   ]
  },
  {
   "cell_type": "markdown",
   "metadata": {
    "collapsed": true
   },
   "source": [
    "Por ahora hemos visto algunas pinceladas de orientación a objetos en Python. Para los acostumbrados a Java o C++ puede resultar una sintáxis un poco *forzada*. Que se pueden hacer las cosas, pero no parece que el lenguaje esté pensado para ello.\n",
    "\n",
    "De hecho, seguramente te hayan surgido preguntas típicas de orientación a objetos:\n",
    "\n",
    "<ul>\n",
    "    <li>¿Cómo declaro métodos públicos y privados?</li>\n",
    "    <li>¿Cómo hago clases y/o métodos virtuales?</li>\n",
    "    <li>¿Puedo sobreescribir métodos?</li>\n",
    "</ul>\n",
    "\n",
    "Son preguntas lógicas. Y si te surgen, es porque Python no se considera un lenguaje orientado a objetos puro, ya que <strong>no te impone el paradigma, solo te lo permite usar</strong>."
   ]
  },
  {
   "cell_type": "markdown",
   "metadata": {},
   "source": [
    "<div class=\"alert alert-info\"><strong>Python tips</strong>: En Python es posible obtener la encapsulación y la separación de capas de nuestra aplicación, dos de las cualidades básicas de la orientación a objetos, mediante el uso de <strong>paquetes y módulos</strong>, como veremos más adelante.</div>"
   ]
  },
  {
   "cell_type": "markdown",
   "metadata": {},
   "source": [
    "Como reflexión totalmente personal, la orientación a objetos es un paradigma muy útil cuando nuestra aplicación ha de modelar <strong>objetos con una funcionalidad asociada a un estado y que han de ser perdurables mientras nuestra aplicación esté funcionando</strong>. Ejemplos clásicos serían el desarrollo de aplicaciones de escritorio, o videojuegos, donde deberemos modelar botones, ventanas, personajes, etc. Estos objetos estarán presentes en memoria, y seguramente pasen por diferentes estados, mientras nuestra aplicación esté corriendo.\n",
    "\n",
    "Si no estamos en una de esas situaciones, tras vez un paradigma *stateless*, como el de la programación funcional, pueda resultarnos más útil. Especialmente si tenemos que afrontar problemas de concurrencia. Veremos este paradigma más adelante."
   ]
  },
  {
   "cell_type": "markdown",
   "metadata": {},
   "source": [
    "Si queremos desarrollar nuestra aplicación mediante el paradigma de orientación a objetos, puede sernos de ayuda el uso de una sintáxis de Python llamada *decorators*, que veremos a continuación"
   ]
  },
  {
   "cell_type": "markdown",
   "metadata": {},
   "source": [
    "<div class=\"alert alert-success\"><strong>Buenas prácticas</strong>: usa decorators cuando programes orientado a objetos con Python</div>"
   ]
  },
  {
   "cell_type": "markdown",
   "metadata": {},
   "source": [
    "### Python y la encapsulación de datos"
   ]
  },
  {
   "cell_type": "markdown",
   "metadata": {},
   "source": [
    "Una de las primeras ideas que nos viene a la cabeza cuando comenzamos a diseñar nuestra aplicación en Python usando el paradigma de orientación a objetos es: <strong>¿cómo declaro miembros privados en mis clases?</strong>\n",
    "\n",
    "La respuesta a esta pregunta es... <strong>no lo haces</strong>. Y no lo haces porque eso solo serviría para <strong>complicar las cosas</strong>.\n",
    "\n",
    "La filosofía tras el diseño de Python es, en palabras de su creador, Guido Van Rosuum: *Python is an <a href=\"http://idioms.thefreedictionary.com/open+kimono\">open kimono</a> language*. Es decir, que por defecto <strong>todo lo que haya en tu código, es público.</strong>. Y es público por sencillez.\n",
    "\n",
    "La justificación tras esa filosofía es que la única razón para implementar miembros privados en una clase, es <strong>encapsular el funcionamiento de la misma</strong>. Separar la implementación de la interfaz. O en otras palabras: <strong>que los usuarios de la clase no tengan que preocuparse de su funcionamiento para poder usarla</strong>. Y si la clase está bien diseñada, y su interfaz es clara e intuitiva, no habría porqué preocuparse de cómo funciona."
   ]
  },
  {
   "cell_type": "markdown",
   "metadata": {},
   "source": [
    "<div class=\"alert alert-info\">La encapsulación no consiste en prohibir el acceso a ciertas partes de tu clase, sino en que no sea necesario acceder a las mismas para poder usarla</div>"
   ]
  },
  {
   "cell_type": "markdown",
   "metadata": {},
   "source": [
    "Además, Guido apoya su filosofía con dos argumentos más::\n",
    "\n",
    "<ul>\n",
    "    <li>Acceder a miembros internos de una clase en lenguajes como Java o C++ sigue siendo posible mediante <strong>introspección</strong>. Así que, ¿para qué inventar un método que nos permita acceder a los miembros privados de una clase, pudiendo simplemente dejarlos públicos? Recordemos que uno de los mantras de Python es *Simple is better than complex*</li>\n",
    "    <li>Dejar que todas las internalidades de una clase sean accesible facilita mucho la depuración del código (no hay que hacer nada para mostrar atributos privados en una sesión de depuracón, simplemente imprimirlos)</li>\n",
    "</ul>"
   ]
  },
  {
   "cell_type": "markdown",
   "metadata": {},
   "source": [
    "A pesar de este *choque* entre Python y los lenguajes orientados a objetos clásicos, tenemos a nuestra disposición algunas facilidades que nos permiten programar de manera más parecida a como se acostumbra en los lenguajes que siguen fielmente este paradigma, como Java o C++."
   ]
  },
  {
   "cell_type": "markdown",
   "metadata": {},
   "source": [
    "<div class=\"alert alert-info\">Mediante el uso de *@property, setter y name mandling* puedes simular el patrón get/set para acceso a los atributos de una clase,pero de forma más elegante (o como mínimo, menos verbosa)</div>"
   ]
  },
  {
   "cell_type": "code",
   "execution_count": 18,
   "metadata": {
    "collapsed": false
   },
   "outputs": [
    {
     "name": "stdout",
     "output_type": "stream",
     "text": [
      "Paco\n",
      "Jorge\n"
     ]
    }
   ],
   "source": [
    "# El decorator @property, aplicado a un método de nuestra clase, nos permite usar el método como si se tratara de un atributo\n",
    "# más de la clase\n",
    "class Person:\n",
    "    def __init__(self, name):\n",
    "        self.name = name\n",
    "        \n",
    "        \n",
    "    # El método name se podrá llamar como si fuera un get de la clase\n",
    "    @property\n",
    "    def name(self):\n",
    "        return self.__name\n",
    "    \n",
    "    \n",
    "    # Mediante el decorator @name.setter, permitiremos asignar un nombre a nuestra persona (el equivalente a un setter)\n",
    "    @name.setter\n",
    "    def name(self, value):\n",
    "        self.__name = value\n",
    "        \n",
    "        \n",
    "p = Person('Paco')\n",
    "print(p.name)\n",
    "\n",
    "p.name = 'Jorge'\n",
    "print(p.name)"
   ]
  },
  {
   "cell_type": "markdown",
   "metadata": {},
   "source": [
    "Ok, aquí hay algunos conceptos que necesitan ser explicados.\n",
    "\n",
    "<ul>\n",
    "    <li>El decorador <a href=\"https://docs.python.org/3/library/functions.html#property\">*@property*</a> hace que se pueda llamar al método sin necesidad de ponerle paréntesis. Es decir, poder llamar a p.name, y que se llame a ese método</li>\n",
    "    <li>El decorador *@name.setter* hace que podamos asignar un valor a p.name. Por supuesto, también lo podíamos hacer antes de implementar el método, pero con este *decorator*, estaríamos ocultando el acceso a la variable nombre en sí. Además, podemos hacer comprobaciones previas a la asignación</li>\n",
    "    <li>Cuando en Python precedemos el nombre de un miembro de una clase con un doble subrayado, *__*, Python automáticamente añade en tiempo de ejecución el nombre de la clase prececido por *\\_* delante del nombre del miembro. Este comportamiento se llama <a href=\"https://docs.python.org/3.5/reference/expressions.html?highlight=mangling#index-5\">*name mangling*</a>, y lo hemos aplicado en nuestros métodos para evitar entrar en un bucle de recursión infinita.</li>\n",
    "</ul>"
   ]
  },
  {
   "cell_type": "markdown",
   "metadata": {},
   "source": [
    "Mejoremos nuestro ejemplo, para ver la utilidad de @property y @name.setter"
   ]
  },
  {
   "cell_type": "code",
   "execution_count": 23,
   "metadata": {
    "collapsed": false
   },
   "outputs": [
    {
     "name": "stdout",
     "output_type": "stream",
     "text": [
      "Paco\n",
      "No puedes entrar a la discoteca, eres menor de edad\n",
      "Jorge es una bestia sexy\n"
     ]
    }
   ],
   "source": [
    "# Aquí haremos algunas validaciones dentro de nuestros métodos get/set\n",
    "class Person:\n",
    "    def __init__(self, name, edad=18):\n",
    "        self.name = name\n",
    "        self.edad = edad\n",
    "        \n",
    "    @property\n",
    "    def name(self):\n",
    "        return \"{} es una bestia sexy\".format(self.__name) if self.__name == \"Jorge\" else self.__name\n",
    "    \n",
    "    @name.setter\n",
    "    def name(self, value):\n",
    "        self.__name = value\n",
    "        \n",
    "    @property\n",
    "    def edad(self):\n",
    "        return self.__edad\n",
    "    \n",
    "    @edad.setter\n",
    "    def edad(self, value):\n",
    "        if value > 17:\n",
    "            self.__edad = value\n",
    "        else:\n",
    "            print(\"No puedes entrar a la discoteca, eres menor de edad\")\n",
    "        \n",
    "        \n",
    "p = Person('Paco')\n",
    "print(p.name)\n",
    "\n",
    "p.edad = 15\n",
    "\n",
    "p.name = 'Jorge'\n",
    "print(p.name)"
   ]
  },
  {
   "cell_type": "markdown",
   "metadata": {},
   "source": [
    "<div class=\"alert alert-info\">Hemos conseguido la encapsulación de nuestros datos, pero con una sintáxis más elegante que la clásica get/set</div>"
   ]
  },
  {
   "cell_type": "markdown",
   "metadata": {},
   "source": [
    "En cuanto al *name mangling*, su uso fundamental es evitar que subclases sobreescriban ciertos métodos considerados importantes dentro de una clase de Python. Métodos como *\\__init\\__* o *\\__str\\__* comienzan por *\\__* para asegurarse de que el método implementado por las clases hijas, será el suyo propio, y no sobreescribirá al del padre.\n",
    "\n",
    "Se ve con más claridad en este ejemplo"
   ]
  },
  {
   "cell_type": "code",
   "execution_count": 27,
   "metadata": {
    "collapsed": false
   },
   "outputs": [
    {
     "name": "stdout",
     "output_type": "stream",
     "text": [
      "42\n",
      "21\n",
      "{'_Bar__baz': 21, '_Foo__baz': 42}\n"
     ]
    }
   ],
   "source": [
    "# Python añadirá internamente el nombre de la clase delante de __baz\n",
    "class Foo(object):\n",
    "    def __init__(self):\n",
    "        self.__baz = 42\n",
    "        \n",
    "    def foo(self):\n",
    "        print(self.__baz)\n",
    "     \n",
    "# Como el método __init__ empieza por __, en realidad será Bar__init__, y el del padre Foo__init__. Así existen por separado\n",
    "class Bar(Foo):\n",
    "    def __init__(self):\n",
    "        super().__init__()\n",
    "        self.__baz = 21\n",
    "\n",
    "    def bar(self):\n",
    "        print(self.__baz)\n",
    "\n",
    "x = Bar()\n",
    "x.foo()\n",
    "\n",
    "x.bar()\n",
    "\n",
    "# Podemos ver los miembros \"mangleados\" que tiene la instancia x\n",
    "print(x.__dict__)"
   ]
  },
  {
   "cell_type": "markdown",
   "metadata": {},
   "source": [
    "<div class=\"alert alert-warning\">Otro uso que tradicionalmente se ha dado al *\\__* es, precisamente, simular la existencia de métodos privados en clases. Es posible, pero no demasiado útil, así que no es una buena práctica</div>"
   ]
  },
  {
   "cell_type": "code",
   "execution_count": 31,
   "metadata": {
    "collapsed": false
   },
   "outputs": [
    {
     "name": "stdout",
     "output_type": "stream",
     "text": [
      "Hola, soy un método público\n",
      "Soy un método privado y no me puedes llamar, mwahahahaha\n"
     ]
    }
   ],
   "source": [
    "# El método private parece privado, pero vemos que realmente no lo es...\n",
    "class MiClase:\n",
    "    def public(self):\n",
    "        print(\"Hola, soy un método público\")\n",
    "        \n",
    "    def __private(self):\n",
    "        print(\"Soy un método privado y no me puedes llamar, mwahahahaha\")\n",
    "                \n",
    "c = MiClase()\n",
    "c.public()\n",
    "\n",
    "# Esta llamada nos dará un AttributeError, diciendo que no existe el método 'private'...\n",
    "#c.private()\n",
    "\n",
    "# Pero así funciona...\n",
    "c._MiClase__private()"
   ]
  },
  {
   "cell_type": "markdown",
   "metadata": {},
   "source": [
    "Para terminar con este. asunto de la privacidad en los miembros de una clase, hay una convención aceptada por la comunidad de Python: <strong>preceder el nombre del miembro con un único guión bajo *\\_*</strong>. De esta manera, *marcamos* ese miembro como privado, y le estamos diciendo a quien lea el código: *esto no tiene interés fuera de la clase, no te molestes en llamarlo*"
   ]
  },
  {
   "cell_type": "markdown",
   "metadata": {},
   "source": [
    "<div class=\"alert alert-success\"><strong>Buenas prácticas:</strong>Precede cualquier miembro de tu clase con un guión bajo (*\\_*) para indicar que se trata de un miembro interno a la clase, sin interés para ser accedido externamente</div>"
   ]
  },
  {
   "cell_type": "markdown",
   "metadata": {},
   "source": [
    "### Métodos de clase vs funciones estáticas"
   ]
  },
  {
   "cell_type": "markdown",
   "metadata": {},
   "source": [
    "En Python es posible crear métodos de clase (es decir, métodos que pueden ser llamados directamente sin instanciar la clase). Para ello, se usa el *decorator* <strong>@classmethod</strong>. Simplemente, tengamos en cuenta que estos métodos <strong>no reciben *self* como parámetro, sino que reciben un objeto representando la clase en si</strong>"
   ]
  },
  {
   "cell_type": "code",
   "execution_count": 33,
   "metadata": {
    "collapsed": false
   },
   "outputs": [
    {
     "name": "stdout",
     "output_type": "stream",
     "text": [
      "Esto es un método de instancia\n",
      "Esto es un método de clase, llamado desde <class '__main__.MiClase'>\n",
      "Esto es un método de clase, llamado desde <class '__main__.MiClase'>\n"
     ]
    }
   ],
   "source": [
    "# Definimos un método de clase, que podemos llamar tanto desde la clase en si como desde una instancia de la misma\n",
    "class MiClase:\n",
    "    def f(self):\n",
    "        print(\"Esto es un método de instancia\")\n",
    "        \n",
    "    # Método de clase: no recibe la instancia self como parámetro\n",
    "    @classmethod\n",
    "    def classf(cls):\n",
    "        print(\"Esto es un método de clase, llamado desde {}\".format(cls))\n",
    "        \n",
    "\n",
    "c = MiClase()\n",
    "\n",
    "c.f()\n",
    "\n",
    "# Podemos llamar al método desde la clase o desde la instancia\n",
    "c.classf()\n",
    "MiClase.classf()\n",
    "\n",
    "# No podríamos hacer esto\n",
    "# MiClase.f()\n",
    "        "
   ]
  },
  {
   "cell_type": "markdown",
   "metadata": {},
   "source": [
    "Un caso de uso claro para *@classmethod* es <strong>definir constructores alternativos para una clase</strong>."
   ]
  },
  {
   "cell_type": "code",
   "execution_count": 39,
   "metadata": {
    "collapsed": false
   },
   "outputs": [
    {
     "name": "stdout",
     "output_type": "stream",
     "text": [
      "Pepito Perez\n",
      "Jorge Blanco\n"
     ]
    }
   ],
   "source": [
    "# MiClase tendrá un constructor alternativo, que usará una lista en lugar de una cadena\n",
    "class Persona:\n",
    "    def __init__(self, nombre=''):\n",
    "        self.nombre = nombre\n",
    "        \n",
    "    @classmethod\n",
    "    def fromList(cls, l):\n",
    "        \n",
    "        # Instanciamos un nuevo objeto de la clase\n",
    "        x = cls()\n",
    "        \n",
    "        # Lo rellenamos y lo devolvemos\n",
    "        x.nombre = ' '.join([l[0], l[1]])\n",
    "        return x\n",
    "        \n",
    "    def __str__(self):\n",
    "        return self.nombre\n",
    "    \n",
    "\n",
    "p = Persona(\"Pepito Perez\")\n",
    "p2 = Persona.fromList([\"Jorge\", \"Blanco\"])\n",
    "\n",
    "print(p)\n",
    "print(p2)"
   ]
  },
  {
   "cell_type": "markdown",
   "metadata": {},
   "source": [
    "<div class=\"alert alert-warning\"><strong>OJO</strong>: No confundamos *@classmethod* con *@staticmethod*. El segundo *decorator* simplemente sirve para declarar una función dentro de la clase. No tiene mucha más utilidad que definir funciones útiles para la clase pero que no necesitan acceder a ninguno de sus miembros.</div>"
   ]
  },
  {
   "cell_type": "code",
   "execution_count": 47,
   "metadata": {
    "collapsed": false
   },
   "outputs": [
    {
     "name": "stdout",
     "output_type": "stream",
     "text": [
      "True\n",
      "False\n"
     ]
    }
   ],
   "source": [
    "# Ejemplo de uso de función estática, no recibe ningún argumento, pero hace alguna operación útil dentro de la clase\n",
    "class Math:\n",
    "    @staticmethod\n",
    "    def es_par(n):\n",
    "        return not n % 2\n",
    "        \n",
    "m = Math()\n",
    "\n",
    "# La puedo llamar desde la clase o desde una instancia\n",
    "print(m.es_par(2))\n",
    "print(Math.es_par(3))"
   ]
  },
  {
   "cell_type": "markdown",
   "metadata": {},
   "source": [
    "# Clases para controlar errores: excepciones"
   ]
  },
  {
   "cell_type": "markdown",
   "metadata": {},
   "source": [
    "Python posee un tipo de clases especiales, que heredan de la clase <a href=\"https://docs.python.org/3/library/exceptions.html#BaseException\">*BaseException*</a>, y que sirven para enviar mensajes de error cuando nuestro programa encuentra algún problema. \n",
    "\n",
    "Lanzamos excepciones mediante la palabra reservada *raise*, y las capturamos mediante bloques *try ... except*"
   ]
  },
  {
   "cell_type": "code",
   "execution_count": 2,
   "metadata": {
    "collapsed": false
   },
   "outputs": [
    {
     "name": "stdout",
     "output_type": "stream",
     "text": [
      "La base del triángulo tiene que medir más de 0\n",
      "Programa terminado\n"
     ]
    }
   ],
   "source": [
    "# Ejemplo de lanzamiento y captura de excepción\n",
    "class Triangulo:\n",
    "    def __init__(self, base, altura):\n",
    "        if base <= 0:\n",
    "            raise ValueError(\"La base del triángulo tiene que medir más de 0\")\n",
    "            \n",
    "        if altura <= 0:\n",
    "            raise ValueError(\"La altura del triángulo tiene que medir más que 0\")\n",
    "            \n",
    "\n",
    "t = Triangulo(2, 3)\n",
    "\n",
    "# Capturamos la excepción\n",
    "try:\n",
    "    t = Triangulo(-2, 4)\n",
    "except ValueError as e:\n",
    "    print(e)\n",
    "    \n",
    "# Esto se ejecuta siempre, tanto si salta la excepción como si no. No es obligatorio ponerlo\n",
    "finally:\n",
    "    print(\"Programa terminado\")"
   ]
  },
  {
   "cell_type": "markdown",
   "metadata": {},
   "source": [
    "# Conclusiones"
   ]
  },
  {
   "cell_type": "markdown",
   "metadata": {},
   "source": [
    "La orientación a objetos en Python tiene más complejidad, pero con lo visto hasta ahora, es suficiente para comparar Python con los lenguajes orientados a objetos clásicos, y ver los puntos de fricción. En el próximo capítulo veremos otros aspectos propios de Python que dan mucho poder al lenguaje, y tal vez convenzan a los acostumbrados a los lenguajes orientados a objetos de que hay otras maneras de desarrollar en Python que pueden ser tanto o más interesantes, dependiendo del problema a resolver"
   ]
  },
  {
   "cell_type": "markdown",
   "metadata": {},
   "source": [
    "<div class=\"alert alert-info\">¿Qué conclusión podemos sacar de la orientación a objetos en Python? Que <a href=\"http://dirtsimple.org/2004/12/python-is-not-java.html\">Que Python no es Java, ni pretende serlo</a></div>"
   ]
  },
  {
   "cell_type": "code",
   "execution_count": 1,
   "metadata": {
    "collapsed": false
   },
   "outputs": [
    {
     "data": {
      "text/html": [
       "/* This template is inspired in the one used by Lorena Barba\n",
       "in the numerical-mooc repository: https://github.com/numerical-mooc/numerical-mooc\n",
       "We thank her work and hope you also enjoy the look of the notobooks with this style */\n",
       "\n",
       "<link href='http://fonts.googleapis.com/css?family=Source+Sans+Pro|Josefin+Sans:400,700,400italic|Ubuntu+Condensed' rel='stylesheet' type='text/css'>\n",
       "\n",
       "El estilo se ha aplicado =)\n",
       "\n",
       "<style>\n",
       "\n",
       "\n",
       "\n",
       "#notebook_panel { /* main background */\n",
       "    background: #f7f7f7;\n",
       "}\n",
       "\n",
       "div.cell { /* set cell width */\n",
       "    width: 900px;\n",
       "}\n",
       "\n",
       "div #notebook { /* centre the content */\n",
       "    background: #fff; /* white background for content */\n",
       "    width: 950px;\n",
       "    margin: auto;\n",
       "    padding-left: 0em;\n",
       "}\n",
       "\n",
       "#notebook li { /* More space between bullet points */\n",
       "    margin-top:0.7em;\n",
       "}\n",
       "\n",
       "/* draw border around running cells */\n",
       "div.cell.border-box-sizing.code_cell.running { \n",
       "    border: 1px solid #111;\n",
       "}\n",
       "\n",
       "/* Put a solid color box around each cell and its output, visually linking them*/\n",
       "div.cell.code_cell {\n",
       "    font-family: 'Source Sans Pro', sans-serif;\n",
       "    background-color: rgb(256,256,256);\n",
       "    font-size: 110%;\n",
       "    border-radius: 0px; \n",
       "    padding: 0.5em;\n",
       "    margin-left:1em;\n",
       "    margin-top: 1em;\n",
       "}\n",
       "\n",
       "div.text_cell_render{\n",
       "    font-family: 'Josefin Sans', serif;\n",
       "    line-height: 145%;\n",
       "    font-size: 125%;\n",
       "    font-weight: 500;\n",
       "    width:750px;\n",
       "    margin-left:auto;\n",
       "    margin-right:auto;\n",
       "}\n",
       "\n",
       "\n",
       "/* Formatting for header cells */\n",
       ".text_cell_render h1, .text_cell_render h2, .text_cell_render h3,\n",
       ".text_cell_render h4, .text_cell_render h5 {\n",
       "    font-family: 'Ubuntu Condensed', sans-serif;\n",
       "}\n",
       "/*\n",
       ".text_cell_render h1 {\n",
       "    font-family: Flux, 'Ubuntu Condensed', serif;\n",
       "    font-style:regular;\n",
       "    font-weight: 400;    \n",
       "    font-size: 30pt;\n",
       "    text-align: center;\n",
       "    line-height: 100%;\n",
       "    color: #335082;\n",
       "    margin-bottom: 0.5em;\n",
       "    margin-top: 0.5em;\n",
       "    display: block;\n",
       "}\n",
       "*/\n",
       ".text_cell_render h1 {\n",
       "    font-weight: 600;\n",
       "    font-size: 35pt;\n",
       "    line-height: 100%;\n",
       "    color: #000000;\n",
       "    margin-bottom: 0.1em;\n",
       "    margin-top: 0.3em;\n",
       "    display: block;\n",
       "}\n",
       "\n",
       ".text_cell_render h2 {\n",
       "    margin-top:16px;\n",
       "    font-size: 27pt;\n",
       "    font-weight: 550;\n",
       "    margin-bottom: 0.1em;\n",
       "    margin-top: 0.3em;\n",
       "    font-style: regular;\n",
       "    color: #2c6391;\n",
       "}\t\n",
       "\n",
       ".text_cell_render h3 {\n",
       "    font-size: 20pt;\n",
       "    font-weight: 550\n",
       "    text-align: left;\n",
       "    margin-bottom: 0.1em;\n",
       "    margin-top: 0.3em;\n",
       "    font-style: regular;\n",
       "    color:  #387eb8;\n",
       "}\n",
       "\n",
       ".text_cell_render h4 {    /*Use this for captions*/\n",
       "    font-size: 18pt;\n",
       "    font-weight: 450\n",
       "    text-align: left;\n",
       "    margin-bottom: 0.1em;\n",
       "    margin-top: 0.3em;\n",
       "    font-style: regular;\n",
       "    color:  #5797cc;\n",
       "}\n",
       "\n",
       ".text_cell_render h5 {  /*Use this for small titles*/\n",
       "    font-size: 18pt;\n",
       "    font-weight: 550;\n",
       "    color: rgb(163,0,0);\n",
       "    font-style: italic;\n",
       "    margin-bottom: .1em;\n",
       "    margin-top: 0.8em;\n",
       "    display: block;\n",
       "    color:  #b21c0d;\n",
       "}\n",
       "\n",
       ".text_cell_render h6 { /*use this for copyright note*/\n",
       "    font-family: 'Ubuntu Condensed', sans-serif;\n",
       "    font-weight: 300;\n",
       "    font-size: 14pt;\n",
       "    line-height: 100%;\n",
       "    color: #252525;\n",
       "    text-align: right;\n",
       "    margin-bottom: 1px;\n",
       "    margin-top: 1px;\n",
       "}\n",
       "\n",
       ".CodeMirror{\n",
       "        font-family: 'Duru Sans', sans-serif;\n",
       "        font-size: 100%;\n",
       "}\n",
       "\n",
       "</style>\n",
       "<script>\n",
       "    MathJax.Hub.Config({\n",
       "                        TeX: {\n",
       "                           extensions: [\"AMSmath.js\"],\n",
       "                           equationNumbers: { autoNumber: \"AMS\", useLabelIds: true}\n",
       "                           },\n",
       "                tex2jax: {\n",
       "                    inlineMath: [ ['$','$'], [\"\\\\(\",\"\\\\)\"] ],\n",
       "                    displayMath: [ ['$$','$$'], [\"\\\\[\",\"\\\\]\"] ]\n",
       "                },\n",
       "                displayAlign: 'center', // Change this to 'center' to center equations.\n",
       "                \"HTML-CSS\": {\n",
       "                    styles: {'.MathJax_Display': {\"margin\": 4}}\n",
       "                }\n",
       "        });\n",
       "</script>\n"
      ],
      "text/plain": [
       "<IPython.core.display.HTML object>"
      ]
     },
     "execution_count": 1,
     "metadata": {},
     "output_type": "execute_result"
    }
   ],
   "source": [
    "# Esta celda da el estilo al notebook\n",
    "from IPython.core.display import HTML\n",
    "css_file = '../static/styles/style.css'\n",
    "HTML(open(css_file, \"r\").read())"
   ]
  },
  {
   "cell_type": "code",
   "execution_count": null,
   "metadata": {
    "collapsed": true
   },
   "outputs": [],
   "source": []
  }
 ],
 "metadata": {
  "kernelspec": {
   "display_name": "Python 3",
   "language": "python",
   "name": "python3"
  },
  "language_info": {
   "codemirror_mode": {
    "name": "ipython",
    "version": 3
   },
   "file_extension": ".py",
   "mimetype": "text/x-python",
   "name": "python",
   "nbconvert_exporter": "python",
   "pygments_lexer": "ipython3",
   "version": "3.5.1"
  }
 },
 "nbformat": 4,
 "nbformat_minor": 0
}
