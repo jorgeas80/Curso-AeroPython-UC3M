{
 "cells": [
  {
   "cell_type": "markdown",
   "metadata": {},
   "source": [
    "<img src=\"../static/logopython.png\" alt=\"Logo Python\" style=\"width: 400px; display: inline\"/>\n",
    "<img src=\"../static/deimoslogo.png\" alt=\"Logo Deimos\" style=\"width: 400px; display: inline\"/>"
   ]
  },
  {
   "cell_type": "markdown",
   "metadata": {},
   "source": [
    "# Clase 1b: Ejercicios prácticos"
   ]
  },
  {
   "cell_type": "markdown",
   "metadata": {},
   "source": [
    "_En esta clase vamos a afianzar los conocimientos sobre orientación a objetos en Python que acabamos de adquirir haciendo algunos ejercicios._"
   ]
  },
  {
   "cell_type": "markdown",
   "metadata": {},
   "source": [
    "## Ejercicio 1\n",
    "\n",
    "Escribir una clase en Python llamada *Rectangle* con propiedades *length* y *width* y métodos para calcular el área y el perímetro. Debemos poder asignar ancho y alto, comprobando que son números mayores de 0."
   ]
  },
  {
   "cell_type": "code",
   "execution_count": 14,
   "metadata": {
    "collapsed": false
   },
   "outputs": [
    {
     "name": "stdout",
     "output_type": "stream",
     "text": [
      "120\n",
      "44\n",
      "60\n",
      "34\n",
      "El valor de width ha de ser mayor que 0\n"
     ]
    }
   ],
   "source": [
    "class Rectangle:  \n",
    "    def __init__(self, l, w):  \n",
    "        self.length = l  \n",
    "        self.width  = w  \n",
    "  \n",
    "    @property\n",
    "    def area(self):  \n",
    "        return self.__length*self.__width\n",
    "    \n",
    "    @property\n",
    "    def perimeter(self):\n",
    "        return self.__length * 2 + self.__width * 2\n",
    "    \n",
    "    @property\n",
    "    def length(self):\n",
    "        return self.__length\n",
    "    \n",
    "    @property\n",
    "    def width(self):\n",
    "        return self.__width\n",
    "    \n",
    "    @length.setter\n",
    "    def length(self, value):\n",
    "        if value < 0:\n",
    "            print(\"El valor de length ha de ser mayor que 0\")\n",
    "        else:\n",
    "            self.__length = value\n",
    "            \n",
    "    @width.setter\n",
    "    def width(self, value):\n",
    "        if value < 0:\n",
    "            print(\"El valor de width ha de ser mayor que 0\")\n",
    "        else:\n",
    "            self.__width = value\n",
    "    \n",
    "newRectangle = Rectangle(12, 10)  \n",
    "print(newRectangle.area)\n",
    "print(newRectangle.perimeter)\n",
    "\n",
    "newRectangle.width = 5\n",
    "newRectangle.height = 8\n",
    "print(newRectangle.area)\n",
    "print(newRectangle.perimeter)\n",
    "\n",
    "newRectangle.width = -10"
   ]
  },
  {
   "cell_type": "markdown",
   "metadata": {},
   "source": [
    "## Ejercicio 2\n",
    "\n",
    "Escribir una clase *Circulo* con una propiedad *radius* y métodos para calcular el área y el perímetro. También se ha de poder comprobar que el valor de *radius* es positivo, al asignarlo"
   ]
  },
  {
   "cell_type": "code",
   "execution_count": 15,
   "metadata": {
    "collapsed": false
   },
   "outputs": [
    {
     "name": "stdout",
     "output_type": "stream",
     "text": [
      "201.06192982974676\n",
      "50.26548245743669\n",
      "78.53981633974483\n",
      "31.41592653589793\n",
      "El valor de radius ha de ser mayor que 0\n"
     ]
    }
   ],
   "source": [
    "import math\n",
    "\n",
    "class Circle:  \n",
    "    def __init__(self, r):  \n",
    "        self.radius = r  \n",
    "  \n",
    "    @property\n",
    "    def area(self):  \n",
    "        return self.__radius**2*math.pi  \n",
    "      \n",
    "    @property\n",
    "    def perimeter(self):  \n",
    "        return 2*self.__radius*math.pi\n",
    "    \n",
    "    @property\n",
    "    def radius(self):\n",
    "        return self.__radius\n",
    "    \n",
    "    @radius.setter\n",
    "    def radius(self, value):\n",
    "        if value < 0:\n",
    "            print(\"El valor de radius ha de ser mayor que 0\")\n",
    "        else:\n",
    "            self.__radius = value\n",
    "  \n",
    "NewCircle = Circle(8)  \n",
    "print(NewCircle.area)  \n",
    "print(NewCircle.perimeter) \n",
    "\n",
    "NewCircle.radius = 5\n",
    "print(NewCircle.area)  \n",
    "print(NewCircle.perimeter)\n",
    "\n",
    "NewCircle.radius = -12"
   ]
  },
  {
   "cell_type": "markdown",
   "metadata": {},
   "source": [
    "## Ejercicio 3\n",
    "\n",
    "Escribir una clase *Shape* con métodos abstractos para calcular el área y el perímetro. Las dos clases de los ejercicios anteriores podrán heredar entonces de esta clase padre"
   ]
  },
  {
   "cell_type": "markdown",
   "metadata": {},
   "source": [
    "<div class=\"alert alert-info\">Una técnica habitual para implementar métodos abstractos en clases es limitarse a lanzar una excepción de tipo <a href=\"https://dwieeb.com/2015/06/02/usages-of-notimplemented-and-notimplementederror-in-python/\">*NotImplementedError*</a> en el método de la clase padre</div>"
   ]
  },
  {
   "cell_type": "code",
   "execution_count": 17,
   "metadata": {
    "collapsed": false
   },
   "outputs": [
    {
     "name": "stdout",
     "output_type": "stream",
     "text": [
      "120\n",
      "44\n",
      "60\n",
      "34\n",
      "El valor de width ha de ser mayor que 0\n"
     ]
    }
   ],
   "source": [
    "class Shape:\n",
    "    @property\n",
    "    def area():\n",
    "        raise NotImplementedError(\"Por favor, implementa este método en una clase hija\")\n",
    "        \n",
    "    @property\n",
    "    def perimeter():\n",
    "        raise NotImplementedError(\"Por favor, implementa este método en una clase hija\")\n",
    "        \n",
    "\n",
    "class Rectangle(Shape):  \n",
    "    def __init__(self, l, w):  \n",
    "        self.length = l  \n",
    "        self.width  = w  \n",
    "  \n",
    "    @property\n",
    "    def area(self):  \n",
    "        return self.__length*self.__width\n",
    "    \n",
    "    @property\n",
    "    def perimeter(self):\n",
    "        return self.__length * 2 + self.__width * 2\n",
    "    \n",
    "    @property\n",
    "    def length(self):\n",
    "        return self.__length\n",
    "\n",
    "    @property\n",
    "    def width(self):\n",
    "        return self.__width\n",
    "    \n",
    "    @length.setter\n",
    "    def length(self, value):\n",
    "        if value < 0:\n",
    "            print(\"El valor de length ha de ser mayor que 0\")\n",
    "        else:\n",
    "            self.__length = value\n",
    "            \n",
    "    @width.setter\n",
    "    def width(self, value):\n",
    "        if value < 0:\n",
    "            print(\"El valor de width ha de ser mayor que 0\")\n",
    "        else:\n",
    "            self.__width = value\n",
    "            \n",
    "\n",
    "newRectangle = Rectangle(12, 10)  \n",
    "print(newRectangle.area)\n",
    "print(newRectangle.perimeter)\n",
    "\n",
    "newRectangle.width = 5\n",
    "newRectangle.height = 8\n",
    "print(newRectangle.area)\n",
    "print(newRectangle.perimeter)\n",
    "\n",
    "newRectangle.width = -10"
   ]
  },
  {
   "cell_type": "markdown",
   "metadata": {
    "collapsed": true
   },
   "source": [
    "## Ejercicio 4\n",
    "\n",
    "TODO: Herencia vs composición\n",
    "\n",
    "http://python-textbok.readthedocs.io/en/1.0/Object_Oriented_Programming.html#replacing-inheritance-with-composition\n",
    "http://learnpythonthehardway.org/book/ex44.html"
   ]
  },
  {
   "cell_type": "code",
   "execution_count": null,
   "metadata": {
    "collapsed": true
   },
   "outputs": [],
   "source": []
  }
 ],
 "metadata": {
  "kernelspec": {
   "display_name": "Python 3",
   "language": "python",
   "name": "python3"
  },
  "language_info": {
   "codemirror_mode": {
    "name": "ipython",
    "version": 3
   },
   "file_extension": ".py",
   "mimetype": "text/x-python",
   "name": "python",
   "nbconvert_exporter": "python",
   "pygments_lexer": "ipython3",
   "version": "3.5.1"
  }
 },
 "nbformat": 4,
 "nbformat_minor": 0
}
