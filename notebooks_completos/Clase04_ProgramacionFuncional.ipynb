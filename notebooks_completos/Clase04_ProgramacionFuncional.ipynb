{
 "cells": [
  {
   "cell_type": "markdown",
   "metadata": {
    "collapsed": true
   },
   "source": [
    "<img src=\"../static/logopython.png\" alt=\"Logo Python\" style=\"width: 300px; display: inline\"/>\n",
    "<img src=\"../static/deimoslogo.png\" alt=\"Logo Deimos\" style=\"width: 300px; display: inline\"/>"
   ]
  },
  {
   "cell_type": "markdown",
   "metadata": {},
   "source": [
    "# Clase 2b: Programación funcional en Python\n",
    "\n",
    "Como ya hemos visto en clases anteriores, la orientación a objetos es un paradigma con el que vamos a poder trabajar en Python, pero no es el único que existe, ni necesariamente el mejor para todas las circunstancias. Tenemos a nuestra disposición la posibilidad de elegir otros paradigmas o estilos. Uno de ellos es la <strong>programación funcional</strong>."
   ]
  },
  {
   "cell_type": "markdown",
   "metadata": {},
   "source": [
    "<div class=\"alert alert-info\">Se dice de Python que es un <strong>lenguaje multiparadigma</strong>, que facilita la posibilidad de programar funcionalmente, y mezclar ese estilo con cualquier otro</div>"
   ]
  },
  {
   "cell_type": "markdown",
   "metadata": {},
   "source": [
    "## ¿Qué es eso de la programación funcional?"
   ]
  },
  {
   "cell_type": "markdown",
   "metadata": {},
   "source": [
    "La programación funcional es un paradigma de desarrollo de software que se caracteriza por la <strong>ausencia de efectos laterales</strong>. Comparado con otros paradigmas:\n",
    "\n",
    "<ul>\n",
    "    <li>Muchos de los lenguajes de programación populares son <strong>lenguajes procedurales</strong>: los programas escritos con ellos son listas de instrucciones que le dicen a la máquina qué hacer con las entradas que le proporcionan. Ejemplos de estos lenguajes son C, Pascal, PHP, Ruby, Scala, JavaScript o Python (aunque realmente permiten mezclar estilos, como ya hemos mencionado)</li>\n",
    "    \n",
    "    <li>Existen otros lenguajes llamados <strong>lenguajes declarativos</strong>: los programas escritos describen el problema a resolver, y la implementación del lenguaje decide cómo hacer los cáculos de manera eficiente. El ejemplo más claro es SQL: una consulta describe el juego de datos que se requiere, y el motor SQL decide cómo obtener esos datos (escaneando tablas, índices, deciciendo qué subconsultas ejecutar primero, etc)\n",
    "    \n",
    "    <li>Otros de los lenguajes más populares son <strong>lenguajes orientados a objetos</strong>: los programas escritos manipulan colecciones de objetos. Los objetos son abstracciones que sirven para encapsular estado y comportamiento de entidades complejas. Algunos de los más conocidos son Smalltalk, Groovy y Java. Otros, como C++, JavaScript, Scala, Ruby, PHP o Python, permiten el desarrollo orientado a objetos, pero no lo imponen.</li>\n",
    "    \n",
    "    <li>Por último, algunos lenguajes son <strong>lenguajes funcionales</strong>: los programas escritos consisten en una serie de funciones que se limitan a procesar entrada y generar salida, sin almacenar ningún tipo de estado. Los más populares son Haskell, Erlang, R, Lisp o Scala, aunque realmente, tal vez salvo Haskell, el resto también permiten otros estilos.\n",
    "</ul>"
   ]
  },
  {
   "cell_type": "markdown",
   "metadata": {},
   "source": [
    "<div class=\"alert alert-success\">Si queremos elegir la cualidad fundamental de los lenguajes funcionales, podemos decir que es la <strong>ausencia de efectos laterales</strong>. O dicho de otra manera: una misma función siempre va a devolver el mismo valor a partir de la misma entrada.</div>"
   ]
  },
  {
   "cell_type": "markdown",
   "metadata": {},
   "source": [
    "## ¿Y qué ventajas tiene la programación funcional con respecto a otros estilos?\n",
    "\n",
    "Sus defensores citan principalmente las siguientes\n",
    "\n",
    "<ul>\n",
    "    <li>Es matemáticamente demostrable cuándo un programa escrito en lenguaje funcional es 100% correcto</li>\n",
    "    <li>Nos obliga a modularizar nuestro problema correctamente, diviéndolo en pequeñas partes que hablan entre si sin acoplarse ni procudir efectos laterales indeseados</li>\n",
    "    <li>Los programas son fáciles de depurar y probar. Las pruebas unitarias son sencillas, y los casos de prueba no requieren de complicadas configuraciones, como en otros lenguajes.</li>\n",
    "    <li>Fomentan la reutilización. Es natural desarrollar librerías de funciones útiles multipropósito</li>\n",
    "</ul>"
   ]
  },
  {
   "cell_type": "markdown",
   "metadata": {},
   "source": [
    "## Herramientas específicas para la programación funcional en Python\n",
    "\n",
    "Ahora que tenemos claro qué es la programación funcional y para qué sirve, vamos a ver de qué herramientas dispone Python para facilitarnos la programación funcional. Estas herramientas están pensadas para que el estilo de programación:\n",
    "\n",
    "<code>func1(func2(func3(args)))</code>\n",
    "\n",
    "que es el clásico de la programación funcional, sea más sencillo de implementar."
   ]
  },
  {
   "cell_type": "markdown",
   "metadata": {},
   "source": [
    "### Iteradores, generadores, comprehension e itertools\n",
    "\n",
    "No vamos a añadir nada sobre este asunto, dado que ya lo hemos visto en el tema anterior. Simplemente recordaremos que estas construcciones del lenguaje devuelven el siguiente elemento de un flujo de datos de entrada. Algo que está alineado con la filosofía de limitarse a procesar una entrada para generar un salida."
   ]
  },
  {
   "cell_type": "markdown",
   "metadata": {},
   "source": [
    "### Otras funciones incluídas en el lenguaje\n",
    "\n",
    "Hay otro grupo de funciones dentro de Python que nos pueden resultar interesantes a la hora de programar funcionalmente. Varias de ellas ya han salido en ejemplos anteriores, pero las recopilaremos aquí."
   ]
  },
  {
   "cell_type": "markdown",
   "metadata": {},
   "source": [
    "La primera de ellas es la <a href=\"https://docs.python.org/3.5/library/functions.html#map\">función map</a>. Devuelve un iterador que aplica una función a todos los elementos de una secuencia (un iterable)"
   ]
  },
  {
   "cell_type": "code",
   "execution_count": 2,
   "metadata": {
    "collapsed": false
   },
   "outputs": [
    {
     "data": {
      "text/plain": [
       "['ESCRIBIR', 'EN', 'MAYÚSCULAS', 'SE', 'CONSIDERA', 'VOCEAR']"
      ]
     },
     "execution_count": 2,
     "metadata": {},
     "output_type": "execute_result"
    }
   ],
   "source": [
    "# Uso básico de la función map\n",
    "def upper(s):\n",
    "    return s.upper()\n",
    "\n",
    "list(map(upper, ['escribir', 'en', 'mayúsculas', 'se', 'considera', 'vocear']))"
   ]
  },
  {
   "cell_type": "markdown",
   "metadata": {},
   "source": [
    "Por supuesto, conseguimos lo mismo usando una *list comprehension*."
   ]
  },
  {
   "cell_type": "code",
   "execution_count": 3,
   "metadata": {
    "collapsed": false
   },
   "outputs": [
    {
     "data": {
      "text/plain": [
       "['ESCRIBIR', 'EN', 'MAYÚSCULAS', 'SE', 'CONSIDERA', 'VOCEAR']"
      ]
     },
     "execution_count": 3,
     "metadata": {},
     "output_type": "execute_result"
    }
   ],
   "source": [
    "# Lo mismo que map pero con una list comprehension\n",
    "def upper(s):\n",
    "    return s.upper()\n",
    "\n",
    "[upper(s) for s in ['escribir', 'en', 'mayúsculas', 'se', 'considera', 'vocear']]"
   ]
  },
  {
   "cell_type": "markdown",
   "metadata": {},
   "source": [
    "Otra función parecida es <a href=\"https://docs.python.org/3.5/library/functions.html#filter\">filter</a>, que devuelve un iterador sobre todos los elementos de una secuencia que cumplen un determinado predicado (un predicado es una función que, aplicada sobre cada elemento de la lista, devuelve true o false)"
   ]
  },
  {
   "cell_type": "code",
   "execution_count": 4,
   "metadata": {
    "collapsed": false
   },
   "outputs": [
    {
     "data": {
      "text/plain": [
       "[1, 3, 5, 7, 9]"
      ]
     },
     "execution_count": 4,
     "metadata": {},
     "output_type": "execute_result"
    }
   ],
   "source": [
    "# Ejemplo de función filter\n",
    "def es_impar(x):\n",
    "    return x % 2\n",
    "\n",
    "list(filter(es_impar, range(10)))"
   ]
  },
  {
   "cell_type": "markdown",
   "metadata": {},
   "source": [
    "Sí, has acertado. Esto <strong>también se puede conseguir con una *list comprehension*</strong>"
   ]
  },
  {
   "cell_type": "code",
   "execution_count": 5,
   "metadata": {
    "collapsed": false
   },
   "outputs": [
    {
     "data": {
      "text/plain": [
       "[1, 3, 5, 7, 9]"
      ]
     },
     "execution_count": 5,
     "metadata": {},
     "output_type": "execute_result"
    }
   ],
   "source": [
    "# Lo mismo pero con una list comprehension\n",
    "def es_impar(x):\n",
    "    return x % 2\n",
    "[x for x in range(10) if es_impar(x)]"
   ]
  },
  {
   "cell_type": "markdown",
   "metadata": {},
   "source": [
    "Otro viejo conocido de ejemplos anteriores es <a href=\"https://docs.python.org/3.5/library/functions.html#enumerate\">enumerate</a>. que, a partir de cada elemento de un iterable, genera tuplas (contador, elemento)"
   ]
  },
  {
   "cell_type": "code",
   "execution_count": 6,
   "metadata": {
    "collapsed": false
   },
   "outputs": [
    {
     "name": "stdout",
     "output_type": "stream",
     "text": [
      "(0, 'perro')\n",
      "(1, 'gato')\n",
      "(2, 'ornitorrinco')\n"
     ]
    }
   ],
   "source": [
    "# Ejemplo de enumerate\n",
    "for bicho in enumerate(['perro', 'gato', 'ornitorrinco']):\n",
    "    print(bicho)"
   ]
  },
  {
   "cell_type": "markdown",
   "metadata": {},
   "source": [
    "En su momento vimos que su uso es una alternativa preferida a bucles con variables cumpliendo el papel de contadores. Otro caso de uso habitual es recorrer un iterable, grabando las posiciones en las que el elemento cumple una determinada condición. Por ejemplo, determinar qué líneas de un fichero exceden de una determinada longitud"
   ]
  },
  {
   "cell_type": "code",
   "execution_count": 11,
   "metadata": {
    "collapsed": false
   },
   "outputs": [
    {
     "name": "stdout",
     "output_type": "stream",
     "text": [
      "La línea 2 del fichero tiene más de 20 caracteres\n",
      "La línea 11 del fichero tiene más de 20 caracteres\n",
      "La línea 12 del fichero tiene más de 20 caracteres\n",
      "La línea 17 del fichero tiene más de 20 caracteres\n",
      "La línea 22 del fichero tiene más de 20 caracteres\n",
      "La línea 23 del fichero tiene más de 20 caracteres\n",
      "La línea 25 del fichero tiene más de 20 caracteres\n"
     ]
    }
   ],
   "source": [
    "with open(\"quijote.txt\") as f:\n",
    "    for i,line in enumerate(f):\n",
    "        if len(line) > 60:\n",
    "            print(\"La línea {} del fichero tiene más de 60 caracteres\".format(i))"
   ]
  },
  {
   "cell_type": "markdown",
   "metadata": {},
   "source": [
    "La función <a href=\"https://docs.python.org/3.5/library/functions.html#sorted\">sorted</a> genera una lista de elementos ordenados a partir de un iterable. Recibe tanto el iterable como la función de ordenación a aplicar. La vimos en el ejercicio de agrupación de nombres por su longitud."
   ]
  },
  {
   "cell_type": "code",
   "execution_count": 12,
   "metadata": {
    "collapsed": false
   },
   "outputs": [
    {
     "name": "stdout",
     "output_type": "stream",
     "text": [
      "[4485, 3043, 7202, 8352, 4940, 9111, 3699, 9932, 3417, 3668]\n",
      "[3043, 3417, 3668, 3699, 4485, 4940, 7202, 8352, 9111, 9932]\n",
      "[9932, 9111, 8352, 7202, 4940, 4485, 3699, 3668, 3417, 3043]\n"
     ]
    }
   ],
   "source": [
    "# Ejemplo de ordenación de números aleatorios\n",
    "import random\n",
    "\n",
    "# Genera 10 números aleatorios entre 0 y 10000\n",
    "rand_list = random.sample(range(10000), 10)\n",
    "\n",
    "# Imprimimos la lista, la lista ordenada de menor a mayor, y de mayor a menor\n",
    "print(rand_list)\n",
    "print(sorted(rand_list))\n",
    "print(sorted(rand_list, reverse=True))"
   ]
  },
  {
   "cell_type": "markdown",
   "metadata": {},
   "source": [
    "<div class=\"alert alert-info\">El tema de la <a href=\"https://docs.python.org/3.5/howto/sorting.html#sortinghowto\">ordenación</a> en Python da para bastante</div>"
   ]
  },
  {
   "cell_type": "markdown",
   "metadata": {},
   "source": [
    "Las funciones <a href=\"https://docs.python.org/3.5/library/functions.html#any\">any</a> y <a href=\"https://docs.python.org/3.5/library/functions.html#all\">all</a> comprueban qué valores de un iterable son evaluables como True. La diferencia es que *any* devuelve True si uno cualquiera de los valores es evaluable a True, y *all* exige que todos lo sean."
   ]
  },
  {
   "cell_type": "code",
   "execution_count": 21,
   "metadata": {
    "collapsed": false
   },
   "outputs": [
    {
     "name": "stdout",
     "output_type": "stream",
     "text": [
      "True\n",
      "False\n",
      "True\n",
      "False\n"
     ]
    }
   ],
   "source": [
    "# Pruebas con any y all\n",
    "print(any([0, False, None, True]))\n",
    "print(any([0, False, None, \"\", [], {}, ()]))\n",
    "\n",
    "print(all([1, True, \"hola\", [1, 2, 3], {'foo': 'bar'}, (5, 6, 7)]))\n",
    "print(all([0, True, \"hola\", [1, 2, 3], {'foo': 'bar'}, (5, 6, 7)]))"
   ]
  },
  {
   "cell_type": "markdown",
   "metadata": {},
   "source": [
    "La función <a href=\"https://docs.python.org/3.5/library/functions.html#zip\">zip</a> crea tuplas cogiendo un elemento de cada uno de los iterables que recibe de entrada"
   ]
  },
  {
   "cell_type": "code",
   "execution_count": 24,
   "metadata": {
    "collapsed": false
   },
   "outputs": [
    {
     "name": "stdout",
     "output_type": "stream",
     "text": [
      "[('yo', 'no'), ('maldigo', 'mi'), ('suerte', 'porque'), ('minero', 'nací')]\n"
     ]
    }
   ],
   "source": [
    "# Ejemplo de uso de zip\n",
    "print(list(zip(['yo', 'maldigo', 'suerte', 'minero'], ['no', 'mi', 'porque', 'nací'])))"
   ]
  },
  {
   "cell_type": "markdown",
   "metadata": {},
   "source": [
    "Un caso de uso típico de *zip* es la construcción de diccionarios a partir de claves y valores por separado"
   ]
  },
  {
   "cell_type": "code",
   "execution_count": 31,
   "metadata": {
    "collapsed": false
   },
   "outputs": [
    {
     "name": "stdout",
     "output_type": "stream",
     "text": [
      "{'c': 3, 'b': 2, 'a': 1}\n"
     ]
    }
   ],
   "source": [
    "# Construyendo un diccionario con claves y valores usando zip\n",
    "keys = ['a', 'b', 'c']\n",
    "values = [1, 2, 3]\n",
    "print(dict(zip(keys, values)))"
   ]
  },
  {
   "cell_type": "markdown",
   "metadata": {},
   "source": [
    "Cabe destacar que *zip* tiene un comportamiento similar al de los iteradores, en el sentido de que usa <a href=\"https://en.wikipedia.org/wiki/Lazy_evaluation\">lazy evaluation</a> para generar la lista de tuplas. No las genera directamente en memoria, sino que estarán disponibles cuando se soliciten. De ahí que hayamos que tenido que llamar a *list* para mostrar por pantalla todos los elementos en el ejemplo. La función *zip* solo devuelve la estructura que genera la lista de tuplas."
   ]
  },
  {
   "cell_type": "markdown",
   "metadata": {},
   "source": [
    "También hemos de tener en cuenta que, si los iterables que recibe *zip* son de diferentes longitudes, el stream de tuplas que se genera como resultado tendrá la longitud del iterable más corto"
   ]
  },
  {
   "cell_type": "code",
   "execution_count": 25,
   "metadata": {
    "collapsed": false
   },
   "outputs": [
    {
     "name": "stdout",
     "output_type": "stream",
     "text": [
      "[('a', 1), ('b', 2)]\n"
     ]
    }
   ],
   "source": [
    "# zip con iterables de diferente longitud\n",
    "print(list(zip(['a', 'b'], (1, 2, 3))))"
   ]
  },
  {
   "cell_type": "markdown",
   "metadata": {
    "collapsed": true
   },
   "source": [
    "En Python 2, había una manera sencilla de construir el stream con la longitud del iterable más largo, rellenando los huecos con valores vacíos. Se hacía usando *map*, pero en Python 3 esta técnica <a href=\"http://stackoverflow.com/a/19954471\">ya NO funciona</a>"
   ]
  },
  {
   "cell_type": "code",
   "execution_count": 32,
   "metadata": {
    "collapsed": false
   },
   "outputs": [
    {
     "name": "stdout",
     "output_type": "stream",
     "text": [
      "[(1, 'a'), (2, 'b'), (3, 'c')]\n"
     ]
    }
   ],
   "source": [
    "# Esto en Python 2 funcionaría, pero en Python 3 da error\n",
    "a = [1,2,3]\n",
    "b = ['a','b','c','d']\n",
    "\n",
    "print(list(zip(a,b)))\n",
    "\n",
    "# NO descomentar\n",
    "#print(list(map(None,a,b)))"
   ]
  },
  {
   "cell_type": "markdown",
   "metadata": {},
   "source": [
    "Arreglar este problema en Python 3, no obstante, es posible haciendo uso de un módulo del que ya hemos hablado: <strong>itertools</strong>. Podemos usar <a href=\"https://docs.python.org/3/library/itertools.html#itertools.zip_longest\">itertools.zip_longest</a>"
   ]
  },
  {
   "cell_type": "code",
   "execution_count": 35,
   "metadata": {
    "collapsed": false
   },
   "outputs": [
    {
     "data": {
      "text/plain": [
       "[(1, 9), (2, 10), (3, None)]"
      ]
     },
     "execution_count": 35,
     "metadata": {},
     "output_type": "execute_result"
    }
   ],
   "source": [
    "# Usando itertools.zip_longest para generar tuplas a partir de iterables de diferente longitud\n",
    "import itertools\n",
    "\n",
    "a = [1,2,3]\n",
    "b = [9,10]\n",
    "\n",
    "[i for i in itertools.zip_longest(a, b)]"
   ]
  },
  {
   "cell_type": "markdown",
   "metadata": {},
   "source": [
    "Otro posible enfoque sería usar <a href=\"https://docs.python.org/3.5/library/itertools.html#itertools.cycle\">itertools.cycle</a>"
   ]
  },
  {
   "cell_type": "code",
   "execution_count": 43,
   "metadata": {
    "collapsed": false
   },
   "outputs": [
    {
     "data": {
      "text/plain": [
       "[(1, 'A'),\n",
       " (2, 'B'),\n",
       " (3, 'C'),\n",
       " (4, 'A'),\n",
       " (5, 'B'),\n",
       " (6, 'C'),\n",
       " (7, 'A'),\n",
       " (8, 'B'),\n",
       " (9, 'C')]"
      ]
     },
     "execution_count": 43,
     "metadata": {},
     "output_type": "execute_result"
    }
   ],
   "source": [
    "# Usando itertools.cycle para generar tuplas a partir de iterables de diferente longitud\n",
    "import itertools\n",
    "\n",
    "A = [1,2,3,4,5,6,7,8,9]\n",
    "B = [\"A\",\"B\",\"C\"]\n",
    "\n",
    "zip_list = zip(A, itertools.cycle(B)) if len(A) > len(B) else zip(itertools.cycle(A), B)\n",
    "[z for z in zip_list]"
   ]
  },
  {
   "cell_type": "markdown",
   "metadata": {},
   "source": [
    "### El módulo functools\n",
    "\n",
    "Al igual que *itertools*, el módulo <a href=\"https://docs.python.org/3.5/library/functools.html#module-functools\">functools</a> es también muy útil a la hora de trabajar con enfoque funcional."
   ]
  },
  {
   "cell_type": "markdown",
   "metadata": {},
   "source": [
    "En particular, el módulo *functools* contiene algunas funciones especiales: funciones que toman una o más funciones como entrada y generan otra función de salida. Este tipo de funciones reciben el nombre de <a href=\"\">higher order functions</a>.\n",
    "\n",
    "En este sentido, posiblemente la función más útil sea <a href=\"https://docs.python.org/3.5/library/functools.html#functools.partial\">functools.partial</a>. Básicamente, recibe como argumento una función, rellena algunos de sus parámetros con valores por defecto, y devuelve el equivalente a la función que recibió como argumento, pero con menos parámetros (los que no han quedado cubiertos con valores por defecto).\n",
    "\n",
    "Veámosolo con un ejemplo"
   ]
  },
  {
   "cell_type": "code",
   "execution_count": 44,
   "metadata": {
    "collapsed": false
   },
   "outputs": [
    {
     "name": "stdout",
     "output_type": "stream",
     "text": [
      "64\n",
      "125\n"
     ]
    }
   ],
   "source": [
    "# Devolviendo funciones con functools.partial\n",
    "import functools\n",
    "\n",
    "def power(base, exponent):\n",
    "    return base**exponent;\n",
    "\n",
    "square = functools.partial(power, exponent=2)\n",
    "cube = functools.partial(power, exponent=3)\n",
    "\n",
    "print(square(8))\n",
    "print(cube(5))"
   ]
  },
  {
   "cell_type": "markdown",
   "metadata": {},
   "source": [
    "Otra función interesante de *functools* es <a href=\"https://docs.python.org/3.5/library/functools.html#functools.reduce\">functools.reduce</a>. \n",
    "\n",
    "Dicha función tiene la firma *functools.reduce(func, iter, [initial_value])*. Su primer argumento, *func*, ha de ser una función que reciba dos valores y devuelva uno como resultado. Y lo que hace es recibir los dos primeros valores del iterable, A y B, y aplicarles la función: *func(A, B)*. El resultado, lo utiliza junto con el tercer elemento del iterable, C, para llamarse otra vez a si misma: func(func(A, B), C). Y así sucesivamente, hasta terminar con todos los elementos del iterable.\n",
    "\n",
    "Si se especifica el parámetro opcional *initial_value*, la primera llamda a func se realiza así: *func(initial_value, A)*. Y luego continúa normal."
   ]
  },
  {
   "cell_type": "markdown",
   "metadata": {},
   "source": [
    "El módulo <a href=\"https://docs.python.org/3.5/library/operator.html#module-operator\">operator</a> contiene algunas funciones que están especialmente diseñadas para utilizarse con *functools.reduce*. Veamos algunos ejemplos"
   ]
  },
  {
   "cell_type": "code",
   "execution_count": 52,
   "metadata": {
    "collapsed": false
   },
   "outputs": [
    {
     "name": "stdout",
     "output_type": "stream",
     "text": [
      "BERBERECHO\n"
     ]
    }
   ],
   "source": [
    "# Uso de operator + functools\n",
    "import operator, functools\n",
    "\n",
    "print(functools.reduce(operator.concat, ['BER', 'BER', 'ECHO']))"
   ]
  },
  {
   "cell_type": "markdown",
   "metadata": {},
   "source": [
    "Algunos usos conjuntos de funciones de estos dos módulos están tan extendidos que incluso existen operadores especiales para evitar tener que escribir de más"
   ]
  },
  {
   "cell_type": "code",
   "execution_count": 53,
   "metadata": {
    "collapsed": false
   },
   "outputs": [
    {
     "name": "stdout",
     "output_type": "stream",
     "text": [
      "10\n",
      "10\n"
     ]
    }
   ],
   "source": [
    "# Uso de operator.add + functools.reduce\n",
    "import operator, functools\n",
    "\n",
    "print(functools.reduce(operator.add, [1,2,3,4], 0))\n",
    "print(sum([1, 2, 3, 4]))"
   ]
  },
  {
   "cell_type": "markdown",
   "metadata": {},
   "source": [
    "Una función muy parecida a *functools.reduce* es <a href=\"https://docs.python.org/3.5/library/itertools.html#itertools.accumulate\">itertools.accumulate</a>. La diferencia es que *îtertools.accumulate* no devuelve solo el resultado final de la operación, sino que devuelve un iterador a partir del cuál podemos obtener todos los resultados intermedios."
   ]
  },
  {
   "cell_type": "code",
   "execution_count": 55,
   "metadata": {
    "collapsed": false
   },
   "outputs": [
    {
     "name": "stdout",
     "output_type": "stream",
     "text": [
      "10\n",
      "[1, 3, 6, 10]\n"
     ]
    }
   ],
   "source": [
    "# functools reduce + operator.add vs itertools.accumulate\n",
    "import operator, functools, itertools\n",
    "\n",
    "print(functools.reduce(operator.add, [1,2,3,4], 0))\n",
    "\n",
    "# accumulate coge operator.add como segundo parámetro por defecto si no le pasamos nada\n",
    "print(list(itertools.accumulate([1, 2, 3, 4])))\n"
   ]
  },
  {
   "cell_type": "markdown",
   "metadata": {},
   "source": [
    "Con respecto al módulo *operator*, contiene funciones para operaciones de todo tipo:\n",
    "\n",
    "<ul>\n",
    "    <li>Operaciones matemáticas: *add*, *sub*, *mul*, *floordiv*, *abs*, etc</li>\n",
    "    <li>Operaciones lógicas: *not_*, *truth*</li>\n",
    "    <li>Operaciones binarias: *and_*, *or_*, *invert*</li>\n",
    "    <li>Operaciones de comparación: *eq*, *ne*, *lt*, *le*, *gt*, *ge*</li>\n",
    "    <li>Operaciones identitarias: *is_*, *is_not*</li>\n",
    "</ul>"
   ]
  },
  {
   "cell_type": "markdown",
   "metadata": {},
   "source": [
    "### Expresión lambda"
   ]
  },
  {
   "cell_type": "markdown",
   "metadata": {},
   "source": [
    "La sentencia <a href=\"https://docs.python.org/3.5/reference/expressions.html#lambda\">lambda</a> es la herramienta que nos proporciona el lenguaje Python para construir <strong>funciones anónimas</strong>. Las funciones anónimas, son funciones que no tienen nombre (de ahí que se llamen *anónimas*) y son funciones *para salir del paso*. Es decir, funciones normalmente pequeñas que necesitamos en un momento puntual para realizar una pequeña operación y pasarlas como argumento de otras funciones.\n",
    "\n",
    "Mediante la expresión lambda, construímos funciones anónimas de manera sencilla. Su sintáxis es:\n",
    "\n",
    "<code>lambda args: expression </code>\n",
    "\n",
    "Siendo *args* una lista de argumentos separados por comas, y *expression* un predicado usando esos argumentos y que devuelva un valor.\n",
    "\n",
    "Por ejemplo:"
   ]
  },
  {
   "cell_type": "code",
   "execution_count": 62,
   "metadata": {
    "collapsed": false
   },
   "outputs": [
    {
     "data": {
      "text/plain": [
       "[17, 29, 45]"
      ]
     },
     "execution_count": 62,
     "metadata": {},
     "output_type": "execute_result"
    }
   ],
   "source": [
    "# Ejemplo de uso de expresión lambda en Python\n",
    "a = [1, 2, 3]\n",
    "b = [4, 5, 6]\n",
    "suma_cuadrados = lambda x, y: x**2 + y**2\n",
    "[suma_cuadrados(x, y) for x, y in zip(a, b)]"
   ]
  },
  {
   "cell_type": "markdown",
   "metadata": {},
   "source": [
    "Efectivamente, es bastante tentador pensar: *¿y para qué quiero usar lambda, si Python ya me da otras maneras menos crípticas de hacer las cosas?*\n",
    "\n",
    "Al igual que sucede con las funciones *map* y *reduce*, la expresión *lambda* no es muy popular entre pythonistas de primera, como el propio creador del lenguaje, Guido Van Rosuum"
   ]
  },
  {
   "cell_type": "code",
   "execution_count": 1,
   "metadata": {
    "collapsed": false
   },
   "outputs": [
    {
     "data": {
      "text/html": [
       "/* This template is inspired in the one used by Lorena Barba\n",
       "in the numerical-mooc repository: https://github.com/numerical-mooc/numerical-mooc\n",
       "We thank her work and hope you also enjoy the look of the notobooks with this style */\n",
       "\n",
       "<link href='http://fonts.googleapis.com/css?family=Source+Sans+Pro|Josefin+Sans:400,700,400italic|Ubuntu+Condensed' rel='stylesheet' type='text/css'>\n",
       "\n",
       "El estilo se ha aplicado =)\n",
       "\n",
       "<style>\n",
       "\n",
       "\n",
       "\n",
       "#notebook_panel { /* main background */\n",
       "    background: #f7f7f7;\n",
       "}\n",
       "\n",
       "div.cell { /* set cell width */\n",
       "    width: 900px;\n",
       "}\n",
       "\n",
       "div #notebook { /* centre the content */\n",
       "    background: #fff; /* white background for content */\n",
       "    width: 950px;\n",
       "    margin: auto;\n",
       "    padding-left: 0em;\n",
       "}\n",
       "\n",
       "#notebook li { /* More space between bullet points */\n",
       "    margin-top:0.7em;\n",
       "}\n",
       "\n",
       "/* draw border around running cells */\n",
       "div.cell.border-box-sizing.code_cell.running { \n",
       "    border: 1px solid #111;\n",
       "}\n",
       "\n",
       "/* Put a solid color box around each cell and its output, visually linking them*/\n",
       "div.cell.code_cell {\n",
       "    font-family: 'Source Sans Pro', sans-serif;\n",
       "    background-color: rgb(256,256,256);\n",
       "    font-size: 110%;\n",
       "    border-radius: 0px; \n",
       "    padding: 0.5em;\n",
       "    margin-left:1em;\n",
       "    margin-top: 1em;\n",
       "}\n",
       "\n",
       "div.text_cell_render{\n",
       "    font-family: 'Josefin Sans', serif;\n",
       "    line-height: 145%;\n",
       "    font-size: 125%;\n",
       "    font-weight: 500;\n",
       "    width:750px;\n",
       "    margin-left:auto;\n",
       "    margin-right:auto;\n",
       "}\n",
       "\n",
       "\n",
       "/* Formatting for header cells */\n",
       ".text_cell_render h1, .text_cell_render h2, .text_cell_render h3,\n",
       ".text_cell_render h4, .text_cell_render h5 {\n",
       "    font-family: 'Ubuntu Condensed', sans-serif;\n",
       "}\n",
       "/*\n",
       ".text_cell_render h1 {\n",
       "    font-family: Flux, 'Ubuntu Condensed', serif;\n",
       "    font-style:regular;\n",
       "    font-weight: 400;    \n",
       "    font-size: 30pt;\n",
       "    text-align: center;\n",
       "    line-height: 100%;\n",
       "    color: #335082;\n",
       "    margin-bottom: 0.5em;\n",
       "    margin-top: 0.5em;\n",
       "    display: block;\n",
       "}\n",
       "*/\n",
       ".text_cell_render h1 {\n",
       "    font-weight: 600;\n",
       "    font-size: 35pt;\n",
       "    line-height: 100%;\n",
       "    color: #000000;\n",
       "    margin-bottom: 0.1em;\n",
       "    margin-top: 0.3em;\n",
       "    display: block;\n",
       "}\n",
       "\n",
       ".text_cell_render h2 {\n",
       "    margin-top:16px;\n",
       "    font-size: 27pt;\n",
       "    font-weight: 550;\n",
       "    margin-bottom: 0.1em;\n",
       "    margin-top: 0.3em;\n",
       "    font-style: regular;\n",
       "    color: #2c6391;\n",
       "}\t\n",
       "\n",
       ".text_cell_render h3 {\n",
       "    font-size: 20pt;\n",
       "    font-weight: 550\n",
       "    text-align: left;\n",
       "    margin-bottom: 0.1em;\n",
       "    margin-top: 0.3em;\n",
       "    font-style: regular;\n",
       "    color:  #387eb8;\n",
       "}\n",
       "\n",
       ".text_cell_render h4 {    /*Use this for captions*/\n",
       "    font-size: 18pt;\n",
       "    font-weight: 450\n",
       "    text-align: left;\n",
       "    margin-bottom: 0.1em;\n",
       "    margin-top: 0.3em;\n",
       "    font-style: regular;\n",
       "    color:  #5797cc;\n",
       "}\n",
       "\n",
       ".text_cell_render h5 {  /*Use this for small titles*/\n",
       "    font-size: 18pt;\n",
       "    font-weight: 550;\n",
       "    color: rgb(163,0,0);\n",
       "    font-style: italic;\n",
       "    margin-bottom: .1em;\n",
       "    margin-top: 0.8em;\n",
       "    display: block;\n",
       "    color:  #b21c0d;\n",
       "}\n",
       "\n",
       ".text_cell_render h6 { /*use this for copyright note*/\n",
       "    font-family: 'Ubuntu Condensed', sans-serif;\n",
       "    font-weight: 300;\n",
       "    font-size: 14pt;\n",
       "    line-height: 100%;\n",
       "    color: #252525;\n",
       "    text-align: right;\n",
       "    margin-bottom: 1px;\n",
       "    margin-top: 1px;\n",
       "}\n",
       "\n",
       ".CodeMirror{\n",
       "        font-family: 'Duru Sans', sans-serif;\n",
       "        font-size: 100%;\n",
       "}\n",
       "\n",
       "</style>\n",
       "<script>\n",
       "    MathJax.Hub.Config({\n",
       "                        TeX: {\n",
       "                           extensions: [\"AMSmath.js\"],\n",
       "                           equationNumbers: { autoNumber: \"AMS\", useLabelIds: true}\n",
       "                           },\n",
       "                tex2jax: {\n",
       "                    inlineMath: [ ['$','$'], [\"\\\\(\",\"\\\\)\"] ],\n",
       "                    displayMath: [ ['$$','$$'], [\"\\\\[\",\"\\\\]\"] ]\n",
       "                },\n",
       "                displayAlign: 'center', // Change this to 'center' to center equations.\n",
       "                \"HTML-CSS\": {\n",
       "                    styles: {'.MathJax_Display': {\"margin\": 4}}\n",
       "                }\n",
       "        });\n",
       "</script>\n"
      ],
      "text/plain": [
       "<IPython.core.display.HTML object>"
      ]
     },
     "execution_count": 1,
     "metadata": {},
     "output_type": "execute_result"
    }
   ],
   "source": [
    "# Esta celda da el estilo al notebook\n",
    "from IPython.core.display import HTML\n",
    "css_file = '../static/styles/style.css'\n",
    "HTML(open(css_file, \"r\").read())"
   ]
  },
  {
   "cell_type": "code",
   "execution_count": null,
   "metadata": {
    "collapsed": true
   },
   "outputs": [],
   "source": []
  }
 ],
 "metadata": {
  "kernelspec": {
   "display_name": "Python 3",
   "language": "python",
   "name": "python3"
  },
  "language_info": {
   "codemirror_mode": {
    "name": "ipython",
    "version": 3
   },
   "file_extension": ".py",
   "mimetype": "text/x-python",
   "name": "python",
   "nbconvert_exporter": "python",
   "pygments_lexer": "ipython3",
   "version": "3.5.1"
  }
 },
 "nbformat": 4,
 "nbformat_minor": 0
}
