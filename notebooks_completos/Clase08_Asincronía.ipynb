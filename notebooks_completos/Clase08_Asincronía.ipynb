{
 "cells": [
  {
   "cell_type": "markdown",
   "metadata": {
    "collapsed": true
   },
   "source": [
    "<img src=\"../static/logopython.png\" alt=\"Logo Python\" style=\"width: 300px; display: inline\"/>\n",
    "<img src=\"../static/deimoslogo.png\" alt=\"Logo Deimos\" style=\"width: 300px; display: inline\"/>"
   ]
  },
  {
   "cell_type": "markdown",
   "metadata": {},
   "source": [
    "# Clase 8: Asincronía en Python\n",
    "\n",
    "Para empezar, tenemos que distinguir entre _multithreading_ y _multiprocessing_. Las dos imágenes siguientes muestran la diferencia"
   ]
  },
  {
   "cell_type": "markdown",
   "metadata": {},
   "source": [
    "<img src=\"../static/multithreading.png\" alt=\"Spyder\" style=\"width: 350px;\"/>\n",
    "<img src=\"../static/multiprocessing.png\" alt=\"Spyder\" style=\"width: 350px;\"/>"
   ]
  },
  {
   "cell_type": "markdown",
   "metadata": {},
   "source": [
    "En Python podemos gestionar la asincronía con diferentes enfoques"
   ]
  },
  {
   "cell_type": "markdown",
   "metadata": {},
   "source": [
    "## Multithreading\n",
    "\n",
    "Mediante el uso del módulo de [threading](https://docs.python.org/3/library/threading.html?highlight=threading)"
   ]
  },
  {
   "cell_type": "code",
   "execution_count": null,
   "metadata": {
    "collapsed": true
   },
   "outputs": [],
   "source": [
    "# %load thread_test.py\n",
    "#!/usr/bin/env python3\n",
    "\n",
    "from threading import Thread\n",
    "from time import sleep\n",
    "\n",
    "def snooze(i):\n",
    "    print(\"Hilo {} durmiendo 5 segundos\".format(i))\n",
    "    sleep(5)\n",
    "    print(\"Hilo {} despierto\".format(i))\n",
    "\n",
    "def main():\n",
    "    threads = []\n",
    "\n",
    "    for i in range(10):\n",
    "        # Definimos args así para que lo detecte como tupla. Si pusieramos args=(i) lo cogeria como entero\n",
    "        thread = Thread(target=snooze, args=(i, ))\n",
    "\n",
    "        # Esto invoca a run\n",
    "        thread.start()\n",
    "\n",
    "\n",
    "        threads.append(thread)\n",
    "\n",
    "    for thread in threads:\n",
    "\n",
    "        # Esperamos a que terminen los hilos\n",
    "        thread.join()\n",
    "\n",
    "if __name__ == \"__main__\":\n",
    "    main()\n"
   ]
  },
  {
   "cell_type": "markdown",
   "metadata": {},
   "source": [
    "<div class=\"alert alert-warning\">Es posible que te haya llamado la atención el bloque condicional desde donde se llama a main. Todas las instrucciones que van dentro de ese bloque se ejecutan solo cuando el script corre por si mismo (no cuando es importado desde otro script). Es una manera de asegurarse de que solo se ejecuta la función main cuando lancemos explicitamente el script.</div>"
   ]
  },
  {
   "cell_type": "markdown",
   "metadata": {},
   "source": [
    "## Multiprocessing\n",
    "\n",
    "Mediante el uso del módulo [multiprocessing](https://docs.python.org/3/library/multiprocessing.html)"
   ]
  },
  {
   "cell_type": "code",
   "execution_count": null,
   "metadata": {
    "collapsed": false
   },
   "outputs": [],
   "source": [
    "# %load multiprocessing_test.py\n",
    "#!/usr/bin/env python3\n",
    "\n",
    "from multiprocessing import Process\n",
    "from time import sleep\n",
    "\n",
    "def snooze(i):\n",
    "    print(\"Proceso {} durmiendo 5 segundos\".format(i))\n",
    "    sleep(5)\n",
    "    print(\"Proceso {} despierto\".format(i))\n",
    "\n",
    "def main():\n",
    "    processes = []\n",
    "\n",
    "    for i in range(10):\n",
    "        process = Process(target=snooze, args=(i, ))\n",
    "        process.start()\n",
    "        processes.append(process)\n",
    "\n",
    "    for process in processes:\n",
    "        process.join()\n",
    "\n",
    "if __name__ == \"__main__\":\n",
    "    main()\n"
   ]
  },
  {
   "cell_type": "markdown",
   "metadata": {},
   "source": [
    "## Multiprocessing con pool de procesos\n",
    "\n",
    "Mediante el uso del objeto [Pool](https://docs.python.org/3/library/multiprocessing.html#multiprocessing.pool.Pool) del módulo de multiprocessing. Un *Pool* de workers donde ejecutar procesos en paralelo"
   ]
  },
  {
   "cell_type": "code",
   "execution_count": null,
   "metadata": {
    "collapsed": false
   },
   "outputs": [],
   "source": [
    "# %load multiprocessing_pool_test.py\n",
    "#!/usr/bin/env python3\n",
    "\n",
    "from multiprocessing import Pool\n",
    "from time import sleep\n",
    "\n",
    "def snooze(i):\n",
    "    print(\"Proceso {} durmiendo 5 segundos\".format(i))\n",
    "    sleep(5)\n",
    "    print(\"Proceso {} despierto\".format(i))\n",
    "\n",
    "def main():\n",
    "    # numero de cpus. Si no le pasamos nada, coge os.cpu_count(), disponible a partir de Python 3.4\n",
    "    pool = Pool(processes=2)\n",
    "    results = []\n",
    "\n",
    "    for i in range(10):\n",
    "        result = pool.apply_async(snooze, (i, ))\n",
    "        results.append(result)\n",
    "\n",
    "    for result in results:\n",
    "        result.get()\n",
    "\n",
    "    pool.close()\n",
    "    pool.join()\n",
    "\n",
    "if __name__ == \"__main__\":\n",
    "    main()\n"
   ]
  },
  {
   "cell_type": "markdown",
   "metadata": {},
   "source": [
    "La diferencia entre los dos últimos casos es importante: \n",
    "\n",
    "* En el primer caso, tenemos varios procesos corriendo de __manera concurrente__ (10, en concreto). \n",
    "* En el segundo caso, tenemos varios procesos corriendo de __manera paralela__ (5, en concreto), pero seguimos teniendo 10 procesos concurrentes."
   ]
  },
  {
   "cell_type": "markdown",
   "metadata": {},
   "source": [
    "<div class=\"alert alert-info\">__Concurrencia__ y __paralelismo__ no son lo mismo. Concurrencia es lo que se consigue con el _multitasking_, por ejemplo: una cpu que le va asignando _slots_ de tiempo a varias tareas, y éstas se van alternando. El paralelismo exige que haya físicamente corriendo dos o más tareas al mismo tiempo, por lo que se hace necesario más de una cpu (una por tarea).</div>"
   ]
  },
  {
   "cell_type": "markdown",
   "metadata": {},
   "source": [
    "Si se ve más fácil, se puede recordar esto:\n",
    "\n",
    "* _Paralelo_ es lo contrario de _serie_\n",
    "* _Concurrente_ es lo contrario de _secuencial_"
   ]
  },
  {
   "cell_type": "markdown",
   "metadata": {},
   "source": [
    "## Multithreading y multiprocessing\n",
    "\n",
    "Se pueden combinar ambas técnicas a la vez"
   ]
  },
  {
   "cell_type": "code",
   "execution_count": null,
   "metadata": {
    "collapsed": false
   },
   "outputs": [],
   "source": [
    "# %load multiprocessing_threading_test.py\n",
    "#!/usr/bin/env python3\n",
    "\n",
    "from threading import Thread\n",
    "from multiprocessing import Process\n",
    "from time import sleep\n",
    "\n",
    "def snooze(i):\n",
    "    print(\"Hilo {} durmiendo 5 segundos\".format(i))\n",
    "    sleep(5)\n",
    "    print(\"Hilo {} despierto\".format(i))\n",
    "\n",
    "def thread_snooze():\n",
    "    threads = []\n",
    "\n",
    "    for i in range(5):\n",
    "        thread = Thread(target=snooze, args=(i, ))\n",
    "        thread.start()\n",
    "        threads.append(thread)\n",
    "\n",
    "    for thread in threads:\n",
    "        thread.join()\n",
    "\n",
    "def main():\n",
    "    processes = []\n",
    "\n",
    "    for i in range(2):\n",
    "        process = Process(target=thread_snooze)\n",
    "        process.start()\n",
    "        processes.append(process)\n",
    "\n",
    "    for process in processes:\n",
    "        process.join()\n",
    "\n",
    "if __name__ == \"__main__\":\n",
    "    main()\n"
   ]
  },
  {
   "cell_type": "markdown",
   "metadata": {},
   "source": [
    "## Comunicando procesos\n",
    "\n",
    "Una manera habitual de comunicar procesos entre sí es mediante una cola"
   ]
  },
  {
   "cell_type": "code",
   "execution_count": null,
   "metadata": {
    "collapsed": false
   },
   "outputs": [],
   "source": [
    "# %load multiprocessing_queue_test.py\n",
    "import multiprocessing\n",
    "from time import sleep\n",
    "\n",
    "\n",
    "class MiClase(object):\n",
    "\n",
    "    def __init__(self, name):\n",
    "        self.name = name\n",
    "\n",
    "    def do_something(self):\n",
    "        proc_name = multiprocessing.current_process().name\n",
    "        print('Estoy en el proceso {} y me pasan estos datos: {}'.format(proc_name, self.name))\n",
    "        sleep(5)\n",
    "        print('Ya he acabado')\n",
    "\n",
    "\n",
    "def worker(q):\n",
    "    obj = q.get()\n",
    "    obj.do_something()\n",
    "\n",
    "\n",
    "if __name__ == '__main__':\n",
    "    queue = multiprocessing.Queue()\n",
    "\n",
    "    p = multiprocessing.Process(target=worker, args=(queue,))\n",
    "    p.start()\n",
    "\n",
    "\n",
    "    queue.put(MiClase('Cacahuete'))\n",
    "\n",
    "    # Cerramos la cola y esperamos al hilo de background, asegurándonos de que los datos se han flusheado\n",
    "    queue.close()\n",
    "    queue.join_thread()\n",
    "\n",
    "    # Esperamos a que termine el proceso\n",
    "    p.join()\n"
   ]
  },
  {
   "cell_type": "markdown",
   "metadata": {},
   "source": [
    "## Corrutinas\n",
    "\n",
    "Las corrutinas fueron introducidas en Python en la [PEP-342](http://www.python.org/dev/peps/pep-0342/), con Python 3.3. Son un concepto que existe desde hace tiempo en los lenguajes de programación, pero su explicación suele ser oscura.\n",
    "\n",
    "__Así como los generadores son funciones que usan *yield* para generar datos, las corrutinas son funciones que usan *yield* para consumir datos que les envían desde fuera__\n",
    "\n",
    "En un generador, la llamada *next(generador)* hace que el generador se ejecute hasta una sentencia *yield*, que devuelve un valor y pausa la función.\n",
    "\n",
    "En una corrutina, la llamada *corrutina.send(dato)* hace que la corrutina recoja ese dato mediante *yield* y continúe\n",
    "\n",
    "<div class=\"alert alert-info\">Puedes ver la instrucción *yield* como similar al concepto de [*interrupción*](https://es.wikipedia.org/wiki/Interrupci%C3%B3n) en un sistema operativo: una señal que hace que se deje de ejecutar el código de una función y se pase a ejecutar el de otra</div>\n",
    "\n",
    "```python\n",
    "# Generador\n",
    "for n in range(10):\n",
    "    yield n # El control pasa a quien esté recorriendo el generador\n",
    "    \n",
    "# Corrutina\n",
    "try:\n",
    "    while True:\n",
    "        dato = yield # El control viene de quien me ha hecho el send, y me pasa a mí\n",
    "        print dato \n",
    "        # Haz lo que sea con el dato\n",
    "except GeneratorExit:\n",
    "    print(\"Alguien ha llamado a close()\")```\n",
    "\n",
    "Con este enfoque, se puede simular en Python un sistema de *pipes* como el de UNIX. Unos procesos generan valores, se los envían a otros, estos otros a otros, y así sucesivamente hasta llegar al consumidor final."
   ]
  },
  {
   "cell_type": "code",
   "execution_count": 1,
   "metadata": {
    "collapsed": false
   },
   "outputs": [
    {
     "name": "stdout",
     "output_type": "stream",
     "text": [
      "Buscando cadena python\n",
      "python\n",
      "Cerrando\n"
     ]
    }
   ],
   "source": [
    "def grep(pattern):\n",
    "    \"\"\"\n",
    "        Esto es una corrutina:\n",
    "        - Al llamarla, le pasamos como argumento el patron a buscar\n",
    "        - A partir de ahí, cada vez que le mandemos texto con send() desde fuera, lo recogerá con yield\n",
    "        - Si el texto que le mandemos contiene el patron, se limitara a imprimir la linea recibida\n",
    "        Estamos implementado un pipe, vamos\n",
    "    \"\"\"\n",
    "    print(\"Buscando cadena {}\".format(pattern))\n",
    "    try:\n",
    "        while True:\n",
    "\n",
    "            # Recojo lo que me manden\n",
    "            line = (yield)\n",
    "\n",
    "            # Si el patrón está en lo que me han mandado, lo imprimo\n",
    "            if pattern in line:\n",
    "                print(line)\n",
    "                \n",
    "            # No tengo porque devolver nada, pero podría hacerlo\n",
    "            \n",
    "    except GeneratorExit:\n",
    "        print(\"Cerrando\")\n",
    "\n",
    "# Creamos la corrutina. Un filtro para buscar \"python\" en cadenas que le pasemos\n",
    "g = grep(\"python\")\n",
    "\n",
    "# La arrancamos\n",
    "g.send(None)\n",
    "\n",
    "# Le mandamos cadenas\n",
    "g.send(\"Hola\")\n",
    "g.send(\"Hola\")\n",
    "g.send(\"Hola\")\n",
    "\n",
    "# Aqui la encuentra\n",
    "g.send(\"python\")\n",
    "\n",
    "# La cerramos\n",
    "g.close()"
   ]
  },
  {
   "cell_type": "markdown",
   "metadata": {},
   "source": [
    "El concepto de corrutina es lo que subyace en el módulo *asyncio*, como veremos a continuación."
   ]
  },
  {
   "cell_type": "markdown",
   "metadata": {},
   "source": [
    "## Asyncio\n",
    "\n",
    "Si estamos usando _Python 3.4 o superior_, podemos hacer uso del módulo [asyncio](https://docs.python.org/3/library/asyncio.html). Permite la implementación de concurrencia sin necesidad de usar threads ni multiproceso. Se basa en la cooperación entre corrutinas. \n",
    "\n",
    "*Asyncio* es simplemente la implementación de un bucle de eventos que simula el comportamiento de un gestor de tareas: una corrutina se ejecuta hasta que encuentra una sentencia *yield from otra_corrutina*. En ese momento, el control pasa a la otra corrutina, que simplemente realiza la operación que tenga que realizar, y devuelve un valor que recoge la función llamante, si le hace falta. Esto sucede con todas las corrutinas que hayan sido registradas en el bucle de eventos hasta que terminan. \n",
    "\n",
    "En el ejemplo inferior, *snooze* es una corrutina, y mediante la construcción *yield from*, delega en la corrutina *asyncio.sleep*, que tras un segundo, simplemente regresa. En ese punto, la corrutina *snooze* despierta, y termina. A destacar que, en este caso particular, *snooze* no obtiene ningún valor de la llamada a *sleep*, por eso ni siquiera asigna el resultado de yield from, pero podría hacerlo si quisiera. Tampoco devuelve ningún valor con return, pero también podría hacerlo.\n",
    "\n",
    "Para que una corrutina sea utilizable como tarea *llamable* en el bucle de eventos, ha de ser decorada mediante *@asyncio.coroutine*. Esto significa que la función ya puede delegar en otras corrutinas mediante *yield from* y ser llamada por otras corrutinas mediante el mismo mecanismo."
   ]
  },
  {
   "cell_type": "code",
   "execution_count": 2,
   "metadata": {
    "collapsed": false
   },
   "outputs": [
    {
     "name": "stdout",
     "output_type": "stream",
     "text": [
      "Corrutina 0 durmiendo 5 segundos\n",
      "Corrutina 1 durmiendo 5 segundos\n",
      "Corrutina 2 durmiendo 5 segundos\n",
      "Corrutina 3 durmiendo 5 segundos\n",
      "Corrutina 4 durmiendo 5 segundos\n",
      "Corrutina 5 durmiendo 5 segundos\n",
      "Corrutina 6 durmiendo 5 segundos\n",
      "Corrutina 7 durmiendo 5 segundos\n",
      "Corrutina 8 durmiendo 5 segundos\n",
      "Corrutina 9 durmiendo 5 segundos\n",
      "Corrutina 0 despierta\n",
      "Corrutina 1 despierta\n",
      "Corrutina 2 despierta\n",
      "Corrutina 3 despierta\n",
      "Corrutina 4 despierta\n",
      "Corrutina 5 despierta\n",
      "Corrutina 6 despierta\n",
      "Corrutina 7 despierta\n",
      "Corrutina 8 despierta\n",
      "Corrutina 9 despierta\n"
     ]
    }
   ],
   "source": [
    "#!/usr/bin/env python3\n",
    "\"\"\"\n",
    "    Ejemplo de uso de asyncio: nos permite implementar concurrencia en un solo hilo de ejecución,\n",
    "    implementando un bucle de eventos que le va danto turnos a diferentes tareas. Una tarea puede\n",
    "    detenerse mediante una llamada a yield from. En ese momento, el bucle de eventos le da turno\n",
    "    a la siguiente tarea\n",
    "\"\"\"\n",
    "import asyncio\n",
    "\n",
    "# Con este decorador, marcamos la función como una corrutina utilizable\n",
    "# por asyncio. Es decir, puede llamar a otras corrutinas con yield from, y ser llamada\n",
    "# por otras mediante el mismo mecanismo.\n",
    "@asyncio.coroutine\n",
    "def snooze(i):\n",
    "    print(\"Corrutina {} durmiendo 5 segundos\".format(i))\n",
    "\n",
    "    # En este punto, snooze para durante 5 segundos, hasta que asyncio.sleep vuelve.\n",
    "    # Si la corrutina devolviera un valor, lo podríamos guardar, pero en este caso simplemente\n",
    "    # se duerme durante X segundos. \n",
    "    yield from asyncio.sleep(5)\n",
    "    print(\"Corrutina {} despierta\".format(i))\n",
    "\n",
    "def main():\n",
    "\n",
    "    # Aquí se construye el bucle de eventos. De entrada, vacío\n",
    "    loop = asyncio.get_event_loop()\n",
    "    \n",
    "    # Las tareas que irán en el bucle\n",
    "    tasks = []\n",
    "\n",
    "    for i in range(10):\n",
    "\n",
    "        # Metemos la tarea en una estructura de datos que nos asegura que se va a mantener viva hasta que la tarea se complete\n",
    "        # Podría compararse a una promesa en JavaScript\n",
    "        task = asyncio.ensure_future(snooze(i))\n",
    "        \n",
    "        # Añadimos la tarea a la lista\n",
    "        tasks.append(task)\n",
    "\n",
    "    # Hacemos que el bucle de eventos se ejecute hasta que terminen todas las tareas\n",
    "    loop.run_until_complete(asyncio.wait(tasks))\n",
    "    \n",
    "    # Cerramos y se acabó\n",
    "    loop.close()\n",
    "\n",
    "if __name__ == \"__main__\":\n",
    "    main()\n"
   ]
  },
  {
   "cell_type": "markdown",
   "metadata": {},
   "source": [
    "<div class=\"alert alert-success\">Python 3.4 introdujo el framework *asyncio*. Mediante dicho framework, se implementa un bucle de eventos concurrentes en el que cada tarea a ejecutar es una corrutina decorada mediante @asyncio.coroutine</div>"
   ]
  },
  {
   "cell_type": "markdown",
   "metadata": {},
   "source": [
    "## Async/await\n",
    "\n",
    "A partir de Python 3.5, podemos usar [async/await](https://docs.python.org/3/reference/expressions.html#await), que se puede considerar *azúcar sintáctico* con respecto a *asyncio*: Aunque hemos de tener en cuenta lo siguiente_:\n",
    "\n",
    "* Ya no tenemos que decorar las corrutinas para poder usarlas como tareas .del bucle de eventos. Basta con definirlas con *async* delante de la función. Esta construcción se considera una __corrutina nativa__, en contraste con las corrutinas construídas en base a *yield from*\n",
    "\n",
    "* En lugar de *yield from*, utilizamos *await*. Aunque técnicamente hay diferencias entre ambas construcciones (await es más restrictiva con lo que acepta como expresión), la idea es la misma: esperar a que otra corrutina termine"
   ]
  },
  {
   "cell_type": "code",
   "execution_count": 3,
   "metadata": {
    "collapsed": false
   },
   "outputs": [
    {
     "ename": "RuntimeError",
     "evalue": "Event loop is closed",
     "output_type": "error",
     "traceback": [
      "\u001b[1;31m---------------------------------------------------------------------------\u001b[0m",
      "\u001b[1;31mRuntimeError\u001b[0m                              Traceback (most recent call last)",
      "\u001b[1;32m<ipython-input-3-b246db18854f>\u001b[0m in \u001b[0;36m<module>\u001b[1;34m()\u001b[0m\n\u001b[0;32m     32\u001b[0m \u001b[1;33m\u001b[0m\u001b[0m\n\u001b[0;32m     33\u001b[0m \u001b[1;32mif\u001b[0m \u001b[0m__name__\u001b[0m \u001b[1;33m==\u001b[0m \u001b[1;34m\"__main__\"\u001b[0m\u001b[1;33m:\u001b[0m\u001b[1;33m\u001b[0m\u001b[0m\n\u001b[1;32m---> 34\u001b[1;33m     \u001b[0mmain\u001b[0m\u001b[1;33m(\u001b[0m\u001b[1;33m)\u001b[0m\u001b[1;33m\u001b[0m\u001b[0m\n\u001b[0m",
      "\u001b[1;32m<ipython-input-3-b246db18854f>\u001b[0m in \u001b[0;36mmain\u001b[1;34m()\u001b[0m\n\u001b[0;32m     27\u001b[0m         \u001b[0mtasks\u001b[0m\u001b[1;33m.\u001b[0m\u001b[0mappend\u001b[0m\u001b[1;33m(\u001b[0m\u001b[0mtask\u001b[0m\u001b[1;33m)\u001b[0m\u001b[1;33m\u001b[0m\u001b[0m\n\u001b[0;32m     28\u001b[0m \u001b[1;33m\u001b[0m\u001b[0m\n\u001b[1;32m---> 29\u001b[1;33m     \u001b[0mloop\u001b[0m\u001b[1;33m.\u001b[0m\u001b[0mrun_until_complete\u001b[0m\u001b[1;33m(\u001b[0m\u001b[0masyncio\u001b[0m\u001b[1;33m.\u001b[0m\u001b[0mwait\u001b[0m\u001b[1;33m(\u001b[0m\u001b[0mtasks\u001b[0m\u001b[1;33m)\u001b[0m\u001b[1;33m)\u001b[0m\u001b[1;33m\u001b[0m\u001b[0m\n\u001b[0m\u001b[0;32m     30\u001b[0m     \u001b[0mloop\u001b[0m\u001b[1;33m.\u001b[0m\u001b[0mclose\u001b[0m\u001b[1;33m(\u001b[0m\u001b[1;33m)\u001b[0m\u001b[1;33m\u001b[0m\u001b[0m\n\u001b[0;32m     31\u001b[0m \u001b[1;33m\u001b[0m\u001b[0m\n",
      "\u001b[1;32m/usr/lib/python3.5/asyncio/base_events.py\u001b[0m in \u001b[0;36mrun_until_complete\u001b[1;34m(self, future)\u001b[0m\n\u001b[0;32m    348\u001b[0m         \u001b[0mReturn\u001b[0m \u001b[0mthe\u001b[0m \u001b[0mFuture\u001b[0m\u001b[0;31m'\u001b[0m\u001b[0ms\u001b[0m \u001b[0mresult\u001b[0m\u001b[1;33m,\u001b[0m \u001b[1;32mor\u001b[0m \u001b[1;32mraise\u001b[0m \u001b[0mits\u001b[0m \u001b[0mexception\u001b[0m\u001b[1;33m.\u001b[0m\u001b[1;33m\u001b[0m\u001b[0m\n\u001b[0;32m    349\u001b[0m         \"\"\"\n\u001b[1;32m--> 350\u001b[1;33m         \u001b[0mself\u001b[0m\u001b[1;33m.\u001b[0m\u001b[0m_check_closed\u001b[0m\u001b[1;33m(\u001b[0m\u001b[1;33m)\u001b[0m\u001b[1;33m\u001b[0m\u001b[0m\n\u001b[0m\u001b[0;32m    351\u001b[0m \u001b[1;33m\u001b[0m\u001b[0m\n\u001b[0;32m    352\u001b[0m         \u001b[0mnew_task\u001b[0m \u001b[1;33m=\u001b[0m \u001b[1;32mnot\u001b[0m \u001b[0misinstance\u001b[0m\u001b[1;33m(\u001b[0m\u001b[0mfuture\u001b[0m\u001b[1;33m,\u001b[0m \u001b[0mfutures\u001b[0m\u001b[1;33m.\u001b[0m\u001b[0mFuture\u001b[0m\u001b[1;33m)\u001b[0m\u001b[1;33m\u001b[0m\u001b[0m\n",
      "\u001b[1;32m/usr/lib/python3.5/asyncio/base_events.py\u001b[0m in \u001b[0;36m_check_closed\u001b[1;34m(self)\u001b[0m\n\u001b[0;32m    318\u001b[0m     \u001b[1;32mdef\u001b[0m \u001b[0m_check_closed\u001b[0m\u001b[1;33m(\u001b[0m\u001b[0mself\u001b[0m\u001b[1;33m)\u001b[0m\u001b[1;33m:\u001b[0m\u001b[1;33m\u001b[0m\u001b[0m\n\u001b[0;32m    319\u001b[0m         \u001b[1;32mif\u001b[0m \u001b[0mself\u001b[0m\u001b[1;33m.\u001b[0m\u001b[0m_closed\u001b[0m\u001b[1;33m:\u001b[0m\u001b[1;33m\u001b[0m\u001b[0m\n\u001b[1;32m--> 320\u001b[1;33m             \u001b[1;32mraise\u001b[0m \u001b[0mRuntimeError\u001b[0m\u001b[1;33m(\u001b[0m\u001b[1;34m'Event loop is closed'\u001b[0m\u001b[1;33m)\u001b[0m\u001b[1;33m\u001b[0m\u001b[0m\n\u001b[0m\u001b[0;32m    321\u001b[0m \u001b[1;33m\u001b[0m\u001b[0m\n\u001b[0;32m    322\u001b[0m     \u001b[1;32mdef\u001b[0m \u001b[0mrun_forever\u001b[0m\u001b[1;33m(\u001b[0m\u001b[0mself\u001b[0m\u001b[1;33m)\u001b[0m\u001b[1;33m:\u001b[0m\u001b[1;33m\u001b[0m\u001b[0m\n",
      "\u001b[1;31mRuntimeError\u001b[0m: Event loop is closed"
     ]
    }
   ],
   "source": [
    "#!/usr/bin/env python3\n",
    "\n",
    "\"\"\"\n",
    "    Esto es básicamente azucar sintáctico sobre asyncio\n",
    "\"\"\"\n",
    "import asyncio\n",
    "\n",
    "# Ya no hace falta decorar la función para hacerla una corrutina válida.\n",
    "# Basta con definirla como async\n",
    "async def snooze(i):\n",
    "    print(\"Corrutina {} durmiendo 5 segundos\".format(i))\n",
    "\n",
    "    # En vez de yield from hacemos await, que es más expresivo. No son exactamente\n",
    "    # lo mismo, pero la diferencia es sutil. Se explica aquí http://www.snarky.ca/how-the-heck-does-async-await-work-in-python-3-5\n",
    "    await asyncio.sleep(5)\n",
    "\n",
    "    print(\"Corrutina {} despierta\".format(i))\n",
    "\n",
    "\n",
    "def main():\n",
    "\n",
    "    loop = asyncio.get_event_loop()\n",
    "    tasks = []\n",
    "\n",
    "    for i in range(10):\n",
    "        task = snooze(i)\n",
    "        tasks.append(task)\n",
    "\n",
    "    loop.run_until_complete(asyncio.wait(tasks))\n",
    "    loop.close()\n",
    "\n",
    "\n",
    "if __name__ == \"__main__\":\n",
    "    main()\n"
   ]
  },
  {
   "cell_type": "markdown",
   "metadata": {},
   "source": [
    "##### <a rel=\"license\" href=\"http://creativecommons.org/licenses/by/4.0/deed.es\"><img alt=\"Licencia Creative Commons\" style=\"border-width:0\" src=\"http://i.creativecommons.org/l/by/4.0/88x31.png\" /></a><br /><span xmlns:dct=\"http://purl.org/dc/terms/\" property=\"dct:title\">Curso Python</span> por <span xmlns:cc=\"http://creativecommons.org/ns#\" property=\"cc:attributionName\">Jorge Arévalo</span> se distribuye bajo una <a rel=\"license\" href=\"http://creativecommons.org/licenses/by/4.0/deed.es\">Licencia Creative Commons Atribución 4.0 Internacional</a>."
   ]
  },
  {
   "cell_type": "markdown",
   "metadata": {},
   "source": [
    "---\n",
    "_Las siguientes celdas contienen configuración del Notebook_\n",
    "\n",
    "_Para visualizar y utlizar los enlaces a Twitter el notebook debe ejecutarse como [seguro](http://ipython.org/ipython-doc/dev/notebook/security.html)_\n",
    "\n",
    "    File > Trusted Notebook"
   ]
  },
  {
   "cell_type": "code",
   "execution_count": 4,
   "metadata": {
    "collapsed": false
   },
   "outputs": [
    {
     "data": {
      "text/html": [
       "/* This template is inspired in the one used by Lorena Barba\n",
       "in the numerical-mooc repository: https://github.com/numerical-mooc/numerical-mooc\n",
       "We thank her work and hope you also enjoy the look of the notobooks with this style */\n",
       "\n",
       "<link href='http://fonts.googleapis.com/css?family=Source+Sans+Pro|Josefin+Sans:400,700,400italic|Ubuntu+Condensed' rel='stylesheet' type='text/css'>\n",
       "\n",
       "El estilo se ha aplicado =)\n",
       "\n",
       "<style>\n",
       "\n",
       "\n",
       "\n",
       "#notebook_panel { /* main background */\n",
       "    background: #f7f7f7;\n",
       "}\n",
       "\n",
       "div.cell { /* set cell width */\n",
       "    width: 900px;\n",
       "}\n",
       "\n",
       "div #notebook { /* centre the content */\n",
       "    background: #fff; /* white background for content */\n",
       "    width: 950px;\n",
       "    margin: auto;\n",
       "    padding-left: 0em;\n",
       "}\n",
       "\n",
       "#notebook li { /* More space between bullet points */\n",
       "    margin-top:0.7em;\n",
       "}\n",
       "\n",
       "/* draw border around running cells */\n",
       "div.cell.border-box-sizing.code_cell.running { \n",
       "    border: 1px solid #111;\n",
       "}\n",
       "\n",
       "/* Put a solid color box around each cell and its output, visually linking them*/\n",
       "div.cell.code_cell {\n",
       "    font-family: 'Source Sans Pro', sans-serif;\n",
       "    background-color: rgb(256,256,256);\n",
       "    font-size: 110%;\n",
       "    border-radius: 0px; \n",
       "    padding: 0.5em;\n",
       "    margin-left:1em;\n",
       "    margin-top: 1em;\n",
       "}\n",
       "\n",
       "div.text_cell_render{\n",
       "    font-family: 'Josefin Sans', serif;\n",
       "    line-height: 145%;\n",
       "    font-size: 125%;\n",
       "    font-weight: 500;\n",
       "    width:750px;\n",
       "    margin-left:auto;\n",
       "    margin-right:auto;\n",
       "}\n",
       "\n",
       "\n",
       "/* Formatting for header cells */\n",
       ".text_cell_render h1, .text_cell_render h2, .text_cell_render h3,\n",
       ".text_cell_render h4, .text_cell_render h5 {\n",
       "    font-family: 'Ubuntu Condensed', sans-serif;\n",
       "}\n",
       "/*\n",
       ".text_cell_render h1 {\n",
       "    font-family: Flux, 'Ubuntu Condensed', serif;\n",
       "    font-style:regular;\n",
       "    font-weight: 400;    \n",
       "    font-size: 30pt;\n",
       "    text-align: center;\n",
       "    line-height: 100%;\n",
       "    color: #335082;\n",
       "    margin-bottom: 0.5em;\n",
       "    margin-top: 0.5em;\n",
       "    display: block;\n",
       "}\n",
       "*/\n",
       ".text_cell_render h1 {\n",
       "    font-weight: 600;\n",
       "    font-size: 35pt;\n",
       "    line-height: 100%;\n",
       "    color: #000000;\n",
       "    margin-bottom: 0.1em;\n",
       "    margin-top: 0.3em;\n",
       "    display: block;\n",
       "}\n",
       "\n",
       ".text_cell_render h2 {\n",
       "    margin-top:16px;\n",
       "    font-size: 27pt;\n",
       "    font-weight: 550;\n",
       "    margin-bottom: 0.1em;\n",
       "    margin-top: 0.3em;\n",
       "    font-style: regular;\n",
       "    color: #2c6391;\n",
       "}\t\n",
       "\n",
       ".text_cell_render h3 {\n",
       "    font-size: 20pt;\n",
       "    font-weight: 550\n",
       "    text-align: left;\n",
       "    margin-bottom: 0.1em;\n",
       "    margin-top: 0.3em;\n",
       "    font-style: regular;\n",
       "    color:  #387eb8;\n",
       "}\n",
       "\n",
       ".text_cell_render h4 {    /*Use this for captions*/\n",
       "    font-size: 18pt;\n",
       "    font-weight: 450\n",
       "    text-align: left;\n",
       "    margin-bottom: 0.1em;\n",
       "    margin-top: 0.3em;\n",
       "    font-style: regular;\n",
       "    color:  #5797cc;\n",
       "}\n",
       "\n",
       ".text_cell_render h5 {  /*Use this for small titles*/\n",
       "    font-size: 18pt;\n",
       "    font-weight: 550;\n",
       "    color: rgb(163,0,0);\n",
       "    font-style: italic;\n",
       "    margin-bottom: .1em;\n",
       "    margin-top: 0.8em;\n",
       "    display: block;\n",
       "    color:  #b21c0d;\n",
       "}\n",
       "\n",
       ".text_cell_render h6 { /*use this for copyright note*/\n",
       "    font-family: 'Ubuntu Condensed', sans-serif;\n",
       "    font-weight: 300;\n",
       "    font-size: 14pt;\n",
       "    line-height: 100%;\n",
       "    color: #252525;\n",
       "    text-align: right;\n",
       "    margin-bottom: 1px;\n",
       "    margin-top: 1px;\n",
       "}\n",
       "\n",
       ".CodeMirror{\n",
       "        font-family: 'Duru Sans', sans-serif;\n",
       "        font-size: 100%;\n",
       "}\n",
       "\n",
       "</style>\n",
       "<script>\n",
       "    MathJax.Hub.Config({\n",
       "                        TeX: {\n",
       "                           extensions: [\"AMSmath.js\"],\n",
       "                           equationNumbers: { autoNumber: \"AMS\", useLabelIds: true}\n",
       "                           },\n",
       "                tex2jax: {\n",
       "                    inlineMath: [ ['$','$'], [\"\\\\(\",\"\\\\)\"] ],\n",
       "                    displayMath: [ ['$$','$$'], [\"\\\\[\",\"\\\\]\"] ]\n",
       "                },\n",
       "                displayAlign: 'center', // Change this to 'center' to center equations.\n",
       "                \"HTML-CSS\": {\n",
       "                    styles: {'.MathJax_Display': {\"margin\": 4}}\n",
       "                }\n",
       "        });\n",
       "</script>\n"
      ],
      "text/plain": [
       "<IPython.core.display.HTML object>"
      ]
     },
     "execution_count": 4,
     "metadata": {},
     "output_type": "execute_result"
    }
   ],
   "source": [
    "# Esta celda da el estilo al notebook\n",
    "from IPython.core.display import HTML\n",
    "css_file = '../static/styles/style.css'\n",
    "HTML(open(css_file, \"r\").read())"
   ]
  },
  {
   "cell_type": "code",
   "execution_count": null,
   "metadata": {
    "collapsed": true
   },
   "outputs": [],
   "source": []
  }
 ],
 "metadata": {
  "kernelspec": {
   "display_name": "Python 3",
   "language": "python",
   "name": "python3"
  },
  "language_info": {
   "codemirror_mode": {
    "name": "ipython",
    "version": 3
   },
   "file_extension": ".py",
   "mimetype": "text/x-python",
   "name": "python",
   "nbconvert_exporter": "python",
   "pygments_lexer": "ipython3",
   "version": "3.5.1+"
  }
 },
 "nbformat": 4,
 "nbformat_minor": 0
}
