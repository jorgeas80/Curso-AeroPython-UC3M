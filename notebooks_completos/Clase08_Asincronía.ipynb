{
 "cells": [
  {
   "cell_type": "markdown",
   "metadata": {
    "collapsed": true
   },
   "source": [
    "<img src=\"../static/logopython.png\" alt=\"Logo Python\" style=\"width: 300px; display: inline\"/>\n",
    "<img src=\"../static/deimoslogo.png\" alt=\"Logo Deimos\" style=\"width: 300px; display: inline\"/>"
   ]
  },
  {
   "cell_type": "markdown",
   "metadata": {},
   "source": [
    "TODO: Buscar un ejemplo de QUEUE, por lo que dice aquí (sacado del libro Python Tutorial, tema de Brief Tour of the Standard Library, Multi-threading)\n",
    "\n",
    "The preferred approach to task coordination is to concentrate all access to a resource in a single thread and then use the\n",
    "Queue module to feed that thread with requests from other threads. Applications using Queue.Queue objects\n",
    "for inter-thread communication and coordination are easier to design, more readable, and more reliable"
   ]
  },
  {
   "cell_type": "markdown",
   "metadata": {},
   "source": [
    "# Clase 8: Asincronía en Python\n",
    "\n",
    "Para empezar, tenemos que distinguir entre _multithreading_ y _multiprocessing_. Las dos imágenes siguientes muestran la diferencia"
   ]
  },
  {
   "cell_type": "markdown",
   "metadata": {},
   "source": [
    "<img src=\"../static/multithreading.png\" alt=\"Spyder\" style=\"width: 350px;\"/>\n",
    "<img src=\"../static/multiprocessing.png\" alt=\"Spyder\" style=\"width: 350px;\"/>"
   ]
  },
  {
   "cell_type": "markdown",
   "metadata": {},
   "source": [
    "En Python podemos gestionar la asincronía con diferentes enfoques"
   ]
  },
  {
   "cell_type": "markdown",
   "metadata": {},
   "source": [
    "## Multithreading\n",
    "\n",
    "Mediante el uso del módulo de [threading](https://docs.python.org/3/library/threading.html?highlight=threading)"
   ]
  },
  {
   "cell_type": "code",
   "execution_count": 2,
   "metadata": {
    "collapsed": false
   },
   "outputs": [
    {
     "name": "stdout",
     "output_type": "stream",
     "text": [
      "Hilo 0 durmiendo 5 segundos\n",
      "Hilo 1 durmiendo 5 segundos\n",
      "Hilo 2 durmiendo 5 segundos\n",
      "Hilo 3 durmiendo 5 segundos\n",
      "Hilo 4 durmiendo 5 segundos\n",
      "Hilo 5 durmiendo 5 segundos\n",
      "Hilo 6 durmiendo 5 segundos\n",
      "Hilo 7 durmiendo 5 segundos\n",
      "Hilo 8 durmiendo 5 segundos\n",
      "Hilo 9 durmiendo 5 segundos\n",
      "Hilo 7 despiertoHilo 9 despierto\n",
      "Hilo 8 despierto\n",
      "Hilo 6 despierto\n",
      "Hilo 5 despierto\n",
      "Hilo 4 despierto\n",
      "Hilo 3 despierto\n",
      "Hilo 2 despierto\n",
      "Hilo 1 despierto\n",
      "Hilo 0 despierto\n",
      "\n"
     ]
    }
   ],
   "source": [
    "# %load thread_test.py\n",
    "#!/usr/bin/env python3\n",
    "\n",
    "from threading import Thread\n",
    "from time import sleep\n",
    "\n",
    "def snooze(i):\n",
    "    print(\"Hilo {} durmiendo 5 segundos\".format(i))\n",
    "    sleep(5)\n",
    "    print(\"Hilo {} despierto\".format(i))\n",
    "\n",
    "def main():\n",
    "    threads = []\n",
    "\n",
    "    for i in range(10):\n",
    "        thread = Thread(target=snooze, args=(i, ))\n",
    "        thread.start()\n",
    "        threads.append(thread)\n",
    "\n",
    "    for thread in threads:\n",
    "        thread.join()\n",
    "\n",
    "if __name__ == \"__main__\":\n",
    "    main()\n"
   ]
  },
  {
   "cell_type": "markdown",
   "metadata": {},
   "source": [
    "<div class=\"alert alert-warning\">Es posible que te haya llamado la atención el bloque condicional desde donde se llama a main. Todas las instrucciones que van dentro de ese bloque se ejecutan solo cuando el script corre por si mismo (no cuando es importado desde otro script). Es una manera de asegurarse de que solo se ejecuta la función main cuando lancemos explicitamente el script.</div>"
   ]
  },
  {
   "cell_type": "markdown",
   "metadata": {},
   "source": [
    "## Multiprocessing\n",
    "\n",
    "Mediante el uso del módulo [multiprocessing](https://docs.python.org/3/library/multiprocessing.html)"
   ]
  },
  {
   "cell_type": "code",
   "execution_count": 3,
   "metadata": {
    "collapsed": true
   },
   "outputs": [],
   "source": [
    "# %load multiprocessing_test.py\n",
    "#!/usr/bin/env python3\n",
    "\n",
    "from multiprocessing import Process\n",
    "from time import sleep\n",
    "\n",
    "def snooze(i):\n",
    "    print(\"Proceso {} durmiendo 5 segundos\".format(i))\n",
    "    sleep(5)\n",
    "    print(\"Proceso {} despierto\".format(i))\n",
    "\n",
    "def main():\n",
    "    processes = []\n",
    "\n",
    "    for i in range(10):\n",
    "        process = Process(target=snooze, args=(i, ))\n",
    "        process.start()\n",
    "        processes.append(process)\n",
    "\n",
    "    for process in processes:\n",
    "        process.join()\n",
    "\n",
    "if __name__ == \"__main__\":\n",
    "    main()\n"
   ]
  },
  {
   "cell_type": "markdown",
   "metadata": {},
   "source": [
    "## Multiprocessing con pool de procesos\n",
    "\n",
    "Mediante el uso del objeto [Pool](https://docs.python.org/3/library/multiprocessing.html#multiprocessing.pool.Pool) del módulo de multiprocessing, que permite la paralelización de varios procesos al mismo tiempo"
   ]
  },
  {
   "cell_type": "code",
   "execution_count": null,
   "metadata": {
    "collapsed": true
   },
   "outputs": [],
   "source": [
    "# %load multiprocessing_pool_test.py\n",
    "#!/usr/bin/env python3\n",
    "\n",
    "from multiprocessing import Pool\n",
    "from time import sleep\n",
    "\n",
    "def snooze(i):\n",
    "    print(\"Proceso {} durmiendo 5 segundos\".format(i))\n",
    "    sleep(5)\n",
    "    print(\"Proceso {} despierto\".format(i))\n",
    "\n",
    "def main():\n",
    "    pool = Pool(processes=2) # numero de cpus\n",
    "    results = []\n",
    "\n",
    "    for i in range(10):\n",
    "        result = pool.apply_async(snooze, (i, ))\n",
    "        results.append(result)\n",
    "\n",
    "    for result in results:\n",
    "        result.get()\n",
    "\n",
    "    pool.close()\n",
    "    pool.join()\n",
    "\n",
    "if __name__ == \"__main__\":\n",
    "    main()\n"
   ]
  },
  {
   "cell_type": "markdown",
   "metadata": {},
   "source": [
    "La diferencia entre los dos últimos casos es importante: \n",
    "\n",
    "* En el primer caso, tenemos varios procesos corriendo de __manera concurrente__ (10, en concreto). \n",
    "* En el segundo caso, tenemos varios procesos corriendo de __manera paralela__ (5, en concreto), pero seguimos teniendo 10 procesos concurrentes."
   ]
  },
  {
   "cell_type": "markdown",
   "metadata": {},
   "source": [
    "<div class=\"alert alert-info\">__Concurrencia__ y __paralelismo__ no son lo mismo. Concurrencia es lo que se consigue con el _multitasking_, por ejemplo: una cpu que le va asignando _slots_ de tiempo a varias tareas, y éstas se van alternando. El paralelismo exige que haya físicamente corriendo dos o más tareas al mismo tiempo, por lo que se hace necesario más de una cpu (una por tarea).</div>"
   ]
  },
  {
   "cell_type": "markdown",
   "metadata": {},
   "source": [
    "Si se ve más fácil, se puede recordar esto:\n",
    "\n",
    "* _Paralelo_ es lo contrario de _serie_\n",
    "* _Concurrente_ es lo contrario de _secuencial_"
   ]
  },
  {
   "cell_type": "markdown",
   "metadata": {},
   "source": [
    "## Multithreading y multiprocessing\n",
    "\n",
    "Se pueden combinar ambas técnicas a la vez"
   ]
  },
  {
   "cell_type": "code",
   "execution_count": null,
   "metadata": {
    "collapsed": true
   },
   "outputs": [],
   "source": [
    "# %load multiprocessing_threading_test.py\n",
    "#!/usr/bin/env python3\n",
    "\n",
    "from threading import Thread\n",
    "from multiprocessing import Process\n",
    "from time import sleep\n",
    "\n",
    "def snooze(i):\n",
    "    print(\"Hilo {} durmiendo 5 segundos\".format(i))\n",
    "    sleep(5)\n",
    "    print(\"Hilo {} despierto\".format(i))\n",
    "\n",
    "def thread_snooze():\n",
    "    threads = []\n",
    "\n",
    "    for i in range(5):\n",
    "        thread = Thread(target=snooze, args=(i, ))\n",
    "        thread.start()\n",
    "        threads.append(thread)\n",
    "\n",
    "    for thread in threads:\n",
    "        thread.join()\n",
    "\n",
    "def main():\n",
    "    processes = []\n",
    "\n",
    "    for i in range(2):\n",
    "        process = Process(target=thread_snooze)\n",
    "        process.start()\n",
    "        processes.append(process)\n",
    "\n",
    "    for process in processes:\n",
    "        process.join()\n",
    "\n",
    "if __name__ == \"__main__\":\n",
    "    main()\n"
   ]
  },
  {
   "cell_type": "markdown",
   "metadata": {},
   "source": [
    "## Asyncio\n",
    "\n",
    "Si estamos usando _Python 3.4 o superior_, podemos hacer uso de la librería [asyncio](https://docs.python.org/3/library/asyncio.html)"
   ]
  },
  {
   "cell_type": "code",
   "execution_count": null,
   "metadata": {
    "collapsed": true
   },
   "outputs": [],
   "source": [
    "# %load asyncio_test.py\n",
    "#!/usr/bin/env python3\n",
    "\n",
    "import asyncio\n",
    "\n",
    "@asyncio.coroutine\n",
    "def snooze(i):\n",
    "    print(\"Corrutina {} durmiendo 5 segundos\".format(i))\n",
    "    yield from asyncio.sleep(5)\n",
    "    print(\"Corrutina {} despierta\".format(i))\n",
    "\n",
    "def main():\n",
    "\n",
    "    loop = asyncio.get_event_loop()\n",
    "    tasks = []\n",
    "\n",
    "    for i in range(10):\n",
    "        task = asyncio.ensure_future(snooze(i))\n",
    "        tasks.append(task)\n",
    "\n",
    "    loop.run_until_complete(asyncio.wait(tasks))\n",
    "    loop.close()\n",
    "\n",
    "if __name__ == \"__main__\":\n",
    "    main()\n"
   ]
  },
  {
   "cell_type": "markdown",
   "metadata": {},
   "source": [
    "En este ejemplo vemos un concepto nuevo: [_coroutine_](https://docs.python.org/3/library/asyncio-task.html#coroutines). Las corrutinas son generadores a los que podemos enviar datos, no solo obtenerlos de ellos mediante yield"
   ]
  },
  {
   "cell_type": "markdown",
   "metadata": {},
   "source": [
    "<div class=\"alert alert-warning\">__Recuerda__: Solo podrás usar _asyncio_ si tienes Python 3.4 o superior. Caso contrario, tendrías que instalarlo a mano</div>"
   ]
  },
  {
   "cell_type": "markdown",
   "metadata": {},
   "source": [
    "## Async/await\n",
    "\n",
    "A partir de Python 3.5, podemos usar [async/await](https://docs.python.org/3/reference/expressions.html#await), que es más elegante"
   ]
  },
  {
   "cell_type": "code",
   "execution_count": null,
   "metadata": {
    "collapsed": true
   },
   "outputs": [],
   "source": [
    "# %load asyncawait_test.py\n",
    "#!/usr/bin/env python3\n",
    "\n",
    "import asyncio\n",
    "\n",
    "async def snooze(i):\n",
    "    print(\"Corrutina {} durmiendo 5 segundos\".format(i))\n",
    "    await asyncio.sleep(5)\n",
    "    print(\"Corrutina {} despierta\".format(i))\n",
    "\n",
    "\n",
    "def main():\n",
    "\n",
    "    loop = asyncio.get_event_loop()\n",
    "    tasks = []\n",
    "\n",
    "    for i in range(10):\n",
    "        task = snooze(i)\n",
    "        tasks.append(task)\n",
    "\n",
    "    loop.run_until_complete(asyncio.wait(tasks))\n",
    "    loop.close()\n",
    "\n",
    "\n",
    "if __name__ == \"__main__\":\n",
    "    main()\n"
   ]
  },
  {
   "cell_type": "markdown",
   "metadata": {},
   "source": [
    "##### <a rel=\"license\" href=\"http://creativecommons.org/licenses/by/4.0/deed.es\"><img alt=\"Licencia Creative Commons\" style=\"border-width:0\" src=\"http://i.creativecommons.org/l/by/4.0/88x31.png\" /></a><br /><span xmlns:dct=\"http://purl.org/dc/terms/\" property=\"dct:title\">Curso Python</span> por <span xmlns:cc=\"http://creativecommons.org/ns#\" property=\"cc:attributionName\">Jorge Arévalo</span> se distribuye bajo una <a rel=\"license\" href=\"http://creativecommons.org/licenses/by/4.0/deed.es\">Licencia Creative Commons Atribución 4.0 Internacional</a>."
   ]
  },
  {
   "cell_type": "markdown",
   "metadata": {},
   "source": [
    "---\n",
    "_Las siguientes celdas contienen configuración del Notebook_\n",
    "\n",
    "_Para visualizar y utlizar los enlaces a Twitter el notebook debe ejecutarse como [seguro](http://ipython.org/ipython-doc/dev/notebook/security.html)_\n",
    "\n",
    "    File > Trusted Notebook"
   ]
  },
  {
   "cell_type": "code",
   "execution_count": 3,
   "metadata": {
    "collapsed": false
   },
   "outputs": [
    {
     "data": {
      "text/html": [
       "/* This template is inspired in the one used by Lorena Barba\n",
       "in the numerical-mooc repository: https://github.com/numerical-mooc/numerical-mooc\n",
       "We thank her work and hope you also enjoy the look of the notobooks with this style */\n",
       "\n",
       "<link href='http://fonts.googleapis.com/css?family=Source+Sans+Pro|Josefin+Sans:400,700,400italic|Ubuntu+Condensed' rel='stylesheet' type='text/css'>\n",
       "\n",
       "El estilo se ha aplicado =)\n",
       "\n",
       "<style>\n",
       "\n",
       "\n",
       "\n",
       "#notebook_panel { /* main background */\n",
       "    background: #f7f7f7;\n",
       "}\n",
       "\n",
       "div.cell { /* set cell width */\n",
       "    width: 900px;\n",
       "}\n",
       "\n",
       "div #notebook { /* centre the content */\n",
       "    background: #fff; /* white background for content */\n",
       "    width: 950px;\n",
       "    margin: auto;\n",
       "    padding-left: 0em;\n",
       "}\n",
       "\n",
       "#notebook li { /* More space between bullet points */\n",
       "    margin-top:0.7em;\n",
       "}\n",
       "\n",
       "/* draw border around running cells */\n",
       "div.cell.border-box-sizing.code_cell.running { \n",
       "    border: 1px solid #111;\n",
       "}\n",
       "\n",
       "/* Put a solid color box around each cell and its output, visually linking them*/\n",
       "div.cell.code_cell {\n",
       "    font-family: 'Source Sans Pro', sans-serif;\n",
       "    background-color: rgb(256,256,256);\n",
       "    font-size: 110%;\n",
       "    border-radius: 0px; \n",
       "    padding: 0.5em;\n",
       "    margin-left:1em;\n",
       "    margin-top: 1em;\n",
       "}\n",
       "\n",
       "div.text_cell_render{\n",
       "    font-family: 'Josefin Sans', serif;\n",
       "    line-height: 145%;\n",
       "    font-size: 125%;\n",
       "    font-weight: 500;\n",
       "    width:750px;\n",
       "    margin-left:auto;\n",
       "    margin-right:auto;\n",
       "}\n",
       "\n",
       "\n",
       "/* Formatting for header cells */\n",
       ".text_cell_render h1, .text_cell_render h2, .text_cell_render h3,\n",
       ".text_cell_render h4, .text_cell_render h5 {\n",
       "    font-family: 'Ubuntu Condensed', sans-serif;\n",
       "}\n",
       "/*\n",
       ".text_cell_render h1 {\n",
       "    font-family: Flux, 'Ubuntu Condensed', serif;\n",
       "    font-style:regular;\n",
       "    font-weight: 400;    \n",
       "    font-size: 30pt;\n",
       "    text-align: center;\n",
       "    line-height: 100%;\n",
       "    color: #335082;\n",
       "    margin-bottom: 0.5em;\n",
       "    margin-top: 0.5em;\n",
       "    display: block;\n",
       "}\n",
       "*/\n",
       ".text_cell_render h1 {\n",
       "    font-weight: 600;\n",
       "    font-size: 35pt;\n",
       "    line-height: 100%;\n",
       "    color: #000000;\n",
       "    margin-bottom: 0.1em;\n",
       "    margin-top: 0.3em;\n",
       "    display: block;\n",
       "}\n",
       "\n",
       ".text_cell_render h2 {\n",
       "    margin-top:16px;\n",
       "    font-size: 27pt;\n",
       "    font-weight: 550;\n",
       "    margin-bottom: 0.1em;\n",
       "    margin-top: 0.3em;\n",
       "    font-style: regular;\n",
       "    color: #2c6391;\n",
       "}\t\n",
       "\n",
       ".text_cell_render h3 {\n",
       "    font-size: 20pt;\n",
       "    font-weight: 550\n",
       "    text-align: left;\n",
       "    margin-bottom: 0.1em;\n",
       "    margin-top: 0.3em;\n",
       "    font-style: regular;\n",
       "    color:  #387eb8;\n",
       "}\n",
       "\n",
       ".text_cell_render h4 {    /*Use this for captions*/\n",
       "    font-size: 18pt;\n",
       "    font-weight: 450\n",
       "    text-align: left;\n",
       "    margin-bottom: 0.1em;\n",
       "    margin-top: 0.3em;\n",
       "    font-style: regular;\n",
       "    color:  #5797cc;\n",
       "}\n",
       "\n",
       ".text_cell_render h5 {  /*Use this for small titles*/\n",
       "    font-size: 18pt;\n",
       "    font-weight: 550;\n",
       "    color: rgb(163,0,0);\n",
       "    font-style: italic;\n",
       "    margin-bottom: .1em;\n",
       "    margin-top: 0.8em;\n",
       "    display: block;\n",
       "    color:  #b21c0d;\n",
       "}\n",
       "\n",
       ".text_cell_render h6 { /*use this for copyright note*/\n",
       "    font-family: 'Ubuntu Condensed', sans-serif;\n",
       "    font-weight: 300;\n",
       "    font-size: 14pt;\n",
       "    line-height: 100%;\n",
       "    color: #252525;\n",
       "    text-align: right;\n",
       "    margin-bottom: 1px;\n",
       "    margin-top: 1px;\n",
       "}\n",
       "\n",
       ".CodeMirror{\n",
       "        font-family: 'Duru Sans', sans-serif;\n",
       "        font-size: 100%;\n",
       "}\n",
       "\n",
       "</style>\n",
       "<script>\n",
       "    MathJax.Hub.Config({\n",
       "                        TeX: {\n",
       "                           extensions: [\"AMSmath.js\"],\n",
       "                           equationNumbers: { autoNumber: \"AMS\", useLabelIds: true}\n",
       "                           },\n",
       "                tex2jax: {\n",
       "                    inlineMath: [ ['$','$'], [\"\\\\(\",\"\\\\)\"] ],\n",
       "                    displayMath: [ ['$$','$$'], [\"\\\\[\",\"\\\\]\"] ]\n",
       "                },\n",
       "                displayAlign: 'center', // Change this to 'center' to center equations.\n",
       "                \"HTML-CSS\": {\n",
       "                    styles: {'.MathJax_Display': {\"margin\": 4}}\n",
       "                }\n",
       "        });\n",
       "</script>\n"
      ],
      "text/plain": [
       "<IPython.core.display.HTML object>"
      ]
     },
     "execution_count": 3,
     "metadata": {},
     "output_type": "execute_result"
    }
   ],
   "source": [
    "# Esta celda da el estilo al notebook\n",
    "from IPython.core.display import HTML\n",
    "css_file = '../static/styles/style.css'\n",
    "HTML(open(css_file, \"r\").read())"
   ]
  },
  {
   "cell_type": "code",
   "execution_count": null,
   "metadata": {
    "collapsed": true
   },
   "outputs": [],
   "source": []
  }
 ],
 "metadata": {
  "kernelspec": {
   "display_name": "Python 3",
   "language": "python",
   "name": "python3"
  },
  "language_info": {
   "codemirror_mode": {
    "name": "ipython",
    "version": 3
   },
   "file_extension": ".py",
   "mimetype": "text/x-python",
   "name": "python",
   "nbconvert_exporter": "python",
   "pygments_lexer": "ipython3",
   "version": "3.5.1"
  }
 },
 "nbformat": 4,
 "nbformat_minor": 0
}
