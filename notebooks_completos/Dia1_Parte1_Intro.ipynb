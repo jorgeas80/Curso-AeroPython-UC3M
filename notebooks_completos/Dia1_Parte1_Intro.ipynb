{
 "cells": [
  {
   "cell_type": "markdown",
   "metadata": {},
   "source": [
    "<img src=\"../static/logopython.png\" alt=\"Logo Python\" style=\"width: 400px; display: inline\"/>\n",
    "<img src=\"../static/deimoslogo.png\" alt=\"Logo Deimos\" style=\"width: 400px; display: inline\"/>"
   ]
  },
  {
   "cell_type": "markdown",
   "metadata": {},
   "source": [
    "# Clase 1a: Introducción a IPython y Jupyter"
   ]
  },
  {
   "cell_type": "markdown",
   "metadata": {},
   "source": [
    "_\n",
    "En esta clase haremos una rápida introducción al lenguaje Python y al intérprete Jupyter (parte del proyecto IPython), así como a su Notebook. Veremos como ejecutar un script y cuáles son los tipos y estructuras básicas de este lenguaje. Seguro que ya has oído hablar mucho sobre las bondades de Python frente a otros lenguajes. Si no es así, échale un vistazo a [esto](http://nbviewer.ipython.org/github/AeroPython/Python_HA/blob/master/razones_python.ipynb).\n",
    "¿Estás preparado? ¡Pues Empezamos!\n",
    "_"
   ]
  },
  {
   "cell_type": "markdown",
   "metadata": {},
   "source": [
    "## ¿Qué es Python? "
   ]
  },
  {
   "cell_type": "markdown",
   "metadata": {},
   "source": [
    "* Lenguaje de programación dinámico, interpretado y fácil de aprender\n",
    "* Creado por Guido van Rossum en 1991\n",
    "* Ampliamente utilizado en ciencia e ingeniería\n",
    "* Multitud de bibliotecas para realizar diferentes tareas."
   ]
  },
  {
   "cell_type": "markdown",
   "metadata": {},
   "source": [
    "### El zen de Python"
   ]
  },
  {
   "cell_type": "code",
   "execution_count": 1,
   "metadata": {
    "collapsed": false
   },
   "outputs": [
    {
     "name": "stdout",
     "output_type": "stream",
     "text": [
      "The Zen of Python, by Tim Peters\n",
      "\n",
      "Beautiful is better than ugly.\n",
      "Explicit is better than implicit.\n",
      "Simple is better than complex.\n",
      "Complex is better than complicated.\n",
      "Flat is better than nested.\n",
      "Sparse is better than dense.\n",
      "Readability counts.\n",
      "Special cases aren't special enough to break the rules.\n",
      "Although practicality beats purity.\n",
      "Errors should never pass silently.\n",
      "Unless explicitly silenced.\n",
      "In the face of ambiguity, refuse the temptation to guess.\n",
      "There should be one-- and preferably only one --obvious way to do it.\n",
      "Although that way may not be obvious at first unless you're Dutch.\n",
      "Now is better than never.\n",
      "Although never is often better than *right* now.\n",
      "If the implementation is hard to explain, it's a bad idea.\n",
      "If the implementation is easy to explain, it may be a good idea.\n",
      "Namespaces are one honking great idea -- let's do more of those!\n"
     ]
    }
   ],
   "source": [
    "import this"
   ]
  },
  {
   "cell_type": "markdown",
   "metadata": {},
   "source": [
    "### ¿Qué pinta tiene un programa en Python y cómo lo ejecuto?"
   ]
  },
  {
   "cell_type": "markdown",
   "metadata": {},
   "source": [
    "Vamos a ver `mi_primer_script.py` que está en la carpeta `static`. __De momento no te preocupes por el código,__ ya habrá tiempo para eso..."
   ]
  },
  {
   "cell_type": "code",
   "execution_count": 22,
   "metadata": {
    "collapsed": false
   },
   "outputs": [
    {
     "name": "stdout",
     "output_type": "stream",
     "text": [
      "# -*- coding: utf-8 -*-\n",
      "import math\n",
      "     \n",
      "print(\"Hola gente del curso de AeroPython\")\n",
      "print(\"Â¿CuÃ¡ntos sois hoy en clase?\")\n",
      "\n",
      "number = input()\n",
      "number = int(number)\n",
      "root = math.sqrt(number)\n",
      "\n",
      "print(\"Â¡Ufff!, Â¡eso es un montÃ³n! espero que aprendÃ¡is mucho\")\n",
      "print(\"Por cierto, la raiz de %i es %f\" %(number, root))\n"
     ]
    }
   ],
   "source": [
    "!type ..\\static\\mi_primer_script.py"
   ]
  },
  {
   "cell_type": "markdown",
   "metadata": {},
   "source": [
    "<div class=\"alert alert-info\"><strong>Tip de IPython</strong>:\n",
    "`cat` es un comando de la línea de comandos, no propio de Python. Anteponiendo `!` a comandos de la terminal como `cd`, `ls`, `cat`... se pueden ejecutar desde aquí.\n",
    "</div>"
   ]
  },
  {
   "cell_type": "markdown",
   "metadata": {},
   "source": [
    "<div class=\"alert\"><strong>Si estás usando Windows</strong> y acabas de obtener un error, susituye la línea anterior por:<br>\n",
    "    `!type ..\\static\\mi_primer_script.py`\n",
    "\n",
    "<br><br>\n",
    "`type` es un comando similar en Windows a `cat`. De nuevo, podemos ejecutar comandos como `cd`, `dir`, `type`, `find`...  desde aquí anteponiendo `!` y utilizando `\\` en lugar de `/` para la ruta donde se encuentra el archivo.\n",
    "    \n",
    "</div>"
   ]
  },
  {
   "cell_type": "code",
   "execution_count": 23,
   "metadata": {
    "collapsed": false
   },
   "outputs": [
    {
     "name": "stdout",
     "output_type": "stream",
     "text": [
      "Hola gente del curso de AeroPython\n",
      "¿Cuántos sois hoy en clase?\n",
      "12\n",
      "¡Ufff!, ¡eso es un montón! espero que aprendáis mucho\n",
      "Por cierto, la raiz de 12 es 3.464102\n"
     ]
    }
   ],
   "source": [
    "%run ..\\static\\mi_primer_script.py"
   ]
  },
  {
   "cell_type": "markdown",
   "metadata": {},
   "source": [
    "<div class=\"alert alert-info\"><strong>Tip de IPython</strong>:\n",
    "`%run` es un _comando mágico_ del notebook que te permite ejecutar un archivo.\n",
    "\n",
    "Si quieres hacerlo desde una línea de comandos podrías hacer:\n",
    "\n",
    "`$ python3 ../static/mi_primer_script.py`\n",
    "</div>\n"
   ]
  },
  {
   "cell_type": "markdown",
   "metadata": {},
   "source": [
    "El método más simple es usar un editor (tu preferido) y ejecutar el script desde la línea de comandos. Pero existen también __IDE__s (_integrated development environment_ pensados para facilitar la escritura de código y tener al alcance de la mano otras herramientas como _profilers_, _debuggers_, _explorador de variables_... Entre los más adecuados para la programación científica se encuentran [IEP](http://www.iep-project.org/) y [Spyder](http://code.google.com/p/spyderlib/) (instalado con Anaconda)."
   ]
  },
  {
   "cell_type": "markdown",
   "metadata": {},
   "source": [
    "<img src=\"../static/spyder.png\" alt=\"Spyder\" style=\"width: 800px;\"/>"
   ]
  },
  {
   "cell_type": "markdown",
   "metadata": {},
   "source": [
    "## ¿Qué es IPython?"
   ]
  },
  {
   "cell_type": "markdown",
   "metadata": {},
   "source": [
    "[IPython](http://ipython.org/) no es más que un [intérprete][1] de Python con algunas mejoras sustanciales, pero además su interfaz notebook es más cómoda de manejar que la línea de comandos y nos da un poco más de flexibilidad.\n",
    "\n",
    "[1]: http://es.wikipedia.org/wiki/Int%C3%A9rprete_(inform%C3%A1tica)"
   ]
  },
  {
   "cell_type": "markdown",
   "metadata": {},
   "source": [
    "### Notebook de IPython"
   ]
  },
  {
   "cell_type": "markdown",
   "metadata": {},
   "source": [
    "__Será nuestra herramienta de trabajo durante el curso__. Esto que estás leyendo ahora no es más que un notebook de IPython, que como diremos luego además de código puede contener texto e imágenes. Pero veamos primero cómo funciona.\n",
    "\n",
    "__Al iniciar el notebook de IPython, en la pantalla principal podemos ver una ruta y una lista de notebooks__. Cada notebook es un archivo que está almacenado en el ordenador en la ruta que aparece. Si en esa carpeta no hay notebooks, veremos un mensaje indicando que la lista de notebooks está vacía.\n",
    "\n",
    "Al crear un notebook o al abrir uno nuevo se abre la interfaz de IPython propiamente dicha donde ya podemos empezar a trabajar. Es similar a un intérprete, pero está dividida en **celdas**. Las celdas pueden contener, código, texto, imágenes...\n",
    "\n",
    "Cada celda de código está marcada por la palabra `In [<n>]` y están **numeradas**. Tan solo tenemos que escribir el código en ella y hacer click arriba en Cell -> Run, el triángulo (\"Run cell\") o usar el atajo `shift + Enter`. El resultado de la celda se muestra en el campo `Out [<n>]`, también numerado y coincidiendo con la celda que acabamos de ejecutar. Esto es importante, como ya veremos luego.\n",
    "\n",
    "Si en la barra superior seleccionas Markdown (o usas el atajo `Shift-M`) en lugar de Code puedes escribir texto:"
   ]
  },
  {
   "cell_type": "code",
   "execution_count": 4,
   "metadata": {
    "collapsed": false
   },
   "outputs": [
    {
     "data": {
      "text/html": [
       "<img src=\"../static/markdown_cell.gif\"/>"
      ],
      "text/plain": [
       "<IPython.core.display.Image object>"
      ]
     },
     "execution_count": 4,
     "metadata": {},
     "output_type": "execute_result"
    }
   ],
   "source": [
    "from IPython.display import Image\n",
    "Image(url=\"../static/markdown_cell.gif\")\n",
    "# Fuente Practical Numerical Methods with Python \n",
    "# http://openedx.seas.gwu.edu/courses/GW/MAE6286/2014_fall/about"
   ]
  },
  {
   "cell_type": "markdown",
   "metadata": {},
   "source": [
    "También ecuaciones en latex y mucho más. Esto es una herramienta muy potente para explicar a alguien o a ti mismo lo que tu código hace, para hacer un informe, un trabajo, escribir en un blog...\n",
    "\n",
    "Markdown es un lenguaje aparte, no te preocupes por él demasiado ahora, irás aprendiendo sobre la marcha... Para cuando lo vayas necesitando, aquí tienes una [chuleta](https://github.com/adam-p/markdown-here/wiki/Markdown-Cheatsheet)."
   ]
  },
  {
   "cell_type": "code",
   "execution_count": 5,
   "metadata": {
    "collapsed": false
   },
   "outputs": [
    {
     "data": {
      "text/html": [
       "<img src=\"../static/markdown_math.gif\"/>"
      ],
      "text/plain": [
       "<IPython.core.display.Image object>"
      ]
     },
     "execution_count": 5,
     "metadata": {},
     "output_type": "execute_result"
    }
   ],
   "source": [
    "Image(url=\"../static/markdown_math.gif\")\n",
    "# Fuente Practical Numerical Methods with Python \n",
    "# http://openedx.seas.gwu.edu/courses/GW/MAE6286/2014_fall/about"
   ]
  },
  {
   "cell_type": "markdown",
   "metadata": {},
   "source": [
    "Puedes mover las celdas de un lugar a otro de este modo:"
   ]
  },
  {
   "cell_type": "code",
   "execution_count": 6,
   "metadata": {
    "collapsed": false
   },
   "outputs": [
    {
     "data": {
      "text/html": [
       "<img src=\"../static/cell_move.gif\"/>"
      ],
      "text/plain": [
       "<IPython.core.display.Image object>"
      ]
     },
     "execution_count": 6,
     "metadata": {},
     "output_type": "execute_result"
    }
   ],
   "source": [
    "Image(url=\"../static/cell_move.gif\")\n",
    "# Fuente: Practical Numerical Methods with Python \n",
    "# http://openedx.seas.gwu.edu/courses/GW/MAE6286/2014_fall/about"
   ]
  },
  {
   "cell_type": "markdown",
   "metadata": {},
   "source": [
    "El Notebook tiene además numerosos atajos que irás aprendiendo sobre la marcha, puedes consultarlos en `Help > Keyboard Shortcourts`"
   ]
  },
  {
   "cell_type": "markdown",
   "metadata": {},
   "source": [
    "## Introducción a la sintaxis de Python"
   ]
  },
  {
   "cell_type": "markdown",
   "metadata": {},
   "source": [
    "### Tipos numéricos"
   ]
  },
  {
   "cell_type": "markdown",
   "metadata": {},
   "source": [
    "Python dispone de los tipos numéricos y las operaciones más habituales:"
   ]
  },
  {
   "cell_type": "code",
   "execution_count": 7,
   "metadata": {
    "collapsed": false
   },
   "outputs": [
    {
     "data": {
      "text/plain": [
       "7.0"
      ]
     },
     "execution_count": 7,
     "metadata": {},
     "output_type": "execute_result"
    }
   ],
   "source": [
    "2 * 4 - (7 - 1) / 3 + 1.0"
   ]
  },
  {
   "cell_type": "markdown",
   "metadata": {},
   "source": [
    "Las divisiones por cero lanzan un error:"
   ]
  },
  {
   "cell_type": "code",
   "execution_count": 8,
   "metadata": {
    "collapsed": false
   },
   "outputs": [
    {
     "ename": "ZeroDivisionError",
     "evalue": "division by zero",
     "output_type": "error",
     "traceback": [
      "\u001b[1;31m---------------------------------------------------------------------------\u001b[0m",
      "\u001b[1;31mZeroDivisionError\u001b[0m                         Traceback (most recent call last)",
      "\u001b[1;32m<ipython-input-8-e542b24897df>\u001b[0m in \u001b[0;36m<module>\u001b[1;34m()\u001b[0m\n\u001b[1;32m----> 1\u001b[1;33m \u001b[1;36m1\u001b[0m \u001b[1;33m/\u001b[0m \u001b[1;36m0\u001b[0m\u001b[1;33m\u001b[0m\u001b[0m\n\u001b[0m",
      "\u001b[1;31mZeroDivisionError\u001b[0m: division by zero"
     ]
    }
   ],
   "source": [
    "1 / 0 "
   ]
  },
  {
   "cell_type": "code",
   "execution_count": 9,
   "metadata": {
    "collapsed": false
   },
   "outputs": [
    {
     "ename": "ZeroDivisionError",
     "evalue": "float division by zero",
     "output_type": "error",
     "traceback": [
      "\u001b[1;31m---------------------------------------------------------------------------\u001b[0m",
      "\u001b[1;31mZeroDivisionError\u001b[0m                         Traceback (most recent call last)",
      "\u001b[1;32m<ipython-input-9-42176c28e89e>\u001b[0m in \u001b[0;36m<module>\u001b[1;34m()\u001b[0m\n\u001b[1;32m----> 1\u001b[1;33m \u001b[1;36m1.0\u001b[0m \u001b[1;33m/\u001b[0m \u001b[1;36m0.0\u001b[0m\u001b[1;33m\u001b[0m\u001b[0m\n\u001b[0m",
      "\u001b[1;31mZeroDivisionError\u001b[0m: float division by zero"
     ]
    }
   ],
   "source": [
    "1.0 / 0.0"
   ]
  },
  {
   "cell_type": "markdown",
   "metadata": {},
   "source": [
    "<div class=\"alert alert-info\">Más adelante veremos cómo tratar estos errores. Por otro lado, cuando usemos NumPy esta operación devolverá `NaN`.</div>"
   ]
  },
  {
   "cell_type": "markdown",
   "metadata": {},
   "source": [
    "La división entre enteros en Python 3 devuelve un número real, al contrario que en Python 2."
   ]
  },
  {
   "cell_type": "code",
   "execution_count": 10,
   "metadata": {
    "collapsed": false
   },
   "outputs": [
    {
     "data": {
      "text/plain": [
       "1.5"
      ]
     },
     "execution_count": 10,
     "metadata": {},
     "output_type": "execute_result"
    }
   ],
   "source": [
    "3 / 2"
   ]
  },
  {
   "cell_type": "markdown",
   "metadata": {},
   "source": [
    "Se puede forzar que la división sea entera con el operador `//`: "
   ]
  },
  {
   "cell_type": "code",
   "execution_count": 11,
   "metadata": {
    "collapsed": false
   },
   "outputs": [
    {
     "data": {
      "text/plain": [
       "1"
      ]
     },
     "execution_count": 11,
     "metadata": {},
     "output_type": "execute_result"
    }
   ],
   "source": [
    "3 // 2"
   ]
  },
  {
   "cell_type": "markdown",
   "metadata": {},
   "source": [
    "Se puede elevar un número a otro con el operador `**`:"
   ]
  },
  {
   "cell_type": "code",
   "execution_count": 12,
   "metadata": {
    "collapsed": false
   },
   "outputs": [
    {
     "data": {
      "text/plain": [
       "65536"
      ]
     },
     "execution_count": 12,
     "metadata": {},
     "output_type": "execute_result"
    }
   ],
   "source": [
    "2 ** 16"
   ]
  },
  {
   "cell_type": "markdown",
   "metadata": {},
   "source": [
    "Otro tipo que nos resultará muy útil son los complejos:"
   ]
  },
  {
   "cell_type": "code",
   "execution_count": 13,
   "metadata": {
    "collapsed": false
   },
   "outputs": [
    {
     "data": {
      "text/plain": [
       "(2+3j)"
      ]
     },
     "execution_count": 13,
     "metadata": {},
     "output_type": "execute_result"
    }
   ],
   "source": [
    "2 + 3j"
   ]
  },
  {
   "cell_type": "code",
   "execution_count": 14,
   "metadata": {
    "collapsed": false
   },
   "outputs": [
    {
     "data": {
      "text/plain": [
       "1j"
      ]
     },
     "execution_count": 14,
     "metadata": {},
     "output_type": "execute_result"
    }
   ],
   "source": [
    "1j"
   ]
  },
  {
   "cell_type": "code",
   "execution_count": 15,
   "metadata": {
    "collapsed": false
   },
   "outputs": [
    {
     "data": {
      "text/plain": [
       "3.605551275463989"
      ]
     },
     "execution_count": 15,
     "metadata": {},
     "output_type": "execute_result"
    }
   ],
   "source": [
    "# Valor absoluto\n",
    "abs(2 + 3j)"
   ]
  },
  {
   "cell_type": "markdown",
   "metadata": {},
   "source": [
    "<div class=\"alert alert-info\"><strong>Tip de IPython</strong>: podemos recuperar resultados pasados usando `_<n>`. Por ejemplo, para recuperar el resultado correspondiente a `Out [7]`, usaríamos `_7`. Esta variable guarda ese valor para toda la sesión.</div>"
   ]
  },
  {
   "cell_type": "code",
   "execution_count": 16,
   "metadata": {
    "collapsed": false
   },
   "outputs": [
    {
     "data": {
      "text/plain": [
       "3.605551275463989"
      ]
     },
     "execution_count": 16,
     "metadata": {},
     "output_type": "execute_result"
    }
   ],
   "source": [
    "abs(_13)"
   ]
  },
  {
   "cell_type": "markdown",
   "metadata": {},
   "source": [
    "Podemos __convertir variables__ a `int, float, complex, str`..."
   ]
  },
  {
   "cell_type": "code",
   "execution_count": 17,
   "metadata": {
    "collapsed": false
   },
   "outputs": [
    {
     "data": {
      "text/plain": [
       "18"
      ]
     },
     "execution_count": 17,
     "metadata": {},
     "output_type": "execute_result"
    }
   ],
   "source": [
    "int(18.6)"
   ]
  },
  {
   "cell_type": "code",
   "execution_count": 18,
   "metadata": {
    "collapsed": false
   },
   "outputs": [
    {
     "data": {
      "text/plain": [
       "19"
      ]
     },
     "execution_count": 18,
     "metadata": {},
     "output_type": "execute_result"
    }
   ],
   "source": [
    "round(18.6)"
   ]
  },
  {
   "cell_type": "code",
   "execution_count": 19,
   "metadata": {
    "collapsed": false
   },
   "outputs": [
    {
     "data": {
      "text/plain": [
       "1.0"
      ]
     },
     "execution_count": 19,
     "metadata": {},
     "output_type": "execute_result"
    }
   ],
   "source": [
    "float(1)"
   ]
  },
  {
   "cell_type": "code",
   "execution_count": 20,
   "metadata": {
    "collapsed": false
   },
   "outputs": [
    {
     "data": {
      "text/plain": [
       "(2+0j)"
      ]
     },
     "execution_count": 20,
     "metadata": {},
     "output_type": "execute_result"
    }
   ],
   "source": [
    "complex(2)"
   ]
  },
  {
   "cell_type": "code",
   "execution_count": 21,
   "metadata": {
    "collapsed": false
   },
   "outputs": [
    {
     "data": {
      "text/plain": [
       "'256568'"
      ]
     },
     "execution_count": 21,
     "metadata": {},
     "output_type": "execute_result"
    }
   ],
   "source": [
    "str(256568)"
   ]
  },
  {
   "cell_type": "markdown",
   "metadata": {},
   "source": [
    "Podemos __comprobar el tipo de una variable__:"
   ]
  },
  {
   "cell_type": "code",
   "execution_count": 22,
   "metadata": {
    "collapsed": false
   },
   "outputs": [
    {
     "data": {
      "text/plain": [
       "float"
      ]
     },
     "execution_count": 22,
     "metadata": {},
     "output_type": "execute_result"
    }
   ],
   "source": [
    "a = 2.\n",
    "type(a)"
   ]
  },
  {
   "cell_type": "code",
   "execution_count": 23,
   "metadata": {
    "collapsed": false
   },
   "outputs": [
    {
     "data": {
      "text/plain": [
       "True"
      ]
     },
     "execution_count": 23,
     "metadata": {},
     "output_type": "execute_result"
    }
   ],
   "source": [
    "isinstance(a, float)"
   ]
  },
  {
   "cell_type": "markdown",
   "metadata": {},
   "source": [
    "Otras funciones útiles son:"
   ]
  },
  {
   "cell_type": "code",
   "execution_count": 24,
   "metadata": {
    "collapsed": false
   },
   "outputs": [
    {
     "name": "stdout",
     "output_type": "stream",
     "text": [
      "hola mundo\n"
     ]
    }
   ],
   "source": [
    "print('hola mundo')"
   ]
  },
  {
   "cell_type": "code",
   "execution_count": 25,
   "metadata": {
    "collapsed": false
   },
   "outputs": [
    {
     "data": {
      "text/plain": [
       "8"
      ]
     },
     "execution_count": 25,
     "metadata": {},
     "output_type": "execute_result"
    }
   ],
   "source": [
    "max(1,5,8,7)"
   ]
  },
  {
   "cell_type": "code",
   "execution_count": 26,
   "metadata": {
    "collapsed": false
   },
   "outputs": [
    {
     "data": {
      "text/plain": [
       "-1"
      ]
     },
     "execution_count": 26,
     "metadata": {},
     "output_type": "execute_result"
    }
   ],
   "source": [
    "min(-1,1,0)"
   ]
  },
  {
   "cell_type": "markdown",
   "metadata": {},
   "source": [
    "<div class=\"alert alert-info\"><strong>Nota:</strong> Esta es la manera de llamar funciones en Python: los argumentos se encierran entre paréntesis y se separan por comas. Se hace de esta manera en otros lenguajes de programación y no requiere mayor explicación, de momento.</div>"
   ]
  },
  {
   "cell_type": "markdown",
   "metadata": {},
   "source": [
    "<div class=\"alert alert-warning\">La <strong>función <code>print</code></strong> es la que se usa para imprimir resultados por pantalla. Por si lo ves en algún sitio, en Python 2 era una sentencia y funcionaba de manera distinta, sin paréntesis y sin posibilidad de pasar argumentos adicionales.</div>"
   ]
  },
  {
   "cell_type": "markdown",
   "metadata": {},
   "source": [
    "### Asignación y operadores de comparación"
   ]
  },
  {
   "cell_type": "markdown",
   "metadata": {},
   "source": [
    "La asignación se realiza con el operador `=`. Los nombres de las variables en Python pueden contener caracteres alfanuméricos (empezando con una letra) a-z, A-Z, 0-9 y otros símbolos como la \\_. \n",
    "\n",
    "Por cuestiones de estilo, las variables suelen empezar con minúscula, reservando la mayúcula para clases. \n",
    "\n",
    "Algunos nombres no pueden ser usados porque son usados por python:\n",
    "\n",
    "    and, as, assert, break, class, continue, def, del, elif, else, except, exec, finally, for, from, global, if, import, in, is, lambda, not, or, pass, print, raise, return, try, while, with, yield"
   ]
  },
  {
   "cell_type": "code",
   "execution_count": 27,
   "metadata": {
    "collapsed": false
   },
   "outputs": [],
   "source": [
    "a = 1 + 2j"
   ]
  },
  {
   "cell_type": "markdown",
   "metadata": {},
   "source": [
    "<div class=\"alert alert-warning\"><strong>Nota:</strong> En Python la asignación no imprime el resultado por pantalla, al contrario de como sucede en MATLAB y Octave (salvo que se incluya el punto y coma al final). La mejor manera de visualizar la variable que acabamos de asignar es esta:</div>"
   ]
  },
  {
   "cell_type": "code",
   "execution_count": 28,
   "metadata": {
    "collapsed": false
   },
   "outputs": [
    {
     "data": {
      "text/plain": [
       "3.14159"
      ]
     },
     "execution_count": 28,
     "metadata": {},
     "output_type": "execute_result"
    }
   ],
   "source": [
    "b = 3.14159\n",
    "b"
   ]
  },
  {
   "cell_type": "markdown",
   "metadata": {},
   "source": [
    "<div class=\"alert alert-info\"><strong>Tip de IPython</strong>: En una celda podemos escribir código que ocupe varias líneas. Si la última de ellas devuelve un resultado, este se imprimirá. </div>"
   ]
  },
  {
   "cell_type": "code",
   "execution_count": 29,
   "metadata": {
    "collapsed": false
   },
   "outputs": [
    {
     "data": {
      "text/plain": [
       "(1, 2)"
      ]
     },
     "execution_count": 29,
     "metadata": {},
     "output_type": "execute_result"
    }
   ],
   "source": [
    "x, y = 1, 2\n",
    "x, y"
   ]
  },
  {
   "cell_type": "markdown",
   "metadata": {},
   "source": [
    "<div class=\"alert alert-info\">Podemos realizar **asignación múltiple**, que hemos hecho en la celda anterior con las variables `x` e `y` para intercambiar valores de manera intuitiva:</div>"
   ]
  },
  {
   "cell_type": "code",
   "execution_count": 30,
   "metadata": {
    "collapsed": false
   },
   "outputs": [
    {
     "data": {
      "text/plain": [
       "(2, 1)"
      ]
     },
     "execution_count": 30,
     "metadata": {},
     "output_type": "execute_result"
    }
   ],
   "source": [
    "x, y = y, x\n",
    "x, y"
   ]
  },
  {
   "cell_type": "markdown",
   "metadata": {},
   "source": [
    "Los operadores de comparación son:\n",
    "\n",
    "* `==` igual a\n",
    "* `!=` distinto de \n",
    "* `<` menor que\n",
    "* `<=` menor o igual que\n",
    "\n",
    "Devolverán un booleano: `True` o `False`"
   ]
  },
  {
   "cell_type": "code",
   "execution_count": 31,
   "metadata": {
    "collapsed": false
   },
   "outputs": [
    {
     "data": {
      "text/plain": [
       "False"
      ]
     },
     "execution_count": 31,
     "metadata": {},
     "output_type": "execute_result"
    }
   ],
   "source": [
    "x == y"
   ]
  },
  {
   "cell_type": "code",
   "execution_count": 32,
   "metadata": {
    "collapsed": false
   },
   "outputs": [
    {
     "name": "stdout",
     "output_type": "stream",
     "text": [
      "True\n"
     ]
    }
   ],
   "source": [
    "print(x != y)"
   ]
  },
  {
   "cell_type": "code",
   "execution_count": 33,
   "metadata": {
    "collapsed": false
   },
   "outputs": [
    {
     "name": "stdout",
     "output_type": "stream",
     "text": [
      "False\n",
      "False\n",
      "True\n",
      "True\n"
     ]
    }
   ],
   "source": [
    "print(x < y)\n",
    "print(x <= y)\n",
    "print(x > y)\n",
    "print(x >= y)"
   ]
  },
  {
   "cell_type": "code",
   "execution_count": 34,
   "metadata": {
    "collapsed": false
   },
   "outputs": [
    {
     "data": {
      "text/plain": [
       "False"
      ]
     },
     "execution_count": 34,
     "metadata": {},
     "output_type": "execute_result"
    }
   ],
   "source": [
    "# incluso:\n",
    "x = 5.\n",
    "6. < x < 8."
   ]
  },
  {
   "cell_type": "markdown",
   "metadata": {},
   "source": [
    "Si la ordenación no tiene sentido nos devolverá un error:"
   ]
  },
  {
   "cell_type": "code",
   "execution_count": 35,
   "metadata": {
    "collapsed": false
   },
   "outputs": [
    {
     "ename": "TypeError",
     "evalue": "unorderable types: complex() < complex()",
     "output_type": "error",
     "traceback": [
      "\u001b[1;31m---------------------------------------------------------------------------\u001b[0m",
      "\u001b[1;31mTypeError\u001b[0m                                 Traceback (most recent call last)",
      "\u001b[1;32m<ipython-input-35-9a32b6a036ce>\u001b[0m in \u001b[0;36m<module>\u001b[1;34m()\u001b[0m\n\u001b[1;32m----> 1\u001b[1;33m \u001b[1;36m1\u001b[0m \u001b[1;33m+\u001b[0m \u001b[1;36m1j\u001b[0m \u001b[1;33m<\u001b[0m \u001b[1;36m0\u001b[0m \u001b[1;33m+\u001b[0m \u001b[1;36m1j\u001b[0m\u001b[1;33m\u001b[0m\u001b[0m\n\u001b[0m",
      "\u001b[1;31mTypeError\u001b[0m: unorderable types: complex() < complex()"
     ]
    }
   ],
   "source": [
    "1 + 1j < 0 + 1j"
   ]
  },
  {
   "cell_type": "code",
   "execution_count": 36,
   "metadata": {
    "collapsed": false
   },
   "outputs": [
    {
     "data": {
      "text/plain": [
       "False"
      ]
     },
     "execution_count": 36,
     "metadata": {},
     "output_type": "execute_result"
    }
   ],
   "source": [
    "# En las cadenas de texto sí existe un orden\n",
    "'aaab' > 'ba'"
   ]
  },
  {
   "cell_type": "markdown",
   "metadata": {},
   "source": [
    "<div class=\"alert alert-success\"><strong>Buenas prácticas:</strong> No es necesario usar una variable temporal si queremos intercambiar el valor de dos variables</div>"
   ]
  },
  {
   "cell_type": "code",
   "execution_count": 19,
   "metadata": {
    "collapsed": true
   },
   "outputs": [],
   "source": [
    "# Mal\n",
    "foo = 'Foo'\n",
    "bar = 'Bar'\n",
    "temp = foo\n",
    "foo = bar\n",
    "bar = temp"
   ]
  },
  {
   "cell_type": "code",
   "execution_count": 20,
   "metadata": {
    "collapsed": true
   },
   "outputs": [],
   "source": [
    "# Bien\n",
    "foo = 'Foo'\n",
    "bar = 'Bar'\n",
    "(foo, bar) = (bar, foo)"
   ]
  },
  {
   "cell_type": "markdown",
   "metadata": {},
   "source": [
    "### Booleanos"
   ]
  },
  {
   "cell_type": "code",
   "execution_count": 37,
   "metadata": {
    "collapsed": false
   },
   "outputs": [
    {
     "data": {
      "text/plain": [
       "False"
      ]
     },
     "execution_count": 37,
     "metadata": {},
     "output_type": "execute_result"
    }
   ],
   "source": [
    "True and False"
   ]
  },
  {
   "cell_type": "code",
   "execution_count": 38,
   "metadata": {
    "collapsed": false
   },
   "outputs": [
    {
     "data": {
      "text/plain": [
       "True"
      ]
     },
     "execution_count": 38,
     "metadata": {},
     "output_type": "execute_result"
    }
   ],
   "source": [
    "not False"
   ]
  },
  {
   "cell_type": "code",
   "execution_count": 39,
   "metadata": {
    "collapsed": false
   },
   "outputs": [
    {
     "data": {
      "text/plain": [
       "True"
      ]
     },
     "execution_count": 39,
     "metadata": {},
     "output_type": "execute_result"
    }
   ],
   "source": [
    "True or False"
   ]
  },
  {
   "cell_type": "code",
   "execution_count": 40,
   "metadata": {
    "collapsed": false
   },
   "outputs": [
    {
     "data": {
      "text/plain": [
       "20"
      ]
     },
     "execution_count": 40,
     "metadata": {},
     "output_type": "execute_result"
    }
   ],
   "source": [
    "# Una curiosidad:\n",
    "(True + True) * 10 "
   ]
  },
  {
   "cell_type": "markdown",
   "metadata": {},
   "source": [
    "### Strings"
   ]
  },
  {
   "cell_type": "markdown",
   "metadata": {},
   "source": [
    "Uno de los mayores *cismas* entre Python 2 y Python 3\n",
    "<ul>\n",
    "    <li>En Python 2, hay strings y Unicode strings</li>\n",
    "    <li>En Python 3, hay bytes y strings (las strings son todas Unicode)</li>\n",
    "</ul>"
   ]
  },
  {
   "cell_type": "markdown",
   "metadata": {},
   "source": [
    "<div class=\"alert alert-info\"><strong>Mantras del programador</strong>: El texto plano no existe. Cualquier texto ha de llevar asociado una codificación de caracteres, para saber cómo transformar los bytes en texto legible</div>"
   ]
  },
  {
   "cell_type": "markdown",
   "metadata": {},
   "source": [
    "Hay idiomas que pueden ser completamente representados por la codificación de caracteres `ASCII`, como el inglés. \n",
    "Para otros idiomas, como el español, es popular la codificación de caracteres `CP-1252`, también conocida como `windows-1252`, por ser utilizada en sistemas Windows.\n",
    "\n",
    "En `CP-1252`, los bytes 0 a 127 son iguales que en `ASCII` (se usan para las letras del alfabeto, los números, etc). Los bytes 128 a 255 se utilizan para representar otros caracteres, como la `ñ`.\n",
    "\n",
    "Tanto `ASCII` como `CP-1252` utilizan un solo byte para representar cada caracter."
   ]
  },
  {
   "cell_type": "markdown",
   "metadata": {},
   "source": [
    "Otros idiomas, como el koreano, requieren más de un byte para representar todos los caracteres disponibles."
   ]
  },
  {
   "cell_type": "markdown",
   "metadata": {},
   "source": [
    "<strong>¿Qué hacemos?</strong>: UNICODE"
   ]
  },
  {
   "cell_type": "markdown",
   "metadata": {},
   "source": [
    "<div class='alert alert-info'><strong>Mantras del programador</strong>: Usa <a href='https://en.wikipedia.org/wiki/Unicode'>Unicode</a>. Puede representar cualquier caracter de cualquier idioma conocido</div>"
   ]
  },
  {
   "cell_type": "markdown",
   "metadata": {},
   "source": [
    "Existen dos versiones de Unicode:\n",
    "<ul>\n",
    "    <li>`UTF-16`: Codificación Unicode que usa 2 bytes para representar todos los caracteres. Para poder representar idiomas que requieren de más de 65535 caracteres, utiliza algunos hacks un poco sucios...</li>\n",
    "    <li>`UTF-32`: Codificación Unicopde que usa 4 bytes para representar todos los caracteres existentes. Cualquier idioma conocido es representable.</li>\n",
    "</ul>"
   ]
  },
  {
   "cell_type": "markdown",
   "metadata": {},
   "source": [
    "<div class=\"alert alert-warning\">4 bytes por caracter es mucho espacio. Hay idiomas, como el español o el inglés, que pueden representarse con un byte por caracter</div>"
   ]
  },
  {
   "cell_type": "markdown",
   "metadata": {},
   "source": [
    "<div class=\"alert alert-warning\">¿Y qué pasa con el bit order? El caracter Unicode UTF-16 `U+4E2D` puede ser almacenado como `4E 2D` en big-endian, o como `2D 4E` en little-endian...</div>"
   ]
  },
  {
   "cell_type": "markdown",
   "metadata": {},
   "source": [
    "El problema del bitorder para el intercambio de documentos de texto se arregló precediendo cada texto por un caracter especial no imprimible llamado *Byte Order Mark*. Para UTF-16, este caracter es `U+FEFF`. De manera que:\n",
    "\n",
    "<ul>\n",
    "    <li>Si recibimos un documento UTF-16 que empieza por `FF FE`: big-endian\n",
    "    <li>Si recibimos `FE FF`: little-endian\n",
    "</ul>"
   ]
  },
  {
   "cell_type": "markdown",
   "metadata": {},
   "source": [
    "Para solucionar el desperdicio de espacio que supone usar 4 bytes por caracter. surgió <strong>UTF-8</strong>"
   ]
  },
  {
   "cell_type": "markdown",
   "metadata": {},
   "source": [
    "<div class='alert alert-info'><a href=\"https://en.wikipedia.org/wiki/UTF-8\">UTF-8</a> es una codificación Unicode de longitud variable. Usa la misma representación que `ASCII` para los 128 primeros caracteres, dos bytes para alfabeto latino extendido (español, por ejemplo), 3 bytes para caracteres chinos, y 4 para el resto (no representables con menos de 4 bytes)</div>"
   ]
  },
  {
   "cell_type": "markdown",
   "metadata": {},
   "source": [
    "<strong>Ventajas UTF-8</strong>\n",
    "\n",
    "<ul>\n",
    "    <li>Optimización de espacio</li>\n",
    "    <li>No hay problemas por el bitorder, la representación siempre es igual</li>\n",
    "</ul>"
   ]
  },
  {
   "cell_type": "markdown",
   "metadata": {},
   "source": [
    "<strong>Desventajas UTF-8</strong>\n",
    "\n",
    "<ul>\n",
    "    <li>La búsqueda de caracteres es de `O(N)`, siendo `N` la longitud del texto, al usar diferente número de bytes para diferentes caracteres</li>\n",
    "</ul>"
   ]
  },
  {
   "cell_type": "markdown",
   "metadata": {},
   "source": [
    "En Python 3, <strong>Todos los strings son secuencias de caracteres Unicode</strong>"
   ]
  },
  {
   "cell_type": "code",
   "execution_count": 10,
   "metadata": {
    "collapsed": true
   },
   "outputs": [],
   "source": [
    "# Podemos asignar a una variable cualquier caracter unicode\n",
    "s = '深入 Python'"
   ]
  },
  {
   "cell_type": "code",
   "execution_count": 4,
   "metadata": {
    "collapsed": false
   },
   "outputs": [
    {
     "data": {
      "text/plain": [
       "9"
      ]
     },
     "execution_count": 4,
     "metadata": {},
     "output_type": "execute_result"
    }
   ],
   "source": [
    "# Su longitud, dependerá del número de Bytes usados para representarla\n",
    "len(s)"
   ]
  },
  {
   "cell_type": "code",
   "execution_count": 11,
   "metadata": {
    "collapsed": false
   },
   "outputs": [
    {
     "data": {
      "text/plain": [
       "'深'"
      ]
     },
     "execution_count": 11,
     "metadata": {},
     "output_type": "execute_result"
    }
   ],
   "source": [
    "# El elemento string es un array de caracteres, podemos acceder a ellos como a cualquier array\n",
    "s[0]"
   ]
  },
  {
   "cell_type": "markdown",
   "metadata": {},
   "source": [
    "En Python 3 el <a href=\"https://docs.python.org/3.1/library/string.html#format-string-syntax\">formateador de cadenas</a> es muy poderoso. Podemos construir cadenas en base a prácticamente cualquier cosa (variables de todo tipo, listas, tuplas...)"
   ]
  },
  {
   "cell_type": "code",
   "execution_count": 12,
   "metadata": {
    "collapsed": false
   },
   "outputs": [
    {
     "data": {
      "text/plain": [
       "'Jorge es tremendamente sexy'"
      ]
     },
     "execution_count": 12,
     "metadata": {},
     "output_type": "execute_result"
    }
   ],
   "source": [
    "# Ejemplo sencillo de formateo de cadenas con variables posicionales\n",
    "nombre = 'Jorge'\n",
    "cualidad = 'sexy'\n",
    "\"{0} es tremendamente {1}\".format(nombre, cualidad)"
   ]
  },
  {
   "cell_type": "code",
   "execution_count": 13,
   "metadata": {
    "collapsed": false
   },
   "outputs": [
    {
     "data": {
      "text/plain": [
       "'1000KB = 1MB'"
      ]
     },
     "execution_count": 13,
     "metadata": {},
     "output_type": "execute_result"
    }
   ],
   "source": [
    "# Puedo sustituir posiciones de un array\n",
    "si_suffixes = ['KB', 'MB', 'GB', 'TB', 'PB', 'EB', 'ZB', 'YB']\n",
    "\"1000{0[0]} = 1{0[1]}\".format(si_suffixes)"
   ]
  },
  {
   "cell_type": "markdown",
   "metadata": {},
   "source": [
    "La documentación del formateador de cadenas es bastante densa. Se pueden consultar ejemplos concretos <a href=\"https://pyformat.info/\">aquí</a>"
   ]
  },
  {
   "cell_type": "markdown",
   "metadata": {},
   "source": [
    "<div class=\"alert alert-success\"><strong>Buenas prácticas</strong>: En Python 2, el formateador de cadenas era muy parecido al estándar de lenguajes como C. Aun es posible usarlo en Python 3, pero no se recomienda. También podemos formatear cadenas simplemente concatenando, pero tampoco se recomienda</div>"
   ]
  },
  {
   "cell_type": "code",
   "execution_count": 15,
   "metadata": {
    "collapsed": false
   },
   "outputs": [
    {
     "data": {
      "text/plain": [
       "'Nombre: Jorge, Edad: 36, Sexo: Hombre'"
      ]
     },
     "execution_count": 15,
     "metadata": {},
     "output_type": "execute_result"
    }
   ],
   "source": [
    "# Mala practica: formateador antiguo\n",
    "def format_user_info(name, age, sex):\n",
    "     return \"Nombre: \" + name + \", Edad: \" + age + \", Sexo: \" + sex\n",
    "    \n",
    "format_user_info(\"Jorge\", 36, \"Hombre\")"
   ]
  },
  {
   "cell_type": "code",
   "execution_count": 17,
   "metadata": {
    "collapsed": false
   },
   "outputs": [
    {
     "data": {
      "text/plain": [
       "'Nombre: Jorge, Edad: 36, Sexo: Hombre'"
      ]
     },
     "execution_count": 17,
     "metadata": {},
     "output_type": "execute_result"
    }
   ],
   "source": [
    "# Mala practica: concatenación simple de cadenas\n",
    "def format_user_info(name, age, sex):\n",
    "     return \"Nombre: %s, Edad: %d, Sexo: %s\" % (name, age, sex)\n",
    "    \n",
    "format_user_info(\"Jorge\", 36, \"Hombre\")"
   ]
  },
  {
   "cell_type": "code",
   "execution_count": 18,
   "metadata": {
    "collapsed": false
   },
   "outputs": [
    {
     "data": {
      "text/plain": [
       "'Nombre:Jorge, Edad: 36, Sexo: Hombre'"
      ]
     },
     "execution_count": 18,
     "metadata": {},
     "output_type": "execute_result"
    }
   ],
   "source": [
    "# Buena practica: formateador nuevo\n",
    "def format_user_info(name, age, sex):\n",
    "     return \"Nombre:{0}, Edad: {1}, Sexo: {2}\".format(name, age, sex)\n",
    "    \n",
    "format_user_info(\"Jorge\", 36, \"Hombre\")"
   ]
  },
  {
   "cell_type": "markdown",
   "metadata": {},
   "source": [
    "# Otros tipos de datos: secuencias"
   ]
  },
  {
   "cell_type": "markdown",
   "metadata": {},
   "source": [
    "Otro tipo de datos muy importante que vamos a usar son las secuencias: las tuplas y las listas. Los dos son conjuntos ordenados de elementos: las tuplas se demarcan con paréntesis y las listas con corchetes."
   ]
  },
  {
   "cell_type": "code",
   "execution_count": 41,
   "metadata": {
    "collapsed": false
   },
   "outputs": [
    {
     "name": "stdout",
     "output_type": "stream",
     "text": [
      "[1, 2, 3.0, (4+0j), '5']\n",
      "(1, 2, 3.0, (4+0j), '5')\n",
      "False\n"
     ]
    }
   ],
   "source": [
    "una_lista = [1, 2, 3.0, 4 + 0j, \"5\"]\n",
    "una_tupla = (1, 2, 3.0, 4 + 0j, \"5\")\n",
    "print(una_lista)\n",
    "print(una_tupla)\n",
    "print(una_lista == una_tupla)"
   ]
  },
  {
   "cell_type": "markdown",
   "metadata": {},
   "source": [
    "Para las tuplas, podemos incluso obviar los paréntesis:"
   ]
  },
  {
   "cell_type": "code",
   "execution_count": 42,
   "metadata": {
    "collapsed": false
   },
   "outputs": [
    {
     "data": {
      "text/plain": [
       "tuple"
      ]
     },
     "execution_count": 42,
     "metadata": {},
     "output_type": "execute_result"
    }
   ],
   "source": [
    "tupla_sin_parentesis = 2,5,6,9,7\n",
    "type(tupla_sin_parentesis)"
   ]
  },
  {
   "cell_type": "markdown",
   "metadata": {},
   "source": [
    "En los dos tipos podemos:\n",
    "\n",
    "* Comprobar si un elemento está en la secuencia con el operador `in`:"
   ]
  },
  {
   "cell_type": "code",
   "execution_count": 43,
   "metadata": {
    "collapsed": false
   },
   "outputs": [
    {
     "data": {
      "text/plain": [
       "True"
      ]
     },
     "execution_count": 43,
     "metadata": {},
     "output_type": "execute_result"
    }
   ],
   "source": [
    "2 in una_lista"
   ]
  },
  {
   "cell_type": "code",
   "execution_count": 44,
   "metadata": {
    "collapsed": false
   },
   "outputs": [
    {
     "data": {
      "text/plain": [
       "True"
      ]
     },
     "execution_count": 44,
     "metadata": {},
     "output_type": "execute_result"
    }
   ],
   "source": [
    "2 in una_tupla"
   ]
  },
  {
   "cell_type": "markdown",
   "metadata": {},
   "source": [
    "* Saber cuandos elementos tienen con la función `len`:"
   ]
  },
  {
   "cell_type": "code",
   "execution_count": 45,
   "metadata": {
    "collapsed": false
   },
   "outputs": [
    {
     "data": {
      "text/plain": [
       "5"
      ]
     },
     "execution_count": 45,
     "metadata": {},
     "output_type": "execute_result"
    }
   ],
   "source": [
    "len(una_lista)"
   ]
  },
  {
   "cell_type": "markdown",
   "metadata": {},
   "source": [
    "* Podemos *indexar* las secuencias, utilizando la sintaxis `[<inicio>:<final>:<salto>]`:"
   ]
  },
  {
   "cell_type": "code",
   "execution_count": 46,
   "metadata": {
    "collapsed": false
   },
   "outputs": [
    {
     "name": "stdout",
     "output_type": "stream",
     "text": [
      "1\n",
      "2\n",
      "[1, 2]\n",
      "(1, 2, 3.0)\n",
      "5\n",
      "(1, 2, 3.0, (4+0j), '5')\n",
      "[1, 3.0, '5']\n"
     ]
    }
   ],
   "source": [
    "print(una_lista[0])  # Primer elemento, 1\n",
    "print(una_tupla[1])  # Segundo elemento, 2\n",
    "print(una_lista[0:2])  # Desde el primero hasta el tercero, excluyendo este: 1, 2\n",
    "print(una_tupla[:3])  # Desde el primero hasta el cuarto, excluyendo este: 1, 2, 3.0\n",
    "print(una_lista[-1])  # El último: 4 + 0j\n",
    "print(una_tupla[:])  # Desde el primero hasta el último\n",
    "print(una_lista[::2])  # Desde el primero hasta el último, saltando 2: 1, 3.0"
   ]
  },
  {
   "cell_type": "markdown",
   "metadata": {},
   "source": [
    " Veremos más cosas acerca de indexación en NumPy, así que de momento no te preocupes. Sólo __recuerda una cosa:__"
   ]
  },
  {
   "cell_type": "markdown",
   "metadata": {},
   "source": [
    "<div class=\"alert alert-warning\"><strong>Nota:</strong> ¡En Python la indexación empieza por cero!</div>"
   ]
  },
  {
   "cell_type": "markdown",
   "metadata": {},
   "source": [
    "Fíjate en dos detalles:\n",
    "\n",
    "* Cuando especificamos índices negativos, recorremos el array desde el final hasta el principio. Por eso `[-1]` da el último elemento, `[-2]` el penúltimo y así sucesivamente.\n",
    "* Hemos utilizado la notación `[::2]` para el último caso. Esto es una manera abreviada de escribir `[0:-1:2]`, es decir, si no decimos nada empezamos en el principio y terminamos en el final. Por eso `[:]` devuelve todos los elementos de la secuencia."
   ]
  },
  {
   "cell_type": "markdown",
   "metadata": {},
   "source": [
    "Podemos complicarlo un poco más y hacer cosas como una __lista de listas__:"
   ]
  },
  {
   "cell_type": "code",
   "execution_count": 2,
   "metadata": {
    "collapsed": false
   },
   "outputs": [
    {
     "name": "stdout",
     "output_type": "stream",
     "text": [
      "[[1, 2, 3], [4, 5]]\n",
      "[1, 2, 3]\n",
      "1\n"
     ]
    }
   ],
   "source": [
    "a = [\n",
    " [1, 2, 3],\n",
    " [4, 5],\n",
    "]\n",
    "print(a)\n",
    "print(a[0])\n",
    "print(a[0][0])"
   ]
  },
  {
   "cell_type": "markdown",
   "metadata": {},
   "source": [
    "Esto nos será de gran ayuda en el futuro para construir arrays."
   ]
  },
  {
   "cell_type": "markdown",
   "metadata": {},
   "source": [
    "<div class=\"alert alert-success\"><strong>Buena práctica</strong>: Siempre que puedas, usa <a href=\"http://python-3-patterns-idioms-test.readthedocs.io/en/latest/Comprehensions.html\">*list comprehensions*</a></div>"
   ]
  },
  {
   "cell_type": "code",
   "execution_count": 24,
   "metadata": {
    "collapsed": false
   },
   "outputs": [
    {
     "data": {
      "text/plain": [
       "[0, 3, 6, 9]"
      ]
     },
     "execution_count": 24,
     "metadata": {},
     "output_type": "execute_result"
    }
   ],
   "source": [
    "# Mal, esto no es pythonista\n",
    "numeros = range(10)\n",
    "multiplos_de_3 = list()\n",
    "for element in numeros:\n",
    "    if not element % 3:\n",
    "        multiplos_de_3.append(element)\n",
    "        \n",
    "multiplos_de_3"
   ]
  },
  {
   "cell_type": "code",
   "execution_count": 25,
   "metadata": {
    "collapsed": false
   },
   "outputs": [
    {
     "data": {
      "text/plain": [
       "[0, 3, 6, 9]"
      ]
     },
     "execution_count": 25,
     "metadata": {},
     "output_type": "execute_result"
    }
   ],
   "source": [
    "# Así sí que eres un buen Pythonista\n",
    "numeros = range(10)\n",
    "multiplos_de_3 = [element\n",
    "                  for element in numeros\n",
    "                  if not element % 3]\n",
    "\n",
    "multiplos_de_3"
   ]
  },
  {
   "cell_type": "markdown",
   "metadata": {},
   "source": [
    "<div class=\"alert alert-success\"><strong>Buena práctica</strong>: Usa el operador `*` para representar el *resto* de una lista</div>"
   ]
  },
  {
   "cell_type": "code",
   "execution_count": 29,
   "metadata": {
    "collapsed": false
   },
   "outputs": [
    {
     "name": "stdout",
     "output_type": "stream",
     "text": [
      "a\n",
      "e\n",
      "['i', 'o', 'u']\n"
     ]
    }
   ],
   "source": [
    "# Mal, no es pythonista\n",
    "vocales = ['a', 'e', 'i', 'o', 'u']\n",
    "(first, second, rest) = vocales[0], vocales[1], vocales[2:]\n",
    "\n",
    "print(first)\n",
    "print(second)\n",
    "print(rest)"
   ]
  },
  {
   "cell_type": "code",
   "execution_count": 31,
   "metadata": {
    "collapsed": false
   },
   "outputs": [
    {
     "name": "stdout",
     "output_type": "stream",
     "text": [
      "a\n",
      "e\n",
      "['i', 'o', 'u']\n"
     ]
    }
   ],
   "source": [
    "# Así sí eres un buen pythonista\n",
    "vocales = ['a', 'e', 'i', 'o', 'u']\n",
    "(first, second, *rest) = vocales\n",
    "\n",
    "print(first)\n",
    "print(second)\n",
    "print(rest)"
   ]
  },
  {
   "cell_type": "markdown",
   "metadata": {},
   "source": [
    "Esto último que hemos hecho se denomina *desempaquetar* unos datos. Para los que os acordéis de LISP, esto se llamaba *desctructuring bind* (extraer valores de una estructura de datos y enlazarlos con variables)."
   ]
  },
  {
   "cell_type": "markdown",
   "metadata": {},
   "source": [
    "<div class=\"alert alert-success\"><strong>Buena práctica</strong>: Usa tuplas para desempaquetar datos</div>"
   ]
  },
  {
   "cell_type": "code",
   "execution_count": 34,
   "metadata": {
    "collapsed": false
   },
   "outputs": [
    {
     "name": "stdout",
     "output_type": "stream",
     "text": [
      "Mi perro se llama Miko y tiene 7 años\n"
     ]
    }
   ],
   "source": [
    "# Mal, esto no es Pythonista\n",
    "mis_datos = ['perro', 'Miko', 7]\n",
    "animal = mis_datos[0]\n",
    "nombre = mis_datos[1]\n",
    "edad = mis_datos[2]\n",
    "\n",
    "print(\"Mi {a} se llama {n} y tiene {e} años\".format(a=animal, n=nombre, e=edad))"
   ]
  },
  {
   "cell_type": "code",
   "execution_count": 35,
   "metadata": {
    "collapsed": false
   },
   "outputs": [
    {
     "name": "stdout",
     "output_type": "stream",
     "text": [
      "Mi perro se llama Miko y tiene 7 años\n"
     ]
    }
   ],
   "source": [
    "# Bien, esto es Pythonista\n",
    "mis_datos = ['perro', 'Miko', 7]\n",
    "(animal, nombre, edad) = mis_datos\n",
    "\n",
    "print(\"Mi {a} se llama {n} y tiene {e} años\".format(a=animal, n=nombre, e=edad))"
   ]
  },
  {
   "cell_type": "markdown",
   "metadata": {},
   "source": [
    "<div class=\"alert alert-success\"><strong>Buena práctica</strong>: Usa el placeholder `_` para datos que quieres ignorar al desempaquetar</div>"
   ]
  },
  {
   "cell_type": "code",
   "execution_count": 36,
   "metadata": {
    "collapsed": false
   },
   "outputs": [
    {
     "name": "stdout",
     "output_type": "stream",
     "text": [
      "uno\n",
      "dos\n",
      "tres\n"
     ]
    }
   ],
   "source": [
    "# Pythonista, pero mejorable\n",
    "cadenas = ['uno', 'dos', 'tres', 'esto', 'me', 'sobra']\n",
    "(primero, segundo, tercero, *resto) = cadenas\n",
    "\n",
    "print(primero)\n",
    "print(segundo)\n",
    "print(tercero)\n",
    "\n"
   ]
  },
  {
   "cell_type": "code",
   "execution_count": 38,
   "metadata": {
    "collapsed": false
   },
   "outputs": [
    {
     "name": "stdout",
     "output_type": "stream",
     "text": [
      "uno\n",
      "dos\n",
      "tres\n"
     ]
    }
   ],
   "source": [
    "# Bien, esto sí es pythonista 100%\n",
    "cadenas = ['uno', 'dos', 'tres', 'esto', 'me', 'sobra']\n",
    "(primero, segundo, tercero, *_) = cadenas\n",
    "\n",
    "print(primero)\n",
    "print(segundo)\n",
    "print(tercero)"
   ]
  },
  {
   "cell_type": "markdown",
   "metadata": {},
   "source": [
    "# Otros tipos de datos: sets"
   ]
  },
  {
   "cell_type": "markdown",
   "metadata": {},
   "source": [
    "Los conjuntos, o *set* son contenedores de valores únicos. Pueden contener valores de diferentes tipos mezclados. Además, podemos realizar con ellos las típicas operaciones de álgebra de conjuntos (union, intersección, diferencia)"
   ]
  },
  {
   "cell_type": "markdown",
   "metadata": {},
   "source": [
    "Es facil crear sets, usando llaves, y metiendo los elementos separados por comas"
   ]
  },
  {
   "cell_type": "code",
   "execution_count": 39,
   "metadata": {
    "collapsed": false
   },
   "outputs": [
    {
     "data": {
      "text/plain": [
       "set"
      ]
     },
     "execution_count": 39,
     "metadata": {},
     "output_type": "execute_result"
    }
   ],
   "source": [
    "# Creamos conjunto con un elemento, y vemos su tipo\n",
    "a_set = {1}\n",
    "\n",
    "type(a_set)"
   ]
  },
  {
   "cell_type": "code",
   "execution_count": 40,
   "metadata": {
    "collapsed": false
   },
   "outputs": [
    {
     "data": {
      "text/plain": [
       "{1, 2}"
      ]
     },
     "execution_count": 40,
     "metadata": {},
     "output_type": "execute_result"
    }
   ],
   "source": [
    "# Podemos meter todos los elementos que queramos\n",
    "a_set = {1, 2}\n",
    "\n",
    "a_set"
   ]
  },
  {
   "cell_type": "markdown",
   "metadata": {},
   "source": [
    "También podemos crearlos a partir de listas"
   ]
  },
  {
   "cell_type": "code",
   "execution_count": 42,
   "metadata": {
    "collapsed": false
   },
   "outputs": [
    {
     "name": "stdout",
     "output_type": "stream",
     "text": [
      "{False, True, 'a', 'mpilgrim', 42, 'b'}\n",
      "['a', 'b', 'mpilgrim', True, False, 42]\n"
     ]
    }
   ],
   "source": [
    "# Se puede crear un set a partir de una lista, pero no recuerda el orden\n",
    "a_list = ['a', 'b', 'mpilgrim', True, False, 42]\n",
    "a_set = set(a_list)\n",
    "\n",
    "print(a_set)\n",
    "print(a_list)\n"
   ]
  },
  {
   "cell_type": "markdown",
   "metadata": {},
   "source": [
    "O crearlos vacíos"
   ]
  },
  {
   "cell_type": "code",
   "execution_count": 44,
   "metadata": {
    "collapsed": false
   },
   "outputs": [
    {
     "name": "stdout",
     "output_type": "stream",
     "text": [
      "set()\n"
     ]
    },
    {
     "data": {
      "text/plain": [
       "set"
      ]
     },
     "execution_count": 44,
     "metadata": {},
     "output_type": "execute_result"
    }
   ],
   "source": [
    "# Creamos un set vacío\n",
    "a_set = set()\n",
    "\n",
    "print(a_set)\n",
    "type(a_set)"
   ]
  },
  {
   "cell_type": "markdown",
   "metadata": {},
   "source": [
    "Pero ojo, que si intentamos crearlo con dos llaves y nada en medio, nos crea un diccionario, no un conjunto (veramos a continuación los diccionarios)"
   ]
  },
  {
   "cell_type": "code",
   "execution_count": 45,
   "metadata": {
    "collapsed": false
   },
   "outputs": [
    {
     "data": {
      "text/plain": [
       "dict"
      ]
     },
     "execution_count": 45,
     "metadata": {},
     "output_type": "execute_result"
    }
   ],
   "source": [
    "not_sure = {}\n",
    "type(not_sure)"
   ]
  },
  {
   "cell_type": "markdown",
   "metadata": {},
   "source": [
    "Podemos añadir elementos a un set mediante *add* o mediante *update*"
   ]
  },
  {
   "cell_type": "code",
   "execution_count": 47,
   "metadata": {
    "collapsed": false
   },
   "outputs": [
    {
     "name": "stdout",
     "output_type": "stream",
     "text": [
      "{1, 2, 3}\n",
      "{1, 2, 3, 4}\n",
      "{1, 2, 3, 4}\n"
     ]
    }
   ],
   "source": [
    "# Añadimos elementos con add. Si añadimos un elemento que ya existe, no hace nada\n",
    "a_set = {1, 2, 3}\n",
    "print(a_set)\n",
    "\n",
    "a_set.add(4)\n",
    "print(a_set)\n",
    "\n",
    "a_set.add(1)\n",
    "print(a_set)"
   ]
  },
  {
   "cell_type": "code",
   "execution_count": 48,
   "metadata": {
    "collapsed": false
   },
   "outputs": [
    {
     "name": "stdout",
     "output_type": "stream",
     "text": [
      "{1, 2, 3}\n",
      "{1, 2, 3, 4, 5, 6}\n"
     ]
    }
   ],
   "source": [
    "# Con update, es como si llamaramos a add varias veces\n",
    "a_set = {1, 2, 3}\n",
    "print(a_set)\n",
    "\n",
    "a_set.update({4, 5, 6})\n",
    "print(a_set)"
   ]
  },
  {
   "cell_type": "markdown",
   "metadata": {},
   "source": [
    "Para borrar elementos de un set, tenemos 3 opciones\n",
    "\n",
    "<ul>\n",
    "    <li>El método *discard*</li>\n",
    "    <li>El método *remove*</li>\n",
    "    <li>El método *pop*</li>\n",
    "</ul>"
   ]
  },
  {
   "cell_type": "code",
   "execution_count": 49,
   "metadata": {
    "collapsed": false
   },
   "outputs": [
    {
     "name": "stdout",
     "output_type": "stream",
     "text": [
      "{1, 3, 36, 6, 10, 45, 15, 21, 28}\n",
      "{1, 3, 36, 6, 45, 15, 21, 28}\n",
      "{1, 3, 36, 6, 45, 15, 21, 28}\n",
      "{1, 3, 36, 6, 45, 15, 28}\n"
     ]
    },
    {
     "ename": "KeyError",
     "evalue": "21",
     "output_type": "error",
     "traceback": [
      "\u001b[1;31m---------------------------------------------------------------------------\u001b[0m",
      "\u001b[1;31mKeyError\u001b[0m                                  Traceback (most recent call last)",
      "\u001b[1;32m<ipython-input-49-4cf807075374>\u001b[0m in \u001b[0;36m<module>\u001b[1;34m()\u001b[0m\n\u001b[0;32m     12\u001b[0m \u001b[0mprint\u001b[0m\u001b[1;33m(\u001b[0m\u001b[0ma_set\u001b[0m\u001b[1;33m)\u001b[0m\u001b[1;33m\u001b[0m\u001b[0m\n\u001b[0;32m     13\u001b[0m \u001b[1;33m\u001b[0m\u001b[0m\n\u001b[1;32m---> 14\u001b[1;33m \u001b[0ma_set\u001b[0m\u001b[1;33m.\u001b[0m\u001b[0mremove\u001b[0m\u001b[1;33m(\u001b[0m\u001b[1;36m21\u001b[0m\u001b[1;33m)\u001b[0m\u001b[1;33m\u001b[0m\u001b[0m\n\u001b[0m\u001b[0;32m     15\u001b[0m \u001b[0mprint\u001b[0m\u001b[1;33m(\u001b[0m\u001b[0ma_set\u001b[0m\u001b[1;33m)\u001b[0m\u001b[1;33m\u001b[0m\u001b[0m\n",
      "\u001b[1;31mKeyError\u001b[0m: 21"
     ]
    }
   ],
   "source": [
    "# Discard y remove se diferencian en que, si el elemento no existe, remove lanza una excepcion y discard no\n",
    "a_set = {1, 3, 6, 10, 15, 21, 28, 36, 45}\n",
    "print(a_set)\n",
    "\n",
    "a_set.discard(10)\n",
    "print(a_set)\n",
    "\n",
    "a_set.discard(10)\n",
    "print(a_set)\n",
    "\n",
    "a_set.remove(21)\n",
    "print(a_set)\n",
    "\n",
    "a_set.remove(21)\n",
    "print(a_set)"
   ]
  },
  {
   "cell_type": "code",
   "execution_count": 51,
   "metadata": {
    "collapsed": false
   },
   "outputs": [
    {
     "name": "stdout",
     "output_type": "stream",
     "text": [
      "{1, 3, 36, 6, 10, 45, 15, 21, 28}\n",
      "{3, 36, 6, 10, 45, 15, 21, 28}\n",
      "{36, 6, 10, 45, 15, 21, 28}\n",
      "set()\n"
     ]
    }
   ],
   "source": [
    "# pop devuelve el último elemento extraído, y clear elimina todos los elementos\n",
    "a_set = {1, 3, 6, 10, 15, 21, 28, 36, 45}\n",
    "print(a_set)\n",
    "    \n",
    "a_set.pop()\n",
    "print(a_set)\n",
    "\n",
    "a_set.pop()\n",
    "print(a_set)\n",
    "\n",
    "a_set.clear()\n",
    "print(a_set)"
   ]
  },
  {
   "cell_type": "markdown",
   "metadata": {},
   "source": [
    "<div class=\"alert alert-success\"><strong>Buena práctica</strong>: Usa set para eliminar repetidos de listas (y de iteradores en general, como veremos más adelante)</div>"
   ]
  },
  {
   "cell_type": "code",
   "execution_count": 52,
   "metadata": {
    "collapsed": false
   },
   "outputs": [
    {
     "name": "stdout",
     "output_type": "stream",
     "text": [
      "[1, 2, 2, 3, 3, 3, 4, 4, 4, 4]\n",
      "{1, 2, 3, 4}\n"
     ]
    }
   ],
   "source": [
    "# Podemos construir un set a partir de una lista, y se eliminarán los duplicados directamente\n",
    "a_list = [1, 2, 2, 3, 3, 3, 4, 4, 4, 4]\n",
    "print(a_list)\n",
    "\n",
    "a_set = set(a_list)\n",
    "print(a_set)"
   ]
  },
  {
   "cell_type": "markdown",
   "metadata": {},
   "source": [
    "Las operaciones típicas de teorías de conjuntos se pueden hacer también con set"
   ]
  },
  {
   "cell_type": "code",
   "execution_count": 54,
   "metadata": {
    "collapsed": false
   },
   "outputs": [
    {
     "name": "stdout",
     "output_type": "stream",
     "text": [
      "{1, 2, 195, 4, 5, 3, 6, 8, 9, 76, 12, 15, 17, 18, 21, 30, 51, 127}\n",
      "{9, 2, 21, 12, 5}\n",
      "{195, 4, 76, 51, 30, 127}\n",
      "{1, 3, 195, 6, 4, 8, 76, 15, 17, 18, 51, 30, 127}\n"
     ]
    }
   ],
   "source": [
    "# Operaciones típicas de conjuntos: in, union, intersection, difference, symmetric_difference\n",
    "a_set = {2, 4, 5, 9, 12, 21, 30, 51, 76, 127, 195}\n",
    "assert(30 in a_set)\n",
    "assert(31 not in a_set)\n",
    "b_set = {1, 2, 3, 5, 6, 8, 9, 12, 15, 17, 18, 21}\n",
    "print(a_set.union(b_set))\n",
    "print(a_set.intersection(b_set))\n",
    "print(a_set.difference(b_set))\n",
    "print(a_set.symmetric_difference(b_set))"
   ]
  },
  {
   "cell_type": "markdown",
   "metadata": {},
   "source": [
    "# Otros tipos de datos: diccionarios"
   ]
  },
  {
   "cell_type": "markdown",
   "metadata": {},
   "source": [
    "Los diccionarios son como los set, pero tienen tuplas clave:valor, en lugar de elementos sueltos."
   ]
  },
  {
   "cell_type": "markdown",
   "metadata": {},
   "source": [
    "<div class=\"alert alert-info\">Un diccionario en Python es como un elemento *hash* en Perl 5</div>"
   ]
  },
  {
   "cell_type": "code",
   "execution_count": 58,
   "metadata": {
    "collapsed": false
   },
   "outputs": [
    {
     "name": "stdout",
     "output_type": "stream",
     "text": [
      "{'database': 'MySQL', 'server': 'server.com'}\n"
     ]
    }
   ],
   "source": [
    "# Crear un diccionario es igual de sencillo que un set\n",
    "a_dict = {'server': 'server.com', 'database': 'MySQL'}\n",
    "print(a_dict)"
   ]
  },
  {
   "cell_type": "code",
   "execution_count": 59,
   "metadata": {
    "collapsed": false
   },
   "outputs": [
    {
     "name": "stdout",
     "output_type": "stream",
     "text": [
      "server.com\n",
      "MySQL\n"
     ]
    }
   ],
   "source": [
    "# Podemos acceder a los elementos de un diccionario usando indexación tipo array\n",
    "print(a_dict['server'])\n",
    "print(a_dict['database'])"
   ]
  },
  {
   "cell_type": "code",
   "execution_count": 61,
   "metadata": {
    "collapsed": false
   },
   "outputs": [
    {
     "name": "stdout",
     "output_type": "stream",
     "text": [
      "{'database': 'PostgreSQL', 'user': 'Jorge', 'server': 'server.com'}\n"
     ]
    }
   ],
   "source": [
    "# Se pueden añadir todos los elementos que se quiera a un diccionario. Y también podemos modificar los existentes\n",
    "a_dict['user'] = 'Jorge'\n",
    "a_dict['database'] = 'PostgreSQL'\n",
    "print(a_dict)"
   ]
  },
  {
   "cell_type": "code",
   "execution_count": 62,
   "metadata": {
    "collapsed": false
   },
   "outputs": [
    {
     "name": "stdout",
     "output_type": "stream",
     "text": [
      "['KB', 'MB', 'GB', 'TB', 'PB', 'EB', 'ZB', 'YB']\n",
      "['KiB', 'MiB', 'GiB', 'TiB', 'PiB', 'EiB', 'ZiB', 'YiB']\n"
     ]
    }
   ],
   "source": [
    "# Se pueden mezclar elementos de diferentes tipos en un diccionario\n",
    "SUFFIXES = {1000: ['KB', 'MB', 'GB', 'TB', 'PB', 'EB', 'ZB', 'YB'],\n",
    "            1024: ['KiB', 'MiB', 'GiB', 'TiB', 'PiB', 'EiB', 'ZiB', 'YiB']}\n",
    "\n",
    "print(SUFFIXES[1000])\n",
    "print(SUFFIXES[1024])"
   ]
  },
  {
   "cell_type": "markdown",
   "metadata": {},
   "source": [
    "<div class=\"alert alert-success\"><strong>Buenas prácticas</strong>: Se puede usar el método *get* junto con el parámetro *default* para proporcionar valores por defecto si estos no existen en un diccionario</div>"
   ]
  },
  {
   "cell_type": "code",
   "execution_count": 63,
   "metadata": {
    "collapsed": false
   },
   "outputs": [
    {
     "name": "stdout",
     "output_type": "stream",
     "text": [
      "piña\n"
     ]
    }
   ],
   "source": [
    "# Mal, esto no es pythonista\n",
    "frutas = {'verde': 'pera', 'amarilla': 'plátano', 'roja': 'fresa'}\n",
    "if 'azul' in frutas:\n",
    "    fruta_azul = frutas['azul']\n",
    "else:\n",
    "    fruta_azul = 'piña'\n",
    "    \n",
    "print(fruta_azul)"
   ]
  },
  {
   "cell_type": "code",
   "execution_count": 64,
   "metadata": {
    "collapsed": false
   },
   "outputs": [
    {
     "name": "stdout",
     "output_type": "stream",
     "text": [
      "piña\n"
     ]
    }
   ],
   "source": [
    "# Esto si es pythonista\n",
    "frutas = {'verde': 'pera', 'amarilla': 'plátano', 'roja': 'fresa'}\n",
    "\n",
    "fruta_azul = frutas.get('azul', 'piña')\n",
    "print(fruta_azul)"
   ]
  },
  {
   "cell_type": "markdown",
   "metadata": {},
   "source": [
    "# Estructuras de control (I): Condicionales"
   ]
  },
  {
   "cell_type": "markdown",
   "metadata": {},
   "source": [
    "    if <condition>:\n",
    "        <do something>\n",
    "    elif <condition>:\n",
    "        <do other thing>\n",
    "    else:\n",
    "        <do other thing>"
   ]
  },
  {
   "cell_type": "markdown",
   "metadata": {},
   "source": [
    "<div class=\"alert alert-error\"><strong>Importante:</strong> En Python los bloques se delimitan por sangrado, utilizando siempre cuatro espacios. Cuando ponemos los dos puntos al final de la primera línea del condicional, todo lo que vaya a continuación con *un* nivel de sangrado superior se considera dentro del condicional. En cuanto escribimos la primera línea con un nivel de sangrado inferior, hemos cerrado el condicional. Si no seguimos esto a rajatabla Python nos dará errores; es una forma de forzar a que el código sea legible.</div>"
   ]
  },
  {
   "cell_type": "code",
   "execution_count": 48,
   "metadata": {
    "collapsed": false
   },
   "outputs": [
    {
     "name": "stdout",
     "output_type": "stream",
     "text": [
      "5.0 1\n",
      "x es mayor que y\n",
      "x sigue siendo mayor que y\n"
     ]
    }
   ],
   "source": [
    "print(x,y)\n",
    "if x > y:\n",
    "    print(\"x es mayor que y\")\n",
    "    print(\"x sigue siendo mayor que y\")"
   ]
  },
  {
   "cell_type": "code",
   "execution_count": 49,
   "metadata": {
    "collapsed": false
   },
   "outputs": [
    {
     "name": "stdout",
     "output_type": "stream",
     "text": [
      "1 sigue siendo menor que 0\n"
     ]
    }
   ],
   "source": [
    "if 1 < 0:\n",
    "    print(\"1 es menor que 0\")\n",
    "print(\"1 sigue siendo menor que 0\")  # <-- ¡Mal!"
   ]
  },
  {
   "cell_type": "code",
   "execution_count": 50,
   "metadata": {
    "collapsed": false
   },
   "outputs": [
    {
     "ename": "IndentationError",
     "evalue": "unexpected indent (<ipython-input-50-89ceea330d08>, line 3)",
     "output_type": "error",
     "traceback": [
      "\u001b[1;36m  File \u001b[1;32m\"<ipython-input-50-89ceea330d08>\"\u001b[1;36m, line \u001b[1;32m3\u001b[0m\n\u001b[1;33m    print(\"1 sigue siendo menor que 0\")\u001b[0m\n\u001b[1;37m    ^\u001b[0m\n\u001b[1;31mIndentationError\u001b[0m\u001b[1;31m:\u001b[0m unexpected indent\n"
     ]
    }
   ],
   "source": [
    "if 1 < 0:\n",
    "    print(\"1 es menor que 0\")\n",
    "     print(\"1 sigue siendo menor que 0\")"
   ]
  },
  {
   "cell_type": "markdown",
   "metadata": {},
   "source": [
    "Si queremos añadir ramas adicionales al condicional, podemos emplear la sentencia `elif` (abreviatura de *else if*). Para la parte final, que debe ejecutarse si ninguna de las condiciones anteriores se ha cumplido, usamos la sentencia `else`:"
   ]
  },
  {
   "cell_type": "code",
   "execution_count": 51,
   "metadata": {
    "collapsed": false
   },
   "outputs": [
    {
     "name": "stdout",
     "output_type": "stream",
     "text": [
      "5.0 1\n",
      "x es mayor que y\n"
     ]
    }
   ],
   "source": [
    "print(x,y)\n",
    "if x > y:\n",
    "    print(\"x es mayor que y\")\n",
    "else:\n",
    "    print(\"x es menor que y\")"
   ]
  },
  {
   "cell_type": "code",
   "execution_count": 52,
   "metadata": {
    "collapsed": false
   },
   "outputs": [
    {
     "name": "stdout",
     "output_type": "stream",
     "text": [
      "5.0 1\n",
      "x no es ni menor ni igual que y\n"
     ]
    }
   ],
   "source": [
    "print(x, y)\n",
    "if x < y:\n",
    "    print(\"x es menor que y\")\n",
    "elif x == y:\n",
    "    print(\"x es igual a y\")\n",
    "else:\n",
    "    print(\"x no es ni menor ni igual que y\")"
   ]
  },
  {
   "cell_type": "markdown",
   "metadata": {},
   "source": [
    "<div class=\"alert alert-success\"><strong>Buenas prácticas</strong>: Evita las comparaciones directas con True, False o None</div>"
   ]
  },
  {
   "cell_type": "code",
   "execution_count": 66,
   "metadata": {
    "collapsed": false
   },
   "outputs": [
    {
     "name": "stdout",
     "output_type": "stream",
     "text": [
      "a vale None\n"
     ]
    }
   ],
   "source": [
    "# Mal, esto no es pythonista\n",
    "a = None\n",
    "if a == None:\n",
    "    print('a vale None')"
   ]
  },
  {
   "cell_type": "code",
   "execution_count": 67,
   "metadata": {
    "collapsed": false
   },
   "outputs": [
    {
     "name": "stdout",
     "output_type": "stream",
     "text": [
      "a tiene un valor nulo\n"
     ]
    }
   ],
   "source": [
    "# Bien, esto es pythonista\n",
    "a = None\n",
    "if not a:\n",
    "    print('a tiene un valor nulo')"
   ]
  },
  {
   "cell_type": "markdown",
   "metadata": {},
   "source": [
    "<div class=\"alert alert-success\"><strong>Buenas prácticas</strong>: Evita repetir el nombre de la variable varias veces en comparaciones compuestas</div>"
   ]
  },
  {
   "cell_type": "code",
   "execution_count": 72,
   "metadata": {
    "collapsed": false
   },
   "outputs": [
    {
     "name": "stdout",
     "output_type": "stream",
     "text": [
      "El verde es un color primario\n"
     ]
    }
   ],
   "source": [
    "# Mal, esto no es pythonista\n",
    "color = 'verde'\n",
    "if color == 'verde' or color == 'rojo' or color == 'azul':\n",
    "    print('El {0} es un color primario'.format(color))"
   ]
  },
  {
   "cell_type": "code",
   "execution_count": 71,
   "metadata": {
    "collapsed": false
   },
   "outputs": [
    {
     "name": "stdout",
     "output_type": "stream",
     "text": [
      "El verde es un color primario\n"
     ]
    }
   ],
   "source": [
    "# Bien, esto es pythonista\n",
    "color = 'verde'\n",
    "if color in ('verde', 'rojo', 'azul'):\n",
    "    print('El {0} es un color primario'.format(color))"
   ]
  },
  {
   "cell_type": "markdown",
   "metadata": {},
   "source": [
    "# Estructuras de control (II): Bucles"
   ]
  },
  {
   "cell_type": "markdown",
   "metadata": {},
   "source": [
    "En Python existen dos tipos de estructuras de control típicas:\n",
    "\n",
    "1. Bucles `while`\n",
    "2. Bucles `for`"
   ]
  },
  {
   "cell_type": "markdown",
   "metadata": {},
   "source": [
    "### `while` "
   ]
  },
  {
   "cell_type": "markdown",
   "metadata": {},
   "source": [
    "Los bucles `while` repetiran las sentencias anidadas en él mientras se cumpla una condición:\n",
    "\n",
    "    while <condition>:\n",
    "        <things to do>\n",
    "        \n",
    "Como en el caso de los condicionales, los bloques se separan por indentación sin necesidad de sentencias del tipo `end`"
   ]
  },
  {
   "cell_type": "code",
   "execution_count": 53,
   "metadata": {
    "collapsed": false
   },
   "outputs": [
    {
     "name": "stdout",
     "output_type": "stream",
     "text": [
      "-2\n",
      "-1\n",
      "0\n",
      "1\n",
      "2\n",
      "3\n",
      "4\n"
     ]
    }
   ],
   "source": [
    "ii = -2\n",
    "while ii < 5:\n",
    "    print(ii)\n",
    "    ii += 1"
   ]
  },
  {
   "cell_type": "markdown",
   "metadata": {},
   "source": [
    "<div class=\"alert alert-info\"><strong>Tip</strong>: \n",
    "`ii += 1` equivale a `ii = ii + 1`. En el segundo Python, realiza la operación ii + 1 creando un nuevo objeto con ese valor y luego lo asigna a la variable ii; es decir, existe una reasignación. En el primero, sin embargo, el incremento se produce sobre la propia variable. Esto puede conducirnos a mejoras en velocidad.\n",
    "\n",
    "Otros operadores 'in-place' son: `-=`, `*=`, `/=` \n",
    "</div>"
   ]
  },
  {
   "cell_type": "markdown",
   "metadata": {},
   "source": [
    "Se puede interrumpir el bucle a la mitad con la sentencia `break`:"
   ]
  },
  {
   "cell_type": "code",
   "execution_count": 54,
   "metadata": {
    "collapsed": false
   },
   "outputs": [
    {
     "name": "stdout",
     "output_type": "stream",
     "text": [
      "0\n",
      "1\n",
      "2\n"
     ]
    }
   ],
   "source": [
    "ii = 0\n",
    "while ii < 5:\n",
    "    print(ii)\n",
    "    ii += 1\n",
    "    if ii == 3:\n",
    "        break"
   ]
  },
  {
   "cell_type": "markdown",
   "metadata": {},
   "source": [
    "Un bloque `else` justo después del bucle se ejecuta si este no ha sido interrumpido por nosotros:"
   ]
  },
  {
   "cell_type": "code",
   "execution_count": 55,
   "metadata": {
    "collapsed": false
   },
   "outputs": [
    {
     "name": "stdout",
     "output_type": "stream",
     "text": [
      "0\n",
      "1\n",
      "2\n"
     ]
    }
   ],
   "source": [
    "ii = 0\n",
    "while ii < 5:\n",
    "    print(ii)\n",
    "    ii += 1\n",
    "    if ii == 3:\n",
    "        break\n",
    "else:\n",
    "    print(\"El bucle ha terminado\")"
   ]
  },
  {
   "cell_type": "code",
   "execution_count": 56,
   "metadata": {
    "collapsed": false
   },
   "outputs": [
    {
     "name": "stdout",
     "output_type": "stream",
     "text": [
      "0\n",
      "1\n",
      "2\n",
      "3\n",
      "4\n",
      "El bucle ha terminado\n"
     ]
    }
   ],
   "source": [
    "ii = 0\n",
    "while ii < 5:\n",
    "    print(ii)\n",
    "    ii += 1\n",
    "    #if ii == 3:\n",
    "        #break\n",
    "else:\n",
    "    print(\"El bucle ha terminado\")"
   ]
  },
  {
   "cell_type": "markdown",
   "metadata": {},
   "source": [
    "<div class=\"alert alert-success\"><strong>Buenas prácticas</strong>: Usa la palabra clave `in` para recorrer elementos iterables</div>"
   ]
  },
  {
   "cell_type": "code",
   "execution_count": 73,
   "metadata": {
    "collapsed": false
   },
   "outputs": [
    {
     "name": "stdout",
     "output_type": "stream",
     "text": [
      "Larry\n",
      "Moe\n",
      "Curly\n"
     ]
    }
   ],
   "source": [
    "# Mal, esto no es pythonista\n",
    "my_list = ['Larry', 'Moe', 'Curly']\n",
    "index = 0\n",
    "while index < len(my_list):\n",
    "    print (my_list[index])\n",
    "    index += 1"
   ]
  },
  {
   "cell_type": "code",
   "execution_count": 74,
   "metadata": {
    "collapsed": false
   },
   "outputs": [
    {
     "name": "stdout",
     "output_type": "stream",
     "text": [
      "Larry\n",
      "Moe\n",
      "Curly\n"
     ]
    }
   ],
   "source": [
    "# Bien, esto es pythonista\n",
    "my_list = ['Larry', 'Moe', 'Curly']\n",
    "for element in my_list:\n",
    "    print (element)"
   ]
  },
  {
   "cell_type": "markdown",
   "metadata": {},
   "source": [
    "### `for`"
   ]
  },
  {
   "cell_type": "markdown",
   "metadata": {},
   "source": [
    "El otro bucle en Python es el bucle `for`, y funciona de manera un que puede resultar chocante al principio. La idea es recorrer un conjunto de elementos:\n",
    "\n",
    "    for <element> in <iterable_object>:\n",
    "        <do whatever...>"
   ]
  },
  {
   "cell_type": "code",
   "execution_count": 57,
   "metadata": {
    "collapsed": false
   },
   "outputs": [
    {
     "name": "stdout",
     "output_type": "stream",
     "text": [
      "1\n",
      "2\n",
      "3\n",
      "4\n",
      "5\n"
     ]
    }
   ],
   "source": [
    "for ii in (1,2,3,4,5):\n",
    "    print(ii)"
   ]
  },
  {
   "cell_type": "code",
   "execution_count": 58,
   "metadata": {
    "collapsed": false
   },
   "outputs": [
    {
     "name": "stdout",
     "output_type": "stream",
     "text": [
      "Juanlu\n",
      "Siro\n",
      "Carlos\n"
     ]
    }
   ],
   "source": [
    "for nombre in \"Juanlu\", \"Siro\", \"Carlos\":\n",
    "    print(nombre)"
   ]
  },
  {
   "cell_type": "code",
   "execution_count": 59,
   "metadata": {
    "collapsed": false
   },
   "outputs": [
    {
     "name": "stdout",
     "output_type": "stream",
     "text": [
      "0\n",
      "1\n",
      "2\n"
     ]
    }
   ],
   "source": [
    "for ii in range(3):\n",
    "    print(ii)"
   ]
  },
  {
   "cell_type": "code",
   "execution_count": 60,
   "metadata": {
    "collapsed": false
   },
   "outputs": [
    {
     "name": "stdout",
     "output_type": "stream",
     "text": [
      "2\n",
      "3\n",
      "4\n"
     ]
    }
   ],
   "source": [
    "for jj in range(2, 5):\n",
    "    print(jj)"
   ]
  },
  {
   "cell_type": "markdown",
   "metadata": {},
   "source": [
    "<div class=\"alert alert-success\"><strong>Buenas prácticas</strong>: Usa la función `enumerate` para acceder al índice de un elemento en un bucle, en lugar de crear una variable para ello (vicio típico en programadores de C/C++)</div>"
   ]
  },
  {
   "cell_type": "code",
   "execution_count": 75,
   "metadata": {
    "collapsed": false
   },
   "outputs": [
    {
     "name": "stdout",
     "output_type": "stream",
     "text": [
      "0 Larry\n",
      "1 Moe\n",
      "2 Curly\n"
     ]
    }
   ],
   "source": [
    "# Mal, esto no es pythonista\n",
    "my_container = ['Larry', 'Moe', 'Curly']\n",
    "index = 0\n",
    "for element in my_container:\n",
    "    print ('{} {}'.format(index, element))\n",
    "    index += 1"
   ]
  },
  {
   "cell_type": "code",
   "execution_count": 76,
   "metadata": {
    "collapsed": false
   },
   "outputs": [
    {
     "name": "stdout",
     "output_type": "stream",
     "text": [
      "0 Larry\n",
      "1 Moe\n",
      "2 Curly\n"
     ]
    }
   ],
   "source": [
    "# Bien, esto es pythonista\n",
    "my_container = ['Larry', 'Moe', 'Curly']\n",
    "for index, element in enumerate(my_container):\n",
    "    print ('{} {}'.format(index, element))"
   ]
  },
  {
   "cell_type": "markdown",
   "metadata": {},
   "source": [
    "<div class=\"alert alert-success\"><strong>Buenas prácticas</strong>: Puedes utilizar `else` para ejecutar código después de que termine un bucle</div>"
   ]
  },
  {
   "cell_type": "code",
   "execution_count": 78,
   "metadata": {
    "collapsed": false
   },
   "outputs": [
    {
     "name": "stdout",
     "output_type": "stream",
     "text": [
      "Todos los números son pares\n"
     ]
    }
   ],
   "source": [
    "# Mal, esto no es pythonista\n",
    "pares = [2, 4, 6, 8, 10, 12, 14]\n",
    "hay_impar = False\n",
    "for n in pares:\n",
    "    if n % 2:\n",
    "        hay_impar = True\n",
    "        break\n",
    "        \n",
    "if not hay_impar:\n",
    "    print('Todos los números son pares')"
   ]
  },
  {
   "cell_type": "code",
   "execution_count": 80,
   "metadata": {
    "collapsed": false
   },
   "outputs": [
    {
     "name": "stdout",
     "output_type": "stream",
     "text": [
      "Todos los números son pares\n"
     ]
    }
   ],
   "source": [
    "# Bien, esto es pythonista\n",
    "pares = [2, 4, 6, 8, 10, 12, 14]\n",
    "for n in pares:\n",
    "    if n % 2:\n",
    "        break\n",
    "\n",
    "# El else se va a ejecutar después del bucle siempre y cuando no lo rompamos de manera abrupta con un break\n",
    "else:\n",
    "    print('Todos los números son pares')"
   ]
  },
  {
   "cell_type": "markdown",
   "metadata": {},
   "source": [
    "# Definición de funciones\n",
    "\n",
    "Para definir nuestra propia función utilizamos la sentencia `def` seguida del nombre de la misma y entre paréntesis los argumentos de entrada. La primera línea de la función puede ser una cadena de documentación."
   ]
  },
  {
   "cell_type": "code",
   "execution_count": 43,
   "metadata": {
    "collapsed": true
   },
   "outputs": [],
   "source": [
    "# Definimos función \"funcion\" que no haga nada\n",
    "def funcion(x, y):\n",
    "    \"\"\"Función de prueba.\"\"\"\n",
    "    pass"
   ]
  },
  {
   "cell_type": "code",
   "execution_count": 5,
   "metadata": {
    "collapsed": false
   },
   "outputs": [
    {
     "data": {
      "text/plain": [
       "<function __main__.funcion>"
      ]
     },
     "execution_count": 5,
     "metadata": {},
     "output_type": "execute_result"
    }
   ],
   "source": [
    "funcion"
   ]
  },
  {
   "cell_type": "code",
   "execution_count": 6,
   "metadata": {
    "collapsed": false
   },
   "outputs": [
    {
     "data": {
      "text/plain": [
       "'Función de prueba.'"
      ]
     },
     "execution_count": 6,
     "metadata": {},
     "output_type": "execute_result"
    }
   ],
   "source": [
    "funcion.__doc__"
   ]
  },
  {
   "cell_type": "markdown",
   "metadata": {},
   "source": [
    "Los valores de retorno de la función se especifican con la sentencia `return`. Por ejemplo:"
   ]
  },
  {
   "cell_type": "code",
   "execution_count": 8,
   "metadata": {
    "collapsed": true
   },
   "outputs": [],
   "source": [
    "# Definir función que eleva un número al cuadrado\n",
    "def al_cuadrado(x):\n",
    "    \"\"\"Función que eleva un número al cuadrado.\"\"\"\n",
    "    y = x ** 2\n",
    "    return y"
   ]
  },
  {
   "cell_type": "code",
   "execution_count": 9,
   "metadata": {
    "collapsed": false
   },
   "outputs": [
    {
     "data": {
      "text/plain": [
       "16"
      ]
     },
     "execution_count": 9,
     "metadata": {},
     "output_type": "execute_result"
    }
   ],
   "source": [
    "al_cuadrado(4)"
   ]
  },
  {
   "cell_type": "code",
   "execution_count": 10,
   "metadata": {
    "collapsed": true
   },
   "outputs": [],
   "source": [
    "# Definir función que multiplica dos números. Por defecto, el segundo de ellos valdrá 2\n",
    "def multiplica(x, y=2.0):\n",
    "    \"\"\"Multiplica dos números, por defecto el primero por 2.\"\"\"\n",
    "    return x * y"
   ]
  },
  {
   "cell_type": "code",
   "execution_count": 14,
   "metadata": {
    "collapsed": false
   },
   "outputs": [
    {
     "data": {
      "text/plain": [
       "(6, 8.0)"
      ]
     },
     "execution_count": 14,
     "metadata": {},
     "output_type": "execute_result"
    }
   ],
   "source": [
    "multiplica(2, 3), multiplica(4)"
   ]
  },
  {
   "cell_type": "markdown",
   "metadata": {},
   "source": [
    "<div class=\"alert alert-success\"><strong>Buenas prácticas</strong>: Evita el uso de `[]`, `{}` o `''` como parámetros por defecto para funciones</div>"
   ]
  },
  {
   "cell_type": "code",
   "execution_count": 84,
   "metadata": {
    "collapsed": false
   },
   "outputs": [
    {
     "name": "stdout",
     "output_type": "stream",
     "text": [
      "[1]\n",
      "[1, 2]\n",
      "[1, 2, 3]\n"
     ]
    }
   ],
   "source": [
    "\"\"\"\n",
    "Potencial error aquí. El valor por defecto de una función es evaluado una sola vez. Si dicho argumento es un objeto mutable,\n",
    "como una lista o un diccionario, la función acumula los argumentos pasados en llamadas sucesivas\n",
    "\"\"\"\n",
    "def f(a, L=[]):\n",
    "    L.append(a)\n",
    "    return L\n",
    "\n",
    "print (f(1))\n",
    "print (f(2))\n",
    "print (f(3))"
   ]
  },
  {
   "cell_type": "code",
   "execution_count": 85,
   "metadata": {
    "collapsed": false
   },
   "outputs": [
    {
     "name": "stdout",
     "output_type": "stream",
     "text": [
      "[1]\n",
      "[2]\n",
      "[3]\n"
     ]
    }
   ],
   "source": [
    "# Si queremos evitar que se acumule el valor del argumento por defecto, lo podemos escribir así\n",
    "def f(a, L=None):\n",
    "    if not L:\n",
    "        L = []\n",
    "    L.append(a)\n",
    "    return L\n",
    "\n",
    "print (f(1))\n",
    "print (f(2))\n",
    "print (f(3))"
   ]
  },
  {
   "cell_type": "markdown",
   "metadata": {},
   "source": [
    "<div class=\"alert alert-success\"><strong>Buenas prácticas</strong>: Usa `*args` y `**kwargs` para aceptar un número arbitrario de parámetros en las funciones</div>"
   ]
  },
  {
   "cell_type": "code",
   "execution_count": 92,
   "metadata": {
    "collapsed": false
   },
   "outputs": [
    {
     "name": "stdout",
     "output_type": "stream",
     "text": [
      "Argumentos:\n",
      "134\n",
      "543\n",
      "sfds\n",
      "[]\n"
     ]
    }
   ],
   "source": [
    "# Definiendo *args como parámetro de una función, permitimos que dicha función reciba cualquier número de parámetros.\n",
    "# Dentro de la función, *args es desempaquetado como una lista, de manera que espera que se le pase una lista de elementos\n",
    "def func(*args):\n",
    "    print(\"Argumentos:\")\n",
    "    for arg in args:\n",
    "        print(arg)\n",
    "        \n",
    "func(134, 543, \"sfds\", [])"
   ]
  },
  {
   "cell_type": "code",
   "execution_count": 98,
   "metadata": {
    "collapsed": false
   },
   "outputs": [
    {
     "name": "stdout",
     "output_type": "stream",
     "text": [
      "Argumentos:\n",
      "a => 134\n",
      "b => 543\n",
      "c => sfds\n"
     ]
    }
   ],
   "source": [
    "# Definiendo **kwargs como parámetro de una función, permitimos que dicha función reciba un diccionario con un número \n",
    "# arbitrario de elementos clave:valor.\n",
    "# Dentro de la función, **kwargs es desempaquetado como una diccionario\n",
    "def func(**kwargs):\n",
    "    print(\"Argumentos:\")\n",
    "    for k,v in kwargs.items():\n",
    "        print(\"{0} => {1}\".format(k, v))\n",
    "        \n",
    "func(a=134, b=543, c=\"sfds\")"
   ]
  },
  {
   "cell_type": "code",
   "execution_count": 100,
   "metadata": {
    "collapsed": false
   },
   "outputs": [
    {
     "name": "stdout",
     "output_type": "stream",
     "text": [
      "Args:\n",
      "2342\n",
      "43534\n",
      "5645\n",
      "Kwargs:\n",
      "x => 456\n",
      "y => 3\n"
     ]
    }
   ],
   "source": [
    "# Podemos usar ambos a la vez\n",
    "def func(*args, **kwargs):\n",
    "    print (\"Args:\")\n",
    "    for arg in args:\n",
    "        print(arg)\n",
    "        \n",
    "    print (\"Kwargs:\")\n",
    "    for k,v in kwargs.items():\n",
    "        print(\"{0} => {1}\".format(k, v))\n",
    "        \n",
    "func(2342, 43534, 5645, x=456, y=3)"
   ]
  },
  {
   "cell_type": "markdown",
   "metadata": {},
   "source": [
    "## PEP 8"
   ]
  },
  {
   "cell_type": "markdown",
   "metadata": {},
   "source": [
    "__La guía de estilo:__\n",
    "\n",
    "* Usa sangrado de 4 espacios, no tabuladores [IPython o tu editor se encargan de ello].\n",
    "* Acota las líneas a 79 caracteres.\n",
    "* Usa líneas en blanco para separar funciones y bloques de código dentro de ellas.\n",
    "* Pon los comentarios en líneas aparte si es posible.\n",
    "* Usa cadenas de documentación (*docstrings*).\n",
    "* Pon espacios alrededor de los operadores y después de coma.\n",
    "* Usa la convención minuscula_con_guiones_bajos para los nombres de las funciones y las variables.\n",
    "* Aunque Python 3 te lo permite, no uses caracteres especiales para los identificadores.\n",
    "\n",
    "(Traducido de http://docs.python.org/3/tutorial/controlflow.html#intermezzo-coding-style)"
   ]
  },
  {
   "cell_type": "markdown",
   "metadata": {},
   "source": [
    "Utilizando el módulo pep8\n",
    "\n",
    "https://pypi.python.org/pypi/pep8\n",
    "\n",
    "Y la extensión pep8magic\n",
    "\n",
    "https://gist.github.com/Juanlu001/9082229/\n",
    "\n",
    "Podemos comprobar si una celda de código cumple con las reglas del PEP8:"
   ]
  },
  {
   "cell_type": "code",
   "execution_count": 28,
   "metadata": {
    "collapsed": false
   },
   "outputs": [],
   "source": [
    "%load_ext pep8magic"
   ]
  },
  {
   "cell_type": "code",
   "execution_count": 29,
   "metadata": {
    "collapsed": false
   },
   "outputs": [
    {
     "name": "stdout",
     "output_type": "stream",
     "text": [
      "stdin:1:7: E225 missing whitespace around operator\n",
      "if 6*9==42:print(\"Something fundamentally wrong...\"  )\n",
      "      ^\n",
      "stdin:1:11: E231 missing whitespace after ':'\n",
      "if 6*9==42:print(\"Something fundamentally wrong...\"  )\n",
      "          ^\n",
      "stdin:1:11: E701 multiple statements on one line (colon)\n",
      "if 6*9==42:print(\"Something fundamentally wrong...\"  )\n",
      "          ^\n",
      "stdin:1:53: E202 whitespace before ')'\n",
      "if 6*9==42:print(\"Something fundamentally wrong...\"  )\n",
      "                                                    ^\n"
     ]
    }
   ],
   "source": [
    "%%pep8\n",
    "if 6*9==42:print(\"Something fundamentally wrong...\"  )"
   ]
  },
  {
   "cell_type": "code",
   "execution_count": 30,
   "metadata": {
    "collapsed": false
   },
   "outputs": [
    {
     "name": "stdout",
     "output_type": "stream",
     "text": [
      "This code is PEP8-compliant!\n"
     ]
    }
   ],
   "source": [
    "%%pep8\n",
    "if 6*9 == 42:\n",
    "    print(\"Something fundamentally wrong...\")"
   ]
  },
  {
   "cell_type": "markdown",
   "metadata": {},
   "source": [
    "_Hemos visto como la sintaxis de Python nos facilita escribir código legible así como aprendido algunas buenas prácticas al programar. Características como el tipado dinámico (no hace falta declarar variables) y ser lenguaje interpretado (no hace falta compilarlo) hacen que el tiempo que pasamos escrbiendo código sea menos que en otro tipo de lenguajes._\n",
    "\n",
    "_Se han presentado los tipos de variables, así como las estructuras de control básicas. En la siguiente clase practicaremos con algunos ejercicios para que te familiarices con ellas_\n",
    "\n",
    "_Esperamos también que poco a poco te sientas cada vez más a gusto con el Notebook de IPython y puedas sacarle todo el partido_\n",
    "\n",
    "__Referencias__\n",
    "\n",
    "* Tutorial de Python oficial actualizado y traducido al español http://docs.python.org.ar/tutorial/\n",
    "* Vídeo de 5 minutos de IPython http://youtu.be/C0D9KQdigGk\n",
    "* Introducción a la programación con Python, Universitat Jaume I http://www.uji.es/bin/publ/edicions/ippython.pdf\n",
    "* PEP8 http://www.python.org/dev/peps/pep-0008/‎"
   ]
  },
  {
   "cell_type": "markdown",
   "metadata": {},
   "source": [
    "---\n",
    "\n",
    "Clase en vídeo, parte del [Curso de Python para científicos e ingenieros](http://cacheme.org/curso-online-python-cientifico-ingenieros/) grabado en la Escuela Politécnica Superior de la Universidad de Alicante."
   ]
  },
  {
   "cell_type": "code",
   "execution_count": 1,
   "metadata": {
    "collapsed": false
   },
   "outputs": [
    {
     "data": {
      "text/html": [
       "\n",
       "        <iframe\n",
       "            width=\"560\"\n",
       "            height=\"315\"\n",
       "            src=\"https://www.youtube.com/embed/ox09Jko1ErM?list=PLGBbVX_WvN7bMwYe7wWV5TZt1a58jTggB\"\n",
       "            frameborder=\"0\"\n",
       "            allowfullscreen\n",
       "        ></iframe>\n",
       "        "
      ],
      "text/plain": [
       "<IPython.lib.display.YouTubeVideo at 0x7f2e6c059d68>"
      ]
     },
     "execution_count": 1,
     "metadata": {},
     "output_type": "execute_result"
    }
   ],
   "source": [
    "from IPython.display import YouTubeVideo\n",
    "\n",
    "YouTubeVideo(\"ox09Jko1ErM\", width=560, height=315, list=\"PLGBbVX_WvN7bMwYe7wWV5TZt1a58jTggB\")"
   ]
  },
  {
   "cell_type": "markdown",
   "metadata": {},
   "source": [
    "---"
   ]
  },
  {
   "cell_type": "markdown",
   "metadata": {},
   "source": [
    "Si te ha gustado esta clase:\n",
    "\n",
    "<a href=\"https://twitter.com/share\" class=\"twitter-share-button\" data-url=\"https://github.com/AeroPython/Curso-AeroPython-UC3M/\" data-text=\"Aprendiendo Python con\" data-via=\"AeroPython\" data-size=\"large\" data-hashtags=\"AeroPython\">Tweet</a>\n",
    "<script>!function(d,s,id){var js,fjs=d.getElementsByTagName(s)[0],p=/^http:/.test(d.location)?'http':'https';if(!d.getElementById(id)){js=d.createElement(s);js.id=id;js.src=p+'://platform.twitter.com/widgets.js';fjs.parentNode.insertBefore(js,fjs);}}(document, 'script', 'twitter-wjs');</script>\n",
    "\n",
    "---"
   ]
  },
  {
   "cell_type": "markdown",
   "metadata": {},
   "source": [
    "#### <h4 align=\"right\">¡Síguenos en Twitter!"
   ]
  },
  {
   "cell_type": "markdown",
   "metadata": {},
   "source": [
    "###### <a href=\"https://twitter.com/AeroPython\" class=\"twitter-follow-button\" data-show-count=\"false\">Follow @AeroPython</a> <script>!function(d,s,id){var js,fjs=d.getElementsByTagName(s)[0],p=/^http:/.test(d.location)?'http':'https';if(!d.getElementById(id)){js=d.createElement(s);js.id=id;js.src=p+'://platform.twitter.com/widgets.js';fjs.parentNode.insertBefore(js,fjs);}}(document, 'script', 'twitter-wjs');</script>  "
   ]
  },
  {
   "cell_type": "markdown",
   "metadata": {},
   "source": [
    "##### <a rel=\"license\" href=\"http://creativecommons.org/licenses/by/4.0/deed.es\"><img alt=\"Licencia Creative Commons\" style=\"border-width:0\" src=\"http://i.creativecommons.org/l/by/4.0/88x31.png\" /></a><br /><span xmlns:dct=\"http://purl.org/dc/terms/\" property=\"dct:title\">Curso AeroPython</span> por <span xmlns:cc=\"http://creativecommons.org/ns#\" property=\"cc:attributionName\">Juan Luis Cano Rodriguez y Alejandro Sáez Mollejo</span> se distribuye bajo una <a rel=\"license\" href=\"http://creativecommons.org/licenses/by/4.0/deed.es\">Licencia Creative Commons Atribución 4.0 Internacional</a>."
   ]
  },
  {
   "cell_type": "markdown",
   "metadata": {},
   "source": [
    "##### <script src=\"//platform.linkedin.com/in.js\" type=\"text/javascript\"></script> <script type=\"IN/MemberProfile\" data-id=\"http://es.linkedin.com/in/juanluiscanor\" data-format=\"inline\" data-related=\"false\"></script> <script src=\"//platform.linkedin.com/in.js\" type=\"text/javascript\"></script> <script type=\"IN/MemberProfile\" data-id=\"http://es.linkedin.com/in/alejandrosaezm\" data-format=\"inline\" data-related=\"false\"></script>"
   ]
  },
  {
   "cell_type": "markdown",
   "metadata": {},
   "source": [
    "---\n",
    "_Las siguientes celdas contienen configuración del Notebook_\n",
    "\n",
    "_Para visualizar y utlizar los enlaces a Twitter el notebook debe ejecutarse como [seguro](http://ipython.org/ipython-doc/dev/notebook/security.html)_\n",
    "\n",
    "    File > Trusted Notebook"
   ]
  },
  {
   "cell_type": "code",
   "execution_count": 60,
   "metadata": {
    "collapsed": false
   },
   "outputs": [
    {
     "data": {
      "text/html": [
       "<a href=\"https://twitter.com/AeroPython\" class=\"twitter-follow-button\" data-show-count=\"false\">Follow @AeroPython</a>\n",
       "<script>!function(d,s,id){var js,fjs=d.getElementsByTagName(s)[0],p=/^http:/.test(d.location)?'http':'https';if(!d.getElementById(id)){js=d.createElement(s);js.id=id;js.src=p+'://platform.twitter.com/widgets.js';fjs.parentNode.insertBefore(js,fjs);}}(document, 'script', 'twitter-wjs');</script>"
      ],
      "text/plain": [
       "<IPython.core.display.HTML at 0x4471588>"
      ]
     },
     "metadata": {},
     "output_type": "display_data"
    }
   ],
   "source": [
    "%%html\n",
    "<a href=\"https://twitter.com/AeroPython\" class=\"twitter-follow-button\" data-show-count=\"false\">Follow @AeroPython</a>\n",
    "<script>!function(d,s,id){var js,fjs=d.getElementsByTagName(s)[0],p=/^http:/.test(d.location)?'http':'https';if(!d.getElementById(id)){js=d.createElement(s);js.id=id;js.src=p+'://platform.twitter.com/widgets.js';fjs.parentNode.insertBefore(js,fjs);}}(document, 'script', 'twitter-wjs');</script>"
   ]
  },
  {
   "cell_type": "code",
   "execution_count": 61,
   "metadata": {
    "collapsed": false
   },
   "outputs": [
    {
     "data": {
      "text/html": [
       "<link href='http://fonts.googleapis.com/css?family=Source+Sans+Pro|Josefin+Sans:400,700,400italic|Ubuntu+Condensed' rel='stylesheet' type='text/css'>\n",
       "\n",
       "El estilo se ha aplicado =)\n",
       "\n",
       "<style>\n",
       "\n",
       "\n",
       "\n",
       "#notebook_panel { /* main background */\n",
       "    background: #f7f7f7;\n",
       "}\n",
       "\n",
       "div.cell { /* set cell width */\n",
       "    width: 900px;\n",
       "}\n",
       "\n",
       "div #notebook { /* centre the content */\n",
       "    background: #fff; /* white background for content */\n",
       "    width: 950px;\n",
       "    margin: auto;\n",
       "    padding-left: 0em;\n",
       "}\n",
       "\n",
       "#notebook li { /* More space between bullet points */\n",
       "    margin-top:0.7em;\n",
       "}\n",
       "\n",
       "/* draw border around running cells */\n",
       "div.cell.border-box-sizing.code_cell.running { \n",
       "    border: 1px solid #111;\n",
       "}\n",
       "\n",
       "/* Put a solid color box around each cell and its output, visually linking them*/\n",
       "div.cell.code_cell {\n",
       "    font-family: 'Source Sans Pro', sans-serif;\n",
       "    background-color: rgb(256,256,256);\n",
       "    font-size: 110%;\n",
       "    border-radius: 0px; \n",
       "    padding: 0.5em;\n",
       "    margin-left:1em;\n",
       "    margin-top: 1em;\n",
       "}\n",
       "\n",
       "div.text_cell_render{\n",
       "    font-family: 'Josefin Sans', serif;\n",
       "    line-height: 145%;\n",
       "    font-size: 125%;\n",
       "    font-weight: 500;\n",
       "    width:750px;\n",
       "    margin-left:auto;\n",
       "    margin-right:auto;\n",
       "}\n",
       "\n",
       "\n",
       "/* Formatting for header cells */\n",
       ".text_cell_render h1, .text_cell_render h2, .text_cell_render h3,\n",
       ".text_cell_render h4, .text_cell_render h5 {\n",
       "    font-family: 'Ubuntu Condensed', sans-serif;\n",
       "}\n",
       "/*\n",
       ".text_cell_render h1 {\n",
       "    font-family: Flux, 'Ubuntu Condensed', serif;\n",
       "    font-style:regular;\n",
       "    font-weight: 400;    \n",
       "    font-size: 30pt;\n",
       "    text-align: center;\n",
       "    line-height: 100%;\n",
       "    color: #335082;\n",
       "    margin-bottom: 0.5em;\n",
       "    margin-top: 0.5em;\n",
       "    display: block;\n",
       "}\n",
       "*/\n",
       ".text_cell_render h1 {\n",
       "    font-weight: 600;\n",
       "    font-size: 35pt;\n",
       "    line-height: 100%;\n",
       "    color: #234765;\n",
       "    margin-bottom: 0.1em;\n",
       "    margin-top: 0.3em;\n",
       "    display: block;\n",
       "}\n",
       "\n",
       ".text_cell_render h2 {\n",
       "    margin-top:16px;\n",
       "    font-size: 27pt;\n",
       "    font-weight: 550;\n",
       "    margin-bottom: 0.1em;\n",
       "    margin-top: 0.3em;\n",
       "    font-style: regular;\n",
       "    color: #234765;\n",
       "}\t\n",
       "\n",
       ".text_cell_render h3 {\n",
       "    font-size: 20pt;\n",
       "    font-weight: 550\n",
       "    text-align: left;\n",
       "    margin-bottom: 0.1em;\n",
       "    margin-top: 0.3em;\n",
       "    font-style: regular;\n",
       "    color:  #376f9e;\n",
       "}\n",
       "\n",
       ".text_cell_render h4 {    /*Use this for captions*/\n",
       "    font-size: 18pt;\n",
       "    font-weight: 450\n",
       "    text-align: left;\n",
       "    margin-bottom: 0.1em;\n",
       "    margin-top: 0.3em;\n",
       "    font-style: regular;\n",
       "    color:  #376f9e;\n",
       "}\n",
       "\n",
       ".text_cell_render h5 {  /*Use this for small titles*/\n",
       "    font-size: 18pt;\n",
       "    font-weight: 550;\n",
       "    color: rgb(163,0,0);\n",
       "    font-style: italic;\n",
       "    margin-bottom: .1em;\n",
       "    margin-top: 0.8em;\n",
       "    display: block;\n",
       "    color:  #b21c0d;\n",
       "}\n",
       "\n",
       ".text_cell_render h6 { /*use this for copyright note*/\n",
       "    font-family: 'Ubuntu Condensed', sans-serif;\n",
       "    font-weight: 300;\n",
       "    font-size: 14pt;\n",
       "    line-height: 100%;\n",
       "    color: #252525;\n",
       "    text-align: right;\n",
       "    margin-bottom: 1px;\n",
       "    margin-top: 1px;\n",
       "}\n",
       "\n",
       ".CodeMirror{\n",
       "        font-family: 'Duru Sans', sans-serif;\n",
       "        font-size: 100%;\n",
       "}\n",
       "\n",
       "</style>\n",
       "<script>\n",
       "    MathJax.Hub.Config({\n",
       "                        TeX: {\n",
       "                           extensions: [\"AMSmath.js\"],\n",
       "                           equationNumbers: { autoNumber: \"AMS\", useLabelIds: true}\n",
       "                           },\n",
       "                tex2jax: {\n",
       "                    inlineMath: [ ['$','$'], [\"\\\\(\",\"\\\\)\"] ],\n",
       "                    displayMath: [ ['$$','$$'], [\"\\\\[\",\"\\\\]\"] ]\n",
       "                },\n",
       "                displayAlign: 'center', // Change this to 'center' to center equations.\n",
       "                \"HTML-CSS\": {\n",
       "                    styles: {'.MathJax_Display': {\"margin\": 4}}\n",
       "                }\n",
       "        });\n",
       "</script>\n"
      ],
      "text/plain": [
       "<IPython.core.display.HTML at 0x43da780>"
      ]
     },
     "execution_count": 61,
     "metadata": {},
     "output_type": "execute_result"
    }
   ],
   "source": [
    "# Esta celda da el estilo al notebook\n",
    "from IPython.core.display import HTML\n",
    "css_file = '../static/styles/style.css'\n",
    "HTML(open(css_file, \"r\").read())"
   ]
  }
 ],
 "metadata": {
  "kernelspec": {
   "display_name": "Python 3",
   "language": "python",
   "name": "python3"
  },
  "language_info": {
   "codemirror_mode": {
    "name": "ipython",
    "version": 3
   },
   "file_extension": ".py",
   "mimetype": "text/x-python",
   "name": "python",
   "nbconvert_exporter": "python",
   "pygments_lexer": "ipython3",
   "version": "3.5.1"
  }
 },
 "nbformat": 4,
 "nbformat_minor": 0
}
