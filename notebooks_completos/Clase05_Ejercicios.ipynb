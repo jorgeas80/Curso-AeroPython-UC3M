{
 "cells": [
  {
   "cell_type": "markdown",
   "metadata": {},
   "source": [
    "<img src=\"../static/logopython.png\" alt=\"Logo Python\" style=\"width: 300px; display: inline\"/>\n",
    "<img src=\"../static/deimoslogo.png\" alt=\"Logo Deimos\" style=\"width: 300px; display: inline\"/>"
   ]
  },
  {
   "cell_type": "markdown",
   "metadata": {},
   "source": [
    "# Clase 5: Ejercicios prácticos\n",
    "\n",
    "En esta clase vamos a afianzar los conocimientos de Python que acabamos de adquirir haciendo algunos ejercicios sobre las herramientas del lenguaje Python para trabajar con metaprogramación\n"
   ]
  },
  {
   "cell_type": "markdown",
   "metadata": {},
   "source": [
    "## Ejercicio 1\n",
    "\n",
    "Escribe un decorador para una función que informe del tiempo de ejecución de la misma\n",
    "\n",
    "__Pista__: Investiga si algún método del módulo [time](https://docs.python.org/3.0/library/time.html) te puede resultar útil"
   ]
  },
  {
   "cell_type": "code",
   "execution_count": null,
   "metadata": {
    "collapsed": true
   },
   "outputs": [],
   "source": [
    "# Tu codigo aqui.\n",
    "import time\n",
    "from functools import wraps\n",
    "\n",
    "def timethis(func):\n",
    "    '''\n",
    "    Decorator that reports the execution time.\n",
    "    '''\n",
    "    @wraps(func)\n",
    "    def wrapper(*args, **kwargs):\n",
    "        start = time.time()\n",
    "        result = func(*args, **kwargs)\n",
    "        end = time.time()\n",
    "        print(func.__name__, end-start)\n",
    "        return result\n",
    "    return wrapper"
   ]
  },
  {
   "cell_type": "code",
   "execution_count": null,
   "metadata": {
    "collapsed": false
   },
   "outputs": [],
   "source": [
    "# Codigo de pruebas. Deberias decorar ese metodo para que, al llamarlo, imprimiera el tiempo de ejecucion\n",
    "@timethis\n",
    "def countdown(n):\n",
    "    \"\"\"\n",
    "    Una simple cuenta atras\n",
    "    \"\"\"\n",
    "    while n > 0:\n",
    "        n -= 1\n",
    "        \n",
    "countdown(10000000)\n",
    "\n",
    "# Acuérdate: ¿qué debería hacer en mi decorador para que aquí me informara correctamente de lo que hace mi método?\n",
    "help(countdown)"
   ]
  },
  {
   "cell_type": "markdown",
   "metadata": {},
   "source": [
    "## Ejercicio 2\n",
    "\n",
    "Escribe un decorador de función que añada un mensaje de log cada vez que se llame a la función decorada. Las condiciones son:\n",
    "\n",
    "* Debes usar la clase [logging](https://docs.python.org/3/howto/logging.html) para mostrar el mensaje.\n",
    "* El decorador debe aceptar dos argumentos: el nivel de log (dentro de los niveles aceptados por logging) y un mensaje de texto\n",
    "* Al imprimir por pantalla el mensaje, debe ir precedido por el nombre de la función decorada\n",
    "\n",
    "__Pista__: Revisa los métodos de la clase [Logger](https://docs.python.org/3/howto/logging.html#loggers), para ver cuál te deja pasarle un nivel como argumento"
   ]
  },
  {
   "cell_type": "code",
   "execution_count": 72,
   "metadata": {
    "collapsed": true
   },
   "outputs": [],
   "source": [
    "# Tu codigo aqui\n",
    "import logging\n",
    "from functools import wraps\n",
    "\n",
    "logging.basicConfig(level=logging.INFO)\n",
    "\n",
    "def logged(level, message):\n",
    "    '''\n",
    "    Añadiendo logging a una funcion. level es el\n",
    "    nivel de logging, y message es el mensaje de log\n",
    "    '''\n",
    "    def decorate(func):\n",
    "        log = logging.getLogger(func.__name__)\n",
    "        logmsg = message\n",
    "\n",
    "        @wraps(func)\n",
    "        def wrapper(*args, **kwargs):\n",
    "            log.log(level, logmsg)\n",
    "            return func(*args, **kwargs)\n",
    "        return wrapper\n",
    "    return decorate"
   ]
  },
  {
   "cell_type": "code",
   "execution_count": 74,
   "metadata": {
    "collapsed": false
   },
   "outputs": [
    {
     "name": "stdout",
     "output_type": "stream",
     "text": [
      "Spam!\n"
     ]
    },
    {
     "data": {
      "text/plain": [
       "7"
      ]
     },
     "execution_count": 74,
     "metadata": {},
     "output_type": "execute_result"
    }
   ],
   "source": [
    "# Codigo de pruebas\n",
    "@logged(logging.DEBUG, \"Esto es un mensaje de debug\")\n",
    "def add(x, y):\n",
    "    return x + y\n",
    "\n",
    "@logged(logging.CRITICAL, \"Esto es un mensaje critico\")\n",
    "def spam():\n",
    "    print('Spam!')\n",
    "    \n",
    "# Si ponemos el nivel de log a INFO, el mensaje de DEBUG no debería salir. Y en el interprete no sale\n",
    "# pero aqui en el notebook si...\n",
    "logging.basicConfig(level=logging.INFO)\n",
    "    \n",
    "spam()\n",
    "add(3, 4)\n",
    "\n",
    "\n"
   ]
  },
  {
   "cell_type": "markdown",
   "metadata": {},
   "source": [
    "## Ejercicio 3\n",
    "\n",
    "Modifica el código de la siguiente función para que acepte un parámetro opcional llamado *also_privates*. Dicho parámetro se evaluará a *True* o *False* dentro de la función, y servirá para determinar si se muestran o no también los métodos *privados* del objeto que se le pase (recuerda que consideramos *privados* aquellos métodos cuyo nombre comienza por \\__)"
   ]
  },
  {
   "cell_type": "code",
   "execution_count": 37,
   "metadata": {
    "collapsed": false
   },
   "outputs": [],
   "source": [
    "def info(object, also_privates=False): \n",
    "    \"\"\"\n",
    "        Imprime todos los metodos del objeto y sus docstrings.\n",
    "        Acepta modulos, clases, listas, diccionarios y cadenas\n",
    "    \"\"\"\n",
    "    methodList = [method for method in dir(object) if callable(getattr(object, method))]\n",
    "    if not also_privates:\n",
    "        methodList = filter(lambda s: not s.startswith('__'), methodList)\n",
    "        \n",
    "    print(\"\\n\".join([\"{} {}\".format\n",
    "                      (method,\n",
    "                       str(getattr(object, method).__doc__))\n",
    "                     for method in methodList]))\n",
    "\n"
   ]
  },
  {
   "cell_type": "code",
   "execution_count": 62,
   "metadata": {
    "collapsed": false
   },
   "outputs": [
    {
     "name": "stdout",
     "output_type": "stream",
     "text": [
      "foo Metodo absurdo\n"
     ]
    }
   ],
   "source": [
    "class Punto:\n",
    "    def __init__(self, x, y):\n",
    "        self.x = x\n",
    "        self.y = y\n",
    "        \n",
    "    def foo():\n",
    "        \"Metodo absurdo\"\n",
    "        print(\"bar\")\n",
    "\n",
    "info(Punto)\n",
    "        \n",
    "# Descomenta esto cuando termines de modificar la funcion\n",
    "#info(Punto, also_privates=True)"
   ]
  },
  {
   "cell_type": "markdown",
   "metadata": {},
   "source": [
    "## Ejercicio 4\n",
    "\n",
    "Escribe una clase totalmente genérica. La clase debe cumplir estas condiciones:\n",
    "\n",
    "* Su constructor debe aceptar cualquier número de parámetros con nombre, y debe crear por cada pareja clave=valor, un atributo de instancia con el nombre *clave* y el valor *valor*. \n",
    "* Al pasar una instancia de la clase como argumento de la función *print*, se debe mostrar una cadena que incluya el nombre de la clase y, a continuación, todos los atributos separados por comas\n",
    "\n",
    "__Pista__: Recuerda la utilización de \\**kwargs para pasar parámetros con nombre a una función \n"
   ]
  },
  {
   "cell_type": "code",
   "execution_count": 48,
   "metadata": {
    "collapsed": true
   },
   "outputs": [],
   "source": [
    "# Tu codigo aqui\n",
    "class ClaseGenerica:\n",
    "    def __init__(self, **kwargs):\n",
    "        for k, v in kwargs.items():\n",
    "            setattr(self, k, v)\n",
    "\n",
    "    def __str__(self):\n",
    "        attrs = [\"{}={}\".format(k, v) for (k, v) in self.__dict__.items()]\n",
    "        classname = self.__class__.__name__\n",
    "        return \"%s: %s\" % (classname, \",\".join(attrs))"
   ]
  },
  {
   "cell_type": "code",
   "execution_count": 50,
   "metadata": {
    "collapsed": false
   },
   "outputs": [
    {
     "name": "stdout",
     "output_type": "stream",
     "text": [
      "bar\n",
      "3\n",
      "4\n",
      "5\n",
      "ClaseGenerica: foo=bar,z=5,x=3,y=4\n"
     ]
    }
   ],
   "source": [
    "# Codigo de pruebas\n",
    "c = ClaseGenerica(foo='bar', x=3, y=4, z=5)\n",
    "\n",
    "print(c.foo)\n",
    "print(c.x)\n",
    "print(c.y)\n",
    "print(c.z)\n",
    "print(c)"
   ]
  },
  {
   "cell_type": "markdown",
   "metadata": {},
   "source": [
    "## Ejercicio 5\n",
    "\n",
    "Considera la siguiente definición de una clase\n",
    "\n",
    "```class Stock:\n",
    "        def __init__(self, name, shares, price):\n",
    "            self.name = name\n",
    "            self.shares = shares\n",
    "            self.price = price```\n",
    "            \n",
    "Con las técnicas de metaprogramación que hemos visto, implementa mecanismos para:\n",
    "\n",
    "* Shares sea siempre un número de tipo float, y con valor entre 0 y 1\n",
    "* Price sea un valor de tipo float mayor que 0\n",
    "* No se pueda borrar ninguno de los campos\n"
   ]
  },
  {
   "cell_type": "code",
   "execution_count": 60,
   "metadata": {
    "collapsed": false
   },
   "outputs": [],
   "source": [
    "# Tu codigo aqui\n",
    "\n",
    "# Descriptor basico\n",
    "class Descriptor:\n",
    "  # No nos hace falta get solo devolvería el valor\n",
    "  def __init__(self, name=None):\n",
    "    self.name = name\n",
    "  def __set__(self, instance, value):\n",
    "    instance.__dict__[self.name] = value\n",
    "\n",
    "  # No dejamos borrar ningún campo\n",
    "  def __delete__(self, instance):\n",
    "    raise AttributeError(\"Can't delete\")\n",
    "    \n",
    "# Clases para la comprobación de tipos\n",
    "class Typed(Descriptor):\n",
    "    ty = object\n",
    "    def __set__(self, instance, value):\n",
    "        if not isinstance(value, self.ty):\n",
    "            raise TypeError('Expected {}'.format(self.ty))\n",
    "        super().__set__(instance, value)\n",
    "        \n",
    "class Integer(Typed):\n",
    "    ty = int\n",
    "    \n",
    "class Float(Typed):\n",
    "    ty = float\n",
    "    \n",
    "    \n",
    "# Clases para la comprobación de valores\n",
    "class Positivo(Descriptor):\n",
    "    def __set__(self, instance, value):\n",
    "        if value < 0:\n",
    "            raise ValueError('Expected >= 0')\n",
    "        super().__set__(instance, value)\n",
    "        \n",
    "class Porcentaje(Descriptor):\n",
    "    def __set__(self, instance, value):\n",
    "        if value < 0.0 or value > 1.0:\n",
    "            raise ValueError('Expected between 0.0 and 1.0')\n",
    "        super().__set__(instance, value)\n",
    "        \n",
    "        \n",
    "# Combinando\n",
    "class PorcentajeFloat(Float, Porcentaje):\n",
    "    pass\n",
    "\n",
    "class EnteroPositivo(Integer, Positivo):\n",
    "    pass\n",
    "\n",
    "\n",
    "# Definimos nuestra clase\n",
    "class Stock:\n",
    "        def __init__(self, name, shares, price):\n",
    "            self.name = name\n",
    "            self.shares = shares\n",
    "            self.price = price\n",
    "            \n",
    "        shares = PorcentajeFloat('shares')\n",
    "        price = EnteroPositivo('price')\n",
    "        name = Descriptor('name')"
   ]
  },
  {
   "cell_type": "code",
   "execution_count": 61,
   "metadata": {
    "collapsed": false
   },
   "outputs": [
    {
     "ename": "AttributeError",
     "evalue": "Can't delete",
     "output_type": "error",
     "traceback": [
      "\u001b[1;31m---------------------------------------------------------------------------\u001b[0m",
      "\u001b[1;31mAttributeError\u001b[0m                            Traceback (most recent call last)",
      "\u001b[1;32m<ipython-input-61-a2f646f04ef7>\u001b[0m in \u001b[0;36m<module>\u001b[1;34m()\u001b[0m\n\u001b[0;32m      6\u001b[0m \u001b[1;31m#s.shares = 132.12\u001b[0m\u001b[1;33m\u001b[0m\u001b[1;33m\u001b[0m\u001b[0m\n\u001b[0;32m      7\u001b[0m \u001b[1;31m#s.price = -12\u001b[0m\u001b[1;33m\u001b[0m\u001b[1;33m\u001b[0m\u001b[0m\n\u001b[1;32m----> 8\u001b[1;33m \u001b[1;32mdel\u001b[0m \u001b[0ms\u001b[0m\u001b[1;33m.\u001b[0m\u001b[0mname\u001b[0m\u001b[1;33m\u001b[0m\u001b[0m\n\u001b[0m",
      "\u001b[1;32m<ipython-input-60-32c36b70ca1e>\u001b[0m in \u001b[0;36m__delete__\u001b[1;34m(self, instance)\u001b[0m\n\u001b[0;32m     11\u001b[0m   \u001b[1;31m# No dejamos borrar ningún campo\u001b[0m\u001b[1;33m\u001b[0m\u001b[1;33m\u001b[0m\u001b[0m\n\u001b[0;32m     12\u001b[0m   \u001b[1;32mdef\u001b[0m \u001b[0m__delete__\u001b[0m\u001b[1;33m(\u001b[0m\u001b[0mself\u001b[0m\u001b[1;33m,\u001b[0m \u001b[0minstance\u001b[0m\u001b[1;33m)\u001b[0m\u001b[1;33m:\u001b[0m\u001b[1;33m\u001b[0m\u001b[0m\n\u001b[1;32m---> 13\u001b[1;33m     \u001b[1;32mraise\u001b[0m \u001b[0mAttributeError\u001b[0m\u001b[1;33m(\u001b[0m\u001b[1;34m\"Can't delete\"\u001b[0m\u001b[1;33m)\u001b[0m\u001b[1;33m\u001b[0m\u001b[0m\n\u001b[0m\u001b[0;32m     14\u001b[0m \u001b[1;33m\u001b[0m\u001b[0m\n\u001b[0;32m     15\u001b[0m \u001b[1;31m# Clases para la comprobación de tipos\u001b[0m\u001b[1;33m\u001b[0m\u001b[1;33m\u001b[0m\u001b[0m\n",
      "\u001b[1;31mAttributeError\u001b[0m: Can't delete"
     ]
    }
   ],
   "source": [
    "# Codigo de prueba\n",
    "\n",
    "s = Stock(\"Microsoft\", 0.78, 12)\n",
    "\n",
    "# Operaciones que no se deben poder hacer\n",
    "s.shares = 132.12\n",
    "s.price = -12\n",
    "del s.name"
   ]
  },
  {
   "cell_type": "markdown",
   "metadata": {},
   "source": [
    "##### <a rel=\"license\" href=\"http://creativecommons.org/licenses/by/4.0/deed.es\"><img alt=\"Licencia Creative Commons\" style=\"border-width:0\" src=\"http://i.creativecommons.org/l/by/4.0/88x31.png\" /></a><br /><span xmlns:dct=\"http://purl.org/dc/terms/\" property=\"dct:title\">Curso Python</span> por <span xmlns:cc=\"http://creativecommons.org/ns#\" property=\"cc:attributionName\">Jorge Arévalo</span> se distribuye bajo una <a rel=\"license\" href=\"http://creativecommons.org/licenses/by/4.0/deed.es\">Licencia Creative Commons Atribución 4.0 Internacional</a>."
   ]
  },
  {
   "cell_type": "markdown",
   "metadata": {},
   "source": [
    "---\n",
    "_Las siguientes celdas contienen configuración del Notebook_\n",
    "\n",
    "_Para visualizar y utlizar los enlaces a Twitter el notebook debe ejecutarse como [seguro](http://ipython.org/ipython-doc/dev/notebook/security.html)_\n",
    "\n",
    "    File > Trusted Notebook"
   ]
  },
  {
   "cell_type": "code",
   "execution_count": 39,
   "metadata": {
    "collapsed": false
   },
   "outputs": [
    {
     "data": {
      "text/html": [
       "/* This template is inspired in the one used by Lorena Barba\n",
       "in the numerical-mooc repository: https://github.com/numerical-mooc/numerical-mooc\n",
       "We thank her work and hope you also enjoy the look of the notobooks with this style */\n",
       "\n",
       "<link href='http://fonts.googleapis.com/css?family=Source+Sans+Pro|Josefin+Sans:400,700,400italic|Ubuntu+Condensed' rel='stylesheet' type='text/css'>\n",
       "\n",
       "El estilo se ha aplicado =)\n",
       "\n",
       "<style>\n",
       "\n",
       "\n",
       "\n",
       "#notebook_panel { /* main background */\n",
       "    background: #f7f7f7;\n",
       "}\n",
       "\n",
       "div.cell { /* set cell width */\n",
       "    width: 900px;\n",
       "}\n",
       "\n",
       "div #notebook { /* centre the content */\n",
       "    background: #fff; /* white background for content */\n",
       "    width: 950px;\n",
       "    margin: auto;\n",
       "    padding-left: 0em;\n",
       "}\n",
       "\n",
       "#notebook li { /* More space between bullet points */\n",
       "    margin-top:0.7em;\n",
       "}\n",
       "\n",
       "/* draw border around running cells */\n",
       "div.cell.border-box-sizing.code_cell.running { \n",
       "    border: 1px solid #111;\n",
       "}\n",
       "\n",
       "/* Put a solid color box around each cell and its output, visually linking them*/\n",
       "div.cell.code_cell {\n",
       "    font-family: 'Source Sans Pro', sans-serif;\n",
       "    background-color: rgb(256,256,256);\n",
       "    font-size: 110%;\n",
       "    border-radius: 0px; \n",
       "    padding: 0.5em;\n",
       "    margin-left:1em;\n",
       "    margin-top: 1em;\n",
       "}\n",
       "\n",
       "div.text_cell_render{\n",
       "    font-family: 'Josefin Sans', serif;\n",
       "    line-height: 145%;\n",
       "    font-size: 125%;\n",
       "    font-weight: 500;\n",
       "    width:750px;\n",
       "    margin-left:auto;\n",
       "    margin-right:auto;\n",
       "}\n",
       "\n",
       "\n",
       "/* Formatting for header cells */\n",
       ".text_cell_render h1, .text_cell_render h2, .text_cell_render h3,\n",
       ".text_cell_render h4, .text_cell_render h5 {\n",
       "    font-family: 'Ubuntu Condensed', sans-serif;\n",
       "}\n",
       "/*\n",
       ".text_cell_render h1 {\n",
       "    font-family: Flux, 'Ubuntu Condensed', serif;\n",
       "    font-style:regular;\n",
       "    font-weight: 400;    \n",
       "    font-size: 30pt;\n",
       "    text-align: center;\n",
       "    line-height: 100%;\n",
       "    color: #335082;\n",
       "    margin-bottom: 0.5em;\n",
       "    margin-top: 0.5em;\n",
       "    display: block;\n",
       "}\n",
       "*/\n",
       ".text_cell_render h1 {\n",
       "    font-weight: 600;\n",
       "    font-size: 35pt;\n",
       "    line-height: 100%;\n",
       "    color: #000000;\n",
       "    margin-bottom: 0.1em;\n",
       "    margin-top: 0.3em;\n",
       "    display: block;\n",
       "}\n",
       "\n",
       ".text_cell_render h2 {\n",
       "    margin-top:16px;\n",
       "    font-size: 27pt;\n",
       "    font-weight: 550;\n",
       "    margin-bottom: 0.1em;\n",
       "    margin-top: 0.3em;\n",
       "    font-style: regular;\n",
       "    color: #2c6391;\n",
       "}\t\n",
       "\n",
       ".text_cell_render h3 {\n",
       "    font-size: 20pt;\n",
       "    font-weight: 550\n",
       "    text-align: left;\n",
       "    margin-bottom: 0.1em;\n",
       "    margin-top: 0.3em;\n",
       "    font-style: regular;\n",
       "    color:  #387eb8;\n",
       "}\n",
       "\n",
       ".text_cell_render h4 {    /*Use this for captions*/\n",
       "    font-size: 18pt;\n",
       "    font-weight: 450\n",
       "    text-align: left;\n",
       "    margin-bottom: 0.1em;\n",
       "    margin-top: 0.3em;\n",
       "    font-style: regular;\n",
       "    color:  #5797cc;\n",
       "}\n",
       "\n",
       ".text_cell_render h5 {  /*Use this for small titles*/\n",
       "    font-size: 18pt;\n",
       "    font-weight: 550;\n",
       "    color: rgb(163,0,0);\n",
       "    font-style: italic;\n",
       "    margin-bottom: .1em;\n",
       "    margin-top: 0.8em;\n",
       "    display: block;\n",
       "    color:  #b21c0d;\n",
       "}\n",
       "\n",
       ".text_cell_render h6 { /*use this for copyright note*/\n",
       "    font-family: 'Ubuntu Condensed', sans-serif;\n",
       "    font-weight: 300;\n",
       "    font-size: 14pt;\n",
       "    line-height: 100%;\n",
       "    color: #252525;\n",
       "    text-align: right;\n",
       "    margin-bottom: 1px;\n",
       "    margin-top: 1px;\n",
       "}\n",
       "\n",
       ".CodeMirror{\n",
       "        font-family: 'Duru Sans', sans-serif;\n",
       "        font-size: 100%;\n",
       "}\n",
       "\n",
       "</style>\n",
       "<script>\n",
       "    MathJax.Hub.Config({\n",
       "                        TeX: {\n",
       "                           extensions: [\"AMSmath.js\"],\n",
       "                           equationNumbers: { autoNumber: \"AMS\", useLabelIds: true}\n",
       "                           },\n",
       "                tex2jax: {\n",
       "                    inlineMath: [ ['$','$'], [\"\\\\(\",\"\\\\)\"] ],\n",
       "                    displayMath: [ ['$$','$$'], [\"\\\\[\",\"\\\\]\"] ]\n",
       "                },\n",
       "                displayAlign: 'center', // Change this to 'center' to center equations.\n",
       "                \"HTML-CSS\": {\n",
       "                    styles: {'.MathJax_Display': {\"margin\": 4}}\n",
       "                }\n",
       "        });\n",
       "</script>\n"
      ],
      "text/plain": [
       "<IPython.core.display.HTML object>"
      ]
     },
     "execution_count": 39,
     "metadata": {},
     "output_type": "execute_result"
    }
   ],
   "source": [
    "# Esta celda da el estilo al notebook\n",
    "from IPython.core.display import HTML\n",
    "css_file = '../static/styles/style.css'\n",
    "HTML(open(css_file, \"r\").read())"
   ]
  }
 ],
 "metadata": {
  "kernelspec": {
   "display_name": "Python 3",
   "language": "python",
   "name": "python3"
  },
  "language_info": {
   "codemirror_mode": {
    "name": "ipython",
    "version": 3
   },
   "file_extension": ".py",
   "mimetype": "text/x-python",
   "name": "python",
   "nbconvert_exporter": "python",
   "pygments_lexer": "ipython3",
   "version": "3.5.1+"
  }
 },
 "nbformat": 4,
 "nbformat_minor": 0
}
