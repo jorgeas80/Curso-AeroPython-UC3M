{
 "cells": [
  {
   "cell_type": "markdown",
   "metadata": {
    "collapsed": true
   },
   "source": [
    "TODO: En esta página hay ejercicios de metaprogramación planteados: http://chimera.labs.oreilly.com/books/1230000000393/ch09.html\n",
    "\n",
    "TODO: De los ejemplos de aquí también se pueden sacar: http://www.onlamp.com/pub/a/python/2003/04/17/metaclasses.html\n",
    "\n",
    "TODO: El ejercicio de aquí es asequible: http://www.diveintopython.net/power_of_introspection/index.html\n",
    "\n",
    "TODO: Este ejercicio también es asequible: http://python-textbok.readthedocs.io/en/1.0/Classes.html#exercise-6, y está resuelto aquí: http://python-textbok.readthedocs.io/en/1.0/Classes.html#answer-to-exercise-6\n",
    "\n",
    "TODO: Este ejercicio también es sencillo: http://python-textbok.readthedocs.io/en/1.0/Object_Oriented_Programming.html#answer-to-exercise-4"
   ]
  },
  {
   "cell_type": "code",
   "execution_count": null,
   "metadata": {
    "collapsed": true
   },
   "outputs": [],
   "source": []
  }
 ],
 "metadata": {
  "kernelspec": {
   "display_name": "Python 3",
   "language": "python",
   "name": "python3"
  },
  "language_info": {
   "codemirror_mode": {
    "name": "ipython",
    "version": 3
   },
   "file_extension": ".py",
   "mimetype": "text/x-python",
   "name": "python",
   "nbconvert_exporter": "python",
   "pygments_lexer": "ipython3",
   "version": "3.5.1"
  }
 },
 "nbformat": 4,
 "nbformat_minor": 0
}
