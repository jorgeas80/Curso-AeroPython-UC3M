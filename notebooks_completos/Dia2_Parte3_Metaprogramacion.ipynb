{
 "cells": [
  {
   "cell_type": "markdown",
   "metadata": {
    "collapsed": true
   },
   "source": [
    "<img src=\"../static/logopython.png\" alt=\"Logo Python\" style=\"width: 400px; display: inline\"/>\n",
    "<img src=\"../static/deimoslogo.png\" alt=\"Logo Deimos\" style=\"width: 400px; display: inline\"/>"
   ]
  },
  {
   "cell_type": "markdown",
   "metadata": {},
   "source": [
    "# Clase 2c: Metaprogramación en Python\n",
    "\n",
    "Como ya hemos visto en clases anteriores, la orientación a objetos es un paradigma con el que vamos a poder trabajar en Python, pero no es el único que existe, ni necesariamente el mejor para todas las circunstancias. Tenemos a nuestra disposición la posibilidad de elegir otros paradigmas o estilos. Uno de ellos es la <strong>programación funcional</strong>."
   ]
  }
 ],
 "metadata": {
  "kernelspec": {
   "display_name": "Python 3",
   "language": "python",
   "name": "python3"
  },
  "language_info": {
   "codemirror_mode": {
    "name": "ipython",
    "version": 3
   },
   "file_extension": ".py",
   "mimetype": "text/x-python",
   "name": "python",
   "nbconvert_exporter": "python",
   "pygments_lexer": "ipython3",
   "version": "3.5.1"
  }
 },
 "nbformat": 4,
 "nbformat_minor": 0
}
