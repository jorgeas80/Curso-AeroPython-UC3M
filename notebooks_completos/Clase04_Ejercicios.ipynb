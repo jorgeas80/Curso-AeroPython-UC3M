{
 "cells": [
  {
   "cell_type": "markdown",
   "metadata": {},
   "source": [
    "<img src=\"../static/logopython.png\" alt=\"Logo Python\" style=\"width: 300px; display: inline\"/>\n",
    "<img src=\"../static/deimoslogo.png\" alt=\"Logo Deimos\" style=\"width: 300px; display: inline\"/>"
   ]
  },
  {
   "cell_type": "markdown",
   "metadata": {},
   "source": [
    "# Clase 4: Ejercicios prácticos\n",
    "\n",
    "En esta clase vamos a afianzar los conocimientos de Python que acabamos de adquirir haciendo algunos ejercicios sobre las herramientas del lenguaje Python para trabajar con programación funcional"
   ]
  },
  {
   "cell_type": "markdown",
   "metadata": {},
   "source": [
    "## Ejercicio 1\n",
    "\n",
    "Crear un script Python que nos diga el número de todas las líneas del fichero `pep8.py` que empiezan por un comentario de tipo \\#"
   ]
  },
  {
   "cell_type": "code",
   "execution_count": 1,
   "metadata": {
    "collapsed": false
   },
   "outputs": [
    {
     "name": "stdout",
     "output_type": "stream",
     "text": [
      "La línea 0 del fichero empieza por un comentario\n",
      "La línea 1 del fichero empieza por un comentario\n",
      "La línea 2 del fichero empieza por un comentario\n",
      "La línea 3 del fichero empieza por un comentario\n",
      "La línea 4 del fichero empieza por un comentario\n",
      "La línea 5 del fichero empieza por un comentario\n",
      "La línea 6 del fichero empieza por un comentario\n",
      "La línea 7 del fichero empieza por un comentario\n",
      "La línea 8 del fichero empieza por un comentario\n",
      "La línea 9 del fichero empieza por un comentario\n",
      "La línea 10 del fichero empieza por un comentario\n",
      "La línea 11 del fichero empieza por un comentario\n",
      "La línea 12 del fichero empieza por un comentario\n",
      "La línea 13 del fichero empieza por un comentario\n",
      "La línea 14 del fichero empieza por un comentario\n",
      "La línea 15 del fichero empieza por un comentario\n",
      "La línea 16 del fichero empieza por un comentario\n",
      "La línea 17 del fichero empieza por un comentario\n",
      "La línea 18 del fichero empieza por un comentario\n",
      "La línea 19 del fichero empieza por un comentario\n",
      "La línea 20 del fichero empieza por un comentario\n",
      "La línea 21 del fichero empieza por un comentario\n",
      "La línea 22 del fichero empieza por un comentario\n",
      "La línea 23 del fichero empieza por un comentario\n",
      "La línea 108 del fichero empieza por un comentario\n",
      "La línea 109 del fichero empieza por un comentario\n",
      "La línea 113 del fichero empieza por un comentario\n",
      "La línea 114 del fichero empieza por un comentario\n",
      "La línea 115 del fichero empieza por un comentario\n",
      "La línea 229 del fichero empieza por un comentario\n",
      "La línea 230 del fichero empieza por un comentario\n",
      "La línea 231 del fichero empieza por un comentario\n",
      "La línea 1011 del fichero empieza por un comentario\n",
      "La línea 1012 del fichero empieza por un comentario\n",
      "La línea 1013 del fichero empieza por un comentario\n",
      "La línea 1134 del fichero empieza por un comentario\n",
      "La línea 1135 del fichero empieza por un comentario\n",
      "La línea 1136 del fichero empieza por un comentario\n"
     ]
    }
   ],
   "source": [
    "# Tu codigo aqui\n",
    "with open(\"pep8.py\") as f:\n",
    "    for i,line in enumerate(f):\n",
    "        if line[0] == \"#\":\n",
    "            print(\"La línea {} del fichero empieza por un comentario\".format(i))"
   ]
  },
  {
   "cell_type": "markdown",
   "metadata": {},
   "source": [
    "## Ejercicio 2:\n",
    "\n",
    "Mediante el uso de *map*, devolver la longitud de cada uno de los nombres de esta lista:\n",
    "\n",
    "```python\n",
    "lista = ['perro', 'gato', 'ornitorrinco']```"
   ]
  },
  {
   "cell_type": "code",
   "execution_count": 3,
   "metadata": {
    "collapsed": false
   },
   "outputs": [
    {
     "data": {
      "text/plain": [
       "[5, 4, 12]"
      ]
     },
     "execution_count": 3,
     "metadata": {},
     "output_type": "execute_result"
    }
   ],
   "source": [
    "# Tu codigo aqui\n",
    "lista = ['perro', 'gato', 'ornitorrinco']\n",
    "\n",
    "list(map(len, lista))"
   ]
  },
  {
   "cell_type": "markdown",
   "metadata": {},
   "source": [
    "## Ejercicio 3:\n",
    "\n",
    "Mediante el uso de *map* y *lambda*, devuelve una lista que calcule el cuadrado de los números de esta otra lista\n",
    "\n",
    "```python\n",
    "lista = [0, 1, 2, 3, 4]```"
   ]
  },
  {
   "cell_type": "code",
   "execution_count": 4,
   "metadata": {
    "collapsed": false
   },
   "outputs": [
    {
     "data": {
      "text/plain": [
       "[0, 1, 4, 9, 16]"
      ]
     },
     "execution_count": 4,
     "metadata": {},
     "output_type": "execute_result"
    }
   ],
   "source": [
    "# Tu codigo aqui\n",
    "lista = [0, 1, 2, 3, 4]\n",
    "\n",
    "list(map(lambda x: x * x, lista))"
   ]
  },
  {
   "cell_type": "markdown",
   "metadata": {},
   "source": [
    "## Ejercicio 4\n",
    "\n",
    "Dada una lista de nombres\n",
    "\n",
    "```python\n",
    "names = [\"jorge\", \"bartola\", \"mariano\"]```\n",
    "\n",
    "y de nombres en clave\n",
    "\n",
    "```python\n",
    "codes = [\"mr.pink\", \"mr.white\", \"mr.blonde\"]```\n",
    "\n",
    "Crea un diccionario en el que cada nombre reciba uno de los codigos de manera aleatoria. Da igual si dos nombres reciben el mismo código\n",
    "\n",
    "__Pista__: Investiga el uso de las funciones disponibles en el módulo [random](https://docs.python.org/3.5/library/random.html). Es posible que alguna te valga\n",
    "\n"
   ]
  },
  {
   "cell_type": "code",
   "execution_count": 3,
   "metadata": {
    "collapsed": false
   },
   "outputs": [
    {
     "data": {
      "text/plain": [
       "{'bartola': 'mr.blonde', 'jorge': 'mr.blonde', 'mariano': 'mr.pink'}"
      ]
     },
     "execution_count": 3,
     "metadata": {},
     "output_type": "execute_result"
    }
   ],
   "source": [
    "# Tu codigo aqui\n",
    "import random\n",
    "\n",
    "names = [\"jorge\", \"bartola\", \"mariano\"]\n",
    "codes = [\"mr.pink\", \"mr.white\", \"mr.blonde\"]\n",
    "\n",
    "dict(zip(names, list(map(lambda x: random.choice(codes), names))))"
   ]
  },
  {
   "cell_type": "markdown",
   "metadata": {},
   "source": [
    "## Ejercicio 5\n",
    "\n",
    "Trata de escribir este mismo código usando *lambda* y [reduce](https://docs.python.org/3.5/library/functools.html#functools.reduce)\n",
    "\n",
    "```python\n",
    "frases = ['Jorge es un tipo excepcional.',\n",
    "             'Todo el mundo adora a Jorge, porque Jorge es genial.',\n",
    "             'Jorge llora frecuentemente en su rincón de llorar cuando nadie le ve.']\n",
    "\n",
    "jorge_count = 0\n",
    "for frase in frases:\n",
    "    jorge_count += frase.count('Jorge')\n",
    "\n",
    "print(jorge_count)```\n",
    "\n",
    "__Pista__: Recuerda que la función *reduce* tiene un tercer parámetro. Te puede hacer falta"
   ]
  },
  {
   "cell_type": "code",
   "execution_count": 13,
   "metadata": {
    "collapsed": false
   },
   "outputs": [
    {
     "name": "stdout",
     "output_type": "stream",
     "text": [
      "4\n"
     ]
    }
   ],
   "source": [
    "# Codigo equivalente usando reduce\n",
    "import functools\n",
    "\n",
    "frases = ['Jorge es un tipo excepcional.',\n",
    "             'Todo el mundo adora a Jorge, porque Jorge es genial.',\n",
    "             'Jorge llora frecuentemente en su rincón de llorar cuando nadie le ve.']\n",
    "\n",
    "jorge_count = functools.reduce(lambda a, x: a + x.count('Jorge'),\n",
    "                   frases,\n",
    "                   0)\n",
    "\n",
    "print(jorge_count)"
   ]
  },
  {
   "cell_type": "markdown",
   "metadata": {},
   "source": [
    "## Ejercicio 6\n",
    "\n",
    "Crea un diccionario en el que la clave sea el nombre del mes, y el valor el número de días que tiene. Usa el año actual como referencia. \n",
    "\n",
    "__Pista__: Supongo que no hace falta decirte qué función usar para crear el diccionario...\n",
    "\n",
    "__Pista__: Investiga el módulo [calendar](https://docs.python.org/3/library/calendar.html)"
   ]
  },
  {
   "cell_type": "code",
   "execution_count": 16,
   "metadata": {
    "collapsed": false
   },
   "outputs": [
    {
     "data": {
      "text/plain": [
       "{'April': 30,\n",
       " 'August': 31,\n",
       " 'December': 31,\n",
       " 'February': 29,\n",
       " 'January': 31,\n",
       " 'July': 31,\n",
       " 'June': 30,\n",
       " 'March': 31,\n",
       " 'May': 31,\n",
       " 'November': 30,\n",
       " 'October': 31,\n",
       " 'September': 30}"
      ]
     },
     "execution_count": 16,
     "metadata": {},
     "output_type": "execute_result"
    }
   ],
   "source": [
    "# Tu codigo aqui\n",
    "import calendar\n",
    "\n",
    "months = [n for n in calendar.month_name[1:]]\n",
    "days_per_month = [calendar.monthrange(2016, index + 1)[1] for index, month in enumerate(months)]\n",
    "\n",
    "dict(zip(months, days_per_month))"
   ]
  },
  {
   "cell_type": "markdown",
   "metadata": {},
   "source": [
    "## Ejercicio 7\n",
    "\n",
    "Crea lambdas para cada una de estas operaciones\n",
    "\n",
    "* Dado un número, devolver el número elevado al cuadrado\n",
    "* Dados dos números, devolver la raiz cuadrada de la suma de sus cuadrados\n",
    "* Dada una serie de números, devolver su media (ojo, el argumento no es una lista, es una serie de números)\n",
    "* Dada una cadena de texto, devolver una cadena que elimine las letras repetidas. Da igual el orden de las letras en la cadena de salida"
   ]
  },
  {
   "cell_type": "code",
   "execution_count": 12,
   "metadata": {
    "collapsed": false
   },
   "outputs": [
    {
     "name": "stdout",
     "output_type": "stream",
     "text": [
      "[1, 4, 9, 16, 25, 36, 49, 64, 81]\n"
     ]
    }
   ],
   "source": [
    "# Tu codigo aqui\n",
    "import math\n",
    "\n",
    "a = lambda x: x**2\n",
    "b = lambda x, y: math.sqrt(x**2 + y**2)\n",
    "c = lambda *args: sum(args)/len(args)\n",
    "d = lambda s: \"\".join(set(s))\n",
    "\n",
    "# Las lambdas son útiles en combinación con map o filter\n",
    "print(list(map(lambda x: x**2, [1, 2, 3, 4, 5, 6, 7, 8, 9])))\n"
   ]
  },
  {
   "cell_type": "code",
   "execution_count": 2,
   "metadata": {
    "collapsed": false
   },
   "outputs": [
    {
     "data": {
      "text/html": [
       "/* This template is inspired in the one used by Lorena Barba\n",
       "in the numerical-mooc repository: https://github.com/numerical-mooc/numerical-mooc\n",
       "We thank her work and hope you also enjoy the look of the notobooks with this style */\n",
       "\n",
       "<link href='http://fonts.googleapis.com/css?family=Source+Sans+Pro|Josefin+Sans:400,700,400italic|Ubuntu+Condensed' rel='stylesheet' type='text/css'>\n",
       "\n",
       "El estilo se ha aplicado =)\n",
       "\n",
       "<style>\n",
       "\n",
       "\n",
       "\n",
       "#notebook_panel { /* main background */\n",
       "    background: #f7f7f7;\n",
       "}\n",
       "\n",
       "div.cell { /* set cell width */\n",
       "    width: 900px;\n",
       "}\n",
       "\n",
       "div #notebook { /* centre the content */\n",
       "    background: #fff; /* white background for content */\n",
       "    width: 950px;\n",
       "    margin: auto;\n",
       "    padding-left: 0em;\n",
       "}\n",
       "\n",
       "#notebook li { /* More space between bullet points */\n",
       "    margin-top:0.7em;\n",
       "}\n",
       "\n",
       "/* draw border around running cells */\n",
       "div.cell.border-box-sizing.code_cell.running { \n",
       "    border: 1px solid #111;\n",
       "}\n",
       "\n",
       "/* Put a solid color box around each cell and its output, visually linking them*/\n",
       "div.cell.code_cell {\n",
       "    font-family: 'Source Sans Pro', sans-serif;\n",
       "    background-color: rgb(256,256,256);\n",
       "    font-size: 110%;\n",
       "    border-radius: 0px; \n",
       "    padding: 0.5em;\n",
       "    margin-left:1em;\n",
       "    margin-top: 1em;\n",
       "}\n",
       "\n",
       "div.text_cell_render{\n",
       "    font-family: 'Josefin Sans', serif;\n",
       "    line-height: 145%;\n",
       "    font-size: 125%;\n",
       "    font-weight: 500;\n",
       "    width:750px;\n",
       "    margin-left:auto;\n",
       "    margin-right:auto;\n",
       "}\n",
       "\n",
       "\n",
       "/* Formatting for header cells */\n",
       ".text_cell_render h1, .text_cell_render h2, .text_cell_render h3,\n",
       ".text_cell_render h4, .text_cell_render h5 {\n",
       "    font-family: 'Ubuntu Condensed', sans-serif;\n",
       "}\n",
       "/*\n",
       ".text_cell_render h1 {\n",
       "    font-family: Flux, 'Ubuntu Condensed', serif;\n",
       "    font-style:regular;\n",
       "    font-weight: 400;    \n",
       "    font-size: 30pt;\n",
       "    text-align: center;\n",
       "    line-height: 100%;\n",
       "    color: #335082;\n",
       "    margin-bottom: 0.5em;\n",
       "    margin-top: 0.5em;\n",
       "    display: block;\n",
       "}\n",
       "*/\n",
       ".text_cell_render h1 {\n",
       "    font-weight: 600;\n",
       "    font-size: 35pt;\n",
       "    line-height: 100%;\n",
       "    color: #000000;\n",
       "    margin-bottom: 0.1em;\n",
       "    margin-top: 0.3em;\n",
       "    display: block;\n",
       "}\n",
       "\n",
       ".text_cell_render h2 {\n",
       "    margin-top:16px;\n",
       "    font-size: 27pt;\n",
       "    font-weight: 550;\n",
       "    margin-bottom: 0.1em;\n",
       "    margin-top: 0.3em;\n",
       "    font-style: regular;\n",
       "    color: #2c6391;\n",
       "}\t\n",
       "\n",
       ".text_cell_render h3 {\n",
       "    font-size: 20pt;\n",
       "    font-weight: 550\n",
       "    text-align: left;\n",
       "    margin-bottom: 0.1em;\n",
       "    margin-top: 0.3em;\n",
       "    font-style: regular;\n",
       "    color:  #387eb8;\n",
       "}\n",
       "\n",
       ".text_cell_render h4 {    /*Use this for captions*/\n",
       "    font-size: 18pt;\n",
       "    font-weight: 450\n",
       "    text-align: left;\n",
       "    margin-bottom: 0.1em;\n",
       "    margin-top: 0.3em;\n",
       "    font-style: regular;\n",
       "    color:  #5797cc;\n",
       "}\n",
       "\n",
       ".text_cell_render h5 {  /*Use this for small titles*/\n",
       "    font-size: 18pt;\n",
       "    font-weight: 550;\n",
       "    color: rgb(163,0,0);\n",
       "    font-style: italic;\n",
       "    margin-bottom: .1em;\n",
       "    margin-top: 0.8em;\n",
       "    display: block;\n",
       "    color:  #b21c0d;\n",
       "}\n",
       "\n",
       ".text_cell_render h6 { /*use this for copyright note*/\n",
       "    font-family: 'Ubuntu Condensed', sans-serif;\n",
       "    font-weight: 300;\n",
       "    font-size: 14pt;\n",
       "    line-height: 100%;\n",
       "    color: #252525;\n",
       "    text-align: right;\n",
       "    margin-bottom: 1px;\n",
       "    margin-top: 1px;\n",
       "}\n",
       "\n",
       ".CodeMirror{\n",
       "        font-family: 'Duru Sans', sans-serif;\n",
       "        font-size: 100%;\n",
       "}\n",
       "\n",
       "</style>\n",
       "<script>\n",
       "    MathJax.Hub.Config({\n",
       "                        TeX: {\n",
       "                           extensions: [\"AMSmath.js\"],\n",
       "                           equationNumbers: { autoNumber: \"AMS\", useLabelIds: true}\n",
       "                           },\n",
       "                tex2jax: {\n",
       "                    inlineMath: [ ['$','$'], [\"\\\\(\",\"\\\\)\"] ],\n",
       "                    displayMath: [ ['$$','$$'], [\"\\\\[\",\"\\\\]\"] ]\n",
       "                },\n",
       "                displayAlign: 'center', // Change this to 'center' to center equations.\n",
       "                \"HTML-CSS\": {\n",
       "                    styles: {'.MathJax_Display': {\"margin\": 4}}\n",
       "                }\n",
       "        });\n",
       "</script>\n"
      ],
      "text/plain": [
       "<IPython.core.display.HTML object>"
      ]
     },
     "execution_count": 2,
     "metadata": {},
     "output_type": "execute_result"
    }
   ],
   "source": [
    "# Esta celda da el estilo al notebook\n",
    "from IPython.core.display import HTML\n",
    "css_file = '../static/styles/style.css'\n",
    "HTML(open(css_file, \"r\").read())"
   ]
  },
  {
   "cell_type": "code",
   "execution_count": null,
   "metadata": {
    "collapsed": true
   },
   "outputs": [],
   "source": []
  }
 ],
 "metadata": {
  "kernelspec": {
   "display_name": "Python 3",
   "language": "python",
   "name": "python3"
  },
  "language_info": {
   "codemirror_mode": {
    "name": "ipython",
    "version": 3
   },
   "file_extension": ".py",
   "mimetype": "text/x-python",
   "name": "python",
   "nbconvert_exporter": "python",
   "pygments_lexer": "ipython3",
   "version": "3.5.1+"
  }
 },
 "nbformat": 4,
 "nbformat_minor": 0
}
