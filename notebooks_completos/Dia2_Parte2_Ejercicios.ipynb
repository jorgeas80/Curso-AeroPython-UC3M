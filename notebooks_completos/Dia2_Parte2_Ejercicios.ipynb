{
 "cells": [
  {
   "cell_type": "markdown",
   "metadata": {
    "collapsed": true
   },
   "source": [
    "TODO:\n",
    "\n",
    "Hacer un ejercicio en el que digamos qué líneas de un fichero de código fuente escrito en Python son comentarios (empiezan por #)\n",
    "\n",
    "Construir un diccionario a partir de claves y valores usando zip (http://stackoverflow.com/a/209854), pero que en el enunciado del problema no esté claramente implicito que se tiene que hacer con zip y un diccionario\n",
    "\n",
    "Poner los ejercicios prácticos de aquí como ejercicios a resolver: https://maryrosecook.com/blog/post/a-practical-introduction-to-functional-programming"
   ]
  }
 ],
 "metadata": {
  "kernelspec": {
   "display_name": "Python 3",
   "language": "python",
   "name": "python3"
  },
  "language_info": {
   "codemirror_mode": {
    "name": "ipython",
    "version": 3
   },
   "file_extension": ".py",
   "mimetype": "text/x-python",
   "name": "python",
   "nbconvert_exporter": "python",
   "pygments_lexer": "ipython3",
   "version": "3.5.1"
  }
 },
 "nbformat": 4,
 "nbformat_minor": 0
}
