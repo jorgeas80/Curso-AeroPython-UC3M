{
 "cells": [
  {
   "cell_type": "markdown",
   "metadata": {},
   "source": [
    "<img src=\"../static/logopython.png\" alt=\"Logo Python\" style=\"width: 400px; display: inline\"/>\n",
    "<img src=\"../static/deimoslogo.png\" alt=\"Logo Deimos\" style=\"width: 400px; display: inline\"/>"
   ]
  },
  {
   "cell_type": "markdown",
   "metadata": {},
   "source": [
    "# Clase 2a: Herramientas para programar como un pythonista\n",
    "\n",
    "Ya hemos visto que la orientación a objetos es solo uno de los paradigmas que podemos usar cuando programamos en Python. Al margen de frameworks, como <a href=\"https://www.djangoproject.com/\">Django</a>, orientado al desarrollo web, existen una serie de estructuras y herramientas en el propio lenguaje que nos ayudan a tomar decisiones cuando creamos una aplicación Python. Veremos a continuación las más populares"
   ]
  },
  {
   "cell_type": "markdown",
   "metadata": {},
   "source": [
    "## Módulos y namespaces"
   ]
  },
  {
   "cell_type": "markdown",
   "metadata": {},
   "source": [
    "Como ya dijimos en el capítulo anterior, Python proporciona algunas herramientas que ayudan a la organización de nuestro código, más allá del paradigma de la programación orientada a objetos. Los módulos y los namespaces son posiblemente los más conocidos. Veámoslos a continuación"
   ]
  },
  {
   "cell_type": "markdown",
   "metadata": {},
   "source": [
    "### Namespaces"
   ]
  },
  {
   "cell_type": "markdown",
   "metadata": {},
   "source": [
    "Como ya vimos en la introducción, un *nombre* en Python es lo que en otros lenguajes de programación llamaríamos una *variable*"
   ]
  },
  {
   "cell_type": "code",
   "execution_count": 6,
   "metadata": {
    "collapsed": false
   },
   "outputs": [
    {
     "name": "stdout",
     "output_type": "stream",
     "text": [
      "12 B [1, 2, 3, 4]\n"
     ]
    }
   ],
   "source": [
    "a = 12\n",
    "b = 'B'\n",
    "c = [1, 2, 3, 4]\n",
    "print(a, b, c)"
   ]
  },
  {
   "cell_type": "markdown",
   "metadata": {},
   "source": [
    "Pero un *nombre* también puede almacenar una función"
   ]
  },
  {
   "cell_type": "code",
   "execution_count": 5,
   "metadata": {
    "collapsed": false
   },
   "outputs": [
    {
     "name": "stdout",
     "output_type": "stream",
     "text": [
      "Esto es una función\n"
     ]
    }
   ],
   "source": [
    "def func():\n",
    "    print('Esto es una función')\n",
    " \n",
    "f = func\n",
    "f()"
   ]
  },
  {
   "cell_type": "markdown",
   "metadata": {},
   "source": [
    "Un *namespace* no es otra cosa que un espacio en memoria donde se almacenan un conjunto de nombres. Se crean de manera automática, sin que nosotros hagamos nada."
   ]
  },
  {
   "cell_type": "markdown",
   "metadata": {},
   "source": [
    "### Modules"
   ]
  },
  {
   "cell_type": "markdown",
   "metadata": {},
   "source": [
    "Los módulos van unidos conceptualmente a los *namespaces*. Un módulo es un fichero que contiene código Python, ya sea en forma de clases, funciones o simplemente una lista de nombres. Y cada módulo obtiene su propio *namespace*. Por eso no podemos tener en el mismo fichero dos clases o funciones con el mismo nombre\n",
    "\n",
    "Por otro lado, <strong>cada *namespace* está totalmente aislado del resto</strong>, de manera que dos módulos pueden tener clases o funciones con el mismo nombre.\n",
    "\n",
    "Por último, cuando ejecutamos un script Python, el intérprete crea un módulo llamado *\\__main\\__*, con su propio namespace"
   ]
  },
  {
   "cell_type": "markdown",
   "metadata": {},
   "source": [
    "<div class=\"alert alert-info\">Los módulos constituyen las capas de abstracción más naturales en el lengujar Python. Permiten separar el código en varias partes que comparten funcionalidad</div>"
   ]
  },
  {
   "cell_type": "markdown",
   "metadata": {},
   "source": [
    "Para poder usar módulos en nuestra aplicación, tenemos que importarlos. Veremos a continuación cómo hacerlo"
   ]
  },
  {
   "cell_type": "markdown",
   "metadata": {},
   "source": [
    "#### import modulename"
   ]
  },
  {
   "cell_type": "markdown",
   "metadata": {},
   "source": [
    "Mediante esta instrucción, obtenemos acceso a todo el espacio de nombres de un módulo. Deberemos preceder cada elemento del \n",
    "módulo con el nombre del módulo."
   ]
  },
  {
   "cell_type": "code",
   "execution_count": 12,
   "metadata": {
    "collapsed": false
   },
   "outputs": [
    {
     "name": "stdout",
     "output_type": "stream",
     "text": [
      "3.141592653589793\n"
     ]
    }
   ],
   "source": [
    "# Importamos el módulo math y podemos acceder a sus nombres. Es seguro porque todos los nombres del módulo requieren que\n",
    "# pongamos delante el nombre del módulo en si.\n",
    "import math\n",
    "print(math.pi)"
   ]
  },
  {
   "cell_type": "markdown",
   "metadata": {},
   "source": [
    "#### from module import name"
   ]
  },
  {
   "cell_type": "markdown",
   "metadata": {},
   "source": [
    "Podemos también importar un nombre completo de un módulo. No será necesario preceder el nombre de cada nombre con el nombre del módulo, de manera que puede chocar con nombres que tengamos en nuestro namespace"
   ]
  },
  {
   "cell_type": "code",
   "execution_count": 13,
   "metadata": {
    "collapsed": false
   },
   "outputs": [
    {
     "name": "stdout",
     "output_type": "stream",
     "text": [
      "3.141592653589793\n"
     ]
    }
   ],
   "source": [
    "# Importamos solo el nombre pi. Considerado mala práctica, porque los nombres importados podrían chocar con los nuestros\n",
    "from math import pi\n",
    "print(pi)"
   ]
  },
  {
   "cell_type": "markdown",
   "metadata": {},
   "source": [
    "#### from module import *"
   ]
  },
  {
   "cell_type": "markdown",
   "metadata": {},
   "source": [
    "También podemos importar todos los nombres de un módulo."
   ]
  },
  {
   "cell_type": "code",
   "execution_count": 16,
   "metadata": {
    "collapsed": false
   },
   "outputs": [
    {
     "name": "stdout",
     "output_type": "stream",
     "text": [
      "3.141592653589793\n",
      "4.0\n"
     ]
    }
   ],
   "source": [
    "# Importamos todos los nombres de un módulo. Considerado mala práctica, por lo mismo que en el caso anterior\n",
    "from math import *\n",
    "print(pi)\n",
    "print(log2(16))"
   ]
  },
  {
   "cell_type": "markdown",
   "metadata": {},
   "source": [
    "<div class=\"alert alert-info\">Cuando importamos un módulo, Python lo busca en el directorio actual. Si no lo encuentra, lo buscará en su *path*, que está definido en tiempo de compilación</div>"
   ]
  },
  {
   "cell_type": "markdown",
   "metadata": {},
   "source": [
    "## Paquetes"
   ]
  },
  {
   "cell_type": "markdown",
   "metadata": {},
   "source": [
    "Igual que un fichero de código Python se considera un módulo, <strong>un directorio que contiene varios ficheros se considera un paquete ,siempre y cuando uno de esos ficheros se llame *\\__init\\__.py*</strong>. En este fichero se suelen almacenar nombres que serán usados por el resto de módulos del mismo, si son necesarios. Pero es habitual, e incluso buena práctica, que el fichero esté vacío."
   ]
  },
  {
   "cell_type": "markdown",
   "metadata": {},
   "source": [
    "<div class=\"alert alert-info\">Los paquetes son una capa de abstracción superior a los módulos. Cada paquete suele contener módulos con funcionalidades complementarias</div>"
   ]
  },
  {
   "cell_type": "markdown",
   "metadata": {},
   "source": [
    "Para importar un módulo (fichero) dentro de un paquete (directorio), escribimos: *import package.module*. Python buscará el fichero *module.py* dentro del directorio *package*. Primero en el directorio actual, y si no lo encuentra, acudirá a su propio *path* a buscarlo."
   ]
  },
  {
   "cell_type": "markdown",
   "metadata": {},
   "source": [
    "<div class=\"alert alert-success\"><strong>Buenas prácticas</strong>: Se considera buena práctica definir *alias* al cargar paquetes con una estructura de directorios demasiado profunda, para evitar escribir de más al acceder a los nombres del módulo importado. Ejemplo: *import very.deep.module as mod*</div>"
   ]
  },
  {
   "cell_type": "markdown",
   "metadata": {},
   "source": [
    "Ahora que ya sabemos cómo encapsular nuestro código, tanto si usamos programación orientada a objetos como si no, veamos ciertas herramientas que nos ayudan a diseñar programas de manera más eficiente y elegante. Empezaremos con los *context managers*"
   ]
  },
  {
   "cell_type": "markdown",
   "metadata": {},
   "source": [
    "## Context Managers"
   ]
  },
  {
   "cell_type": "markdown",
   "metadata": {},
   "source": [
    "Los *context managers* son objetos especiales que proporcionan información contextual adicional a una acción. Se aseguran de que sucedan cosas tanto **antes** como **después** de que la acción se lleve a cabo. Para especificar que un bloque de código se ejecuta bajo la supervisión de un *context manager*, usamos la palabra clave reservada *with*"
   ]
  },
  {
   "cell_type": "markdown",
   "metadata": {},
   "source": [
    "El ejemplo clásico es leer o escribir en un fichero. Mediante un *context manager*:\n",
    "\n",
    "<ul>\n",
    "    <li>Me aseguro de que el fichero se abra antes de comenzar la operación de lectura/escritura</li>\n",
    "    <li>Me aseguro de que el fichero se cierre después de terminar la operación de lectura/escritura</li>\n",
    "</ul>"
   ]
  },
  {
   "cell_type": "markdown",
   "metadata": {},
   "source": [
    "El ejemplo básico sería así"
   ]
  },
  {
   "cell_type": "code",
   "execution_count": 17,
   "metadata": {
    "collapsed": true
   },
   "outputs": [],
   "source": [
    "# Abrimos un fichero y escribimos texto dentro. No es necesario que lo cerremos. Se encarga el context manager\n",
    "with open('file.txt', 'w') as f:\n",
    "    f.write('hola')"
   ]
  },
  {
   "cell_type": "markdown",
   "metadata": {},
   "source": [
    "Podríamos implementar nuestra propia versión de este *context manager*"
   ]
  },
  {
   "cell_type": "code",
   "execution_count": 19,
   "metadata": {
    "collapsed": false
   },
   "outputs": [
    {
     "name": "stdout",
     "output_type": "stream",
     "text": [
      "hola\n"
     ]
    }
   ],
   "source": [
    "class CustomOpen(object):\n",
    "    # Constructor de la clase\n",
    "    def __init__(self, filename):\n",
    "      self.file = open(filename)\n",
    "\n",
    "    # Esto es lo que se devuelve en el with, y va a la variable f\n",
    "    def __enter__(self):\n",
    "        return self.file\n",
    "\n",
    "    # Esto se ejecuta antes de terminar el context manager\n",
    "    def __exit__(self, ctx_type, ctx_value, ctx_traceback):\n",
    "        self.file.close()\n",
    "\n",
    "with CustomOpen('file.txt') as f:\n",
    "    contents = f.read()\n",
    "    print(contents)"
   ]
  },
  {
   "cell_type": "markdown",
   "metadata": {},
   "source": [
    "Python proporciona un *decorator* especial para facilitar la creación de *context manager*. Se denomina *contextmanager* y se encuentra dentro del paquete *contextlib*, presente en la instalación estándar."
   ]
  },
  {
   "cell_type": "code",
   "execution_count": 22,
   "metadata": {
    "collapsed": false
   },
   "outputs": [
    {
     "name": "stdout",
     "output_type": "stream",
     "text": [
      "hola\n"
     ]
    }
   ],
   "source": [
    "# Implementación del mismo context manager usando contextlib.contextmanager\n",
    "from contextlib import contextmanager\n",
    "\n",
    "@contextmanager\n",
    "def custom_open(filename):\n",
    "    f = open(filename)\n",
    "    try:\n",
    "        # La función se ejecuta hasta que encuentra una llamada a yield, y eso es lo que se devuelve en f\n",
    "        yield f\n",
    "        \n",
    "    # Esto es lo último que se ejecuta en el context manager\n",
    "    finally:\n",
    "        f.close()\n",
    "\n",
    "with custom_open('file.txt') as f:\n",
    "    contents = f.read()\n",
    "    print(contents)"
   ]
  },
  {
   "cell_type": "markdown",
   "metadata": {},
   "source": [
    "<div class=\"alert alert-info\">No te preocupes del significado de *yield* ahora. Lo veremos cuando estudiemos los generadores. Quedémonos con que devuelve un valor</div>"
   ]
  },
  {
   "cell_type": "markdown",
   "metadata": {},
   "source": [
    "<div class=\"alert alert-success\"><strong>Buenas prácticas</strong>: Usa el zen de Python para decidir qué método de los dos anteriores utilizar. Implementa tu propia clase *Context Manager* si el código a encapsular contiene mucha lógica. Usa el módulo *contextmanager* del paquete *contextlib* si lo que quieres encapsular es una acción relativamente sencilla</div>"
   ]
  },
  {
   "cell_type": "markdown",
   "metadata": {},
   "source": [
    "## Iterables"
   ]
  },
  {
   "cell_type": "markdown",
   "metadata": {},
   "source": [
    "Los iterables son elementos que se pueden recorrer. Como las listas, los diccionarios o los *strings*. "
   ]
  },
  {
   "cell_type": "code",
   "execution_count": 3,
   "metadata": {
    "collapsed": false
   },
   "outputs": [
    {
     "name": "stdout",
     "output_type": "stream",
     "text": [
      "1 2 3 h o l a "
     ]
    }
   ],
   "source": [
    "# Una lista es un iterable\n",
    "a_list = [1, 2, 3]\n",
    "for a in a_list:\n",
    "    # Tip: para que print no meta un salto de línea al final de cada llamada, pasarle un segundo argumento end=' '\n",
    "    print (a, end=' ')\n",
    "    \n",
    "# Un string también es un iterable\n",
    "a_string = \"hola\"\n",
    "for a in a_string:\n",
    "    print(a, end=' ')"
   ]
  },
  {
   "cell_type": "markdown",
   "metadata": {},
   "source": [
    "También es posible crear un *iterable* a partir de una *comprehension list* (veremos *comprehension* al final de este tema)"
   ]
  },
  {
   "cell_type": "code",
   "execution_count": 94,
   "metadata": {
    "collapsed": false
   },
   "outputs": [
    {
     "name": "stdout",
     "output_type": "stream",
     "text": [
      "0 1 4 "
     ]
    }
   ],
   "source": [
    "# Construimos iterable (lista) a partir de una comprehension list\n",
    "numeros = [x*x for x in range(3)]\n",
    "for n in numeros:\n",
    "    print(n, end=' ')"
   ]
  },
  {
   "cell_type": "markdown",
   "metadata": {},
   "source": [
    "Otro ejemplo de *iterable* a partir de una expresión de tipo *comprehension list*: los 15 primeros dígitos de la <a href=\"https://es.wikipedia.org/wiki/Sucesi%C3%B3n_de_Fibonacci\">Sucesión de Fibonnaci</a>"
   ]
  },
  {
   "cell_type": "code",
   "execution_count": 95,
   "metadata": {
    "collapsed": false
   },
   "outputs": [
    {
     "name": "stdout",
     "output_type": "stream",
     "text": [
      "[0, 1, 1, 2, 3, 5, 8, 13, 21, 34, 55, 89, 144, 233, 377, 610, 987]\n"
     ]
    }
   ],
   "source": [
    "# 15 primeros dígitos de la secuencia de Fibonacci con comprehension list\n",
    "fib = [0,1]\n",
    "[fib.append(fib[-1] +fib[-2]) for ctr in range(15)]\n",
    "print(fib)"
   ]
  },
  {
   "cell_type": "markdown",
   "metadata": {},
   "source": [
    "También podemos demostrar lo *nerds* que somos usando la <a href=\"http://stackoverflow.com/a/6504560\">Fórmula de Binet</a> para generar la lista"
   ]
  },
  {
   "cell_type": "code",
   "execution_count": 63,
   "metadata": {
    "collapsed": false
   },
   "outputs": [
    {
     "name": "stdout",
     "output_type": "stream",
     "text": [
      "[0, 1, 1, 2, 3, 5, 8, 13, 21, 34, 55, 89, 144, 233, 377, 610, 987]\n"
     ]
    }
   ],
   "source": [
    "fib = [round(0.4472135954999579392818347337462552470881236719223051448541*(pow(1.6180339887498948482045868343656381177203091798057628621354,n) - pow(-0.618033988749894848204586834365638117720309179805762862135,n))) for n in range(17)]\n",
    "print(fib)"
   ]
  },
  {
   "cell_type": "markdown",
   "metadata": {},
   "source": [
    "Incluso podríamos implementarlo mediante <a href=\"https://docs.python.org/3/tutorial/controlflow.html#lambda-expressions\">expresiones lambda</a> y <a href=\"https://docs.python.org/3/library/functools.html#functools.reduce\">reduce</a>, frecuentes en programación funcional. Aunque Guido Van Rosuum prefiere las *list comprehension*"
   ]
  },
  {
   "cell_type": "code",
   "execution_count": 65,
   "metadata": {
    "collapsed": false
   },
   "outputs": [
    {
     "name": "stdout",
     "output_type": "stream",
     "text": [
      "[0, 1, 1, 2, 3, 5, 8, 13, 21, 34, 55, 89, 144, 233, 377, 610, 987]\n"
     ]
    }
   ],
   "source": [
    "import functools\n",
    "\n",
    "fib_function = lambda n:functools.reduce(lambda x,n:[x[1],x[0]+x[1]], range(n),[0,1])[0]\n",
    "\n",
    "fib = [fib_function(n) for n in range(17)]\n",
    "print(fib)"
   ]
  },
  {
   "cell_type": "markdown",
   "metadata": {},
   "source": [
    "Al trabajar con iterables, en cualquier caso, es una buena idea usar el módulo *itertools*"
   ]
  },
  {
   "cell_type": "markdown",
   "metadata": {},
   "source": [
    "<div class=\"alert alert-success\"><strong>Buenas prácticas</strong>: Usa el módulo <a href=\"https://docs.python.org/3.4/library/itertools.html\">*itertools*</a> siempre que trabajes con iterables. Tiene muchas utilidades que te ahorrarán trabajo.</div>"
   ]
  },
  {
   "cell_type": "markdown",
   "metadata": {},
   "source": [
    "Veamos a continuación algunos ejemplos de cosas que podemos hacer con *itertools*"
   ]
  },
  {
   "cell_type": "code",
   "execution_count": 6,
   "metadata": {
    "collapsed": false
   },
   "outputs": [
    {
     "name": "stdout",
     "output_type": "stream",
     "text": [
      "(1, 2, 3, 4) - (1, 2, 4, 3) - (1, 3, 2, 4) - (1, 3, 4, 2) - (1, 4, 2, 3) - (1, 4, 3, 2) - (2, 1, 3, 4) - (2, 1, 4, 3) - (2, 3, 1, 4) - (2, 3, 4, 1) - (2, 4, 1, 3) - (2, 4, 3, 1) - (3, 1, 2, 4) - (3, 1, 4, 2) - (3, 2, 1, 4) - (3, 2, 4, 1) - (3, 4, 1, 2) - (3, 4, 2, 1) - (4, 1, 2, 3) - (4, 1, 3, 2) - (4, 2, 1, 3) - (4, 2, 3, 1) - (4, 3, 1, 2) - (4, 3, 2, 1) - "
     ]
    }
   ],
   "source": [
    "# Genera todas las permutaciones de 4 elementos usando itertools\n",
    "import itertools\n",
    "\n",
    "elementos = [1, 2, 3, 4]\n",
    "permutaciones = itertools.permutations(elementos)\n",
    "for p in permutaciones:\n",
    "    print(p, end=' - ')"
   ]
  },
  {
   "cell_type": "markdown",
   "metadata": {},
   "source": [
    "¿Qué tal si calculamos el producto cartesiano de dos iterables? De hecho, no tienen porqué ser listas. Puede ser cualquier iterable, como un string"
   ]
  },
  {
   "cell_type": "code",
   "execution_count": 7,
   "metadata": {
    "collapsed": false
   },
   "outputs": [
    {
     "name": "stdout",
     "output_type": "stream",
     "text": [
      "('A', '1') - ('A', '2') - ('A', '3') - ('B', '1') - ('B', '2') - ('B', '3') - ('C', '1') - ('C', '2') - ('C', '3') - "
     ]
    }
   ],
   "source": [
    "# Genera el producto cartesiano de dos iterables definidos como string\n",
    "import itertools\n",
    "\n",
    "cartesiano = itertools.product('ABC', '123')\n",
    "for c in cartesiano:\n",
    "    print(c, end=' - ')"
   ]
  },
  {
   "cell_type": "markdown",
   "metadata": {},
   "source": [
    "O las combinaciones de elementos de un iterable, cogidas de 2 en 2"
   ]
  },
  {
   "cell_type": "code",
   "execution_count": 8,
   "metadata": {
    "collapsed": false
   },
   "outputs": [
    {
     "name": "stdout",
     "output_type": "stream",
     "text": [
      "('A', 'T') - ('A', 'C') - ('A', 'G') - ('T', 'C') - ('T', 'G') - ('C', 'G') - "
     ]
    }
   ],
   "source": [
    "# Genera combinaciones de elementos de un iterable, cogidas de 2 en 2\n",
    "import itertools\n",
    "bases = \"ATCG\"\n",
    "\n",
    "comb = itertools.combinations(bases, 2)\n",
    "for c in comb:\n",
    "    print(c, end=' - ')"
   ]
  },
  {
   "cell_type": "markdown",
   "metadata": {},
   "source": [
    "¿Y si agrupamos listas de elementos en función de un criterio, como la longitud de los mismos?"
   ]
  },
  {
   "cell_type": "code",
   "execution_count": 27,
   "metadata": {
    "collapsed": false
   },
   "outputs": [
    {
     "name": "stdout",
     "output_type": "stream",
     "text": [
      "Nombres con 4 letras: Paco Sara Jose Gala Alex \n",
      "Nombres con 5 letras: Julia Jorge Marta \n",
      "Nombres con 6 letras: Javier Carmen \n"
     ]
    }
   ],
   "source": [
    "# En este ejercicio agruparemos nombres de personas por su longitud, usando itertools\n",
    "import itertools\n",
    "\n",
    "# Context manager en acción...\n",
    "with open('nombres.txt') as f:\n",
    "    names = list(f)\n",
    "    \n",
    "    # Necesitamos eliminar el salto de línea al final de cada nombre leído del fichero\n",
    "    # Esto es una list comprehension. Las veremos al final de este tema\n",
    "    names = [name.rstrip() for name in names]\n",
    "\n",
    "    # Esto es por si no estuviera el fichero\n",
    "    #names = ['Paco', 'Julia', 'Javier', 'Sara', 'Jose','Gala', 'Jorge', 'Marta', 'Alex', 'Carmen']\n",
    "\n",
    "    # Groupby genera, a partir de un iterable, iterables con elementos que devuelvan el mismo resultado al aplicarles una función\n",
    "    # El problema es que el iterable se detiene cuando un elemento ya no devuelve el mismo resultado que el anterior, sin importar si\n",
    "    # ya ha generado iterables que devuelvan ese mismo resultado.\n",
    "    # En nuestro caso, si la lista de nombres no estuviera ordenada por longitud, crearía un iterable para 'Paco' (longitud 4),\n",
    "    # otro iterable para 'Julia' y 'Javier' (longitud 5), luego otro para 'Sara' (longitud 4), etc. Lo interesante sería que\n",
    "    # 'Paco' y 'Sara' fueran en el mismo iterable, pues tienen la misma longitud.\n",
    "    # Para conseguir eso, ordenamos la lista mediante el mismo criterio que usaremos en la generación de iterables.\n",
    "    # Ver lo que pasa si llamamos a groupby sobre 'names' a secas\n",
    "    grupos = itertools.groupby(sorted(names, key=len), len)\n",
    "\n",
    "    for n, it in grupos:\n",
    "        print(\"Nombres con {0} letras:\".format(n), end=' ')\n",
    "        for name in it:\n",
    "            print(name, end=' ')\n",
    "        print()"
   ]
  },
  {
   "cell_type": "markdown",
   "metadata": {},
   "source": [
    "## Iteradores"
   ]
  },
  {
   "cell_type": "markdown",
   "metadata": {},
   "source": [
    "Por ahora hemos visto lo que es un iterable: un elemento que se puede recorrer. Pero vamos a precisar un poco más la definición exacta, para poder introducir un nuevo tipo de datos, clave en Python: <strong>el iterador</strong>"
   ]
  },
  {
   "cell_type": "markdown",
   "metadata": {},
   "source": [
    "<div class=\"alert alert-info\">Un iterable es un elemento capaz de devolver un iterador, con la finalidad de poder iterar sobre todos los elementos que contiene. Cualquier clase puede convertirse en iterable implementando un método *\\__iter\\__()* que devuelva un objeto de tipo *iterator*</div>"
   ]
  },
  {
   "cell_type": "markdown",
   "metadata": {},
   "source": [
    "Muy bien, ya sabemos qué es un iterable, en terminología de Python. Ahora, definamos qué es un objeto de tipo *iterator*"
   ]
  },
  {
   "cell_type": "markdown",
   "metadata": {},
   "source": [
    "<div class=\"alert alert-info\">Un iterador es una clase que contiene un método *\\__next\\__()*, que devuelve el siguiente elemento de una secuencia (un *iterable*). Eso implica que, para construir un iterador, necesitamos un objeto *iterable*.</div>"
   ]
  },
  {
   "cell_type": "markdown",
   "metadata": {},
   "source": [
    "Veamos más claro el concepto con este ejemplo"
   ]
  },
  {
   "cell_type": "code",
   "execution_count": 41,
   "metadata": {
    "collapsed": false
   },
   "outputs": [
    {
     "name": "stdout",
     "output_type": "stream",
     "text": [
      "1\n",
      "2\n",
      "1\n"
     ]
    }
   ],
   "source": [
    "# Una lista es un iterable\n",
    "a_list = [1, 2, 3]\n",
    "\n",
    "# Creamos dos iteradores a partir de la lista, mediante la función iter()\n",
    "it1 = iter(a_list)\n",
    "it2 = iter(a_list)\n",
    "\n",
    "# Vamos recorriendo el iterador 1, consumiendo un elemento en cada paso, mediante la función next()\n",
    "print(next(it1))\n",
    "print(next(it1))\n",
    "\n",
    "# Ahora recorremos el iterador 2, que seguirá en la primera posición\n",
    "print(next(it2))"
   ]
  },
  {
   "cell_type": "markdown",
   "metadata": {},
   "source": [
    "En el ejemplo anterior, hemos partido de un tipo nativo de Python: una lista. Este tipo nativo consiste, internamente, en una clase con un método *\\__iter\\__()*. Mediante la llamada a la función iter(), hemos llamado realmente a *a_list.\\__iter\\__()*, que nos ha devuelto un iterador. De esta forma, hemos construido dos iteradores: *it1* e *it2*.\n",
    "\n",
    "Posteriormente, hemos llamado a la función *next()* pasándole el iterador como argumento. Eso hace que se llame al método *it1.\\__next\\__()* (lo mismo con *it2*). Y cada llamada a *next()*, nos devuelve el siguiente elemento de la lista."
   ]
  },
  {
   "cell_type": "markdown",
   "metadata": {},
   "source": [
    "Para entender el funcionamiento interno de un iterador, podemos construirnos uno sencillo: <strong>Iterador que construye la secuencia de Fibonacci</strong>"
   ]
  },
  {
   "cell_type": "code",
   "execution_count": 90,
   "metadata": {
    "collapsed": false
   },
   "outputs": [
    {
     "name": "stdout",
     "output_type": "stream",
     "text": [
      "0 1 1 2 3 5 8 13 21 34 55 89 144 233 377 610 987 "
     ]
    }
   ],
   "source": [
    "# Construir iterador para generar secuencia de Fibonacci\n",
    "import itertools\n",
    "\n",
    "class Fib:\n",
    "    '''Iterador que genera la secuencia de Fibonacci'''\n",
    "    \n",
    "    # Constructor\n",
    "    def __init__(self):\n",
    "        self.prev = 0\n",
    "        self.curr = 1\n",
    "\n",
    "    # Esto es llamado cada vez que se llama a iter(Fib). Algo que for hace automáticamente, pero lo podríamos hacer a mano.\n",
    "    # La función __iter__ debe devolver cualquier objeto que implemente __next__. En este caso, la propia clase\n",
    "    def __iter__(self):\n",
    "        return self\n",
    "\n",
    "    # Esto es llamado cada vez que se llama a next(Fib). Algo que for hace automáticamente, pero lo podríamos hacer a mano.\n",
    "    def __next__(self):\n",
    "        value = self.curr\n",
    "        self.curr += self.prev\n",
    "        self.prev = value\n",
    "        return value\n",
    "   \n",
    "# f guarda un iterador. En este momento no se ha llamado a nada, solo se ha construido el iterador\n",
    "f = Fib()\n",
    "\n",
    "# Recorremos nuestro iterador, llamando a next(). Dentro del for se llama automáticamente a iter(f)\n",
    "print(0, end=' ')\n",
    "for n in range(16):\n",
    "    print(next(f), end=' ')\n",
    "    \n",
    "# Otra manera más elegante de hacerlo, con itertools\n",
    "#print([0] + list(itertools.islice(f, 0, 16)))"
   ]
  },
  {
   "cell_type": "markdown",
   "metadata": {},
   "source": [
    "Es importante destacar que, la clase *Fib*, <strong>es a la vez un *iterator* y un *iterable*</strong>\n",
    "\n",
    "<ul>\n",
    "    <li>Un *iterable* porque contiene un método *\\__iter()\\__*. Este método ha de devolver un iterador (una clase con un método *\\__next\\__()*), de manera que se devuelve a si misma.</li>\n",
    "    <li>Un *iterator* porque contiene un método *\\__next()\\__*. El siguiente elemento de la secuencia a devolver se va calculando mediante una fórmula matemática, pero podría estar guardado en algún lado (en una base de datos, en una caché...), si quisiéramos evitar realizar el cálculo, por ser excesivamente complejo</li>\n",
    "</ul>"
   ]
  },
  {
   "cell_type": "markdown",
   "metadata": {},
   "source": [
    "La clave que hace al iterador una herramienta tan poderosa es que <strong>los valores que se devuelven no están almacenados en memoria, sino que se producen *on the fly*</strong>.\n",
    "\n",
    "Cuando recorremos un generador hasta el final, se dice que lo *agotamos* (en inglés: *we exhaust the generator*). Para poder volver a recorrerlo, hay que construirlo de nuevo. En nuestro ejemplo, el iterador no tiene fin, y sigue generando valores hasta el infinito (en la práctica: hasta que sobrepasemos el tamaño de un dato numérico en Python)."
   ]
  },
  {
   "cell_type": "markdown",
   "metadata": {},
   "source": [
    "<div class=\"alert alert-info\">Un iterador es una *lazy factory*. Solo genera valores cuando se le piden. De manera que, aunque lo usemos para generar una secuencia potencialmente infinita de elementos, solo tendremos en memoria cada vez el elemento de la secuencia con el que estemos trabajando. Nuestro iterador tiene un orden de crecimiento O(1), ¡y eso es una pasada!</div>"
   ]
  },
  {
   "cell_type": "markdown",
   "metadata": {},
   "source": [
    "Por último destacar que, si queremos empezar a recorrer un *iterator* desde la primera posición una segunda vez, tendremos que <strong>instanciarlo de nuevo</strong>"
   ]
  },
  {
   "cell_type": "markdown",
   "metadata": {},
   "source": [
    "Los iteradores son un <strong>concepto fundamental de Python</strong>. Son la base para construir otras estructuras del lenguaje, como generadores o comprehensions, y su uso es una de las piedras angulares dentro del paradigma de programación funcional en Python"
   ]
  },
  {
   "cell_type": "markdown",
   "metadata": {},
   "source": [
    "## Generadores"
   ]
  },
  {
   "cell_type": "markdown",
   "metadata": {},
   "source": [
    "Un *generator* se puede considerar como <a href=\"https://en.wikipedia.org/wiki/Syntactic_sugar\">*azúcar sintáctico*</a> para la creación de objetos de tipo *iterator*. Es decir: <strong>un *iterator* escrito con una sintáxis más sencilla</strong>"
   ]
  },
  {
   "cell_type": "markdown",
   "metadata": {},
   "source": [
    "Veámoslo con un ejemplo. Reescribamos el *iterator* del ejemplo anterior usando un *generator*. Concretamente una <strong>función generadora</strong>. Veremos lo que es esto a continuación."
   ]
  },
  {
   "cell_type": "code",
   "execution_count": 92,
   "metadata": {
    "collapsed": false
   },
   "outputs": [
    {
     "name": "stdout",
     "output_type": "stream",
     "text": [
      "0 1 1 2 3 5 8 13 21 34 55 89 144 233 377 610 987 "
     ]
    }
   ],
   "source": [
    "# Iterador a partir de una función generadora\n",
    "def fib():\n",
    "    prev, curr = 0, 1\n",
    "    while True:\n",
    "        yield curr\n",
    "        prev, curr = curr, prev + curr\n",
    "        \n",
    "f = fib()\n",
    "\n",
    "# Recorremos nuestro iterador, llamando a next(). Dentro del for se llama automáticamente a iter(f)\n",
    "print(0, end=' ')\n",
    "for n in range(16):\n",
    "    print(next(f), end=' ')"
   ]
  },
  {
   "cell_type": "markdown",
   "metadata": {},
   "source": [
    "Mucho más sencillo de escribir, ¿verdad? Además, ahora queda más clara la potencia de este tipo de estructura. Contiene un bucle infinito: *while True*. Y,a pesar de ello, no vamos a tener problemas de memoria."
   ]
  },
  {
   "cell_type": "markdown",
   "metadata": {},
   "source": [
    "Por otro lado, vuelve a aparecer la sentencia *yield*, que vimos fugazmente al estudiar los *context manager*. Ahora vamos a entenderla mejor."
   ]
  },
  {
   "cell_type": "markdown",
   "metadata": {},
   "source": [
    "Recordemos algo que ya se ha mencionado al explicar los iteradores, pero que es fundamental: cuando llamamos a *fib()*,<strong>no estamos ejecutando nada del código de nuestra función</strong>. \n",
    "\n",
    "Lo que sucede es que la función <strong>devuelve una estructura de tipo *generator*</strong> (de ahí que se denomine *generator function*). <strong>El cuerpo de la función en si, se va a ejecutar cuando se llame a la función *next()* con el generador como argumento</strong>. En ese momento, <strong>la función se ejecutará hasta que encuentre una llamada a *yield*</strong>, devolviéndose el valor que lance *yield* y <strong>dejando la función en *stand-by*</strong>.\n",
    "\n",
    "<strong>La función seguirá *congelada* hasta que se vuelva a llamar a *next()*, momento en el cuál la función correrá hasta encontrar nuevamente una sentencia *yield*</strong>. Esto seguirá hasta que no haya más valores que *lanzar* mediante *yield*. En ese momento, diremos que el generador se ha *agotado*"
   ]
  },
  {
   "cell_type": "markdown",
   "metadata": {},
   "source": [
    "<div class=\"alert alert-info\">*yield* pausa una función generadora, mientras que *next()* hace que continúe en el punto donde se quedó</div>"
   ]
  },
  {
   "cell_type": "markdown",
   "metadata": {},
   "source": [
    "¿Lo queremos aun más claro? Vayamos a un ejemplo más sencillo. Recuperemos el *iterable* a partir de una *comprehension list* del apartado de *Iterables*. Pero ahora, en lugar de generar una lista, vamos a generar un objeto de tipo *generator*.\n",
    "\n",
    "La expresión con la que lo generamos es muy parecida a la *comprehension list*, pero usamos paréntesis *()* en lugar de corchetes *[]*. La expresión se llama *generation expression*. La veremos después."
   ]
  },
  {
   "cell_type": "code",
   "execution_count": 96,
   "metadata": {
    "collapsed": false
   },
   "outputs": [
    {
     "name": "stdout",
     "output_type": "stream",
     "text": [
      "0 1 4 \n",
      "Generador vacío, tienes que volverlo a generar\n"
     ]
    }
   ],
   "source": [
    "# Generador a partir de una *generation expression*\n",
    "numeros = (x*x for x in range(3))\n",
    "for n in numeros:\n",
    "    print(n, end=' ')\n",
    "\n",
    "print()\n",
    "\n",
    "# Si lo intentamos recorrer una segunda vez, esta vacio\n",
    "for n in numeros:\n",
    "    print(n, end=' ')\n",
    "else:\n",
    "    print(\"Generador vacío, tienes que volverlo a generar\")"
   ]
  },
  {
   "cell_type": "markdown",
   "metadata": {},
   "source": [
    "Para entenderlo mejor, vamos a escribir nosotros una *generator function* que genere el mismo objeto de tipo *generator* que la *generator expression*"
   ]
  },
  {
   "cell_type": "code",
   "execution_count": 98,
   "metadata": {
    "collapsed": false
   },
   "outputs": [
    {
     "name": "stdout",
     "output_type": "stream",
     "text": [
      "0 1 4 "
     ]
    }
   ],
   "source": [
    "# Creando nuestra propia *generator function*\n",
    "def generatorFunction(limit):\n",
    "    for n in range(limit):\n",
    "        yield n*n # <--- Yield again!\n",
    "        \n",
    "numeros = generatorFunction(3)\n",
    "for n in numeros:\n",
    "    print(n, end=' ')"
   ]
  },
  {
   "cell_type": "markdown",
   "metadata": {},
   "source": [
    "*Deconstruyamos* nuestra función, para escribirla de otra forma..."
   ]
  },
  {
   "cell_type": "code",
   "execution_count": 97,
   "metadata": {
    "collapsed": false
   },
   "outputs": [
    {
     "name": "stdout",
     "output_type": "stream",
     "text": [
      "0\n",
      "1\n",
      "4\n"
     ]
    }
   ],
   "source": [
    "# Deconstruyendo nuestra función generadora... \n",
    "\n",
    "def generatorFunction():\n",
    "    # Ni siquiera necesitamos limite. Vamos a llamar a yield 3 veces, simulando lo que pasaría dentro del bucle\n",
    "        yield 0\n",
    "        yield 1\n",
    "        yield 4\n",
    "    \n",
    "numeros = generatorFunction()\n",
    "\n",
    "# En lugar de hacer un bucle, llamemos 3 veces seguidas a next(), que es lo que hace el for\n",
    "print(next(numeros))\n",
    "print(next(numeros))\n",
    "print(next(numeros))\n",
    "\n",
    "# Si intentamos acceder a un generador agotado, se lanza una excepción de tipo StopIteration\n",
    "# La capturamos y terminamos silenciosamente, que es lo que hace for\n",
    "try:\n",
    "    print(next(numeros))\n",
    "except StopIteration as e:\n",
    "    pass # No hacemos nada\n"
   ]
  },
  {
   "cell_type": "markdown",
   "metadata": {},
   "source": [
    "Para terminar este apartado, simplemente recopilemos algo que hemos ido viendo mientras explicábamos lo que es un *generator*. Hay <strong>dos tipos de *generator*</strong>\n",
    "\n",
    "<ul>\n",
    "    <li><strong>*generator function*</strong>: Una función que contiene la palabra *yield* en el cuerpo de la misma al menos una vez</li>\n",
    "    <li><strong>*generator expression*</strong>: Una expresión de Python que genera un iterador</li>\n",
    "</ul>"
   ]
  },
  {
   "cell_type": "code",
   "execution_count": 104,
   "metadata": {
    "collapsed": false
   },
   "outputs": [
    {
     "name": "stdout",
     "output_type": "stream",
     "text": [
      "0\n",
      "1\n",
      "4\n",
      "1\n",
      "4\n",
      "9\n",
      "16\n",
      "25\n"
     ]
    }
   ],
   "source": [
    "# Esto es una generator function. La podemos llamar hasta que se agote\n",
    "def generatorFunction():\n",
    "    # Ni siquiera necesitamos limite. Vamos a llamar a yield 3 veces, simulando lo que pasaría dentro del bucle\n",
    "        yield 0\n",
    "        yield 1\n",
    "        yield 4\n",
    "\n",
    "        \n",
    "f = generatorFunction()\n",
    "print(next(f))\n",
    "print(next(f))\n",
    "print(next(f))\n",
    "\n",
    "\n",
    "# Esto es una *generator expression*. Como nos devuelve un iterador, podemos iterar sobre él hasta que se agote\n",
    "lazy_squares = (x * x for x in [1, 2, 3, 4, 5, 6])\n",
    "\n",
    "print(next(lazy_squares))\n",
    "print(next(lazy_squares))\n",
    "print(next(lazy_squares))\n",
    "print(next(lazy_squares))\n",
    "print(next(lazy_squares))"
   ]
  },
  {
   "cell_type": "markdown",
   "metadata": {},
   "source": [
    "## Comprehensions"
   ]
  },
  {
   "cell_type": "markdown",
   "metadata": {
    "collapsed": true
   },
   "source": [
    "Las *comprehensions* son expresiones que transforman una secuencia en otra, y que permiten elegir condicionalmente qué elementos de la secuencia origen van a participar, y cómo, en la secuencia destino. Se consideran una alternativa a los bucles en algunas situaciones"
   ]
  },
  {
   "cell_type": "markdown",
   "metadata": {},
   "source": [
    "<div class=\"alert alert-success\"><strong>Buenas prácticas</strong>: Si puedes sustituir un bucle por una expresión de tipo *comprehension*, hazlo</div>"
   ]
  },
  {
   "cell_type": "markdown",
   "metadata": {},
   "source": [
    "En la versión 2 de Python se introdujeron las *list comprehensions*, y en Python 3 se añadieron dos tipos más: las *dictionary comprehensions* y las *set comprehensions*. Las 3 son muy parecidas. Veámoslas"
   ]
  },
  {
   "cell_type": "markdown",
   "metadata": {},
   "source": [
    "### List comprehensions"
   ]
  },
  {
   "cell_type": "markdown",
   "metadata": {},
   "source": [
    "Las más antiguas y conocidas. Se construyen de la siguiente manera"
   ]
  },
  {
   "cell_type": "code",
   "execution_count": 106,
   "metadata": {
    "collapsed": false
   },
   "outputs": [
    {
     "name": "stdout",
     "output_type": "stream",
     "text": [
      "[2, 18, 16, 8]\n"
     ]
    }
   ],
   "source": [
    "# Creamos una lista a partir de otra mediante una list comprehension\n",
    "a_list = [1, 9, 8, 4]\n",
    "print([elem *2 for elem in a_list])"
   ]
  },
  {
   "cell_type": "markdown",
   "metadata": {},
   "source": [
    "Cualquier tipo de expresión Python es válida para generar los elementos de salida de una *list comprehension*"
   ]
  },
  {
   "cell_type": "code",
   "execution_count": 107,
   "metadata": {
    "collapsed": false
   },
   "outputs": [
    {
     "name": "stdout",
     "output_type": "stream",
     "text": [
      "[3.141592653589793, 28.274333882308138]\n"
     ]
    }
   ],
   "source": [
    "# Aquí aplicamos una llamada a función y un condicional\n",
    "import math\n",
    "\n",
    "a_list = [1, 9, 8, 4]\n",
    "print([math.pi * elem for elem in a_list if elem % 2])"
   ]
  },
  {
   "cell_type": "markdown",
   "metadata": {},
   "source": [
    "### Dictionary comprehensions"
   ]
  },
  {
   "cell_type": "markdown",
   "metadata": {},
   "source": [
    "La idea es la misma que en las list comprehensions, pero aplicado a diccionarios, Veamos un sencillo ejemplo, en el que cambiamos claves por valores"
   ]
  },
  {
   "cell_type": "code",
   "execution_count": 108,
   "metadata": {
    "collapsed": false
   },
   "outputs": [
    {
     "name": "stdout",
     "output_type": "stream",
     "text": [
      "{1: 'a', 2: 'b', 3: 'c'}\n"
     ]
    }
   ],
   "source": [
    "# Ejemplo sencillo: cambiar claves por valores\n",
    "a_dict = {'a': 1, 'b': 2, 'c': 3}\n",
    "\n",
    "# A destacar la llamada a .items() para obtener los elementos del diccionario\n",
    "print({value:key for key, value in a_dict.items()})"
   ]
  },
  {
   "cell_type": "markdown",
   "metadata": {},
   "source": [
    "Es interesante ver qué sucede si intentamos hacer lo mismo pero teniendo como valor una lista, en lugar de un número"
   ]
  },
  {
   "cell_type": "code",
   "execution_count": 109,
   "metadata": {
    "collapsed": false
   },
   "outputs": [
    {
     "ename": "TypeError",
     "evalue": "unhashable type: 'list'",
     "output_type": "error",
     "traceback": [
      "\u001b[1;31m---------------------------------------------------------------------------\u001b[0m",
      "\u001b[1;31mTypeError\u001b[0m                                 Traceback (most recent call last)",
      "\u001b[1;32m<ipython-input-109-d2259edf58a7>\u001b[0m in \u001b[0;36m<module>\u001b[1;34m()\u001b[0m\n\u001b[0;32m      2\u001b[0m \u001b[0ma_dict\u001b[0m \u001b[1;33m=\u001b[0m \u001b[1;33m{\u001b[0m\u001b[1;34m'a'\u001b[0m\u001b[1;33m:\u001b[0m \u001b[1;33m[\u001b[0m\u001b[1;36m1\u001b[0m\u001b[1;33m,\u001b[0m \u001b[1;36m2\u001b[0m\u001b[1;33m,\u001b[0m \u001b[1;36m3\u001b[0m\u001b[1;33m]\u001b[0m\u001b[1;33m,\u001b[0m \u001b[1;34m'b'\u001b[0m\u001b[1;33m:\u001b[0m \u001b[1;36m4\u001b[0m\u001b[1;33m,\u001b[0m \u001b[1;34m'c'\u001b[0m\u001b[1;33m:\u001b[0m \u001b[1;36m5\u001b[0m\u001b[1;33m}\u001b[0m\u001b[1;33m\u001b[0m\u001b[0m\n\u001b[0;32m      3\u001b[0m \u001b[1;33m\u001b[0m\u001b[0m\n\u001b[1;32m----> 4\u001b[1;33m \u001b[0mprint\u001b[0m\u001b[1;33m(\u001b[0m\u001b[1;33m{\u001b[0m\u001b[0mvalue\u001b[0m\u001b[1;33m:\u001b[0m\u001b[0mkey\u001b[0m \u001b[1;32mfor\u001b[0m \u001b[0mkey\u001b[0m\u001b[1;33m,\u001b[0m \u001b[0mvalue\u001b[0m \u001b[1;32min\u001b[0m \u001b[0ma_dict\u001b[0m\u001b[1;33m.\u001b[0m\u001b[0mitems\u001b[0m\u001b[1;33m(\u001b[0m\u001b[1;33m)\u001b[0m\u001b[1;33m}\u001b[0m\u001b[1;33m)\u001b[0m\u001b[1;33m\u001b[0m\u001b[0m\n\u001b[0m",
      "\u001b[1;32m<ipython-input-109-d2259edf58a7>\u001b[0m in \u001b[0;36m<dictcomp>\u001b[1;34m(.0)\u001b[0m\n\u001b[0;32m      2\u001b[0m \u001b[0ma_dict\u001b[0m \u001b[1;33m=\u001b[0m \u001b[1;33m{\u001b[0m\u001b[1;34m'a'\u001b[0m\u001b[1;33m:\u001b[0m \u001b[1;33m[\u001b[0m\u001b[1;36m1\u001b[0m\u001b[1;33m,\u001b[0m \u001b[1;36m2\u001b[0m\u001b[1;33m,\u001b[0m \u001b[1;36m3\u001b[0m\u001b[1;33m]\u001b[0m\u001b[1;33m,\u001b[0m \u001b[1;34m'b'\u001b[0m\u001b[1;33m:\u001b[0m \u001b[1;36m4\u001b[0m\u001b[1;33m,\u001b[0m \u001b[1;34m'c'\u001b[0m\u001b[1;33m:\u001b[0m \u001b[1;36m5\u001b[0m\u001b[1;33m}\u001b[0m\u001b[1;33m\u001b[0m\u001b[0m\n\u001b[0;32m      3\u001b[0m \u001b[1;33m\u001b[0m\u001b[0m\n\u001b[1;32m----> 4\u001b[1;33m \u001b[0mprint\u001b[0m\u001b[1;33m(\u001b[0m\u001b[1;33m{\u001b[0m\u001b[0mvalue\u001b[0m\u001b[1;33m:\u001b[0m\u001b[0mkey\u001b[0m \u001b[1;32mfor\u001b[0m \u001b[0mkey\u001b[0m\u001b[1;33m,\u001b[0m \u001b[0mvalue\u001b[0m \u001b[1;32min\u001b[0m \u001b[0ma_dict\u001b[0m\u001b[1;33m.\u001b[0m\u001b[0mitems\u001b[0m\u001b[1;33m(\u001b[0m\u001b[1;33m)\u001b[0m\u001b[1;33m}\u001b[0m\u001b[1;33m)\u001b[0m\u001b[1;33m\u001b[0m\u001b[0m\n\u001b[0m",
      "\u001b[1;31mTypeError\u001b[0m: unhashable type: 'list'"
     ]
    }
   ],
   "source": [
    "# Intentamos lo mismo, pero teniendo una lista como valor en lugar de un número\n",
    "a_dict = {'a': [1, 2, 3], 'b': 4, 'c': 5}\n",
    "\n",
    "print({value:key for key, value in a_dict.items()})"
   ]
  },
  {
   "cell_type": "markdown",
   "metadata": {},
   "source": [
    "Lo que sucede es que una lista no puede ser utilizada como clave de un diccionario, porque una lista es lo que se conoce en Python como un *mutable object*:\n",
    "\n",
    "<ul>\n",
    "    <li><strong>mutable object</strong>: son objetos cuyo contenido puede cambiar sin que cambie el nombre asociado al mismo (la variable que los almacena). Ejemplos son listas, diccionarios y conjuntos (objetos tipo *set*). Estos objetos <strong>no pueden usarse como claves de diccionarios</strong></li>\n",
    "    <li><strong>immutable object</strong>: son objetos cuyo contenido no puede cambiar sin que cambie el nombre asociado al mismo (la variable que los almacena). Ejemplos son números, cadenas (objetos tipo *string*) o tuplas. Estos objetos <strong>sí pueden usarse como claves de diccionarios</strong></li>\n",
    "</ul>"
   ]
  },
  {
   "cell_type": "markdown",
   "metadata": {},
   "source": [
    "Veamos la diferencia de manera clara en un ejemplo"
   ]
  },
  {
   "cell_type": "code",
   "execution_count": 113,
   "metadata": {
    "collapsed": false
   },
   "outputs": [
    {
     "ename": "TypeError",
     "evalue": "'str' object does not support item assignment",
     "output_type": "error",
     "traceback": [
      "\u001b[1;31m---------------------------------------------------------------------------\u001b[0m",
      "\u001b[1;31mTypeError\u001b[0m                                 Traceback (most recent call last)",
      "\u001b[1;32m<ipython-input-113-9184d913d9e1>\u001b[0m in \u001b[0;36m<module>\u001b[1;34m()\u001b[0m\n\u001b[0;32m      7\u001b[0m \u001b[1;33m\u001b[0m\u001b[0m\n\u001b[0;32m      8\u001b[0m \u001b[1;31m# error, no se puede cambiar el objeto sin cambiar la variable que lo apunta. Tendríamos que cambiar el objeto entero.\u001b[0m\u001b[1;33m\u001b[0m\u001b[1;33m\u001b[0m\u001b[0m\n\u001b[1;32m----> 9\u001b[1;33m \u001b[0ms\u001b[0m\u001b[1;33m[\u001b[0m\u001b[1;36m0\u001b[0m\u001b[1;33m]\u001b[0m \u001b[1;33m=\u001b[0m \u001b[1;34m\"b\"\u001b[0m\u001b[1;33m\u001b[0m\u001b[0m\n\u001b[0m",
      "\u001b[1;31mTypeError\u001b[0m: 'str' object does not support item assignment"
     ]
    }
   ],
   "source": [
    "# mutable vs immutable\n",
    "s = \"hola\" # s es un string. Es immutable\n",
    "l = [\"h\", \"o\", \"l\", \"a\"] # l es una lista. Es mutable.\n",
    "\n",
    "# ok, se puede cambiar el objeto sin cambiar la variable que lo apunta\n",
    "l[0] = \"b\"\n",
    "\n",
    "# error, no se puede cambiar el objeto sin cambiar la variable que lo apunta. Tendríamos que cambiar el objeto entero.\n",
    "s[0] = \"b\""
   ]
  },
  {
   "cell_type": "markdown",
   "metadata": {},
   "source": [
    "<div class=\"alert alert-warning\">No intentes usar un objeto de tipo mutable como clave de un diccionario. Se producirá un *TypeError*</div>"
   ]
  },
  {
   "cell_type": "markdown",
   "metadata": {},
   "source": [
    "¿Y cómo lo haríamos entonces para cambiar una simple letra de un string, o un elemento de una tupla?\n",
    "\n",
    "Debemos convertir el objeto en lista, o cualquier otro elemento mutable, cambiarlo y volverlo a transformar en string. Ejemplo"
   ]
  },
  {
   "cell_type": "code",
   "execution_count": null,
   "metadata": {
    "collapsed": true
   },
   "outputs": [],
   "source": [
    "# Cambiando un objeto immutable\n",
    "s = \"hola\"\n",
    "l = list(s)\n",
    "l[0] = \"b\"\n"
   ]
  },
  {
   "cell_type": "markdown",
   "metadata": {},
   "source": [
    "### Set comprehensions"
   ]
  },
  {
   "cell_type": "markdown",
   "metadata": {},
   "source": [
    "Son muy parecidos a los *dictionary comprehension*, pero los *set* solo tienen valores, en lugar de parejas clave:valor. \n",
    "\n",
    "Veamos un ejemplo"
   ]
  },
  {
   "cell_type": "code",
   "execution_count": 112,
   "metadata": {
    "collapsed": false
   },
   "outputs": [
    {
     "name": "stdout",
     "output_type": "stream",
     "text": [
      "{81, 1, 49, 9, 25}\n"
     ]
    }
   ],
   "source": [
    "# set comprehension\n",
    "a_set = set(range(10))\n",
    "\n",
    "# El set no está ordenado\n",
    "print({x**2 for x in a_set if x % 2})"
   ]
  }
 ],
 "metadata": {
  "kernelspec": {
   "display_name": "Python 3",
   "language": "python",
   "name": "python3"
  },
  "language_info": {
   "codemirror_mode": {
    "name": "ipython",
    "version": 3
   },
   "file_extension": ".py",
   "mimetype": "text/x-python",
   "name": "python",
   "nbconvert_exporter": "python",
   "pygments_lexer": "ipython3",
   "version": "3.5.1"
  }
 },
 "nbformat": 4,
 "nbformat_minor": 0
}
