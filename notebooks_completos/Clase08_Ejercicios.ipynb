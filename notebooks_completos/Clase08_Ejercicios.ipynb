{
 "cells": [
  {
   "cell_type": "markdown",
   "metadata": {},
   "source": [
    "TODO: Es posible que se puede sacar algo de aquí http://sahandsaba.com/understanding-asyncio-node-js-python-3-4.html\n",
    "\n",
    "TODO: Y puede que de aquí: https://pymotw.com/2/multiprocessing/basics.html\n",
    "\n",
    "TODO: Ejercicio muy sencillo: https://github.com/cmchurch/python-multiprocessing/blob/master/multiprocess-basic-pool-example.py"
   ]
  },
  {
   "cell_type": "code",
   "execution_count": 2,
   "metadata": {
    "collapsed": false
   },
   "outputs": [
    {
     "name": "stdout",
     "output_type": "stream",
     "text": [
      "The main program continues to run in foreground.\n",
      "Main program waited until background was done.\n"
     ]
    },
    {
     "name": "stderr",
     "output_type": "stream",
     "text": [
      "Exception in thread Thread-6:\n",
      "Traceback (most recent call last):\n",
      "  File \"D:\\Anaconda3\\lib\\threading.py\", line 914, in _bootstrap_inner\n",
      "    self.run()\n",
      "  File \"<ipython-input-2-cf18fed96ebd>\", line 12, in run\n",
      "    f.write(self.infile)\n",
      "  File \"D:\\Anaconda3\\lib\\zipfile.py\", line 1433, in write\n",
      "    st = os.stat(filename)\n",
      "FileNotFoundError: [WinError 2] El sistema no puede encontrar el archivo especificado: 'mydata.txt'\n",
      "\n"
     ]
    }
   ],
   "source": [
    "# ejemplo de zip\n",
    "import threading, zipfile\n",
    "\n",
    "class AsyncZip(threading.Thread):\n",
    "    def __init__(self, infile, outfile):\n",
    "        threading.Thread.__init__(self)\n",
    "        self.infile = infile\n",
    "        self.outfile = outfile\n",
    "        \n",
    "    def run(self):\n",
    "        f = zipfile.ZipFile(self.outfile, 'w', zipfile.ZIP_DEFLATED)\n",
    "        f.write(self.infile)\n",
    "        f.close()\n",
    "        print('Finished background zip of {}'.format(self.infile))\n",
    "\n",
    "background = AsyncZip('mydata.txt', 'myarchive.zip')\n",
    "background.start()\n",
    "print('The main program continues to run in foreground.')\n",
    "\n",
    "background.join() # Wait for the background task to finish\n",
    "print('Main program waited until background was done.')"
   ]
  },
  {
   "cell_type": "code",
   "execution_count": null,
   "metadata": {
    "collapsed": true
   },
   "outputs": [],
   "source": [
    "# crawler\n",
    "import http.client\n",
    "import threading\n",
    "import logging\n",
    "\n",
    "logging.basicConfig(level=logging.INFO, format=’(%(threadName)-10s) %(message)s’, )\n",
    "\n",
    "def save(html, file_absolute_path):\n",
    "    logging.info(\"saving {} bytes to {}\".format(len(html), file_absolute_path))\n",
    "    with open(file_absolute_path, ’wb+’) as file:\n",
    "        file.write(html)\n",
    "        file.flush()\n",
    "\n",
    "def crawl(req):\n",
    "    logging.info(\"executing get request for parameters: {}\".format(str(req)))\n",
    "    connection = http.client.HTTPConnection(req[\"host\"], req[\"port\"])\n",
    "    connection.request(\"GET\", req[\"path\"])\n",
    "    response = connection.getresponse()\n",
    "    logging.info(\"got {} response http code\".format(response.status))\n",
    "    logging.debug(\"headers: {}\".format(str(response.headers)))\n",
    "    response_content = response.read()\n",
    "    logging.debug(\"actual response: {}\".format(response_content))\n",
    "    return response_content\n",
    "\n",
    "\n",
    "class MyCrawler(threading.Thread):\n",
    "    def __init__(self, req, file_path):\n",
    "        threading.Thread.__init__(self, name=\"Crawler-{}\".format(req[\"host\"]), daemon=True)\n",
    "        self.req = req\n",
    "        self.file_path = file_path\n",
    "    \n",
    "    def run(self):\n",
    "        global executed_crawlers\n",
    "        html = crawl(self.req)\n",
    "        save(html, self.file_path)\n",
    "        \n",
    "        \n",
    "\n",
    "def __main__():\n",
    "    continue_input = True\n",
    "    threads = []\n",
    "    while continue_input:\n",
    "        host = input(\"host: \")\n",
    "        port = 80 # int(input(\"port: \"))\n",
    "        path = \"/\" # input(\"path: \")\n",
    "        file_path = input(\"output file absolute path: \")\n",
    "        req = {\"host\": host, \"port\": port, \"path\": path}\n",
    "        threads.append(MyCrawler(req, file_path))\n",
    "        continue_input = input(\"add another? (y/N) \") == \"y\"\n",
    "\n",
    "        for t in threads:\n",
    "            t.start()\n",
    "            \n",
    "    current_thread = threading.currentThread()\n",
    "    for thread in threading.enumerate():\n",
    "        if thread is not current_thread:\n",
    "            thread.join()\n",
    "\n",
    "__main__()\n"
   ]
  },
  {
   "cell_type": "code",
   "execution_count": null,
   "metadata": {
    "collapsed": true
   },
   "outputs": [],
   "source": [
    "# Carrera\n",
    "import threading\n",
    "\n",
    "class Racer(threading.Thread):\n",
    "    def __init__(self, name, start_signal):\n",
    "        threading.Thread.__init__(self, name=name)\n",
    "        self.start_signal = start_signal\n",
    "\n",
    "    def run(self):\n",
    "        self.start_signal.wait()\n",
    "        print(\"I, {}, got to the goal!\".format(self.name))\n",
    "\n",
    "class Race:\n",
    "    def __init__(self, racer_names):\n",
    "        self.start_signal = threading.Event()\n",
    "        self.racers = [Racer(name, self.start_signal) for name in racer_names]\n",
    "        for racer in self.racers:\n",
    "            racer.start()\n",
    "\n",
    "    def start(self):\n",
    "        self.start_signal.set()\n",
    "\n",
    "def __main__():\n",
    "    race = Race([\"rabbit\", \"turtle\", \"cheetah\", \"monkey\", \"cow\", \"horse\", \"tiger\", \"lion\"])\n",
    "    race.start()\n",
    "\n",
    "__main__()"
   ]
  }
 ],
 "metadata": {
  "kernelspec": {
   "display_name": "Python 3",
   "language": "python",
   "name": "python3"
  },
  "language_info": {
   "codemirror_mode": {
    "name": "ipython",
    "version": 3
   },
   "file_extension": ".py",
   "mimetype": "text/x-python",
   "name": "python",
   "nbconvert_exporter": "python",
   "pygments_lexer": "ipython3",
   "version": "3.5.1"
  }
 },
 "nbformat": 4,
 "nbformat_minor": 0
}
