{
 "cells": [
  {
   "cell_type": "markdown",
   "metadata": {},
   "source": [
    "<img src=\"../static/logopython.png\" alt=\"Logo Python\" style=\"width: 300px; display: inline\"/>\n",
    "<img src=\"../static/deimoslogo.png\" alt=\"Logo Deimos\" style=\"width: 300px; display: inline\"/>"
   ]
  },
  {
   "cell_type": "markdown",
   "metadata": {},
   "source": [
    "# Clase 8: Ejercicios prácticos\n",
    "\n",
    "En esta clase vamos a afianzar los conocimientos de Python que acabamos de adquirir haciendo algunos ejercicios sobre las herramientas del lenguaje Python para trabajar con concurrencia y paralelismo"
   ]
  },
  {
   "cell_type": "markdown",
   "metadata": {},
   "source": [
    "## Ejercicio 1\n",
    "\n",
    "La clase *Pool* del módulo *multiprocessing* tiene una función [*map*](https://docs.python.org/3/library/multiprocessing.html#multiprocessing.pool.Pool.map). Utilizala para ejecutar una sencilla función que, aplicada sobre una lista de números, devuelva el número multiplicado por dos.\n",
    "\n",
    "La operación ha de ejecutarse en un pool de 2 procesos paralelos"
   ]
  },
  {
   "cell_type": "code",
   "execution_count": 1,
   "metadata": {
    "collapsed": false
   },
   "outputs": [
    {
     "name": "stdout",
     "output_type": "stream",
     "text": [
      "[2, 4, 6, 8, 10, 12, 14, 16, 18]\n"
     ]
    }
   ],
   "source": [
    "# Tu codigo aqui\n",
    "\n",
    "import multiprocessing\n",
    "\n",
    "def worker(num):\n",
    "    return num*2\n",
    "\n",
    "if __name__ == '__main__': \n",
    "    nums = [1,2,3,4,5,6,7,8,9] \n",
    "    p = multiprocessing.Pool(2)\n",
    "    values = p.map(worker,nums) \n",
    "    \n",
    "    p.close() \n",
    "    p.join()\n",
    "    \n",
    "    print(values) "
   ]
  },
  {
   "cell_type": "markdown",
   "metadata": {},
   "source": [
    "## Ejercicio 2\n",
    "\n",
    "Vamos a crear nuestra propia clase que herede de [*Thread*](https://docs.python.org/3/library/threading.html?highlight=threading#threading.Thread), llamada *AsyncZip*. Servirá para crear un fichero zip a partir de un fichero cualquiera.\n",
    "\n",
    "Completa el código a continuación\n",
    "\n",
    "__Pista__: Puedes usar el módulo [*zipfile*](https://docs.python.org/3/library/zipfile.html)\n",
    "\n",
    "__Nota__: Puedes mejorar el código añadiendo la posibilidad de introducir el fichero de entrada y el nombre del fichero de salida como argumentos de línea de comandos, pero no es un requisito"
   ]
  },
  {
   "cell_type": "code",
   "execution_count": 4,
   "metadata": {
    "collapsed": false
   },
   "outputs": [
    {
     "name": "stdout",
     "output_type": "stream",
     "text": [
      "Se va a crear un fichero zip en un hilo aparte.\n",
      "Finished background zip of stockholm_td_adj.tsv\n",
      "Hilo terminado.\n"
     ]
    }
   ],
   "source": [
    "# Completa el código\n",
    "import threading, zipfile\n",
    "\n",
    "class AsyncZip(threading.Thread):\n",
    "    def __init__(self, infile, outfile):\n",
    "        threading.Thread.__init__(self)\n",
    "        self.infile = infile\n",
    "        self.outfile = outfile\n",
    "        \n",
    "    def run(self):\n",
    "        f = zipfile.ZipFile(self.outfile, 'w', zipfile.ZIP_DEFLATED)\n",
    "        f.write(self.infile)\n",
    "        f.close()\n",
    "        print('Finished background zip of {}'.format(self.infile))\n",
    "\n",
    "background = AsyncZip('stockholm_td_adj.tsv', 'stockholm_td_adj.zip')\n",
    "background.start()\n",
    "print('Se va a crear un fichero zip en un hilo aparte.')\n",
    "\n",
    "background.join() # Wait for the background task to finish\n",
    "print('Hilo terminado.')"
   ]
  },
  {
   "cell_type": "markdown",
   "metadata": {},
   "source": [
    "## Ejercicio 3\n",
    "\n",
    "Implementar la corrutina *grep* en el siguiente trozo de código "
   ]
  },
  {
   "cell_type": "code",
   "execution_count": null,
   "metadata": {
    "collapsed": true
   },
   "outputs": [],
   "source": [
    "def printer():\n",
    "    \"\"\"\n",
    "        Corrutina que simplemente recibe datos y los imprime por pantalla\n",
    "    \"\"\"\n",
    "    print(\"Preparado para imprimir...\")\n",
    "    try:\n",
    "        while True:\n",
    "            line = (yield)\n",
    "            print(line)\n",
    "    except GeneratorExit:\n",
    "        print(\"Cerrando printer\")\n",
    "\n",
    "# Esta es la función a implementar. Tiene que:\n",
    "# 1. Recibir datos del programa (g.send)\n",
    "# 2. Filtrar esos datos y mandárselos a la corrutina que imprime por pantalla (consumer)\n",
    "def grep(pattern, consumer):\n",
    "    \"\"\"\n",
    "        Corrutina que filtra datos y se los manda a otra corrutina\n",
    "    \"\"\"\n",
    "    print(\"Buscando la cadena {}\".format(pattern))\n",
    "\n",
    "    try:\n",
    "        while True:\n",
    "            s = (yield)\n",
    "            if pattern in s:\n",
    "                consumer.send(s)\n",
    "    except GeneratorExit:\n",
    "        print(\"Cerrando grep\")\n",
    "        consumer.close()\n",
    "\n",
    "\n",
    "# Creamos la corrutina final y la arrancamos (las corrutinas se arrancan con send(None))\n",
    "p = printer()\n",
    "p.send(None)\n",
    "\n",
    "# Creamos la corrutina que filtra y la arrancamos\n",
    "g = grep(\"ending\", p)\n",
    "g.send(None)\n",
    "\n",
    "# Este es el texto que metemos en nuestra cadena de corrutinas, de manera que:\n",
    "# 1. La corrutina filtra las palabas\n",
    "# 2. Le manda a la corrutina printer las palabras filtradas para que las imprima\n",
    "text = 'Commending spending is offending to people pending lending!'\n",
    "\n",
    "# Vamos mandando texto a la corrutina principal\n",
    "for line in text.split():\n",
    "    g.send(line)\n",
    "\n",
    "#  Y cerramos\n",
    "g.close()\n",
    "\n"
   ]
  },
  {
   "cell_type": "markdown",
   "metadata": {},
   "source": [
    "## Ejercicio 4\n",
    "\n",
    "Vamos a usar el módulo [aiohttp](http://aiohttp.readthedocs.io/) para obtener datos de urls mediante el uso de corrutinas. Este módulo básicamente proporciona corrutinas que pueden ser llamadas desde las nuestras, igual que en el ejemplo básico llamábamos a *asyncio.sleep*. \n",
    "\n",
    "Completar el método *fetch_page* que se muestra abajo para que muestre por pantalla el contenido de las llamadas a las urls (datos json). \n",
    "\n",
    "__Pista__: Posiblemente te resulten útiles estas dos corrutinas: [ClientSession.get](http://aiohttp.readthedocs.io/en/stable/client_reference.html#aiohttp.ClientSession.get), [ClientResponse,text](http://aiohttp.readthedocs.io/en/stable/client_reference.html#aiohttp.ClientResponse.text)\n",
    "\n"
   ]
  },
  {
   "cell_type": "code",
   "execution_count": null,
   "metadata": {
    "collapsed": true
   },
   "outputs": [],
   "source": [
    "import asyncio\n",
    "import aiohttp\n",
    "import json\n",
    "\n",
    "# Completa este metodo\n",
    "@asyncio.coroutine\n",
    "def fetch_page(url):\n",
    "    response = yield from aiohttp.request('GET', url)\n",
    "    assert response.status == 200\n",
    "    content = yield from response.read()\n",
    "    print('URL: {0}:  Content: {1}'.format(url, json.loads(content.decode('utf-8'))))\n",
    "\n",
    "\n",
    "def main():\n",
    "    loop = asyncio.get_event_loop()\n",
    "    tasks = [\n",
    "        asyncio.ensure_future(fetch_page('http://jsonplaceholder.typicode.com/posts/1')),\n",
    "        asyncio.ensure_future(fetch_page('http://jsonplaceholder.typicode.com/posts/2')),\n",
    "        asyncio.ensure_future(fetch_page('http://jsonplaceholder.typicode.com/posts/3'))]\n",
    "    loop.run_until_complete(asyncio.wait(tasks))\n",
    "    loop.close()\n",
    "\n",
    "\n",
    "if __name__ == \"__main__\":\n",
    "    main()\n"
   ]
  },
  {
   "cell_type": "markdown",
   "metadata": {
    "collapsed": true
   },
   "source": [
    "## Ejercicio 5\n",
    "\n",
    "En este ejercicio vamos a obtener los cinco posts más populares del día en 3 subredits de la web [reddit](https://www.reddit.com/). Usaremos corrutinas y la nueva sintáxis async/await, disponible desde Python 3.5. Recuerda, por tanto, que:\n",
    "\n",
    "* No será necesario el decorador @asyncio.coroutine. En su lugar debes declarar las corrutinas como async\n",
    "* En lugar de *yield from* vas a usar *await*\n",
    "\n",
    "Completa el código a continuación. Fíjate en el ejemplo anterior para ver cómo se usa la api de aiohttp. En cuanto a la información a mostrar por pantalla, estudia la respuesta JSON que te devuelve cada una de las llamadas para saber qué campos necesitas. En pantalla, para cada url, has de mostrar:\n",
    "\n",
    "* La puntuación del post (el score)\n",
    "* El título del mismo\n",
    "* El enlace al post\n",
    "\n",
    "Es suficiente con que lo muestre en modo texto, no hay que hacer ninguna floritura gráfica"
   ]
  },
  {
   "cell_type": "code",
   "execution_count": null,
   "metadata": {
    "collapsed": true
   },
   "outputs": [],
   "source": [
    "import asyncio\n",
    "import aiohttp\n",
    "import json\n",
    "\n",
    "async def get_json(client, url):\n",
    "    async with client.get(url) as response:\n",
    "        assert response.status == 200\n",
    "        return await response.read()\n",
    "\n",
    "async def get_reddit_top(subreddit, client):\n",
    "    data1 = await get_json(client, 'https://www.reddit.com/r/' + subreddit + '/top.json?sort=top&t=day&limit=5')\n",
    "\n",
    "    j = json.loads(data1.decode('utf-8'))\n",
    "    for i in j['data']['children']:\n",
    "        score = i['data']['score']\n",
    "        title = i['data']['title']\n",
    "        link = i['data']['url']\n",
    "        print(str(score) + ': ' + title + ' (' + link + ')')\n",
    "\n",
    "    print('DONE:', subreddit + '\\n')\n",
    "\n",
    "\n",
    "def main():\n",
    "    loop = asyncio.get_event_loop()\n",
    "    client = aiohttp.ClientSession(loop=loop)\n",
    "\n",
    "\n",
    "    tasks = [\n",
    "        asyncio.ensure_future(get_reddit_top('python', client)),\n",
    "        asyncio.ensure_future(get_reddit_top('programming', client)),\n",
    "        asyncio.ensure_future(get_reddit_top('compsci', client))\n",
    "    ]\n",
    "\n",
    "    loop.run_until_complete(asyncio.wait(tasks))\n",
    "\n",
    "    loop.stop()\n",
    "    client.close()\n",
    "\n",
    "\n",
    "if __name__ == \"__main__\":\n",
    "    main()\n"
   ]
  },
  {
   "cell_type": "markdown",
   "metadata": {},
   "source": [
    "##### <a rel=\"license\" href=\"http://creativecommons.org/licenses/by/4.0/deed.es\"><img alt=\"Licencia Creative Commons\" style=\"border-width:0\" src=\"http://i.creativecommons.org/l/by/4.0/88x31.png\" /></a><br /><span xmlns:dct=\"http://purl.org/dc/terms/\" property=\"dct:title\">Curso Python</span> por <span xmlns:cc=\"http://creativecommons.org/ns#\" property=\"cc:attributionName\">Jorge Arévalo</span> se distribuye bajo una <a rel=\"license\" href=\"http://creativecommons.org/licenses/by/4.0/deed.es\">Licencia Creative Commons Atribución 4.0 Internacional</a>."
   ]
  },
  {
   "cell_type": "markdown",
   "metadata": {},
   "source": [
    "---\n",
    "_Las siguientes celdas contienen configuración del Notebook_\n",
    "\n",
    "_Para visualizar y utlizar los enlaces a Twitter el notebook debe ejecutarse como [seguro](http://ipython.org/ipython-doc/dev/notebook/security.html)_\n",
    "\n",
    "    File > Trusted Notebook"
   ]
  },
  {
   "cell_type": "code",
   "execution_count": 2,
   "metadata": {
    "collapsed": false
   },
   "outputs": [
    {
     "data": {
      "text/html": [
       "/* This template is inspired in the one used by Lorena Barba\n",
       "in the numerical-mooc repository: https://github.com/numerical-mooc/numerical-mooc\n",
       "We thank her work and hope you also enjoy the look of the notobooks with this style */\n",
       "\n",
       "<link href='http://fonts.googleapis.com/css?family=Source+Sans+Pro|Josefin+Sans:400,700,400italic|Ubuntu+Condensed' rel='stylesheet' type='text/css'>\n",
       "\n",
       "El estilo se ha aplicado =)\n",
       "\n",
       "<style>\n",
       "\n",
       "\n",
       "\n",
       "#notebook_panel { /* main background */\n",
       "    background: #f7f7f7;\n",
       "}\n",
       "\n",
       "div.cell { /* set cell width */\n",
       "    width: 900px;\n",
       "}\n",
       "\n",
       "div #notebook { /* centre the content */\n",
       "    background: #fff; /* white background for content */\n",
       "    width: 950px;\n",
       "    margin: auto;\n",
       "    padding-left: 0em;\n",
       "}\n",
       "\n",
       "#notebook li { /* More space between bullet points */\n",
       "    margin-top:0.7em;\n",
       "}\n",
       "\n",
       "/* draw border around running cells */\n",
       "div.cell.border-box-sizing.code_cell.running { \n",
       "    border: 1px solid #111;\n",
       "}\n",
       "\n",
       "/* Put a solid color box around each cell and its output, visually linking them*/\n",
       "div.cell.code_cell {\n",
       "    font-family: 'Source Sans Pro', sans-serif;\n",
       "    background-color: rgb(256,256,256);\n",
       "    font-size: 110%;\n",
       "    border-radius: 0px; \n",
       "    padding: 0.5em;\n",
       "    margin-left:1em;\n",
       "    margin-top: 1em;\n",
       "}\n",
       "\n",
       "div.text_cell_render{\n",
       "    font-family: 'Josefin Sans', serif;\n",
       "    line-height: 145%;\n",
       "    font-size: 125%;\n",
       "    font-weight: 500;\n",
       "    width:750px;\n",
       "    margin-left:auto;\n",
       "    margin-right:auto;\n",
       "}\n",
       "\n",
       "\n",
       "/* Formatting for header cells */\n",
       ".text_cell_render h1, .text_cell_render h2, .text_cell_render h3,\n",
       ".text_cell_render h4, .text_cell_render h5 {\n",
       "    font-family: 'Ubuntu Condensed', sans-serif;\n",
       "}\n",
       "/*\n",
       ".text_cell_render h1 {\n",
       "    font-family: Flux, 'Ubuntu Condensed', serif;\n",
       "    font-style:regular;\n",
       "    font-weight: 400;    \n",
       "    font-size: 30pt;\n",
       "    text-align: center;\n",
       "    line-height: 100%;\n",
       "    color: #335082;\n",
       "    margin-bottom: 0.5em;\n",
       "    margin-top: 0.5em;\n",
       "    display: block;\n",
       "}\n",
       "*/\n",
       ".text_cell_render h1 {\n",
       "    font-weight: 600;\n",
       "    font-size: 35pt;\n",
       "    line-height: 100%;\n",
       "    color: #000000;\n",
       "    margin-bottom: 0.1em;\n",
       "    margin-top: 0.3em;\n",
       "    display: block;\n",
       "}\n",
       "\n",
       ".text_cell_render h2 {\n",
       "    margin-top:16px;\n",
       "    font-size: 27pt;\n",
       "    font-weight: 550;\n",
       "    margin-bottom: 0.1em;\n",
       "    margin-top: 0.3em;\n",
       "    font-style: regular;\n",
       "    color: #2c6391;\n",
       "}\t\n",
       "\n",
       ".text_cell_render h3 {\n",
       "    font-size: 20pt;\n",
       "    font-weight: 550\n",
       "    text-align: left;\n",
       "    margin-bottom: 0.1em;\n",
       "    margin-top: 0.3em;\n",
       "    font-style: regular;\n",
       "    color:  #387eb8;\n",
       "}\n",
       "\n",
       ".text_cell_render h4 {    /*Use this for captions*/\n",
       "    font-size: 18pt;\n",
       "    font-weight: 450\n",
       "    text-align: left;\n",
       "    margin-bottom: 0.1em;\n",
       "    margin-top: 0.3em;\n",
       "    font-style: regular;\n",
       "    color:  #5797cc;\n",
       "}\n",
       "\n",
       ".text_cell_render h5 {  /*Use this for small titles*/\n",
       "    font-size: 18pt;\n",
       "    font-weight: 550;\n",
       "    color: rgb(163,0,0);\n",
       "    font-style: italic;\n",
       "    margin-bottom: .1em;\n",
       "    margin-top: 0.8em;\n",
       "    display: block;\n",
       "    color:  #b21c0d;\n",
       "}\n",
       "\n",
       ".text_cell_render h6 { /*use this for copyright note*/\n",
       "    font-family: 'Ubuntu Condensed', sans-serif;\n",
       "    font-weight: 300;\n",
       "    font-size: 14pt;\n",
       "    line-height: 100%;\n",
       "    color: #252525;\n",
       "    text-align: right;\n",
       "    margin-bottom: 1px;\n",
       "    margin-top: 1px;\n",
       "}\n",
       "\n",
       ".CodeMirror{\n",
       "        font-family: 'Duru Sans', sans-serif;\n",
       "        font-size: 100%;\n",
       "}\n",
       "\n",
       "</style>\n",
       "<script>\n",
       "    MathJax.Hub.Config({\n",
       "                        TeX: {\n",
       "                           extensions: [\"AMSmath.js\"],\n",
       "                           equationNumbers: { autoNumber: \"AMS\", useLabelIds: true}\n",
       "                           },\n",
       "                tex2jax: {\n",
       "                    inlineMath: [ ['$','$'], [\"\\\\(\",\"\\\\)\"] ],\n",
       "                    displayMath: [ ['$$','$$'], [\"\\\\[\",\"\\\\]\"] ]\n",
       "                },\n",
       "                displayAlign: 'center', // Change this to 'center' to center equations.\n",
       "                \"HTML-CSS\": {\n",
       "                    styles: {'.MathJax_Display': {\"margin\": 4}}\n",
       "                }\n",
       "        });\n",
       "</script>\n"
      ],
      "text/plain": [
       "<IPython.core.display.HTML object>"
      ]
     },
     "execution_count": 2,
     "metadata": {},
     "output_type": "execute_result"
    }
   ],
   "source": [
    "# Esta celda da el estilo al notebook\n",
    "from IPython.core.display import HTML\n",
    "css_file = '../static/styles/style.css'\n",
    "HTML(open(css_file, \"r\").read())"
   ]
  },
  {
   "cell_type": "code",
   "execution_count": null,
   "metadata": {
    "collapsed": true
   },
   "outputs": [],
   "source": []
  }
 ],
 "metadata": {
  "kernelspec": {
   "display_name": "Python 3",
   "language": "python",
   "name": "python3"
  },
  "language_info": {
   "codemirror_mode": {
    "name": "ipython",
    "version": 3
   },
   "file_extension": ".py",
   "mimetype": "text/x-python",
   "name": "python",
   "nbconvert_exporter": "python",
   "pygments_lexer": "ipython3",
   "version": "3.5.1+"
  }
 },
 "nbformat": 4,
 "nbformat_minor": 0
}
