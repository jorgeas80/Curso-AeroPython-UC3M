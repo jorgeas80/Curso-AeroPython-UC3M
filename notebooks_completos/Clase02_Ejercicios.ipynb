{
 "cells": [
  {
   "cell_type": "markdown",
   "metadata": {},
   "source": [
    "<img src=\"../static/logopython.png\" alt=\"Logo Python\" style=\"width: 300px; display: inline\"/>\n",
    "<img src=\"../static/deimoslogo.png\" alt=\"Logo Deimos\" style=\"width: 300px; display: inline\"/>"
   ]
  },
  {
   "cell_type": "markdown",
   "metadata": {},
   "source": [
    "# Clase 1b: Ejercicios prácticos"
   ]
  },
  {
   "cell_type": "markdown",
   "metadata": {},
   "source": [
    "_En esta clase vamos a afianzar los conocimientos sobre orientación a objetos en Python que acabamos de adquirir haciendo algunos ejercicios._"
   ]
  },
  {
   "cell_type": "markdown",
   "metadata": {},
   "source": [
    "## Ejercicio 1\n",
    "\n",
    "Escribir una clase en Python llamada *Rectangle* con propiedades *length* y *width* y métodos para calcular el área y el perímetro. Debemos poder asignar ancho y alto, comprobando que son números mayores de 0."
   ]
  },
  {
   "cell_type": "code",
   "execution_count": 14,
   "metadata": {
    "collapsed": false
   },
   "outputs": [
    {
     "name": "stdout",
     "output_type": "stream",
     "text": [
      "120\n",
      "44\n",
      "60\n",
      "34\n",
      "El valor de width ha de ser mayor que 0\n"
     ]
    }
   ],
   "source": [
    "class Rectangle:  \n",
    "    def __init__(self, l, w):  \n",
    "        self.length = l  \n",
    "        self.width  = w  \n",
    "  \n",
    "    @property\n",
    "    def area(self):  \n",
    "        return self.__length*self.__width\n",
    "    \n",
    "    @property\n",
    "    def perimeter(self):\n",
    "        return self.__length * 2 + self.__width * 2\n",
    "    \n",
    "    @property\n",
    "    def length(self):\n",
    "        return self.__length\n",
    "    \n",
    "    @property\n",
    "    def width(self):\n",
    "        return self.__width\n",
    "    \n",
    "    @length.setter\n",
    "    def length(self, value):\n",
    "        if value < 0:\n",
    "            print(\"El valor de length ha de ser mayor que 0\")\n",
    "        else:\n",
    "            self.__length = value\n",
    "            \n",
    "    @width.setter\n",
    "    def width(self, value):\n",
    "        if value < 0:\n",
    "            print(\"El valor de width ha de ser mayor que 0\")\n",
    "        else:\n",
    "            self.__width = value\n",
    "    \n",
    "newRectangle = Rectangle(12, 10)  \n",
    "print(newRectangle.area)\n",
    "print(newRectangle.perimeter)\n",
    "\n",
    "newRectangle.width = 5\n",
    "newRectangle.height = 8\n",
    "print(newRectangle.area)\n",
    "print(newRectangle.perimeter)\n",
    "\n",
    "newRectangle.width = -10"
   ]
  },
  {
   "cell_type": "markdown",
   "metadata": {},
   "source": [
    "## Ejercicio 2\n",
    "\n",
    "Escribir una clase *Circulo* con una propiedad *radius* y métodos para calcular el área y el perímetro. También se ha de poder comprobar que el valor de *radius* es positivo, al asignarlo"
   ]
  },
  {
   "cell_type": "code",
   "execution_count": 15,
   "metadata": {
    "collapsed": false
   },
   "outputs": [
    {
     "name": "stdout",
     "output_type": "stream",
     "text": [
      "201.06192982974676\n",
      "50.26548245743669\n",
      "78.53981633974483\n",
      "31.41592653589793\n",
      "El valor de radius ha de ser mayor que 0\n"
     ]
    }
   ],
   "source": [
    "import math\n",
    "\n",
    "class Circle:  \n",
    "    def __init__(self, r):  \n",
    "        self.radius = r  \n",
    "  \n",
    "    @property\n",
    "    def area(self):  \n",
    "        return self.__radius**2*math.pi  \n",
    "      \n",
    "    @property\n",
    "    def perimeter(self):  \n",
    "        return 2*self.__radius*math.pi\n",
    "    \n",
    "    @property\n",
    "    def radius(self):\n",
    "        return self.__radius\n",
    "    \n",
    "    @radius.setter\n",
    "    def radius(self, value):\n",
    "        if value < 0:\n",
    "            print(\"El valor de radius ha de ser mayor que 0\")\n",
    "        else:\n",
    "            self.__radius = value\n",
    "  \n",
    "NewCircle = Circle(8)  \n",
    "print(NewCircle.area)  \n",
    "print(NewCircle.perimeter) \n",
    "\n",
    "NewCircle.radius = 5\n",
    "print(NewCircle.area)  \n",
    "print(NewCircle.perimeter)\n",
    "\n",
    "NewCircle.radius = -12"
   ]
  },
  {
   "cell_type": "markdown",
   "metadata": {},
   "source": [
    "## Ejercicio 3\n",
    "\n",
    "Escribir una clase *Shape* con métodos abstractos para calcular el área y el perímetro. Las dos clases de los ejercicios anteriores podrán heredar entonces de esta clase padre"
   ]
  },
  {
   "cell_type": "markdown",
   "metadata": {},
   "source": [
    "<div class=\"alert alert-info\">Una técnica habitual para implementar métodos abstractos en clases es limitarse a lanzar una excepción de tipo <a href=\"https://dwieeb.com/2015/06/02/usages-of-notimplemented-and-notimplementederror-in-python/\">*NotImplementedError*</a> en el método de la clase padre</div>"
   ]
  },
  {
   "cell_type": "code",
   "execution_count": 17,
   "metadata": {
    "collapsed": false
   },
   "outputs": [
    {
     "name": "stdout",
     "output_type": "stream",
     "text": [
      "120\n",
      "44\n",
      "60\n",
      "34\n",
      "El valor de width ha de ser mayor que 0\n"
     ]
    }
   ],
   "source": [
    "class Shape:\n",
    "    @property\n",
    "    def area():\n",
    "        raise NotImplementedError(\"Por favor, implementa este método en una clase hija\")\n",
    "        \n",
    "    @property\n",
    "    def perimeter():\n",
    "        raise NotImplementedError(\"Por favor, implementa este método en una clase hija\")\n",
    "        \n",
    "\n",
    "class Rectangle(Shape):  \n",
    "    def __init__(self, l, w):  \n",
    "        self.length = l  \n",
    "        self.width  = w  \n",
    "  \n",
    "    @property\n",
    "    def area(self):  \n",
    "        return self.__length*self.__width\n",
    "    \n",
    "    @property\n",
    "    def perimeter(self):\n",
    "        return self.__length * 2 + self.__width * 2\n",
    "    \n",
    "    @property\n",
    "    def length(self):\n",
    "        return self.__length\n",
    "\n",
    "    @property\n",
    "    def width(self):\n",
    "        return self.__width\n",
    "    \n",
    "    @length.setter\n",
    "    def length(self, value):\n",
    "        if value < 0:\n",
    "            print(\"El valor de length ha de ser mayor que 0\")\n",
    "        else:\n",
    "            self.__length = value\n",
    "            \n",
    "    @width.setter\n",
    "    def width(self, value):\n",
    "        if value < 0:\n",
    "            print(\"El valor de width ha de ser mayor que 0\")\n",
    "        else:\n",
    "            self.__width = value\n",
    "            \n",
    "\n",
    "newRectangle = Rectangle(12, 10)  \n",
    "print(newRectangle.area)\n",
    "print(newRectangle.perimeter)\n",
    "\n",
    "newRectangle.width = 5\n",
    "newRectangle.height = 8\n",
    "print(newRectangle.area)\n",
    "print(newRectangle.perimeter)\n",
    "\n",
    "newRectangle.width = -10"
   ]
  },
  {
   "cell_type": "markdown",
   "metadata": {
    "collapsed": true
   },
   "source": [
    "## Ejercicio 4\n",
    "\n",
    "TODO: Herencia vs composición\n",
    "\n",
    "http://python-textbok.readthedocs.io/en/1.0/Object_Oriented_Programming.html#replacing-inheritance-with-composition\n",
    "http://learnpythonthehardway.org/book/ex44.html"
   ]
  },
  {
   "cell_type": "code",
   "execution_count": 1,
   "metadata": {
    "collapsed": false
   },
   "outputs": [
    {
     "data": {
      "text/html": [
       "/* This template is inspired in the one used by Lorena Barba\n",
       "in the numerical-mooc repository: https://github.com/numerical-mooc/numerical-mooc\n",
       "We thank her work and hope you also enjoy the look of the notobooks with this style */\n",
       "\n",
       "<link href='http://fonts.googleapis.com/css?family=Source+Sans+Pro|Josefin+Sans:400,700,400italic|Ubuntu+Condensed' rel='stylesheet' type='text/css'>\n",
       "\n",
       "El estilo se ha aplicado =)\n",
       "\n",
       "<style>\n",
       "\n",
       "\n",
       "\n",
       "#notebook_panel { /* main background */\n",
       "    background: #f7f7f7;\n",
       "}\n",
       "\n",
       "div.cell { /* set cell width */\n",
       "    width: 900px;\n",
       "}\n",
       "\n",
       "div #notebook { /* centre the content */\n",
       "    background: #fff; /* white background for content */\n",
       "    width: 950px;\n",
       "    margin: auto;\n",
       "    padding-left: 0em;\n",
       "}\n",
       "\n",
       "#notebook li { /* More space between bullet points */\n",
       "    margin-top:0.7em;\n",
       "}\n",
       "\n",
       "/* draw border around running cells */\n",
       "div.cell.border-box-sizing.code_cell.running { \n",
       "    border: 1px solid #111;\n",
       "}\n",
       "\n",
       "/* Put a solid color box around each cell and its output, visually linking them*/\n",
       "div.cell.code_cell {\n",
       "    font-family: 'Source Sans Pro', sans-serif;\n",
       "    background-color: rgb(256,256,256);\n",
       "    font-size: 110%;\n",
       "    border-radius: 0px; \n",
       "    padding: 0.5em;\n",
       "    margin-left:1em;\n",
       "    margin-top: 1em;\n",
       "}\n",
       "\n",
       "div.text_cell_render{\n",
       "    font-family: 'Josefin Sans', serif;\n",
       "    line-height: 145%;\n",
       "    font-size: 125%;\n",
       "    font-weight: 500;\n",
       "    width:750px;\n",
       "    margin-left:auto;\n",
       "    margin-right:auto;\n",
       "}\n",
       "\n",
       "\n",
       "/* Formatting for header cells */\n",
       ".text_cell_render h1, .text_cell_render h2, .text_cell_render h3,\n",
       ".text_cell_render h4, .text_cell_render h5 {\n",
       "    font-family: 'Ubuntu Condensed', sans-serif;\n",
       "}\n",
       "/*\n",
       ".text_cell_render h1 {\n",
       "    font-family: Flux, 'Ubuntu Condensed', serif;\n",
       "    font-style:regular;\n",
       "    font-weight: 400;    \n",
       "    font-size: 30pt;\n",
       "    text-align: center;\n",
       "    line-height: 100%;\n",
       "    color: #335082;\n",
       "    margin-bottom: 0.5em;\n",
       "    margin-top: 0.5em;\n",
       "    display: block;\n",
       "}\n",
       "*/\n",
       ".text_cell_render h1 {\n",
       "    font-weight: 600;\n",
       "    font-size: 35pt;\n",
       "    line-height: 100%;\n",
       "    color: #000000;\n",
       "    margin-bottom: 0.1em;\n",
       "    margin-top: 0.3em;\n",
       "    display: block;\n",
       "}\n",
       "\n",
       ".text_cell_render h2 {\n",
       "    margin-top:16px;\n",
       "    font-size: 27pt;\n",
       "    font-weight: 550;\n",
       "    margin-bottom: 0.1em;\n",
       "    margin-top: 0.3em;\n",
       "    font-style: regular;\n",
       "    color: #2c6391;\n",
       "}\t\n",
       "\n",
       ".text_cell_render h3 {\n",
       "    font-size: 20pt;\n",
       "    font-weight: 550\n",
       "    text-align: left;\n",
       "    margin-bottom: 0.1em;\n",
       "    margin-top: 0.3em;\n",
       "    font-style: regular;\n",
       "    color:  #387eb8;\n",
       "}\n",
       "\n",
       ".text_cell_render h4 {    /*Use this for captions*/\n",
       "    font-size: 18pt;\n",
       "    font-weight: 450\n",
       "    text-align: left;\n",
       "    margin-bottom: 0.1em;\n",
       "    margin-top: 0.3em;\n",
       "    font-style: regular;\n",
       "    color:  #5797cc;\n",
       "}\n",
       "\n",
       ".text_cell_render h5 {  /*Use this for small titles*/\n",
       "    font-size: 18pt;\n",
       "    font-weight: 550;\n",
       "    color: rgb(163,0,0);\n",
       "    font-style: italic;\n",
       "    margin-bottom: .1em;\n",
       "    margin-top: 0.8em;\n",
       "    display: block;\n",
       "    color:  #b21c0d;\n",
       "}\n",
       "\n",
       ".text_cell_render h6 { /*use this for copyright note*/\n",
       "    font-family: 'Ubuntu Condensed', sans-serif;\n",
       "    font-weight: 300;\n",
       "    font-size: 14pt;\n",
       "    line-height: 100%;\n",
       "    color: #252525;\n",
       "    text-align: right;\n",
       "    margin-bottom: 1px;\n",
       "    margin-top: 1px;\n",
       "}\n",
       "\n",
       ".CodeMirror{\n",
       "        font-family: 'Duru Sans', sans-serif;\n",
       "        font-size: 100%;\n",
       "}\n",
       "\n",
       "</style>\n",
       "<script>\n",
       "    MathJax.Hub.Config({\n",
       "                        TeX: {\n",
       "                           extensions: [\"AMSmath.js\"],\n",
       "                           equationNumbers: { autoNumber: \"AMS\", useLabelIds: true}\n",
       "                           },\n",
       "                tex2jax: {\n",
       "                    inlineMath: [ ['$','$'], [\"\\\\(\",\"\\\\)\"] ],\n",
       "                    displayMath: [ ['$$','$$'], [\"\\\\[\",\"\\\\]\"] ]\n",
       "                },\n",
       "                displayAlign: 'center', // Change this to 'center' to center equations.\n",
       "                \"HTML-CSS\": {\n",
       "                    styles: {'.MathJax_Display': {\"margin\": 4}}\n",
       "                }\n",
       "        });\n",
       "</script>\n"
      ],
      "text/plain": [
       "<IPython.core.display.HTML object>"
      ]
     },
     "execution_count": 1,
     "metadata": {},
     "output_type": "execute_result"
    }
   ],
   "source": [
    "# Esta celda da el estilo al notebook\n",
    "from IPython.core.display import HTML\n",
    "css_file = '../static/styles/style.css'\n",
    "HTML(open(css_file, \"r\").read())"
   ]
  },
  {
   "cell_type": "code",
   "execution_count": null,
   "metadata": {
    "collapsed": true
   },
   "outputs": [],
   "source": []
  }
 ],
 "metadata": {
  "kernelspec": {
   "display_name": "Python 3",
   "language": "python",
   "name": "python3"
  },
  "language_info": {
   "codemirror_mode": {
    "name": "ipython",
    "version": 3
   },
   "file_extension": ".py",
   "mimetype": "text/x-python",
   "name": "python",
   "nbconvert_exporter": "python",
   "pygments_lexer": "ipython3",
   "version": "3.5.1"
  }
 },
 "nbformat": 4,
 "nbformat_minor": 0
}
