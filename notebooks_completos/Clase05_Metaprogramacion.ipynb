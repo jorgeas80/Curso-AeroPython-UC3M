{
 "cells": [
  {
   "cell_type": "markdown",
   "metadata": {
    "collapsed": true
   },
   "source": [
    "<img src=\"../static/logopython.png\" alt=\"Logo Python\" style=\"width: 300px; display: inline\"/>\n",
    "<img src=\"../static/deimoslogo.png\" alt=\"Logo Deimos\" style=\"width: 300px; display: inline\"/>"
   ]
  },
  {
   "cell_type": "markdown",
   "metadata": {},
   "source": [
    "# Clase 5: Metaprogramación en Python\n",
    "\n",
    "En la metaprogramación, escribimos <strong>código que trabaja con código</strong>. Algo para lo que Python 3 está <strong>especialmente bien preparado</strong>\n",
    "\n",
    "Veamos a continuación para qué nos puede interesar escribir código que trabaja con código."
   ]
  },
  {
   "cell_type": "markdown",
   "metadata": {},
   "source": [
    "## ¿Qué es eso de la metaprogramación?"
   ]
  },
  {
   "cell_type": "markdown",
   "metadata": {},
   "source": [
    "Como ya hemos dicho, la metaprogramación consiste en escribir código que va a trabajar con el código ya escrito, incluso consigo mismo.\n",
    "\n",
    "Al ser Python un lenguaje dinámico, no podemos saber las interioridades de los componentes con los que estemos trabajando, salvo que los inspeccionemos en tiempo de ejecución. Por ejemplo"
   ]
  },
  {
   "cell_type": "code",
   "execution_count": 3,
   "metadata": {
    "collapsed": false
   },
   "outputs": [
    {
     "name": "stdout",
     "output_type": "stream",
     "text": [
      "Es Jorge guapo: Por supuesto\n"
     ]
    }
   ],
   "source": [
    "# Añadimos atributos a una instancia de una clase, una vez creada\n",
    "class Empleado(object):\n",
    "    pass\n",
    "\n",
    "jorge = Empleado()\n",
    "jorge.guapo = \"Por supuesto\"\n",
    "\n",
    "print(\"Es Jorge guapo: {}\".format(jorge.guapo))"
   ]
  },
  {
   "cell_type": "markdown",
   "metadata": {},
   "source": [
    "En la manera más básica de metaprogramación, podemos manipular los atributos de una clase, mediante el trio de funciones [hasattr](https://docs.python.org/3/library/functions.html#hasattr), [getattr](https://docs.python.org/3/library/functions.html#getattr), [setattr](https://docs.python.org/3/library/functions.html#setattr)"
   ]
  },
  {
   "cell_type": "code",
   "execution_count": 6,
   "metadata": {
    "collapsed": false
   },
   "outputs": [
    {
     "name": "stdout",
     "output_type": "stream",
     "text": [
      "True\n",
      "Por supuesto\n",
      "False\n",
      "Más que las monas\n"
     ]
    }
   ],
   "source": [
    "# Probando hasattr, getattr, setattr\n",
    "print(hasattr(jorge, 'guapo'))\n",
    "print(getattr(jorge, 'guapo'))\n",
    "\n",
    "print(hasattr(jorge, 'listo'))\n",
    "setattr(jorge, 'listo', 'Más que las monas')\n",
    "print(getattr(jorge, 'listo'))"
   ]
  },
  {
   "cell_type": "markdown",
   "metadata": {},
   "source": [
    "TODO: Meter la parte de introspección del capítulo 3 del libro. Es muy cortito y habla de docstrings, tipos, etc"
   ]
  },
  {
   "cell_type": "markdown",
   "metadata": {},
   "source": [
    "## ¿Y para qué me vale esto?"
   ]
  },
  {
   "cell_type": "markdown",
   "metadata": {},
   "source": [
    "La metaprogamación es especialmente útil cuando:\n",
    "\n",
    "* Construyes herramientas para otros programadores (ej: un IDE)\n",
    "* Quieres añadir ciertos _extras_ a tu código, para hacerlo más seguro o más fácilmente depurable\n",
    "* Quieres aprender cómo funciona realmente el lenguaje por dentro... y manipularlo\n",
    "* ...\n",
    "\n",
    "Es posible que estos argumentos no te parezcan suficientes. No hay problema. [Tim Peters](http://c2.com/cgi/wiki?TimPeters) dijo esto acerca de las metaclases (uno de los componentes fundamentales de la metaprogramación):\n",
    "\n",
    "_[Metaclasses] are deeper magic than 99% of\n",
    "users should ever worry about. If you\n",
    "wonder whether you need them, you\n",
    "don't (the people who actually need them\n",
    "know with certainty that they need them,\n",
    "and don't need an explanation about why)._\n",
    "\n",
    "Así que, si no te ha surgido la necesidad de usar metaprogramación, no te preocupes ;-). Nosotros, al menos, vamos a ver un ejemplo de uso"
   ]
  },
  {
   "cell_type": "markdown",
   "metadata": {},
   "source": [
    "## Caso de uso: depuración de código\n",
    "\n",
    "¿Cómo depuramos nuestro código? Una primera aproximación (pobre) es... usando print"
   ]
  },
  {
   "cell_type": "code",
   "execution_count": 7,
   "metadata": {
    "collapsed": false
   },
   "outputs": [
    {
     "name": "stdout",
     "output_type": "stream",
     "text": [
      "Dentro de la función add\n"
     ]
    },
    {
     "data": {
      "text/plain": [
       "4"
      ]
     },
     "execution_count": 7,
     "metadata": {},
     "output_type": "execute_result"
    }
   ],
   "source": [
    "# Así es como depuran los muggles\n",
    "def add(x, y):\n",
    "    print('Dentro de la función add')\n",
    "    return x + y\n",
    "\n",
    "add(2, 2)"
   ]
  },
  {
   "cell_type": "markdown",
   "metadata": {},
   "source": [
    "Precioso. ¿Y si tenemos más funciones?"
   ]
  },
  {
   "cell_type": "code",
   "execution_count": 2,
   "metadata": {
    "collapsed": false
   },
   "outputs": [
    {
     "name": "stdout",
     "output_type": "stream",
     "text": [
      "add\n",
      "sub\n",
      "mul\n",
      "div\n"
     ]
    },
    {
     "data": {
      "text/plain": [
       "8.0"
      ]
     },
     "execution_count": 2,
     "metadata": {},
     "output_type": "execute_result"
    }
   ],
   "source": [
    "# La cosa se complica...\n",
    "def add(x, y):\n",
    "    print('add')\n",
    "    return x + y\n",
    "\n",
    "def sub(x, y):\n",
    "    print('sub')\n",
    "    return x - y\n",
    "\n",
    "def mul(x, y):\n",
    "    print('mul')\n",
    "    return x * y\n",
    "\n",
    "def div(x, y):\n",
    "    print('div')\n",
    "    return x / y\n",
    "\n",
    "add(2, 2)\n",
    "sub(8, 3)\n",
    "mul(5,6)\n",
    "div(16, 2)"
   ]
  },
  {
   "cell_type": "markdown",
   "metadata": {},
   "source": [
    "Esto no es nada cómodo. Nos gustaría poder crear un *depurador* como elemento externo, y aplicarle ese elemento a todas las funciones que nos interese. Estamos hablando de los [decorators](https://wiki.python.org/moin/PythonDecorators)"
   ]
  },
  {
   "cell_type": "markdown",
   "metadata": {},
   "source": [
    "<div class=\"alert alert-info\">Los decorators no deberían ser algo ajeno para ti. Los vimos en la clase de orientación a objetos</div>"
   ]
  },
  {
   "cell_type": "markdown",
   "metadata": {},
   "source": [
    "Un decorador es una función que actúa como _wrapper_ de otra. El _wrapper_ actúa como la función original pero añade comportamiento adicional. En nuestro caso, lo que queremos es que añada información de debug"
   ]
  },
  {
   "cell_type": "code",
   "execution_count": 3,
   "metadata": {
    "collapsed": true
   },
   "outputs": [],
   "source": [
    "from functools import wraps, partial\n",
    "\n",
    "def debug(func):\n",
    "    '''\n",
    "    A simple debugging decorator\n",
    "    '''\n",
    "    msg = func.__qualname__\n",
    "    @wraps(func)\n",
    "    def wrapper(*args, **kwargs):\n",
    "        print(msg)\n",
    "        return func(*args, **kwargs)\n",
    "    return wrapper"
   ]
  },
  {
   "cell_type": "markdown",
   "metadata": {},
   "source": [
    "Vamos ahora a redefinir nuestras funciones, aplicando el _wrapper_"
   ]
  },
  {
   "cell_type": "code",
   "execution_count": 6,
   "metadata": {
    "collapsed": false
   },
   "outputs": [
    {
     "name": "stdout",
     "output_type": "stream",
     "text": [
      "add\n",
      "sub\n",
      "mul\n",
      "div\n"
     ]
    },
    {
     "data": {
      "text/plain": [
       "8.0"
      ]
     },
     "execution_count": 6,
     "metadata": {},
     "output_type": "execute_result"
    }
   ],
   "source": [
    "@debug\n",
    "def add(x, y):\n",
    "    return x + y\n",
    "@debug\n",
    "def sub(x, y):\n",
    "    return x - y\n",
    "@debug\n",
    "def mul(x, y):\n",
    "    return x * y\n",
    "@debug\n",
    "def div(x, y):\n",
    "    return x / y\n",
    "\n",
    "add(2, 2)\n",
    "sub(8, 3)\n",
    "mul(5,6)\n",
    "div(16, 2)"
   ]
  },
  {
   "cell_type": "markdown",
   "metadata": {},
   "source": [
    "Con este cambio:\n",
    "\n",
    "* Hemos accedido a la firma de una función (su nombre) para sacar información por pantalla (reflexión)\n",
    "* Hemos aislado el código de debug en una función aparte, que puede ser aplicada a otras (separación de responsabilidades)\n",
    "\n",
    "Eso hace feliz a Guido\n",
    "\n",
    "<img src=\"https://www.soldierx.com/system/files/hdb/guido-van-rossum.jpg\">"
   ]
  },
  {
   "cell_type": "markdown",
   "metadata": {},
   "source": [
    "Una posible mejora sería utilizar el módulo de logger, que funciona de una manera muy similar al de Java"
   ]
  },
  {
   "cell_type": "code",
   "execution_count": 8,
   "metadata": {
    "collapsed": false
   },
   "outputs": [],
   "source": [
    "from functools import wraps\n",
    "import logging\n",
    "\n",
    "def debug(func):\n",
    "    log = logging.getLogger(func.__module__)\n",
    "    msg = func.__qualname__\n",
    "    @wraps(func)\n",
    "    def wrapper(*args, **kwargs):\n",
    "        log.debug(msg)\n",
    "        return func(*args, **kwargs)\n",
    "    return wrapper"
   ]
  },
  {
   "cell_type": "markdown",
   "metadata": {},
   "source": [
    "Otra adicional sería desactivar el mensaje de DEBUG usando una variable de entorno"
   ]
  },
  {
   "cell_type": "code",
   "execution_count": 10,
   "metadata": {
    "collapsed": true
   },
   "outputs": [],
   "source": [
    "from functools import wraps\n",
    "import logging\n",
    "import os\n",
    "\n",
    "def debug(func):\n",
    "    if 'DEBUG' not in os.environ:\n",
    "        return func\n",
    "    log = logging.getLogger(func.__module__)\n",
    "    msg = func.__qualname__\n",
    "    @wraps(func)\n",
    "    def wrapper(*args, **kwargs):\n",
    "        log.debug(msg)\n",
    "        return func(*args, **kwargs)\n",
    "    return wrapper"
   ]
  },
  {
   "cell_type": "markdown",
   "metadata": {},
   "source": [
    "Imaginemos ahora que queremos añadir un prefijo a todos nuestros mensajes de depuración, y que ese prefijo sea dinámico. Es decir, que se lo podamos pasar como argumento al _wrapper_"
   ]
  },
  {
   "cell_type": "code",
   "execution_count": 11,
   "metadata": {
    "collapsed": true
   },
   "outputs": [],
   "source": [
    "def debugargs(prefix=''):\n",
    "    '''\n",
    "    A debugging decorator that takes arguments\n",
    "    '''\n",
    "    def decorate(func):\n",
    "        msg = prefix + func.__qualname__\n",
    "        @wraps(func)\n",
    "        def wrapper(*args, **kwargs):\n",
    "            print(msg)\n",
    "            return func(*args, **kwargs)\n",
    "        return wrapper\n",
    "    return decorate"
   ]
  },
  {
   "cell_type": "code",
   "execution_count": 13,
   "metadata": {
    "collapsed": false
   },
   "outputs": [
    {
     "name": "stdout",
     "output_type": "stream",
     "text": [
      "------add\n",
      "------sub\n",
      "------mul\n",
      "------div\n"
     ]
    },
    {
     "data": {
      "text/plain": [
       "8.0"
      ]
     },
     "execution_count": 13,
     "metadata": {},
     "output_type": "execute_result"
    }
   ],
   "source": [
    "@debugargs(prefix=\"------\")\n",
    "def add(x, y):\n",
    "    return x + y\n",
    "@debugargs(prefix=\"------\")\n",
    "def sub(x, y):\n",
    "    return x - y\n",
    "@debugargs(prefix=\"------\")\n",
    "def mul(x, y):\n",
    "    return x * y\n",
    "@debugargs(prefix=\"------\")\n",
    "def div(x, y):\n",
    "    return x / y\n",
    "\n",
    "\n",
    "add(2, 2)\n",
    "sub(8, 3)\n",
    "mul(5,6)\n",
    "div(16, 2)"
   ]
  },
  {
   "cell_type": "markdown",
   "metadata": {},
   "source": [
    "Vale, eso está muy bien, pero ahora tengo dos wrappers: uno sin argumentos, y otro con argumentos. A mí lo que me gustaría es poder llamar al mismo, y decidir si quiero pasarle argumento o no.\n",
    "\n",
    "Como ya conozco la programación funcional, puedo usar una de sus herramientas más poderosas en Python. La función [partial](https://docs.python.org/3/library/functools.html#functools.partial)"
   ]
  },
  {
   "cell_type": "code",
   "execution_count": 14,
   "metadata": {
    "collapsed": true
   },
   "outputs": [],
   "source": [
    "def debug(func=None, *, prefix=''):\n",
    "    '''\n",
    "    Decorator with or without optional arguments\n",
    "    '''\n",
    "    if func is None:\n",
    "        return partial(debug, prefix=prefix)\n",
    "    \n",
    "    msg = prefix + func.__qualname__\n",
    "    @wraps(func)\n",
    "    def wrapper(*args, **kwargs):\n",
    "        print(msg)\n",
    "        return func(*args, **kwargs)\n",
    "    return wrapper"
   ]
  },
  {
   "cell_type": "markdown",
   "metadata": {},
   "source": [
    "Ahora puedo llamar a debug sin argumentos, o con un argumento opcional"
   ]
  },
  {
   "cell_type": "code",
   "execution_count": 15,
   "metadata": {
    "collapsed": false
   },
   "outputs": [
    {
     "name": "stdout",
     "output_type": "stream",
     "text": [
      "------add\n",
      "sub\n",
      "------mul\n",
      "div\n"
     ]
    },
    {
     "data": {
      "text/plain": [
       "8.0"
      ]
     },
     "execution_count": 15,
     "metadata": {},
     "output_type": "execute_result"
    }
   ],
   "source": [
    "@debug(prefix=\"------\")\n",
    "def add(x, y):\n",
    "    return x + y\n",
    "@debug\n",
    "def sub(x, y):\n",
    "    return x - y\n",
    "@debugargs(prefix=\"------\")\n",
    "def mul(x, y):\n",
    "    return x * y\n",
    "@debug\n",
    "def div(x, y):\n",
    "    return x / y\n",
    "\n",
    "\n",
    "add(2, 2)\n",
    "sub(8, 3)\n",
    "mul(5,6)\n",
    "div(16, 2)"
   ]
  },
  {
   "cell_type": "markdown",
   "metadata": {},
   "source": [
    "Eso también hace feliz a Guido...\n",
    "\n",
    "<img src=\"https://www.soldierx.com/system/files/hdb/guido-van-rossum.jpg\">"
   ]
  },
  {
   "cell_type": "markdown",
   "metadata": {},
   "source": [
    "Vayamos un poco más lejos... ¿Qué pasa si quiero decorar todos los métodos de una clase? Tengo que ir uno a uno. ¿Y si quisiera decorar a nivel de clase?"
   ]
  },
  {
   "cell_type": "code",
   "execution_count": 1,
   "metadata": {
    "collapsed": false
   },
   "outputs": [
    {
     "data": {
      "text/html": [
       "/* This template is inspired in the one used by Lorena Barba\n",
       "in the numerical-mooc repository: https://github.com/numerical-mooc/numerical-mooc\n",
       "We thank her work and hope you also enjoy the look of the notobooks with this style */\n",
       "\n",
       "<link href='http://fonts.googleapis.com/css?family=Source+Sans+Pro|Josefin+Sans:400,700,400italic|Ubuntu+Condensed' rel='stylesheet' type='text/css'>\n",
       "\n",
       "El estilo se ha aplicado =)\n",
       "\n",
       "<style>\n",
       "\n",
       "\n",
       "\n",
       "#notebook_panel { /* main background */\n",
       "    background: #f7f7f7;\n",
       "}\n",
       "\n",
       "div.cell { /* set cell width */\n",
       "    width: 900px;\n",
       "}\n",
       "\n",
       "div #notebook { /* centre the content */\n",
       "    background: #fff; /* white background for content */\n",
       "    width: 950px;\n",
       "    margin: auto;\n",
       "    padding-left: 0em;\n",
       "}\n",
       "\n",
       "#notebook li { /* More space between bullet points */\n",
       "    margin-top:0.7em;\n",
       "}\n",
       "\n",
       "/* draw border around running cells */\n",
       "div.cell.border-box-sizing.code_cell.running { \n",
       "    border: 1px solid #111;\n",
       "}\n",
       "\n",
       "/* Put a solid color box around each cell and its output, visually linking them*/\n",
       "div.cell.code_cell {\n",
       "    font-family: 'Source Sans Pro', sans-serif;\n",
       "    background-color: rgb(256,256,256);\n",
       "    font-size: 110%;\n",
       "    border-radius: 0px; \n",
       "    padding: 0.5em;\n",
       "    margin-left:1em;\n",
       "    margin-top: 1em;\n",
       "}\n",
       "\n",
       "div.text_cell_render{\n",
       "    font-family: 'Josefin Sans', serif;\n",
       "    line-height: 145%;\n",
       "    font-size: 125%;\n",
       "    font-weight: 500;\n",
       "    width:750px;\n",
       "    margin-left:auto;\n",
       "    margin-right:auto;\n",
       "}\n",
       "\n",
       "\n",
       "/* Formatting for header cells */\n",
       ".text_cell_render h1, .text_cell_render h2, .text_cell_render h3,\n",
       ".text_cell_render h4, .text_cell_render h5 {\n",
       "    font-family: 'Ubuntu Condensed', sans-serif;\n",
       "}\n",
       "/*\n",
       ".text_cell_render h1 {\n",
       "    font-family: Flux, 'Ubuntu Condensed', serif;\n",
       "    font-style:regular;\n",
       "    font-weight: 400;    \n",
       "    font-size: 30pt;\n",
       "    text-align: center;\n",
       "    line-height: 100%;\n",
       "    color: #335082;\n",
       "    margin-bottom: 0.5em;\n",
       "    margin-top: 0.5em;\n",
       "    display: block;\n",
       "}\n",
       "*/\n",
       ".text_cell_render h1 {\n",
       "    font-weight: 600;\n",
       "    font-size: 35pt;\n",
       "    line-height: 100%;\n",
       "    color: #000000;\n",
       "    margin-bottom: 0.1em;\n",
       "    margin-top: 0.3em;\n",
       "    display: block;\n",
       "}\n",
       "\n",
       ".text_cell_render h2 {\n",
       "    margin-top:16px;\n",
       "    font-size: 27pt;\n",
       "    font-weight: 550;\n",
       "    margin-bottom: 0.1em;\n",
       "    margin-top: 0.3em;\n",
       "    font-style: regular;\n",
       "    color: #2c6391;\n",
       "}\t\n",
       "\n",
       ".text_cell_render h3 {\n",
       "    font-size: 20pt;\n",
       "    font-weight: 550\n",
       "    text-align: left;\n",
       "    margin-bottom: 0.1em;\n",
       "    margin-top: 0.3em;\n",
       "    font-style: regular;\n",
       "    color:  #387eb8;\n",
       "}\n",
       "\n",
       ".text_cell_render h4 {    /*Use this for captions*/\n",
       "    font-size: 18pt;\n",
       "    font-weight: 450\n",
       "    text-align: left;\n",
       "    margin-bottom: 0.1em;\n",
       "    margin-top: 0.3em;\n",
       "    font-style: regular;\n",
       "    color:  #5797cc;\n",
       "}\n",
       "\n",
       ".text_cell_render h5 {  /*Use this for small titles*/\n",
       "    font-size: 18pt;\n",
       "    font-weight: 550;\n",
       "    color: rgb(163,0,0);\n",
       "    font-style: italic;\n",
       "    margin-bottom: .1em;\n",
       "    margin-top: 0.8em;\n",
       "    display: block;\n",
       "    color:  #b21c0d;\n",
       "}\n",
       "\n",
       ".text_cell_render h6 { /*use this for copyright note*/\n",
       "    font-family: 'Ubuntu Condensed', sans-serif;\n",
       "    font-weight: 300;\n",
       "    font-size: 14pt;\n",
       "    line-height: 100%;\n",
       "    color: #252525;\n",
       "    text-align: right;\n",
       "    margin-bottom: 1px;\n",
       "    margin-top: 1px;\n",
       "}\n",
       "\n",
       ".CodeMirror{\n",
       "        font-family: 'Duru Sans', sans-serif;\n",
       "        font-size: 100%;\n",
       "}\n",
       "\n",
       "</style>\n",
       "<script>\n",
       "    MathJax.Hub.Config({\n",
       "                        TeX: {\n",
       "                           extensions: [\"AMSmath.js\"],\n",
       "                           equationNumbers: { autoNumber: \"AMS\", useLabelIds: true}\n",
       "                           },\n",
       "                tex2jax: {\n",
       "                    inlineMath: [ ['$','$'], [\"\\\\(\",\"\\\\)\"] ],\n",
       "                    displayMath: [ ['$$','$$'], [\"\\\\[\",\"\\\\]\"] ]\n",
       "                },\n",
       "                displayAlign: 'center', // Change this to 'center' to center equations.\n",
       "                \"HTML-CSS\": {\n",
       "                    styles: {'.MathJax_Display': {\"margin\": 4}}\n",
       "                }\n",
       "        });\n",
       "</script>\n"
      ],
      "text/plain": [
       "<IPython.core.display.HTML object>"
      ]
     },
     "execution_count": 1,
     "metadata": {},
     "output_type": "execute_result"
    }
   ],
   "source": [
    "# Esta celda da el estilo al notebook\n",
    "from IPython.core.display import HTML\n",
    "css_file = '../static/styles/style.css'\n",
    "HTML(open(css_file, \"r\").read())"
   ]
  },
  {
   "cell_type": "code",
   "execution_count": null,
   "metadata": {
    "collapsed": true
   },
   "outputs": [],
   "source": []
  }
 ],
 "metadata": {
  "kernelspec": {
   "display_name": "Python 3",
   "language": "python",
   "name": "python3"
  },
  "language_info": {
   "codemirror_mode": {
    "name": "ipython",
    "version": 3
   },
   "file_extension": ".py",
   "mimetype": "text/x-python",
   "name": "python",
   "nbconvert_exporter": "python",
   "pygments_lexer": "ipython3",
   "version": "3.5.1"
  }
 },
 "nbformat": 4,
 "nbformat_minor": 0
}
