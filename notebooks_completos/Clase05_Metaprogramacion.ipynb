{
 "cells": [
  {
   "cell_type": "markdown",
   "metadata": {
    "collapsed": true
   },
   "source": [
    "<img src=\"../static/logopython.png\" alt=\"Logo Python\" style=\"width: 300px; display: inline\"/>\n",
    "<img src=\"../static/deimoslogo.png\" alt=\"Logo Deimos\" style=\"width: 300px; display: inline\"/>"
   ]
  },
  {
   "cell_type": "markdown",
   "metadata": {},
   "source": [
    "# Clase 5: Metaprogramación en Python\n",
    "\n",
    "En la metaprogramación, escribimos <strong>código que trabaja con código</strong>. Algo para lo que Python 3 está <strong>especialmente bien preparado</strong>\n",
    "\n",
    "Veamos a continuación para qué nos puede interesar escribir código que trabaja con código."
   ]
  },
  {
   "cell_type": "markdown",
   "metadata": {},
   "source": [
    "## ¿Qué es eso de la metaprogramación?"
   ]
  },
  {
   "cell_type": "markdown",
   "metadata": {},
   "source": [
    "Como ya hemos dicho, la metaprogramación consiste en escribir código que va a trabajar con el código ya escrito, incluso consigo mismo.\n",
    "\n",
    "Al ser Python un lenguaje dinámico, no podemos saber las interioridades de los componentes con los que estemos trabajando, salvo que los inspeccionemos en tiempo de ejecución. Por ejemplo"
   ]
  },
  {
   "cell_type": "code",
   "execution_count": 33,
   "metadata": {
    "collapsed": false
   },
   "outputs": [
    {
     "name": "stdout",
     "output_type": "stream",
     "text": [
      "Es Jorge guapo: Por supuesto\n"
     ]
    }
   ],
   "source": [
    "# Añadimos atributos a una instancia de una clase, una vez creada\n",
    "class Empleado(object):\n",
    "    \"Clase para definir a un empleado\"\n",
    "    def __init__(self, nombre, email):\n",
    "        self.nombre = nombre\n",
    "        self.email = email\n",
    "        \n",
    "    def getNombre(self):\n",
    "        return self.nombre\n",
    "    \n",
    "\n",
    "jorge = Empleado(\"Jorge\", \"jorge@mail.com\")\n",
    "jorge.guapo = \"Por supuesto\"\n",
    "\n",
    "print(\"Es Jorge guapo: {}\".format(jorge.guapo))"
   ]
  },
  {
   "cell_type": "markdown",
   "metadata": {},
   "source": [
    "En la manera más básica de metaprogramación, podemos manipular los atributos de una clase, mediante el trio de funciones [hasattr](https://docs.python.org/3/library/functions.html#hasattr), [getattr](https://docs.python.org/3/library/functions.html#getattr), [setattr](https://docs.python.org/3/library/functions.html#setattr)"
   ]
  },
  {
   "cell_type": "code",
   "execution_count": 20,
   "metadata": {
    "collapsed": false
   },
   "outputs": [
    {
     "name": "stdout",
     "output_type": "stream",
     "text": [
      "True\n",
      "Por supuesto\n",
      "False\n",
      "Más que las monas\n"
     ]
    }
   ],
   "source": [
    "# Probando hasattr, getattr, setattr\n",
    "print(hasattr(jorge, 'guapo'))\n",
    "print(getattr(jorge, 'guapo'))\n",
    "\n",
    "print(hasattr(jorge, 'listo'))\n",
    "setattr(jorge, 'listo', 'Más que las monas')\n",
    "print(getattr(jorge, 'listo'))"
   ]
  },
  {
   "cell_type": "markdown",
   "metadata": {},
   "source": [
    "Además de eso, tenemos más propiedades a nuestra disposición:"
   ]
  },
  {
   "cell_type": "code",
   "execution_count": 21,
   "metadata": {
    "collapsed": false
   },
   "outputs": [
    {
     "data": {
      "text/plain": [
       "'Empleado'"
      ]
     },
     "execution_count": 21,
     "metadata": {},
     "output_type": "execute_result"
    }
   ],
   "source": [
    "# Nombre de la clase\n",
    "Empleado.__name__"
   ]
  },
  {
   "cell_type": "code",
   "execution_count": 23,
   "metadata": {
    "collapsed": false
   },
   "outputs": [
    {
     "name": "stdout",
     "output_type": "stream",
     "text": [
      "True\n"
     ]
    }
   ],
   "source": [
    "# Identificador de creador\n",
    "print(isinstance(jorge, Empleado))"
   ]
  },
  {
   "cell_type": "code",
   "execution_count": 24,
   "metadata": {
    "collapsed": false
   },
   "outputs": [
    {
     "name": "stdout",
     "output_type": "stream",
     "text": [
      "Clase para definir a un empleado\n",
      "Help on Empleado in module __main__ object:\n",
      "\n",
      "class Empleado(builtins.object)\n",
      " |  Clase para definir a un empleado\n",
      " |  \n",
      " |  Methods defined here:\n",
      " |  \n",
      " |  __init__(self, nombre, email)\n",
      " |      Initialize self.  See help(type(self)) for accurate signature.\n",
      " |  \n",
      " |  ----------------------------------------------------------------------\n",
      " |  Data descriptors defined here:\n",
      " |  \n",
      " |  __dict__\n",
      " |      dictionary for instance variables (if defined)\n",
      " |  \n",
      " |  __weakref__\n",
      " |      list of weak references to the object (if defined)\n",
      "\n",
      "Help on class Empleado in module __main__:\n",
      "\n",
      "class Empleado(builtins.object)\n",
      " |  Clase para definir a un empleado\n",
      " |  \n",
      " |  Methods defined here:\n",
      " |  \n",
      " |  __init__(self, nombre, email)\n",
      " |      Initialize self.  See help(type(self)) for accurate signature.\n",
      " |  \n",
      " |  ----------------------------------------------------------------------\n",
      " |  Data descriptors defined here:\n",
      " |  \n",
      " |  __dict__\n",
      " |      dictionary for instance variables (if defined)\n",
      " |  \n",
      " |  __weakref__\n",
      " |      list of weak references to the object (if defined)\n",
      "\n"
     ]
    }
   ],
   "source": [
    "# Acceso a docstring\n",
    "print(Empleado.__doc__)\n",
    "\n",
    "help(jorge)\n",
    "help(Empleado)"
   ]
  },
  {
   "cell_type": "markdown",
   "metadata": {},
   "source": [
    "El módulo [inspect](https://docs.python.org/3/library/inspect.html) también se puede usar para acceder a las interioridades de un objeto"
   ]
  },
  {
   "cell_type": "code",
   "execution_count": 29,
   "metadata": {
    "collapsed": false
   },
   "outputs": [
    {
     "name": "stdout",
     "output_type": "stream",
     "text": [
      "Clase para definir a un empleado\n",
      "[('__class__', <class '__main__.Empleado'>), ('__delattr__', <method-wrapper '__delattr__' of Empleado object at 0x7f758826cc88>), ('__dict__', {'listo': 'Más que las monas', 'nombre': 'Jorge', 'email': 'jorge@mail.com', 'guapo': 'Por supuesto'}), ('__dir__', <built-in method __dir__ of Empleado object at 0x7f758826cc88>), ('__doc__', 'Clase para definir a un empleado'), ('__eq__', <method-wrapper '__eq__' of Empleado object at 0x7f758826cc88>), ('__format__', <built-in method __format__ of Empleado object at 0x7f758826cc88>), ('__ge__', <method-wrapper '__ge__' of Empleado object at 0x7f758826cc88>), ('__getattribute__', <method-wrapper '__getattribute__' of Empleado object at 0x7f758826cc88>), ('__gt__', <method-wrapper '__gt__' of Empleado object at 0x7f758826cc88>), ('__hash__', <method-wrapper '__hash__' of Empleado object at 0x7f758826cc88>), ('__init__', <bound method Empleado.__init__ of <__main__.Empleado object at 0x7f758826cc88>>), ('__le__', <method-wrapper '__le__' of Empleado object at 0x7f758826cc88>), ('__lt__', <method-wrapper '__lt__' of Empleado object at 0x7f758826cc88>), ('__module__', '__main__'), ('__ne__', <method-wrapper '__ne__' of Empleado object at 0x7f758826cc88>), ('__new__', <built-in method __new__ of type object at 0xa389c0>), ('__reduce__', <built-in method __reduce__ of Empleado object at 0x7f758826cc88>), ('__reduce_ex__', <built-in method __reduce_ex__ of Empleado object at 0x7f758826cc88>), ('__repr__', <method-wrapper '__repr__' of Empleado object at 0x7f758826cc88>), ('__setattr__', <method-wrapper '__setattr__' of Empleado object at 0x7f758826cc88>), ('__sizeof__', <built-in method __sizeof__ of Empleado object at 0x7f758826cc88>), ('__str__', <method-wrapper '__str__' of Empleado object at 0x7f758826cc88>), ('__subclasshook__', <built-in method __subclasshook__ of type object at 0x173d2b8>), ('__weakref__', None), ('email', 'jorge@mail.com'), ('guapo', 'Por supuesto'), ('listo', 'Más que las monas'), ('nombre', 'Jorge')]\n"
     ]
    }
   ],
   "source": [
    "import inspect\n",
    "\n",
    "print(inspect.getdoc(Empleado))\n",
    "print(inspect.getmembers(jorge))\n"
   ]
  },
  {
   "cell_type": "markdown",
   "metadata": {},
   "source": [
    "Incluso podemos obtener el código"
   ]
  },
  {
   "cell_type": "code",
   "execution_count": 37,
   "metadata": {
    "collapsed": false
   },
   "outputs": [
    {
     "name": "stdout",
     "output_type": "stream",
     "text": [
      "    def getNombre(self):\n",
      "        return self.nombre\n",
      "\n"
     ]
    }
   ],
   "source": [
    "import inspect\n",
    "\n",
    "print(inspect.getsource(Empleado.getNombre))"
   ]
  },
  {
   "cell_type": "markdown",
   "metadata": {},
   "source": [
    "## ¿Y para qué me vale esto?"
   ]
  },
  {
   "cell_type": "markdown",
   "metadata": {},
   "source": [
    "La metaprogamación es especialmente útil cuando:\n",
    "\n",
    "* Construyes herramientas para otros programadores (ej: un IDE)\n",
    "* Quieres aprender cómo funciona realmente el lenguaje por dentro... y manipularlo\n",
    "* ...\n",
    "\n",
    "Es posible que estos argumentos no te parezcan suficientes. No hay problema. [Tim Peters](http://c2.com/cgi/wiki?TimPeters) dijo esto acerca de las metaclases (uno de los componentes fundamentales de la metaprogramación):\n",
    "\n",
    "_[Metaclasses] are deeper magic than 99% of\n",
    "users should ever worry about. If you\n",
    "wonder whether you need them, you\n",
    "don't (the people who actually need them\n",
    "know with certainty that they need them,\n",
    "and don't need an explanation about why)._\n",
    "\n",
    "Así que, si no te ha surgido la necesidad de usar metaprogramación, no te preocupes ;-). Nosotros, al menos, vamos a ver un ejemplo de uso"
   ]
  },
  {
   "cell_type": "markdown",
   "metadata": {},
   "source": [
    "## Caso de uso: depuración de código\n",
    "\n",
    "¿Cómo depuramos nuestro código? Una primera aproximación (pobre) es... usando print"
   ]
  },
  {
   "cell_type": "code",
   "execution_count": 2,
   "metadata": {
    "collapsed": false
   },
   "outputs": [
    {
     "name": "stdout",
     "output_type": "stream",
     "text": [
      "Dentro de la función add\n"
     ]
    },
    {
     "data": {
      "text/plain": [
       "4"
      ]
     },
     "execution_count": 2,
     "metadata": {},
     "output_type": "execute_result"
    }
   ],
   "source": [
    "# Así es como depuran los muggles\n",
    "def add(x, y):\n",
    "    \"\"\"\n",
    "        Función que suma dos números\n",
    "    \"\"\"\n",
    "    print('Dentro de la función add')\n",
    "    return x + y\n",
    "\n",
    "add(2, 2)"
   ]
  },
  {
   "cell_type": "markdown",
   "metadata": {},
   "source": [
    "Precioso. ¿Y si tenemos más funciones?"
   ]
  },
  {
   "cell_type": "code",
   "execution_count": 3,
   "metadata": {
    "collapsed": false
   },
   "outputs": [
    {
     "name": "stdout",
     "output_type": "stream",
     "text": [
      "add\n",
      "sub\n",
      "mul\n",
      "div\n"
     ]
    },
    {
     "data": {
      "text/plain": [
       "8.0"
      ]
     },
     "execution_count": 3,
     "metadata": {},
     "output_type": "execute_result"
    }
   ],
   "source": [
    "# La cosa se complica...\n",
    "def add(x, y):\n",
    "    \"\"\"\n",
    "        Función que suma dos números\n",
    "    \"\"\"\n",
    "    print('add')\n",
    "    return x + y\n",
    "\n",
    "def sub(x, y):\n",
    "    print('sub')\n",
    "    return x - y\n",
    "\n",
    "def mul(x, y):\n",
    "    print('mul')\n",
    "    return x * y\n",
    "\n",
    "def div(x, y):\n",
    "    print('div')\n",
    "    return x / y\n",
    "\n",
    "add(2, 2)\n",
    "sub(8, 3)\n",
    "mul(5,6)\n",
    "div(16, 2)"
   ]
  },
  {
   "cell_type": "markdown",
   "metadata": {},
   "source": [
    "Esto no es nada cómodo. Nos gustaría poder crear un *depurador* como elemento externo, y aplicarle ese elemento a todas las funciones que nos interese. Estamos hablando de los [decorators](https://wiki.python.org/moin/PythonDecorators)"
   ]
  },
  {
   "cell_type": "markdown",
   "metadata": {},
   "source": [
    "<div class=\"alert alert-info\">Los decorators no deberían ser algo ajeno para ti. Los vimos en la clase de orientación a objetos</div>"
   ]
  },
  {
   "cell_type": "markdown",
   "metadata": {},
   "source": [
    "### Decoradores\n",
    "\n",
    "Un decorador es una función que actúa como _wrapper_ de otra. El _wrapper_ actúa como la función original pero añade comportamiento adicional. En nuestro caso, lo que queremos es que añada información de debug"
   ]
  },
  {
   "cell_type": "code",
   "execution_count": 5,
   "metadata": {
    "collapsed": true
   },
   "outputs": [],
   "source": [
    "# Escribimos un decorador\n",
    "def debug(func):\n",
    "    \n",
    "    # Ojo, que qualname vino en la 3.3: https://www.python.org/dev/peps/pep-3155/\n",
    "    msg = func.__qualname__\n",
    "    def wrapper(*args, **kwargs):\n",
    "        print(msg)\n",
    "        return func(*args, **kwargs)\n",
    "    return wrapper"
   ]
  },
  {
   "cell_type": "markdown",
   "metadata": {},
   "source": [
    "Hecho eso, podemos aplicar nuestro decorador así"
   ]
  },
  {
   "cell_type": "code",
   "execution_count": 6,
   "metadata": {
    "collapsed": false
   },
   "outputs": [
    {
     "name": "stdout",
     "output_type": "stream",
     "text": [
      "add\n"
     ]
    },
    {
     "data": {
      "text/plain": [
       "4"
      ]
     },
     "execution_count": 6,
     "metadata": {},
     "output_type": "execute_result"
    }
   ],
   "source": [
    "# Aplicamos nuesto decorador a la función add\n",
    "def add(x, y):\n",
    "    \"\"\"\n",
    "        Función que suma dos números\n",
    "    \"\"\"\n",
    "    return x + y\n",
    "\n",
    "# Y llamamos a nuestra función add decorada\n",
    "debug(add)(2,2)"
   ]
  },
  {
   "cell_type": "markdown",
   "metadata": {},
   "source": [
    "Pero como esa manera de aplicar el decorador es bastante fea, utilizamos esta otra sintáxis"
   ]
  },
  {
   "cell_type": "code",
   "execution_count": 43,
   "metadata": {
    "collapsed": false
   },
   "outputs": [
    {
     "name": "stdout",
     "output_type": "stream",
     "text": [
      "add\n"
     ]
    },
    {
     "data": {
      "text/plain": [
       "4"
      ]
     },
     "execution_count": 43,
     "metadata": {},
     "output_type": "execute_result"
    }
   ],
   "source": [
    "# Mejor usar esta sintáxis\n",
    "@debug\n",
    "def add(x, y):\n",
    "    \"\"\"\n",
    "        Función que suma dos números\n",
    "    \"\"\"\n",
    "    return x + y\n",
    "\n",
    "add(2, 2)"
   ]
  },
  {
   "cell_type": "markdown",
   "metadata": {},
   "source": [
    "Vale, pero ahora tenemos otro problema. ¿Qué pasa si yo quiero obtener ayuda acerca de la función *add*, para saber lo que hace?"
   ]
  },
  {
   "cell_type": "code",
   "execution_count": 45,
   "metadata": {
    "collapsed": false
   },
   "outputs": [
    {
     "name": "stdout",
     "output_type": "stream",
     "text": [
      "Help on function wrapper in module __main__:\n",
      "\n",
      "wrapper(*args, **kwargs)\n",
      "\n"
     ]
    }
   ],
   "source": [
    "# ¿Qué hace add?\n",
    "help(add)"
   ]
  },
  {
   "cell_type": "markdown",
   "metadata": {},
   "source": [
    "Ups. Estamos obteniendo información sobre la función *wrapper*, que es quien se está haciendo cargo ahora de la función *add*. "
   ]
  },
  {
   "cell_type": "code",
   "execution_count": 46,
   "metadata": {
    "collapsed": false
   },
   "outputs": [
    {
     "data": {
      "text/plain": [
       "'wrapper'"
      ]
     },
     "execution_count": 46,
     "metadata": {},
     "output_type": "execute_result"
    }
   ],
   "source": [
    "# Comprobación\n",
    "add.__name__"
   ]
  },
  {
   "cell_type": "markdown",
   "metadata": {},
   "source": [
    "Para arreglar esto, el módulo *functools*, que vimos en el tema anterior, proporciona un decorador especial: [wraps](https://docs.python.org/3.5/library/functools.html#functools.wraps). Sirve, precisamente, para copiar la información de la función contenida al contenedor. Lo usamos así"
   ]
  },
  {
   "cell_type": "code",
   "execution_count": 47,
   "metadata": {
    "collapsed": true
   },
   "outputs": [],
   "source": [
    "from functools import wraps\n",
    "\n",
    "def debug(func):\n",
    "    msg = func.__qualname__\n",
    "    @wraps(func)\n",
    "    def wrapper(*args, **kwargs):\n",
    "        print(msg)\n",
    "        return func(*args, **kwargs)\n",
    "    return wrapper"
   ]
  },
  {
   "cell_type": "markdown",
   "metadata": {},
   "source": [
    "Vamos ahora a redefinir nuestras funciones, aplicando el _wrapper_"
   ]
  },
  {
   "cell_type": "code",
   "execution_count": 52,
   "metadata": {
    "collapsed": false
   },
   "outputs": [
    {
     "name": "stdout",
     "output_type": "stream",
     "text": [
      "add\n",
      "sub\n",
      "mul\n",
      "div\n",
      "Help on function add in module __main__:\n",
      "\n",
      "add(x, y)\n",
      "    Función que suma dos números\n",
      "\n"
     ]
    }
   ],
   "source": [
    "@debug\n",
    "def add(x, y):\n",
    "    \"\"\"\n",
    "        Función que suma dos números\n",
    "    \"\"\"\n",
    "    return x + y\n",
    "@debug\n",
    "def sub(x, y):\n",
    "    return x - y\n",
    "@debug\n",
    "def mul(x, y):\n",
    "    return x * y\n",
    "@debug\n",
    "def div(x, y):\n",
    "    return x / y\n",
    "\n",
    "add(2, 2)\n",
    "sub(8, 3)\n",
    "mul(5,6)\n",
    "div(16, 2)\n",
    "\n",
    "help(add)"
   ]
  },
  {
   "cell_type": "markdown",
   "metadata": {},
   "source": [
    "Por cierto, si quisiéramos *deshacer* el wrapper, aun podemos llamar a la función original:"
   ]
  },
  {
   "cell_type": "code",
   "execution_count": 51,
   "metadata": {
    "collapsed": false
   },
   "outputs": [
    {
     "data": {
      "text/plain": [
       "7"
      ]
     },
     "execution_count": 51,
     "metadata": {},
     "output_type": "execute_result"
    }
   ],
   "source": [
    "# Accediendo al método sin decorar\n",
    "original_add = add.__wrapped__\n",
    "original_add(3, 4)"
   ]
  },
  {
   "cell_type": "markdown",
   "metadata": {},
   "source": [
    "Con este cambio:\n",
    "\n",
    "* Hemos accedido a la firma de una función (su nombre) para sacar información por pantalla (reflexión)\n",
    "* Hemos aislado el código de debug en una función aparte, que puede ser aplicada a otras (separación de responsabilidades)\n",
    "* Hemos copiado la información relevante de la función contenida a la función contenedora, con wraps\n",
    "\n",
    "Eso hace feliz a Guido\n",
    "\n",
    "<img src=\"https://www.soldierx.com/system/files/hdb/guido-van-rossum.jpg\">"
   ]
  },
  {
   "cell_type": "markdown",
   "metadata": {},
   "source": [
    "Una posible mejora sería utilizar el módulo de logger, que funciona de una manera muy similar al de Java"
   ]
  },
  {
   "cell_type": "code",
   "execution_count": 8,
   "metadata": {
    "collapsed": false
   },
   "outputs": [],
   "source": [
    "from functools import wraps\n",
    "import logging\n",
    "\n",
    "def debug(func):\n",
    "    log = logging.getLogger(func.__module__)\n",
    "    msg = func.__qualname__\n",
    "    @wraps(func)\n",
    "    def wrapper(*args, **kwargs):\n",
    "        log.debug(msg)\n",
    "        return func(*args, **kwargs)\n",
    "    return wrapper"
   ]
  },
  {
   "cell_type": "markdown",
   "metadata": {},
   "source": [
    "Otra adicional sería desactivar el mensaje de DEBUG usando una variable de entorno"
   ]
  },
  {
   "cell_type": "code",
   "execution_count": 10,
   "metadata": {
    "collapsed": true
   },
   "outputs": [],
   "source": [
    "from functools import wraps\n",
    "import logging\n",
    "import os\n",
    "\n",
    "def debug(func):\n",
    "    if 'DEBUG' not in os.environ:\n",
    "        return func\n",
    "    log = logging.getLogger(func.__module__)\n",
    "    msg = func.__qualname__\n",
    "    @wraps(func)\n",
    "    def wrapper(*args, **kwargs):\n",
    "        log.debug(msg)\n",
    "        return func(*args, **kwargs)\n",
    "    return wrapper"
   ]
  },
  {
   "cell_type": "markdown",
   "metadata": {},
   "source": [
    "Imaginemos ahora que queremos añadir un prefijo a todos nuestros mensajes de depuración, y que ese prefijo sea dinámico. De otra forma: __queremos que nuestro decorador acepte parámetros__. Es decir, queremos hacer una llamada de este tipo (supongamos que queremos añadir un prefijo delante del mensaje decorado):\n",
    "\n",
    "```python\n",
    "debugargs(prefix=\"\", add)(2, 2)```\n",
    "\n",
    "Pero, por desgracia, un decorador solo acepta un parámetro: la función a decorar. ¿Cómo lo hacemos?"
   ]
  },
  {
   "cell_type": "markdown",
   "metadata": {},
   "source": [
    "Debemos modificar ligeramente la llamada. Esto sí que se puede hacer:\n",
    "\n",
    "```python\n",
    "debugargs(prefix=\"\")(add)(2, 2)```\n",
    "\n",
    "¿No lo ves claro? Pongámoslo en dos pasos\n",
    "\n",
    "\n",
    "```python\n",
    "debug = debugargs(prefix=\"\") # Esto es una llamada a una funcion que devuelve un decorador\n",
    "debug(add)(2, 2) # Esta linea es igual que antes```\n",
    "\n",
    "Vamos a traducirlo en palabras: __tenemos que crear una función que reciba un argumento (el prefijo). Esta función, a su vez, llamará al decorador. El decorador hará lo que tenga que hacer (mostrar un mensaje por pantalla) y luego llamará a la función original__. Son __3 niveles de profundidad__.\n",
    "\n",
    "Vamos a escribirlo en código"
   ]
  },
  {
   "cell_type": "code",
   "execution_count": 4,
   "metadata": {
    "collapsed": true
   },
   "outputs": [],
   "source": [
    "import functools\n",
    "\n",
    "def debugargs(prefix=''):\n",
    "    '''\n",
    "    Un decorador que acepta argumentos\n",
    "    '''\n",
    "    def debug(func):\n",
    "        '''\n",
    "        El decorador en si\n",
    "        '''\n",
    "        msg = prefix + func.__qualname__\n",
    "        @functools.wraps(func)\n",
    "        def wrapper(*args, **kwargs):\n",
    "            print(msg)\n",
    "            return func(*args, **kwargs)\n",
    "        return wrapper\n",
    "    return debug"
   ]
  },
  {
   "cell_type": "code",
   "execution_count": 5,
   "metadata": {
    "collapsed": false
   },
   "outputs": [
    {
     "name": "stdout",
     "output_type": "stream",
     "text": [
      "------add\n",
      "------sub\n",
      "------mul\n",
      "------div\n"
     ]
    },
    {
     "data": {
      "text/plain": [
       "8.0"
      ]
     },
     "execution_count": 5,
     "metadata": {},
     "output_type": "execute_result"
    }
   ],
   "source": [
    "@debugargs(prefix=\"------\")\n",
    "def add(x, y):\n",
    "    return x + y\n",
    "@debugargs(prefix=\"------\")\n",
    "def sub(x, y):\n",
    "    return x - y\n",
    "@debugargs(prefix=\"------\")\n",
    "def mul(x, y):\n",
    "    return x * y\n",
    "@debugargs(prefix=\"------\")\n",
    "def div(x, y):\n",
    "    return x / y\n",
    "\n",
    "\n",
    "add(2, 2)\n",
    "sub(8, 3)\n",
    "mul(5,6)\n",
    "div(16, 2)"
   ]
  },
  {
   "cell_type": "markdown",
   "metadata": {},
   "source": [
    "Vale, eso está muy bien, pero ahora tengo dos wrappers: uno sin argumentos, y otro con argumentos. A mí lo que me gustaría es poder llamar al mismo, y decidir si quiero pasarle argumento o no.\n",
    "\n",
    "Como ya conozco la programación funcional, puedo usar una de sus herramientas más poderosas en Python. La función [partial](https://docs.python.org/3/library/functools.html#functools.partial). Nos va a servir para ahorrarnos un nivel de profundidad, y para que nos explote el cerebro también."
   ]
  },
  {
   "cell_type": "code",
   "execution_count": 15,
   "metadata": {
    "collapsed": true
   },
   "outputs": [],
   "source": [
    "import functools\n",
    "\n",
    "def debug(func=None, prefix=''):\n",
    "    '''\n",
    "    Decorador que permite llamada tanto sin argumentos como con ellos\n",
    "    '''\n",
    "    if func is None:\n",
    "        # Si la llamada se ha hecho sin método, es la llamada con atributos, de manera que devolvemos\n",
    "        # una llamada al decorador, con un valor ya prefijado para prefix\n",
    "        return functools.partial(debug, prefix=prefix)\n",
    "    \n",
    "    msg = prefix + func.__qualname__\n",
    "    @functools.wraps(func)\n",
    "    def wrapper(*args, **kwargs):\n",
    "        print(msg)\n",
    "        return func(*args, **kwargs)\n",
    "    return wrapper"
   ]
  },
  {
   "cell_type": "markdown",
   "metadata": {},
   "source": [
    "Ahora puedo llamar a debug sin argumentos, o con un argumento opcional"
   ]
  },
  {
   "cell_type": "code",
   "execution_count": 16,
   "metadata": {
    "collapsed": false
   },
   "outputs": [
    {
     "name": "stdout",
     "output_type": "stream",
     "text": [
      "++++++++add\n",
      "sub\n",
      "********mul\n",
      "div\n"
     ]
    },
    {
     "data": {
      "text/plain": [
       "8.0"
      ]
     },
     "execution_count": 16,
     "metadata": {},
     "output_type": "execute_result"
    }
   ],
   "source": [
    "@debug(prefix=\"++++++++\")\n",
    "def add(x, y):\n",
    "    return x + y\n",
    "@debug\n",
    "def sub(x, y):\n",
    "    return x - y\n",
    "@debug(prefix=\"********\")\n",
    "def mul(x, y):\n",
    "    return x * y\n",
    "@debug\n",
    "def div(x, y):\n",
    "    return x / y\n",
    "\n",
    "\n",
    "add(2, 2)\n",
    "sub(8, 3)\n",
    "mul(5,6)\n",
    "div(16, 2)"
   ]
  },
  {
   "cell_type": "markdown",
   "metadata": {},
   "source": [
    "Eso también hace feliz a Guido...\n",
    "\n",
    "<img src=\"https://www.soldierx.com/system/files/hdb/guido-van-rossum.jpg\">"
   ]
  },
  {
   "cell_type": "markdown",
   "metadata": {},
   "source": [
    "Vayamos un poco más lejos... ¿Qué pasa si quiero decorar todos los métodos de una clase? En vez de decorar método a método, podemos decorar la clase, de manera que apliquemos el decorador *debug* a todos sus métodos"
   ]
  },
  {
   "cell_type": "code",
   "execution_count": 22,
   "metadata": {
    "collapsed": false
   },
   "outputs": [
    {
     "name": "stdout",
     "output_type": "stream",
     "text": [
      "MiClase.__init__\n",
      "MiClase.foo\n",
      "MiClase.bar\n"
     ]
    }
   ],
   "source": [
    "# Decorando los métodos de una clase\n",
    "def debugmethods(cls):\n",
    "    for name, val in vars(cls).items():\n",
    "        if callable(val):\n",
    "            setattr(cls, name, debug(val)) # Aqui estamos aplicando el decorador debug anterior\n",
    "    return cls\n",
    "\n",
    "@debugmethods\n",
    "class MiClase:\n",
    "    def __init__(self, x, y):\n",
    "        self.x = x\n",
    "        self.y = y\n",
    "        \n",
    "    def foo(self):\n",
    "        pass\n",
    "    \n",
    "    def bar(self):\n",
    "        pass\n",
    "    \n",
    "    \n",
    "c = MiClase(2, 3)\n",
    "c.foo()\n",
    "c.bar()\n"
   ]
  },
  {
   "cell_type": "markdown",
   "metadata": {},
   "source": [
    "También podríamos añadir un decorador a los atributos, cada vez que los obtenemos..."
   ]
  },
  {
   "cell_type": "code",
   "execution_count": 26,
   "metadata": {
    "collapsed": false
   },
   "outputs": [
    {
     "name": "stdout",
     "output_type": "stream",
     "text": [
      "Punto.__init__\n",
      "Get: x\n",
      "2\n",
      "Get: y\n",
      "3\n"
     ]
    }
   ],
   "source": [
    "# Decorador para los atributos de una clase\n",
    "def debugattr(cls):\n",
    "    orig_getattribute = cls.__getattribute__\n",
    "\n",
    "    def __getattribute__(self, name):\n",
    "        print('Get:', name)\n",
    "        return orig_getattribute(self, name)\n",
    "\n",
    "    cls.__getattribute__ = __getattribute__\n",
    "\n",
    "    return cls\n",
    "\n",
    "\n",
    "# Decorando la clase con dos decoradores a la vez\n",
    "@debugattr\n",
    "@debugmethods\n",
    "class Punto:\n",
    "    def __init__(self, x, y):\n",
    "        self.x = x\n",
    "        self.y = y\n",
    "        \n",
    "p = Punto(2, 3)\n",
    "\n",
    "print(p.x)\n",
    "print(p.y)"
   ]
  },
  {
   "cell_type": "markdown",
   "metadata": {},
   "source": [
    "Guido no puede ser más feliz..."
   ]
  },
  {
   "cell_type": "markdown",
   "metadata": {},
   "source": [
    "<div class=\"row\"><div class=\"col-md-6\"><img src=\"https://www.soldierx.com/system/files/hdb/guido-van-rossum.jpg\"></div><div class=\"col-md-6\">\n",
    "<img src=\"https://www.soldierx.com/system/files/hdb/guido-van-rossum.jpg\"></div></div>"
   ]
  },
  {
   "cell_type": "markdown",
   "metadata": {},
   "source": [
    "Ahora, cualquier clase puede ser decorada. Pero podemos hacerlo mejor. __DEBEMOS__ hacerlo mejor, para acercarnos al nirvana Pythoniano..."
   ]
  },
  {
   "cell_type": "markdown",
   "metadata": {},
   "source": [
    "Estamos hablando, por supuesto, de las __metaclases__"
   ]
  },
  {
   "cell_type": "markdown",
   "metadata": {},
   "source": [
    "### Metaclases\n",
    "\n",
    "Todo en Python es un objeto. Eso incluye a las __clases__. Y al igual que una clase sirve para definir el comportamiento que va a tener un objeto, una *metaclase* sirve para definir el comportamiento que va a tener una clase.\n",
    "\n",
    "Si no se especifica lo contrario, la metaclase asociada a toda clase creada en Python es *type*. Pero nada nos impide escribir nuestra propia metaclase que herede de *type*, e incluir el comportamiento que nos interese. \n",
    "\n",
    "Veamos un ejemplo"
   ]
  },
  {
   "cell_type": "code",
   "execution_count": 46,
   "metadata": {
    "collapsed": false
   },
   "outputs": [
    {
     "name": "stdout",
     "output_type": "stream",
     "text": [
      "MiClase.__init__\n",
      "MiClase.foo\n",
      "MiClase.bar\n"
     ]
    }
   ],
   "source": [
    "# Creando una metaclase\n",
    "class debugmeta(type):\n",
    "    def __new__(cls, clsname, bases, clsdict):\n",
    "        clsobj = super().__new__(cls, clsname, bases, clsdict) # Clase creada\n",
    "        clsobj = debugmethods(clsobj) # Añadimos un wrapper de clase\n",
    "        return clsobj\n",
    "    \n",
    "# Usando la metaclase.\n",
    "class MiClase(metaclass=debugmeta):\n",
    "    \n",
    "    def __init__(self, x, y):\n",
    "        self.x = x\n",
    "        self.y = y\n",
    "        \n",
    "    def foo(self):\n",
    "        pass\n",
    "    \n",
    "    def bar(self):\n",
    "        pass\n",
    "    \n",
    "c = MiClase(2, 3)\n",
    "c.foo()\n",
    "c.bar()"
   ]
  },
  {
   "cell_type": "markdown",
   "metadata": {},
   "source": [
    "<div class=\"row\"><div class=\"col-md-4\"><img src=\"https://www.soldierx.com/system/files/hdb/guido-van-rossum.jpg\"></div><div class=\"col-md-4\">\n",
    "<img src=\"https://www.soldierx.com/system/files/hdb/guido-van-rossum.jpg\"></div><div class=\"col-md-4\">\n",
    "<img src=\"https://www.soldierx.com/system/files/hdb/guido-van-rossum.jpg\"></div></div>"
   ]
  },
  {
   "cell_type": "markdown",
   "metadata": {},
   "source": [
    "## Descriptores\n",
    "\n",
    "En el tema 2, vimos que existía la posibilidad de convertir atributos de una clase en métodos, mediante el decorador *@property*. También era posible crear *setters* y *deleters*. Recuperamos uno de los ejemplos"
   ]
  },
  {
   "cell_type": "code",
   "execution_count": 54,
   "metadata": {
    "collapsed": false
   },
   "outputs": [
    {
     "name": "stdout",
     "output_type": "stream",
     "text": [
      "Paco\n",
      "No puedes entrar a la discoteca, eres menor de edad\n",
      "Jorge es una bestia sexy\n"
     ]
    }
   ],
   "source": [
    "# Aquí haremos algunas validaciones dentro de nuestros métodos get/set\n",
    "class Person:\n",
    "    def __init__(self, name, edad=18):\n",
    "        self.__name = name\n",
    "        self.edad = edad\n",
    "        \n",
    "    @property\n",
    "    def name(self):\n",
    "        return \"{} es una bestia sexy\".format(self.__name) if self.__name == \"Jorge\" else self.__name\n",
    "    \n",
    "    @name.setter\n",
    "    def name(self, value):\n",
    "        self.__name = value\n",
    "        \n",
    "    @property\n",
    "    def edad(self):\n",
    "        return self.__edad\n",
    "    \n",
    "    @edad.setter\n",
    "    def edad(self, value):\n",
    "        if value > 17:\n",
    "            self.__edad = value\n",
    "        else:\n",
    "            print(\"No puedes entrar a la discoteca, eres menor de edad\")\n",
    "        \n",
    "        \n",
    "p = Person('Paco')\n",
    "print(p.name)\n",
    "\n",
    "p.edad = 15\n",
    "\n",
    "p.name = 'Jorge'\n",
    "print(p.name)"
   ]
  },
  {
   "cell_type": "markdown",
   "metadata": {},
   "source": [
    "La sintáxis es bastante fea, además de que es fácil equivocarse y acabar entrando en un bucle recursivo. La metaprogramación nos da una manera más elegante de obtener lo mismo, mediante el uso de descriptores. Son una manera de *empaquetar* las 3 operaciones básicas que se pueden realizar con un atributo: *get*, *set*, *delete*. \n",
    "\n",
    "Lo vemos en el ejemplo"
   ]
  },
  {
   "cell_type": "code",
   "execution_count": 59,
   "metadata": {
    "collapsed": false
   },
   "outputs": [
    {
     "name": "stdout",
     "output_type": "stream",
     "text": [
      "21\n",
      "Jorge\n"
     ]
    },
    {
     "ename": "AttributeError",
     "evalue": "Can't delete",
     "output_type": "error",
     "traceback": [
      "\u001b[1;31m---------------------------------------------------------------------------\u001b[0m",
      "\u001b[1;31mAttributeError\u001b[0m                            Traceback (most recent call last)",
      "\u001b[1;32m<ipython-input-59-dc8be02aa431>\u001b[0m in \u001b[0;36m<module>\u001b[1;34m()\u001b[0m\n\u001b[0;32m     28\u001b[0m \u001b[0mprint\u001b[0m\u001b[1;33m(\u001b[0m\u001b[0mp\u001b[0m\u001b[1;33m.\u001b[0m\u001b[0mname\u001b[0m\u001b[1;33m)\u001b[0m\u001b[1;33m\u001b[0m\u001b[0m\n\u001b[0;32m     29\u001b[0m \u001b[1;33m\u001b[0m\u001b[0m\n\u001b[1;32m---> 30\u001b[1;33m \u001b[1;32mdel\u001b[0m\u001b[1;33m(\u001b[0m\u001b[0mp\u001b[0m\u001b[1;33m.\u001b[0m\u001b[0mname\u001b[0m\u001b[1;33m)\u001b[0m\u001b[1;33m\u001b[0m\u001b[0m\n\u001b[0m",
      "\u001b[1;32m<ipython-input-59-dc8be02aa431>\u001b[0m in \u001b[0;36m__delete__\u001b[1;34m(self, instance)\u001b[0m\n\u001b[0;32m      9\u001b[0m   \u001b[1;31m# No dejamos borrar ningún campo\u001b[0m\u001b[1;33m\u001b[0m\u001b[1;33m\u001b[0m\u001b[0m\n\u001b[0;32m     10\u001b[0m   \u001b[1;32mdef\u001b[0m \u001b[0m__delete__\u001b[0m\u001b[1;33m(\u001b[0m\u001b[0mself\u001b[0m\u001b[1;33m,\u001b[0m \u001b[0minstance\u001b[0m\u001b[1;33m)\u001b[0m\u001b[1;33m:\u001b[0m\u001b[1;33m\u001b[0m\u001b[0m\n\u001b[1;32m---> 11\u001b[1;33m     \u001b[1;32mraise\u001b[0m \u001b[0mAttributeError\u001b[0m\u001b[1;33m(\u001b[0m\u001b[1;34m\"Can't delete\"\u001b[0m\u001b[1;33m)\u001b[0m\u001b[1;33m\u001b[0m\u001b[0m\n\u001b[0m\u001b[0;32m     12\u001b[0m \u001b[1;33m\u001b[0m\u001b[0m\n\u001b[0;32m     13\u001b[0m \u001b[1;31m#Y lo aplicamos a nuestra clase\u001b[0m\u001b[1;33m\u001b[0m\u001b[1;33m\u001b[0m\u001b[0m\n",
      "\u001b[1;31mAttributeError\u001b[0m: Can't delete"
     ]
    }
   ],
   "source": [
    "# Creamos un descriptor\n",
    "class Descriptor:\n",
    "  # No nos hace falta get solo devolvería el valor\n",
    "  def __init__(self, name=None):\n",
    "    self.name = name\n",
    "  def __set__(self, instance, value):\n",
    "    instance.__dict__[self.name] = value\n",
    "\n",
    "  # No dejamos borrar ningún campo\n",
    "  def __delete__(self, instance):\n",
    "    raise AttributeError(\"Can't delete\")\n",
    "    \n",
    "#Y lo aplicamos a nuestra clase\n",
    "class Persona:\n",
    "    def __init__(self, name, edad=18):\n",
    "        self.name = name\n",
    "        self.edad = edad\n",
    "        \n",
    "    name = Descriptor('name')\n",
    "    edad = Descriptor('edad')\n",
    "    \n",
    "# Ahora llamamos a nuestra clase\n",
    "p = Persona('Paco')\n",
    "p.edad = 21\n",
    "p.name = 'Jorge'\n",
    "\n",
    "print(p.edad)\n",
    "print(p.name)\n",
    "\n",
    "del(p.name)"
   ]
  },
  {
   "cell_type": "markdown",
   "metadata": {},
   "source": [
    "Ya somos los *dueños del punto*, porque controlamos las asignaciones y borrados de atributos de una clase. Ahora podemos hacer dos tipos de comprobaciones:\n",
    "\n",
    "* Comprobación de tipos\n",
    "* Comprobación de valores"
   ]
  },
  {
   "cell_type": "markdown",
   "metadata": {},
   "source": [
    "### Comprobación de tipos\n",
    "\n",
    "Por ejemplo, así evitamos que intenten meternos texto o en un campo numérico, o viceversa"
   ]
  },
  {
   "cell_type": "code",
   "execution_count": 72,
   "metadata": {
    "collapsed": true
   },
   "outputs": [],
   "source": [
    "# Clases para la comprobación de tipos\n",
    "class Typed(Descriptor):\n",
    "    ty = object\n",
    "    def __set__(self, instance, value):\n",
    "        if not isinstance(value, self.ty):\n",
    "            raise TypeError('Expected {}'.format(self.ty))\n",
    "        super().__set__(instance, value)\n",
    "        \n",
    "class Integer(Typed):\n",
    "    ty = int\n",
    "    \n",
    "class String(Typed):\n",
    "    ty = str"
   ]
  },
  {
   "cell_type": "code",
   "execution_count": 73,
   "metadata": {
    "collapsed": false
   },
   "outputs": [
    {
     "name": "stdout",
     "output_type": "stream",
     "text": [
      "21\n",
      "Jorge\n"
     ]
    },
    {
     "ename": "TypeError",
     "evalue": "Expected <class 'int'>",
     "output_type": "error",
     "traceback": [
      "\u001b[1;31m---------------------------------------------------------------------------\u001b[0m",
      "\u001b[1;31mTypeError\u001b[0m                                 Traceback (most recent call last)",
      "\u001b[1;32m<ipython-input-73-69fd5c4407aa>\u001b[0m in \u001b[0;36m<module>\u001b[1;34m()\u001b[0m\n\u001b[0;32m     17\u001b[0m \u001b[1;33m\u001b[0m\u001b[0m\n\u001b[0;32m     18\u001b[0m \u001b[1;31m# Solo permitimos un entero\u001b[0m\u001b[1;33m\u001b[0m\u001b[1;33m\u001b[0m\u001b[0m\n\u001b[1;32m---> 19\u001b[1;33m \u001b[0mp\u001b[0m\u001b[1;33m.\u001b[0m\u001b[0medad\u001b[0m \u001b[1;33m=\u001b[0m \u001b[1;34m\"100 años\"\u001b[0m\u001b[1;33m\u001b[0m\u001b[0m\n\u001b[0m",
      "\u001b[1;32m<ipython-input-72-4768dbbbc26c>\u001b[0m in \u001b[0;36m__set__\u001b[1;34m(self, instance, value)\u001b[0m\n\u001b[0;32m      4\u001b[0m     \u001b[1;32mdef\u001b[0m \u001b[0m__set__\u001b[0m\u001b[1;33m(\u001b[0m\u001b[0mself\u001b[0m\u001b[1;33m,\u001b[0m \u001b[0minstance\u001b[0m\u001b[1;33m,\u001b[0m \u001b[0mvalue\u001b[0m\u001b[1;33m)\u001b[0m\u001b[1;33m:\u001b[0m\u001b[1;33m\u001b[0m\u001b[0m\n\u001b[0;32m      5\u001b[0m         \u001b[1;32mif\u001b[0m \u001b[1;32mnot\u001b[0m \u001b[0misinstance\u001b[0m\u001b[1;33m(\u001b[0m\u001b[0mvalue\u001b[0m\u001b[1;33m,\u001b[0m \u001b[0mself\u001b[0m\u001b[1;33m.\u001b[0m\u001b[0mty\u001b[0m\u001b[1;33m)\u001b[0m\u001b[1;33m:\u001b[0m\u001b[1;33m\u001b[0m\u001b[0m\n\u001b[1;32m----> 6\u001b[1;33m             \u001b[1;32mraise\u001b[0m \u001b[0mTypeError\u001b[0m\u001b[1;33m(\u001b[0m\u001b[1;34m'Expected {}'\u001b[0m\u001b[1;33m.\u001b[0m\u001b[0mformat\u001b[0m\u001b[1;33m(\u001b[0m\u001b[0mself\u001b[0m\u001b[1;33m.\u001b[0m\u001b[0mty\u001b[0m\u001b[1;33m)\u001b[0m\u001b[1;33m)\u001b[0m\u001b[1;33m\u001b[0m\u001b[0m\n\u001b[0m\u001b[0;32m      7\u001b[0m         \u001b[0msuper\u001b[0m\u001b[1;33m(\u001b[0m\u001b[1;33m)\u001b[0m\u001b[1;33m.\u001b[0m\u001b[0m__set__\u001b[0m\u001b[1;33m(\u001b[0m\u001b[0minstance\u001b[0m\u001b[1;33m,\u001b[0m \u001b[0mvalue\u001b[0m\u001b[1;33m)\u001b[0m\u001b[1;33m\u001b[0m\u001b[0m\n\u001b[0;32m      8\u001b[0m \u001b[1;33m\u001b[0m\u001b[0m\n",
      "\u001b[1;31mTypeError\u001b[0m: Expected <class 'int'>"
     ]
    }
   ],
   "source": [
    "#Y lo aplicamos a nuestra clase\n",
    "class Persona:\n",
    "    def __init__(self, name, edad=18):\n",
    "        self.name = name\n",
    "        self.edad = edad\n",
    "        \n",
    "    name = String('name')\n",
    "    edad = Integer('edad')\n",
    "    \n",
    "# Ahora llamamos a nuestra clase\n",
    "p = Persona('Paco')\n",
    "p.edad = 21\n",
    "p.name = 'Jorge'\n",
    "\n",
    "print(p.edad)\n",
    "print(p.name)\n",
    "\n",
    "# Solo permitimos un entero\n",
    "p.edad = \"100 años\""
   ]
  },
  {
   "cell_type": "markdown",
   "metadata": {},
   "source": [
    "La comprobación de tipos sería el nivel básico. Vamos a ver cómo haríamos una comprobación a otro nivel de abstracción. Por ejemplo, queremos evitar menores de edad"
   ]
  },
  {
   "cell_type": "markdown",
   "metadata": {},
   "source": [
    "### Comprobación de valores\n",
    "\n",
    "Añadamos la restricción de solo mayores de edad"
   ]
  },
  {
   "cell_type": "code",
   "execution_count": 69,
   "metadata": {
    "collapsed": false
   },
   "outputs": [],
   "source": [
    "class MayorDeEdad(Descriptor):\n",
    "    def __set__(self, instance, value):\n",
    "        if value < 18:\n",
    "            raise ValueError('Expected >= 18')\n",
    "        super().__set__(instance, value)\n",
    "        \n",
    "# Como hay herencia múltiple...\n",
    "class IntegerMayorDeEdad(Integer, MayorDeEdad):\n",
    "    pass"
   ]
  },
  {
   "cell_type": "code",
   "execution_count": 70,
   "metadata": {
    "collapsed": false
   },
   "outputs": [
    {
     "name": "stdout",
     "output_type": "stream",
     "text": [
      "21\n",
      "Jorge\n"
     ]
    },
    {
     "ename": "ValueError",
     "evalue": "Expected >= 18",
     "output_type": "error",
     "traceback": [
      "\u001b[1;31m---------------------------------------------------------------------------\u001b[0m",
      "\u001b[1;31mValueError\u001b[0m                                Traceback (most recent call last)",
      "\u001b[1;32m<ipython-input-70-f83dc47acc6d>\u001b[0m in \u001b[0;36m<module>\u001b[1;34m()\u001b[0m\n\u001b[0;32m     17\u001b[0m \u001b[1;33m\u001b[0m\u001b[0m\n\u001b[0;32m     18\u001b[0m \u001b[1;31m# Solo permitimos un entero y mayor de edad\u001b[0m\u001b[1;33m\u001b[0m\u001b[1;33m\u001b[0m\u001b[0m\n\u001b[1;32m---> 19\u001b[1;33m \u001b[0mp\u001b[0m\u001b[1;33m.\u001b[0m\u001b[0medad\u001b[0m \u001b[1;33m=\u001b[0m \u001b[1;36m12\u001b[0m\u001b[1;33m\u001b[0m\u001b[0m\n\u001b[0m",
      "\u001b[1;32m<ipython-input-60-dc8a583ae9ab>\u001b[0m in \u001b[0;36m__set__\u001b[1;34m(self, instance, value)\u001b[0m\n\u001b[0;32m      5\u001b[0m         \u001b[1;32mif\u001b[0m \u001b[1;32mnot\u001b[0m \u001b[0misinstance\u001b[0m\u001b[1;33m(\u001b[0m\u001b[0mvalue\u001b[0m\u001b[1;33m,\u001b[0m \u001b[0mself\u001b[0m\u001b[1;33m.\u001b[0m\u001b[0mty\u001b[0m\u001b[1;33m)\u001b[0m\u001b[1;33m:\u001b[0m\u001b[1;33m\u001b[0m\u001b[0m\n\u001b[0;32m      6\u001b[0m             \u001b[1;32mraise\u001b[0m \u001b[0mTypeError\u001b[0m\u001b[1;33m(\u001b[0m\u001b[1;34m'Expected %s'\u001b[0m \u001b[1;33m%\u001b[0m \u001b[0mself\u001b[0m\u001b[1;33m.\u001b[0m\u001b[0mty\u001b[0m\u001b[1;33m)\u001b[0m\u001b[1;33m\u001b[0m\u001b[0m\n\u001b[1;32m----> 7\u001b[1;33m         \u001b[0msuper\u001b[0m\u001b[1;33m(\u001b[0m\u001b[1;33m)\u001b[0m\u001b[1;33m.\u001b[0m\u001b[0m__set__\u001b[0m\u001b[1;33m(\u001b[0m\u001b[0minstance\u001b[0m\u001b[1;33m,\u001b[0m \u001b[0mvalue\u001b[0m\u001b[1;33m)\u001b[0m\u001b[1;33m\u001b[0m\u001b[0m\n\u001b[0m\u001b[0;32m      8\u001b[0m \u001b[1;33m\u001b[0m\u001b[0m\n\u001b[0;32m      9\u001b[0m \u001b[1;32mclass\u001b[0m \u001b[0mInteger\u001b[0m\u001b[1;33m(\u001b[0m\u001b[0mTyped\u001b[0m\u001b[1;33m)\u001b[0m\u001b[1;33m:\u001b[0m\u001b[1;33m\u001b[0m\u001b[0m\n",
      "\u001b[1;32m<ipython-input-69-042e8cbb188a>\u001b[0m in \u001b[0;36m__set__\u001b[1;34m(self, instance, value)\u001b[0m\n\u001b[0;32m      2\u001b[0m     \u001b[1;32mdef\u001b[0m \u001b[0m__set__\u001b[0m\u001b[1;33m(\u001b[0m\u001b[0mself\u001b[0m\u001b[1;33m,\u001b[0m \u001b[0minstance\u001b[0m\u001b[1;33m,\u001b[0m \u001b[0mvalue\u001b[0m\u001b[1;33m)\u001b[0m\u001b[1;33m:\u001b[0m\u001b[1;33m\u001b[0m\u001b[0m\n\u001b[0;32m      3\u001b[0m         \u001b[1;32mif\u001b[0m \u001b[0mvalue\u001b[0m \u001b[1;33m<\u001b[0m \u001b[1;36m18\u001b[0m\u001b[1;33m:\u001b[0m\u001b[1;33m\u001b[0m\u001b[0m\n\u001b[1;32m----> 4\u001b[1;33m             \u001b[1;32mraise\u001b[0m \u001b[0mValueError\u001b[0m\u001b[1;33m(\u001b[0m\u001b[1;34m'Expected >= 18'\u001b[0m\u001b[1;33m)\u001b[0m\u001b[1;33m\u001b[0m\u001b[0m\n\u001b[0m\u001b[0;32m      5\u001b[0m         \u001b[0msuper\u001b[0m\u001b[1;33m(\u001b[0m\u001b[1;33m)\u001b[0m\u001b[1;33m.\u001b[0m\u001b[0m__set__\u001b[0m\u001b[1;33m(\u001b[0m\u001b[0minstance\u001b[0m\u001b[1;33m,\u001b[0m \u001b[0mvalue\u001b[0m\u001b[1;33m)\u001b[0m\u001b[1;33m\u001b[0m\u001b[0m\n\u001b[0;32m      6\u001b[0m \u001b[1;33m\u001b[0m\u001b[0m\n",
      "\u001b[1;31mValueError\u001b[0m: Expected >= 18"
     ]
    }
   ],
   "source": [
    "#Y lo aplicamos a nuestra clase\n",
    "class Persona:\n",
    "    def __init__(self, name, edad=18):\n",
    "        self.name = name\n",
    "        self.edad = edad\n",
    "        \n",
    "    name = String('name')\n",
    "    edad = IntegerMayorDeEdad('edad')\n",
    "    \n",
    "# Ahora llamamos a nuestra clase\n",
    "p = Persona('Paco')\n",
    "p.edad = 21\n",
    "p.name = 'Jorge'\n",
    "\n",
    "print(p.edad)\n",
    "print(p.name)\n",
    "\n",
    "# Solo permitimos un entero y mayor de edad\n",
    "p.edad = 12"
   ]
  },
  {
   "cell_type": "markdown",
   "metadata": {},
   "source": [
    "<div class=\"row\"><div class=\"col-md-6\"><img src=\"https://www.soldierx.com/system/files/hdb/guido-van-rossum.jpg\"></div><div class=\"col-md-6\">\n",
    "<img src=\"https://media.giphy.com/media/b9aScKLxdv0Y0/giphy.gif\"></div></div>"
   ]
  },
  {
   "cell_type": "markdown",
   "metadata": {},
   "source": [
    "<div class=\"alert alert-danger\">__OJO__: Añadir demasiado _boilerplate_ a la creación de los ladrillos básicos de nuestra aplicación no es gratis. El rendimiento se puede ver seriamente perjudicado si metemos demasiadas comprobaciones, o potencialmente lentas</div>"
   ]
  },
  {
   "cell_type": "markdown",
   "metadata": {},
   "source": [
    "---\n",
    "_Las siguientes celdas contienen configuración del Notebook_\n",
    "\n",
    "_Para visualizar y utlizar los enlaces a Twitter el notebook debe ejecutarse como [seguro](http://ipython.org/ipython-doc/dev/notebook/security.html)_\n",
    "\n",
    "    File > Trusted Notebook"
   ]
  },
  {
   "cell_type": "code",
   "execution_count": 1,
   "metadata": {
    "collapsed": false
   },
   "outputs": [
    {
     "data": {
      "text/html": [
       "/* This template is inspired in the one used by Lorena Barba\n",
       "in the numerical-mooc repository: https://github.com/numerical-mooc/numerical-mooc\n",
       "We thank her work and hope you also enjoy the look of the notobooks with this style */\n",
       "\n",
       "<link href='http://fonts.googleapis.com/css?family=Source+Sans+Pro|Josefin+Sans:400,700,400italic|Ubuntu+Condensed' rel='stylesheet' type='text/css'>\n",
       "\n",
       "El estilo se ha aplicado =)\n",
       "\n",
       "<style>\n",
       "\n",
       "\n",
       "\n",
       "#notebook_panel { /* main background */\n",
       "    background: #f7f7f7;\n",
       "}\n",
       "\n",
       "div.cell { /* set cell width */\n",
       "    width: 900px;\n",
       "}\n",
       "\n",
       "div #notebook { /* centre the content */\n",
       "    background: #fff; /* white background for content */\n",
       "    width: 950px;\n",
       "    margin: auto;\n",
       "    padding-left: 0em;\n",
       "}\n",
       "\n",
       "#notebook li { /* More space between bullet points */\n",
       "    margin-top:0.7em;\n",
       "}\n",
       "\n",
       "/* draw border around running cells */\n",
       "div.cell.border-box-sizing.code_cell.running { \n",
       "    border: 1px solid #111;\n",
       "}\n",
       "\n",
       "/* Put a solid color box around each cell and its output, visually linking them*/\n",
       "div.cell.code_cell {\n",
       "    font-family: 'Source Sans Pro', sans-serif;\n",
       "    background-color: rgb(256,256,256);\n",
       "    font-size: 110%;\n",
       "    border-radius: 0px; \n",
       "    padding: 0.5em;\n",
       "    margin-left:1em;\n",
       "    margin-top: 1em;\n",
       "}\n",
       "\n",
       "div.text_cell_render{\n",
       "    font-family: 'Josefin Sans', serif;\n",
       "    line-height: 145%;\n",
       "    font-size: 125%;\n",
       "    font-weight: 500;\n",
       "    width:750px;\n",
       "    margin-left:auto;\n",
       "    margin-right:auto;\n",
       "}\n",
       "\n",
       "\n",
       "/* Formatting for header cells */\n",
       ".text_cell_render h1, .text_cell_render h2, .text_cell_render h3,\n",
       ".text_cell_render h4, .text_cell_render h5 {\n",
       "    font-family: 'Ubuntu Condensed', sans-serif;\n",
       "}\n",
       "/*\n",
       ".text_cell_render h1 {\n",
       "    font-family: Flux, 'Ubuntu Condensed', serif;\n",
       "    font-style:regular;\n",
       "    font-weight: 400;    \n",
       "    font-size: 30pt;\n",
       "    text-align: center;\n",
       "    line-height: 100%;\n",
       "    color: #335082;\n",
       "    margin-bottom: 0.5em;\n",
       "    margin-top: 0.5em;\n",
       "    display: block;\n",
       "}\n",
       "*/\n",
       ".text_cell_render h1 {\n",
       "    font-weight: 600;\n",
       "    font-size: 35pt;\n",
       "    line-height: 100%;\n",
       "    color: #000000;\n",
       "    margin-bottom: 0.1em;\n",
       "    margin-top: 0.3em;\n",
       "    display: block;\n",
       "}\n",
       "\n",
       ".text_cell_render h2 {\n",
       "    margin-top:16px;\n",
       "    font-size: 27pt;\n",
       "    font-weight: 550;\n",
       "    margin-bottom: 0.1em;\n",
       "    margin-top: 0.3em;\n",
       "    font-style: regular;\n",
       "    color: #2c6391;\n",
       "}\t\n",
       "\n",
       ".text_cell_render h3 {\n",
       "    font-size: 20pt;\n",
       "    font-weight: 550\n",
       "    text-align: left;\n",
       "    margin-bottom: 0.1em;\n",
       "    margin-top: 0.3em;\n",
       "    font-style: regular;\n",
       "    color:  #387eb8;\n",
       "}\n",
       "\n",
       ".text_cell_render h4 {    /*Use this for captions*/\n",
       "    font-size: 18pt;\n",
       "    font-weight: 450\n",
       "    text-align: left;\n",
       "    margin-bottom: 0.1em;\n",
       "    margin-top: 0.3em;\n",
       "    font-style: regular;\n",
       "    color:  #5797cc;\n",
       "}\n",
       "\n",
       ".text_cell_render h5 {  /*Use this for small titles*/\n",
       "    font-size: 18pt;\n",
       "    font-weight: 550;\n",
       "    color: rgb(163,0,0);\n",
       "    font-style: italic;\n",
       "    margin-bottom: .1em;\n",
       "    margin-top: 0.8em;\n",
       "    display: block;\n",
       "    color:  #b21c0d;\n",
       "}\n",
       "\n",
       ".text_cell_render h6 { /*use this for copyright note*/\n",
       "    font-family: 'Ubuntu Condensed', sans-serif;\n",
       "    font-weight: 300;\n",
       "    font-size: 14pt;\n",
       "    line-height: 100%;\n",
       "    color: #252525;\n",
       "    text-align: right;\n",
       "    margin-bottom: 1px;\n",
       "    margin-top: 1px;\n",
       "}\n",
       "\n",
       ".CodeMirror{\n",
       "        font-family: 'Duru Sans', sans-serif;\n",
       "        font-size: 100%;\n",
       "}\n",
       "\n",
       "</style>\n",
       "<script>\n",
       "    MathJax.Hub.Config({\n",
       "                        TeX: {\n",
       "                           extensions: [\"AMSmath.js\"],\n",
       "                           equationNumbers: { autoNumber: \"AMS\", useLabelIds: true}\n",
       "                           },\n",
       "                tex2jax: {\n",
       "                    inlineMath: [ ['$','$'], [\"\\\\(\",\"\\\\)\"] ],\n",
       "                    displayMath: [ ['$$','$$'], [\"\\\\[\",\"\\\\]\"] ]\n",
       "                },\n",
       "                displayAlign: 'center', // Change this to 'center' to center equations.\n",
       "                \"HTML-CSS\": {\n",
       "                    styles: {'.MathJax_Display': {\"margin\": 4}}\n",
       "                }\n",
       "        });\n",
       "</script>\n"
      ],
      "text/plain": [
       "<IPython.core.display.HTML object>"
      ]
     },
     "execution_count": 1,
     "metadata": {},
     "output_type": "execute_result"
    }
   ],
   "source": [
    "# Esta celda da el estilo al notebook\n",
    "from IPython.core.display import HTML\n",
    "css_file = '../static/styles/style.css'\n",
    "HTML(open(css_file, \"r\").read())"
   ]
  },
  {
   "cell_type": "code",
   "execution_count": null,
   "metadata": {
    "collapsed": true
   },
   "outputs": [],
   "source": []
  }
 ],
 "metadata": {
  "kernelspec": {
   "display_name": "Python 3",
   "language": "python",
   "name": "python3"
  },
  "language_info": {
   "codemirror_mode": {
    "name": "ipython",
    "version": 3
   },
   "file_extension": ".py",
   "mimetype": "text/x-python",
   "name": "python",
   "nbconvert_exporter": "python",
   "pygments_lexer": "ipython3",
   "version": "3.5.1+"
  }
 },
 "nbformat": 4,
 "nbformat_minor": 0
}
