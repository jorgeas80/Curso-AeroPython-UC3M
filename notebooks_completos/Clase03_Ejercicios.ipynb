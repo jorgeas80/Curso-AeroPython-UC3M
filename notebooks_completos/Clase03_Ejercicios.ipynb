{
 "cells": [
  {
   "cell_type": "markdown",
   "metadata": {},
   "source": [
    "<img src=\"../static/logopython.png\" alt=\"Logo Python\" style=\"width: 300px; display: inline\"/>\n",
    "<img src=\"../static/deimoslogo.png\" alt=\"Logo Deimos\" style=\"width: 300px; display: inline\"/>"
   ]
  },
  {
   "cell_type": "markdown",
   "metadata": {},
   "source": [
    "# Clase 3: Ejercicios prácticos\n",
    "\n",
    "En esta clase vamos a afianzar los conocimientos de Python que acabamos de adquirir haciendo algunos ejercicios sobre las herramientas del lenguaje Python para realizar ciertas tareas"
   ]
  },
  {
   "cell_type": "markdown",
   "metadata": {},
   "source": [
    "## Ejercicio 1\n",
    "\n",
    "Implementar una clase `rango` que implemente un iterador limitado por el argumento n. Debajo, se incluye el código con el que probaremos la implementación"
   ]
  },
  {
   "cell_type": "code",
   "execution_count": 1,
   "metadata": {
    "collapsed": true
   },
   "outputs": [],
   "source": [
    "# Tu codigo aqui\n",
    "class rango:\n",
    "    def __init__(self, n):\n",
    "        self.i = 0\n",
    "        self.n = n\n",
    "\n",
    "    def __iter__(self):\n",
    "        return self\n",
    "\n",
    "    def next(self):\n",
    "        if self.i < self.n:\n",
    "            i = self.i\n",
    "            self.i += 1\n",
    "            return i\n",
    "        else:\n",
    "            raise StopIteration()\n"
   ]
  },
  {
   "cell_type": "code",
   "execution_count": 4,
   "metadata": {
    "collapsed": false
   },
   "outputs": [
    {
     "name": "stdout",
     "output_type": "stream",
     "text": [
      "Ya no puedes seguir llamando al iterador\n"
     ]
    }
   ],
   "source": [
    "# Esto va a llamar a nuestro iterador\n",
    "z = rango(3)\n",
    "\n",
    "assert(z.next() == 0)\n",
    "assert(z.next() == 1)\n",
    "assert(z.next() == 2)\n",
    "\n",
    "try:\n",
    "    z.next()\n",
    "except StopIteration:\n",
    "    print('Ya no puedes seguir llamando al iterador')"
   ]
  },
  {
   "cell_type": "markdown",
   "metadata": {},
   "source": [
    "## Ejercicio 2:\n",
    "\n",
    "Repetir el ejercicio anterior, pero ahora construyendo un generador, en lugar de un iterador. Lo llamaremos `grango`"
   ]
  },
  {
   "cell_type": "code",
   "execution_count": 7,
   "metadata": {
    "collapsed": true
   },
   "outputs": [],
   "source": [
    "# Tu codigo aqui\n",
    "def grango(n):\n",
    "    i = 0\n",
    "    while i < n:\n",
    "        yield i\n",
    "        i += 1"
   ]
  },
  {
   "cell_type": "code",
   "execution_count": 10,
   "metadata": {
    "collapsed": false
   },
   "outputs": [
    {
     "name": "stdout",
     "output_type": "stream",
     "text": [
      "Ya no puedes seguir llamando al generador\n"
     ]
    }
   ],
   "source": [
    "# Esto va a llamar a nuestro generador\n",
    "z = grango(3)\n",
    "\n",
    "assert(next(z) == 0)\n",
    "assert(next(z) == 1)\n",
    "assert(next(z) == 2)\n",
    "\n",
    "try:\n",
    "    next(z)\n",
    "except StopIteration:\n",
    "    print('Ya no puedes seguir llamando al generador')"
   ]
  },
  {
   "cell_type": "markdown",
   "metadata": {},
   "source": [
    "## Ejercicio 3:\n",
    "\n",
    "Supon que tenemos las siguientes implementaciones en Python de las utilidades `cat` y `grep`:\n",
    "\n",
    "```python\n",
    "def cat(filenames):\n",
    "    for f in filenames:\n",
    "        for line in open(f):\n",
    "            print line\n",
    "            \n",
    "def grep(pattern, filenames):\n",
    "    for f in filenames:\n",
    "        for line in open(f):\n",
    "            if pattern in line:\n",
    "                print line```                \n",
    "\n",
    "Construye una versión alternativa de cada función en forma de generador"
   ]
  },
  {
   "cell_type": "code",
   "execution_count": 21,
   "metadata": {
    "collapsed": true
   },
   "outputs": [],
   "source": [
    "# Tu codigo aqui\n",
    "def cat(filenames):\n",
    "    for f in filenames:\n",
    "        for line in open(f):\n",
    "            yield line\n",
    "            \n",
    "def grep(pattern, filenames):\n",
    "    for f in filenames:\n",
    "        for line in open(f):\n",
    "            if pattern in line:\n",
    "                yield line"
   ]
  },
  {
   "cell_type": "code",
   "execution_count": 17,
   "metadata": {
    "collapsed": false
   },
   "outputs": [
    {
     "name": "stdout",
     "output_type": "stream",
     "text": [
      "En un lugar de la Mancha, \n",
      "\n",
      "de cuyo nombre no quiero acordarme, \n",
      "\n",
      "no ha mucho tiempo que vivÃ­a un hidalgo de los de lanza en astillero, \n",
      "\n",
      "adarga antigua, rocÃ­n flaco y galgo corredor. \n",
      "\n",
      "Una olla de algo mÃ¡s vaca que carnero, \n",
      "\n",
      "salpicÃ³n las mÃ¡s noches, \n",
      "\n",
      "duelos y quebrantos los sÃ¡bados, \n",
      "\n",
      "lentejas los viernes, \n",
      "\n",
      "algÃºn palomino de aÃ±adidura los domingos, \n",
      "\n",
      "consumÃ­an las tres partes de su hacienda. \n",
      "\n",
      "El resto della concluÃ­an sayo de velarte, \n",
      "\n",
      "calzas de velludo para las fiestas con sus pantuflos de lo mismo, \n",
      "\n",
      "los dÃ­as de entre semana se honraba con su vellori de lo mÃ¡s fino. \n",
      "\n",
      "TenÃ­a en su casa una ama que pasaba de los cuarenta, \n",
      "\n",
      "y una sobrina que no llegaba a los veinte, \n",
      "\n",
      "y un mozo de campo y plaza, \n",
      "\n",
      "que asÃ­ ensillaba el rocÃ­n como tomaba la podadera.\n",
      "\n",
      "Frisaba la edad de nuestro hidalgo con los cincuenta aÃ±os, \n",
      "\n",
      "era de complexiÃ³n recia, \n",
      "\n",
      "seco de carnes, \n",
      "\n",
      "enjuto de rostro; \n",
      "\n",
      "gran madrugador y amigo de la caza. \n",
      "\n",
      "Quieren decir que tenÃ­a el sobrenombre de Quijada o Quesada (que en esto hay alguna diferencia en los autores que deste caso escriben), \n",
      "\n",
      "aunque por conjeturas verosÃ­miles se deja entender que se llama Quijana; \n",
      "\n",
      "pero esto importa poco a nuestro cuento; \n",
      "\n",
      "basta que en la narraciÃ³n dÃ©l no se salga un punto de la verdad.\n"
     ]
    }
   ],
   "source": [
    "# Codigo de pruebas para cat\n",
    "for line in cat([\"quijote.txt\"]):\n",
    "    print(line)"
   ]
  },
  {
   "cell_type": "code",
   "execution_count": 24,
   "metadata": {
    "collapsed": false
   },
   "outputs": [
    {
     "data": {
      "text/plain": [
       "['no ha mucho tiempo que vivÃ\\xada un hidalgo de los de lanza en astillero, \\n',\n",
       " 'duelos y quebrantos los sÃ¡bados, \\n',\n",
       " 'lentejas los viernes, \\n',\n",
       " 'algÃºn palomino de aÃ±adidura los domingos, \\n',\n",
       " 'calzas de velludo para las fiestas con sus pantuflos de lo mismo, \\n',\n",
       " 'los dÃ\\xadas de entre semana se honraba con su vellori de lo mÃ¡s fino. \\n',\n",
       " 'TenÃ\\xada en su casa una ama que pasaba de los cuarenta, \\n',\n",
       " 'y una sobrina que no llegaba a los veinte, \\n',\n",
       " 'Frisaba la edad de nuestro hidalgo con los cincuenta aÃ±os, \\n',\n",
       " 'Quieren decir que tenÃ\\xada el sobrenombre de Quijada o Quesada (que en esto hay alguna diferencia en los autores que deste caso escriben), \\n']"
      ]
     },
     "execution_count": 24,
     "metadata": {},
     "output_type": "execute_result"
    }
   ],
   "source": [
    "# Codigo de pruebas para grep\n",
    "list(grep(\"los\", [\"quijote.txt\"]))"
   ]
  },
  {
   "cell_type": "markdown",
   "metadata": {},
   "source": [
    "## Ejercicio 4:\n",
    "\n",
    "Supón que nuestro jefe nos pide una función para comprobar si un número es primo, y le escribimos ésta:\n",
    "\n",
    "```python\n",
    "def is_prime(number):\n",
    "    if number > 1:\n",
    "        if number == 2:\n",
    "            return True\n",
    "        if number % 2 == 0:\n",
    "            return False\n",
    "        for current in range(3, int(math.sqrt(number) + 1), 2):\n",
    "            if number % current == 0: \n",
    "                return False\n",
    "        return True\n",
    "    return False```\n",
    "    \n",
    "Nuestro jefe decide usar dicha función para un cálculo aparentemente sencillo: dada una lista de números de longitud arbitraria, dame todos los números de esa lista que sean primos\n",
    "\n",
    "Así que nuestro jefe usa nuestra función así: \n",
    "\n",
    "```python\n",
    "def get_primes(input_list):\n",
    "    return (element for element in input_list if is_prime(element))```\n",
    "\n",
    "Pero se da cuenta de que, dada una lista lo suficientemente larga, acabará consumiendo la memoria de la máquina. De manera que piensa en otro enfoque: quiere una función `get_primes(start)`, que le devuelva todos los números primos mayores que `start`. \n",
    "\n",
    "¿Se habrá vuelto loca/o o será que está intentando resolver el [problema 10 de Project Euler](https://projecteuler.net/problem=10)?\n",
    "\n",
    "Como buen ingeniera/o, te das cuenta rápidamente de que no podemos devolver una lista de números primos entre `start` y, potencialmente, infinito. Va a hacer falta pensar `out of the box`.\n",
    "\n",
    "Por suerte, estuviste en el curso de Python, y tienes la solución exacta al problema. Decides crear la función `get_primes`, para ver si así te sube el sueldo (o por lo menos te sube el karma). \n",
    "\n",
    "¿Cómo implementarías la función `get_primes(start)` para que no consumiera toda la memoria de la máquina?\n",
    "\n",
    "__BONUS__: ¿Puedes explicar por qué el algoritmo que has implementado en `is_prime` funciona?\n",
    "\n",
    "Cuando respondas todo, podrás mandarle esto a tu jefe\n",
    "\n",
    "<img src=\"https://pbs.twimg.com/media/B7bLnI1CMAAHCoC.jpg\" alt=\"Download\" />"
   ]
  },
  {
   "cell_type": "code",
   "execution_count": 26,
   "metadata": {
    "collapsed": true
   },
   "outputs": [],
   "source": [
    "# Como es obvio que no podemos crear una lista infinita, necesitamos un generador que, simplemente, \n",
    "# vaya determinando si un número es primo o no, en orden creciente. Quien llame a la función decidirá\n",
    "# cuando quiere parar. Por supuesto, llegará un punto en que hará falta mucha más potencia de cálculo,\n",
    "# pero al menos, el problema no será de memoria...\n",
    "\n",
    "def get_primes(number):\n",
    "    while True:\n",
    "        if is_prime(number):\n",
    "            yield number\n",
    "        number += 1\n",
    "        \n",
    "# De esta forma, nuestro jefe podría hacer una función como ésta para resolver el problema Euler 10\n",
    "def solve_number_10():\n",
    "    total = 2\n",
    "    for next_prime in get_primes(3):\n",
    "        if next_prime < 2000000:\n",
    "            total += next_prime\n",
    "        else:\n",
    "            print(total)\n",
    "            return\n"
   ]
  },
  {
   "cell_type": "markdown",
   "metadata": {},
   "source": [
    "## Ejercicio 5\n",
    "\n",
    "Dada una lista de palabras o frases aleatorias, escribir una función que devuelva una *list comprehension* para quedarnos solo con las palabras de esa lista que sean [palíndromos](https://es.wikipedia.org/wiki/Pal%C3%ADndromo).\n",
    "\n",
    "__Pista__: Revisa el uso combinado de las funciones [join](https://docs.python.org/3.5/library/stdtypes.html#str.join) y [split](https://docs.python.org/3.5/library/stdtypes.html#str.split) para eliminar espacios. \n",
    "\n",
    "__Pista__: ¿Habrá alguna función en Python para pasar cadenas a minúsculas?\n",
    "\n",
    "__Pista__: La indexación de iterables en Python es muy potente. Puedes usar la sintáxis [start:end:step] para obtener un subiterable a partir de otro. Investiga qué pasa si omites uno o varios de los 3 parámetros, o usas números negativos para el step. Por ejemplo, ¿qué obtienes al ejecutar \"me llamo jorge\"[1:7:1]?, ¿y \"me llamo jorge\"[7::-1]?"
   ]
  },
  {
   "cell_type": "code",
   "execution_count": 35,
   "metadata": {
    "collapsed": true
   },
   "outputs": [],
   "source": [
    "# Aqui tu funcion\n",
    "def palindromos(lista):\n",
    "    return [string for string in lista if ''.join(string.lower().split()) == ''.join(string.lower()[::-1].split())]"
   ]
  },
  {
   "cell_type": "code",
   "execution_count": 36,
   "metadata": {
    "collapsed": false
   },
   "outputs": [
    {
     "data": {
      "text/plain": [
       "['Añora la Roña', 'Anita lava la tina', 'Eva ya hay ave']"
      ]
     },
     "execution_count": 36,
     "metadata": {},
     "output_type": "execute_result"
    }
   ],
   "source": [
    "# Lo puedes probar con esta lista\n",
    "lista = [\n",
    "    \"Añora la Roña\",\n",
    "    \"Como que moc\",\n",
    "    \"Anita lava la tina\",\n",
    "    \"Eva ya hay ave\",\n",
    "    \"Yo no maldigo mi suerte porque minero naci\"\n",
    "]\n",
    "\n",
    "palindromos(lista)"
   ]
  },
  {
   "cell_type": "code",
   "execution_count": 1,
   "metadata": {
    "collapsed": false
   },
   "outputs": [
    {
     "data": {
      "text/html": [
       "/* This template is inspired in the one used by Lorena Barba\n",
       "in the numerical-mooc repository: https://github.com/numerical-mooc/numerical-mooc\n",
       "We thank her work and hope you also enjoy the look of the notobooks with this style */\n",
       "\n",
       "<link href='http://fonts.googleapis.com/css?family=Source+Sans+Pro|Josefin+Sans:400,700,400italic|Ubuntu+Condensed' rel='stylesheet' type='text/css'>\n",
       "\n",
       "El estilo se ha aplicado =)\n",
       "\n",
       "<style>\n",
       "\n",
       "\n",
       "\n",
       "#notebook_panel { /* main background */\n",
       "    background: #f7f7f7;\n",
       "}\n",
       "\n",
       "div.cell { /* set cell width */\n",
       "    width: 900px;\n",
       "}\n",
       "\n",
       "div #notebook { /* centre the content */\n",
       "    background: #fff; /* white background for content */\n",
       "    width: 950px;\n",
       "    margin: auto;\n",
       "    padding-left: 0em;\n",
       "}\n",
       "\n",
       "#notebook li { /* More space between bullet points */\n",
       "    margin-top:0.7em;\n",
       "}\n",
       "\n",
       "/* draw border around running cells */\n",
       "div.cell.border-box-sizing.code_cell.running { \n",
       "    border: 1px solid #111;\n",
       "}\n",
       "\n",
       "/* Put a solid color box around each cell and its output, visually linking them*/\n",
       "div.cell.code_cell {\n",
       "    font-family: 'Source Sans Pro', sans-serif;\n",
       "    background-color: rgb(256,256,256);\n",
       "    font-size: 110%;\n",
       "    border-radius: 0px; \n",
       "    padding: 0.5em;\n",
       "    margin-left:1em;\n",
       "    margin-top: 1em;\n",
       "}\n",
       "\n",
       "div.text_cell_render{\n",
       "    font-family: 'Josefin Sans', serif;\n",
       "    line-height: 145%;\n",
       "    font-size: 125%;\n",
       "    font-weight: 500;\n",
       "    width:750px;\n",
       "    margin-left:auto;\n",
       "    margin-right:auto;\n",
       "}\n",
       "\n",
       "\n",
       "/* Formatting for header cells */\n",
       ".text_cell_render h1, .text_cell_render h2, .text_cell_render h3,\n",
       ".text_cell_render h4, .text_cell_render h5 {\n",
       "    font-family: 'Ubuntu Condensed', sans-serif;\n",
       "}\n",
       "/*\n",
       ".text_cell_render h1 {\n",
       "    font-family: Flux, 'Ubuntu Condensed', serif;\n",
       "    font-style:regular;\n",
       "    font-weight: 400;    \n",
       "    font-size: 30pt;\n",
       "    text-align: center;\n",
       "    line-height: 100%;\n",
       "    color: #335082;\n",
       "    margin-bottom: 0.5em;\n",
       "    margin-top: 0.5em;\n",
       "    display: block;\n",
       "}\n",
       "*/\n",
       ".text_cell_render h1 {\n",
       "    font-weight: 600;\n",
       "    font-size: 35pt;\n",
       "    line-height: 100%;\n",
       "    color: #000000;\n",
       "    margin-bottom: 0.1em;\n",
       "    margin-top: 0.3em;\n",
       "    display: block;\n",
       "}\n",
       "\n",
       ".text_cell_render h2 {\n",
       "    margin-top:16px;\n",
       "    font-size: 27pt;\n",
       "    font-weight: 550;\n",
       "    margin-bottom: 0.1em;\n",
       "    margin-top: 0.3em;\n",
       "    font-style: regular;\n",
       "    color: #2c6391;\n",
       "}\t\n",
       "\n",
       ".text_cell_render h3 {\n",
       "    font-size: 20pt;\n",
       "    font-weight: 550\n",
       "    text-align: left;\n",
       "    margin-bottom: 0.1em;\n",
       "    margin-top: 0.3em;\n",
       "    font-style: regular;\n",
       "    color:  #387eb8;\n",
       "}\n",
       "\n",
       ".text_cell_render h4 {    /*Use this for captions*/\n",
       "    font-size: 18pt;\n",
       "    font-weight: 450\n",
       "    text-align: left;\n",
       "    margin-bottom: 0.1em;\n",
       "    margin-top: 0.3em;\n",
       "    font-style: regular;\n",
       "    color:  #5797cc;\n",
       "}\n",
       "\n",
       ".text_cell_render h5 {  /*Use this for small titles*/\n",
       "    font-size: 18pt;\n",
       "    font-weight: 550;\n",
       "    color: rgb(163,0,0);\n",
       "    font-style: italic;\n",
       "    margin-bottom: .1em;\n",
       "    margin-top: 0.8em;\n",
       "    display: block;\n",
       "    color:  #b21c0d;\n",
       "}\n",
       "\n",
       ".text_cell_render h6 { /*use this for copyright note*/\n",
       "    font-family: 'Ubuntu Condensed', sans-serif;\n",
       "    font-weight: 300;\n",
       "    font-size: 14pt;\n",
       "    line-height: 100%;\n",
       "    color: #252525;\n",
       "    text-align: right;\n",
       "    margin-bottom: 1px;\n",
       "    margin-top: 1px;\n",
       "}\n",
       "\n",
       ".CodeMirror{\n",
       "        font-family: 'Duru Sans', sans-serif;\n",
       "        font-size: 100%;\n",
       "}\n",
       "\n",
       "</style>\n",
       "<script>\n",
       "    MathJax.Hub.Config({\n",
       "                        TeX: {\n",
       "                           extensions: [\"AMSmath.js\"],\n",
       "                           equationNumbers: { autoNumber: \"AMS\", useLabelIds: true}\n",
       "                           },\n",
       "                tex2jax: {\n",
       "                    inlineMath: [ ['$','$'], [\"\\\\(\",\"\\\\)\"] ],\n",
       "                    displayMath: [ ['$$','$$'], [\"\\\\[\",\"\\\\]\"] ]\n",
       "                },\n",
       "                displayAlign: 'center', // Change this to 'center' to center equations.\n",
       "                \"HTML-CSS\": {\n",
       "                    styles: {'.MathJax_Display': {\"margin\": 4}}\n",
       "                }\n",
       "        });\n",
       "</script>\n"
      ],
      "text/plain": [
       "<IPython.core.display.HTML object>"
      ]
     },
     "execution_count": 1,
     "metadata": {},
     "output_type": "execute_result"
    }
   ],
   "source": [
    "# Esta celda da el estilo al notebook\n",
    "from IPython.core.display import HTML\n",
    "css_file = '../static/styles/style.css'\n",
    "HTML(open(css_file, \"r\").read())"
   ]
  },
  {
   "cell_type": "code",
   "execution_count": null,
   "metadata": {
    "collapsed": true
   },
   "outputs": [],
   "source": []
  }
 ],
 "metadata": {
  "kernelspec": {
   "display_name": "Python 3",
   "language": "python",
   "name": "python3"
  },
  "language_info": {
   "codemirror_mode": {
    "name": "ipython",
    "version": 3
   },
   "file_extension": ".py",
   "mimetype": "text/x-python",
   "name": "python",
   "nbconvert_exporter": "python",
   "pygments_lexer": "ipython3",
   "version": "3.5.1+"
  }
 },
 "nbformat": 4,
 "nbformat_minor": 0
}
