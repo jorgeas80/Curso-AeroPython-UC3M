{
 "cells": [
  {
   "cell_type": "markdown",
   "metadata": {},
   "source": [
    "<img src=\"../static/logopython.png\" alt=\"Logo Python\" style=\"width: 300px; display: inline\"/>\n",
    "<img src=\"../static/deimoslogo.png\" alt=\"Logo Deimos\" style=\"width: 300px; display: inline\"/>"
   ]
  },
  {
   "cell_type": "markdown",
   "metadata": {},
   "source": [
    "# Clase 6: Gestión de parámetros de entrada\n",
    "\n",
    "Los programas que escribamos, recibirán ciertos parámetros de entrada para trabajar con ellos. Veremos en este capítulo como gestionar todo tipo de parámetros."
   ]
  },
  {
   "cell_type": "markdown",
   "metadata": {},
   "source": [
    "## Introducción: tipos de argumentos"
   ]
  },
  {
   "cell_type": "markdown",
   "metadata": {},
   "source": [
    "A grandes rasgos, cuando pasamos parámetros a nuestros programas, diferenciamos entre 3 tipos:\n",
    "\n",
    "* __Parámetros posicionales__: Nuestro programa hará una u otra cosa en función de la posición que ocupe dicho parámetro. El ejemplo más claro es la orden `cp origen destino`\n",
    "* __Parámetros opcionales__: Modifican cierto comportamiento de nuestro programa, caso de estar presentes. Otro ejemplo claro es `ls -l`. El parámetro opcional `-l` hace que se listen los detalles de los directorios, no solo sus nombres.\n",
    "* __Parámetros de ayuda__: Explican cómo usar nuestro programa. Es habitual el uso del parámetro `--help` en muchos programas para mostrar ayuda de uso"
   ]
  },
  {
   "cell_type": "markdown",
   "metadata": {},
   "source": [
    "En Python 3 tenemos a nuestra disposición 3 módulos que nos permitirán gestionar todos estos tipos de parámetros:\n",
    "\n",
    "* [__argparse__](https://docs.python.org/3/library/argparse.html#module-argparse): El más popular y utilizado actualmente\n",
    "* [__getopt__](https://docs.python.org/3/library/getopt.html#module-getopt): Otro parseador, más familiar para los programadores de C (se parece mucho a la [función homónima](https://www.gnu.org/software/libc/manual/html_node/Example-of-Getopt.html) de C), pero algo más limitado\n",
    "* [__optparse__](https://docs.python.org/3/library/optparse.html#module-optparse): El _padre_ de argparse. Actualmente obsoleto, pero aun disponible.\n",
    "\n",
    "Nosotros vamos a usar __argparse__."
   ]
  },
  {
   "cell_type": "markdown",
   "metadata": {},
   "source": [
    "<div class=\"alert alert-warning\">En este tema, vamos a trabajar con un fichero Python al que le pasaremos parámetros. Los alumnos deberían usar su editor de textos e intérprete para realizar los ejercicios, en lugar de el cuaderno. Nosotros usaremos la [magic function](http://ipython.org/ipython-doc/dev/interactive/tutorial.html#magic-functions) _%run_, cargando en cada paso un fichero diferente</div>"
   ]
  },
  {
   "cell_type": "markdown",
   "metadata": {},
   "source": [
    "Empezamos por el _Hola Mundo_ de argparse:"
   ]
  },
  {
   "cell_type": "markdown",
   "metadata": {},
   "source": [
    "## Empezando con argparse"
   ]
  },
  {
   "cell_type": "markdown",
   "metadata": {},
   "source": [
    "Importemos argparse y empecemos con lo más básico"
   ]
  },
  {
   "cell_type": "code",
   "execution_count": null,
   "metadata": {
    "collapsed": true
   },
   "outputs": [],
   "source": [
    "# %load prog1.py\n",
    "import argparse\n",
    "parser = argparse.ArgumentParser()\n",
    "parser.parse_args()\n"
   ]
  },
  {
   "cell_type": "code",
   "execution_count": 2,
   "metadata": {
    "collapsed": false
   },
   "outputs": [
    {
     "name": "stdout",
     "output_type": "stream",
     "text": [
      "usage: prog1.py [-h]\n",
      "\n",
      "optional arguments:\n",
      "  -h, --help  show this help message and exit\n"
     ]
    }
   ],
   "source": [
    "# Corremos prog1 con --help\n",
    "%run prog1.py --help"
   ]
  },
  {
   "cell_type": "markdown",
   "metadata": {},
   "source": [
    "Obtenemos, _just out of the box_ la gestión automática de las opciones `-h` y `--help`. No está mal. Pero no podemos ir mucho más allá por el momento..."
   ]
  },
  {
   "cell_type": "code",
   "execution_count": 3,
   "metadata": {
    "collapsed": false
   },
   "outputs": [
    {
     "name": "stderr",
     "output_type": "stream",
     "text": [
      "usage: prog1.py [-h]\n",
      "prog1.py: error: unrecognized arguments: --verbose\n"
     ]
    },
    {
     "ename": "SystemExit",
     "evalue": "2",
     "output_type": "error",
     "traceback": [
      "An exception has occurred, use %tb to see the full traceback.\n",
      "\u001b[1;31mSystemExit\u001b[0m\u001b[1;31m:\u001b[0m 2\n"
     ]
    }
   ],
   "source": [
    "# Intentemos pasarle otro parametro opcional, como --verbose\n",
    "%run prog1.py --verbose"
   ]
  },
  {
   "cell_type": "code",
   "execution_count": 4,
   "metadata": {
    "collapsed": false
   },
   "outputs": [
    {
     "name": "stderr",
     "output_type": "stream",
     "text": [
      "usage: prog1.py [-h]\n",
      "prog1.py: error: unrecognized arguments: foo\n"
     ]
    },
    {
     "ename": "SystemExit",
     "evalue": "2",
     "output_type": "error",
     "traceback": [
      "An exception has occurred, use %tb to see the full traceback.\n",
      "\u001b[1;31mSystemExit\u001b[0m\u001b[1;31m:\u001b[0m 2\n"
     ]
    }
   ],
   "source": [
    "# Intentemos pasarle un parámetro posicional cualquiera\n",
    "%run prog1.py foo"
   ]
  },
  {
   "cell_type": "markdown",
   "metadata": {},
   "source": [
    "Comencemos a gestionar parámetros. Empezamos con los posicionales"
   ]
  },
  {
   "cell_type": "markdown",
   "metadata": {},
   "source": [
    "## Gestionando parámetros posicionales"
   ]
  },
  {
   "cell_type": "markdown",
   "metadata": {},
   "source": [
    "Vamos a permitir que nuestro programa acepte un solo parámetro posicional, al que llamaremos _echo_. El resultado será, simplemente, mostrar por pantalla ese mismo parámetro"
   ]
  },
  {
   "cell_type": "code",
   "execution_count": null,
   "metadata": {
    "collapsed": true
   },
   "outputs": [],
   "source": [
    "# %load prog2.py\n",
    "import argparse\n",
    "parser = argparse.ArgumentParser()\n",
    "parser.add_argument(\"echo\")\n",
    "args = parser.parse_args()\n",
    "print(args.echo)\n"
   ]
  },
  {
   "cell_type": "markdown",
   "metadata": {},
   "source": [
    "Ahora, nuestro programa __requerirá un parámetro `echo` para funcionar__"
   ]
  },
  {
   "cell_type": "code",
   "execution_count": 6,
   "metadata": {
    "collapsed": false
   },
   "outputs": [
    {
     "name": "stderr",
     "output_type": "stream",
     "text": [
      "usage: prog2.py [-h] echo\n",
      "prog2.py: error: the following arguments are required: echo\n"
     ]
    },
    {
     "ename": "SystemExit",
     "evalue": "2",
     "output_type": "error",
     "traceback": [
      "An exception has occurred, use %tb to see the full traceback.\n",
      "\u001b[1;31mSystemExit\u001b[0m\u001b[1;31m:\u001b[0m 2\n"
     ]
    }
   ],
   "source": [
    "# Corremos prog2 sin parámetros\n",
    "%run prog2.py"
   ]
  },
  {
   "cell_type": "code",
   "execution_count": 7,
   "metadata": {
    "collapsed": false
   },
   "outputs": [
    {
     "name": "stdout",
     "output_type": "stream",
     "text": [
      "usage: prog2.py [-h] echo\n",
      "\n",
      "positional arguments:\n",
      "  echo\n",
      "\n",
      "optional arguments:\n",
      "  -h, --help  show this help message and exit\n"
     ]
    }
   ],
   "source": [
    "# Usamos la ayuda para ver qué parámetros podemos usar\n",
    "%run prog2.py -h"
   ]
  },
  {
   "cell_type": "code",
   "execution_count": 8,
   "metadata": {
    "collapsed": false
   },
   "outputs": [
    {
     "name": "stdout",
     "output_type": "stream",
     "text": [
      "echo\n"
     ]
    }
   ],
   "source": [
    "# Corremos el programa con su parámetro echo\n",
    "%run prog2.py echo"
   ]
  },
  {
   "cell_type": "markdown",
   "metadata": {},
   "source": [
    "Ya sabemos que nuestro programa requiere un argumento posicional, pero aun no sabemos para qué se usa. Vamos a añadir esa información"
   ]
  },
  {
   "cell_type": "code",
   "execution_count": null,
   "metadata": {
    "collapsed": true
   },
   "outputs": [],
   "source": [
    "# %load prog3.py\n",
    "import argparse\n",
    "parser = argparse.ArgumentParser()\n",
    "parser.add_argument(\"echo\", help=\"simplemente muestra por pantalla la cadena que le pasemos en esta posición\")\n",
    "args = parser.parse_args()\n",
    "print(args.echo)\n"
   ]
  },
  {
   "cell_type": "code",
   "execution_count": 11,
   "metadata": {
    "collapsed": false
   },
   "outputs": [
    {
     "name": "stdout",
     "output_type": "stream",
     "text": [
      "hola caracola\n"
     ]
    }
   ],
   "source": [
    "# Ahora que sabemos para que sirve, podemos jugar algo más\n",
    "%run prog3 \"hola caracola\""
   ]
  },
  {
   "cell_type": "markdown",
   "metadata": {},
   "source": [
    "<div class=\"alert alert-info\">__Importante__: Los parámetros posicionales tendrán el nombre que le especifiquemos nosotros, pero el valor que les pasemos en esa posición</div>"
   ]
  },
  {
   "cell_type": "markdown",
   "metadata": {},
   "source": [
    "Ok, vamos a intentar hacer algo con las variables que le pasemos de entrada, además de mostrarlas"
   ]
  },
  {
   "cell_type": "code",
   "execution_count": null,
   "metadata": {
    "collapsed": true
   },
   "outputs": [],
   "source": [
    "# %load prog4.py\n",
    "import argparse\n",
    "parser = argparse.ArgumentParser()\n",
    "parser.add_argument(\"square\", help=\"Muestra el número que le hayamos pasado elevado al cuadrado\")\n",
    "args = parser.parse_args()\n",
    "print(args.square**2)\n"
   ]
  },
  {
   "cell_type": "code",
   "execution_count": 13,
   "metadata": {
    "collapsed": false
   },
   "outputs": [
    {
     "ename": "TypeError",
     "evalue": "unsupported operand type(s) for ** or pow(): 'str' and 'int'",
     "output_type": "error",
     "traceback": [
      "\u001b[1;31m---------------------------------------------------------------------------\u001b[0m",
      "\u001b[1;31mTypeError\u001b[0m                                 Traceback (most recent call last)",
      "\u001b[1;32mD:\\github\\Curso-Python-Ing-I\\notebooks_completos\\prog4.py\u001b[0m in \u001b[0;36m<module>\u001b[1;34m()\u001b[0m\n\u001b[0;32m      3\u001b[0m \u001b[0mparser\u001b[0m\u001b[1;33m.\u001b[0m\u001b[0madd_argument\u001b[0m\u001b[1;33m(\u001b[0m\u001b[1;34m\"square\"\u001b[0m\u001b[1;33m,\u001b[0m \u001b[0mhelp\u001b[0m\u001b[1;33m=\u001b[0m\u001b[1;34m\"Muestra el número que le hayamos pasado elevado al cuadrado\"\u001b[0m\u001b[1;33m)\u001b[0m\u001b[1;33m\u001b[0m\u001b[0m\n\u001b[0;32m      4\u001b[0m \u001b[0margs\u001b[0m \u001b[1;33m=\u001b[0m \u001b[0mparser\u001b[0m\u001b[1;33m.\u001b[0m\u001b[0mparse_args\u001b[0m\u001b[1;33m(\u001b[0m\u001b[1;33m)\u001b[0m\u001b[1;33m\u001b[0m\u001b[0m\n\u001b[1;32m----> 5\u001b[1;33m \u001b[0mprint\u001b[0m\u001b[1;33m(\u001b[0m\u001b[0margs\u001b[0m\u001b[1;33m.\u001b[0m\u001b[0msquare\u001b[0m\u001b[1;33m**\u001b[0m\u001b[1;36m2\u001b[0m\u001b[1;33m)\u001b[0m\u001b[1;33m\u001b[0m\u001b[0m\n\u001b[0m",
      "\u001b[1;31mTypeError\u001b[0m: unsupported operand type(s) for ** or pow(): 'str' and 'int'"
     ]
    }
   ],
   "source": [
    "# Lanzamos el programa con un número como argumento\n",
    "%run prog4.py 5"
   ]
  },
  {
   "cell_type": "markdown",
   "metadata": {},
   "source": [
    "Mmmm... Parece que _argparse_ trata todos sus argumentos como cadenas de texto. Vamos a tener que decirle que es un número lo que se espera para ese parámetro"
   ]
  },
  {
   "cell_type": "code",
   "execution_count": null,
   "metadata": {
    "collapsed": true
   },
   "outputs": [],
   "source": [
    "# %load prog5.py\n",
    "import argparse\n",
    "parser = argparse.ArgumentParser()\n",
    "parser.add_argument(\"square\", help=\"Muestra el número que le hayamos pasado elevado al cuadrado\", type=int)\n",
    "args = parser.parse_args()\n",
    "print(args.square**2)\n"
   ]
  },
  {
   "cell_type": "code",
   "execution_count": 17,
   "metadata": {
    "collapsed": false
   },
   "outputs": [
    {
     "name": "stdout",
     "output_type": "stream",
     "text": [
      "25\n"
     ]
    }
   ],
   "source": [
    "# Lanzamos el programa con un número como argumento\n",
    "%run prog5.py 5"
   ]
  },
  {
   "cell_type": "markdown",
   "metadata": {},
   "source": [
    "Ahora sí ^\\_^. Probemos con los argumentos optativos"
   ]
  },
  {
   "cell_type": "markdown",
   "metadata": {},
   "source": [
    "## Gestionando parámetros optativos"
   ]
  },
  {
   "cell_type": "markdown",
   "metadata": {},
   "source": [
    "Hagamos ahora un programa que nos acepte parámetros optativos"
   ]
  },
  {
   "cell_type": "code",
   "execution_count": null,
   "metadata": {
    "collapsed": true
   },
   "outputs": [],
   "source": [
    "# %load prog6.py\n",
    "import argparse\n",
    "parser = argparse.ArgumentParser()\n",
    "parser.add_argument(\"--verbosity\", help=\"incrementa la verbosidad de la salida por pantalla\")\n",
    "args = parser.parse_args()\n",
    "if args.verbosity:\n",
    "    print(\"Ahora saco más cosas por pantalla\")\n"
   ]
  },
  {
   "cell_type": "markdown",
   "metadata": {},
   "source": [
    "Como el parámetro es opcional, puedo llamar al programa sin él, y no pasa nada"
   ]
  },
  {
   "cell_type": "code",
   "execution_count": 23,
   "metadata": {
    "collapsed": true
   },
   "outputs": [],
   "source": [
    "# Ahora puedo correr el programa sin argumentos\n",
    "%run prog6.py"
   ]
  },
  {
   "cell_type": "markdown",
   "metadata": {},
   "source": [
    "También puedo pasarle el argumento. Voy a ver como lo tengo que llamar, y hacerlo"
   ]
  },
  {
   "cell_type": "code",
   "execution_count": 31,
   "metadata": {
    "collapsed": false
   },
   "outputs": [
    {
     "name": "stdout",
     "output_type": "stream",
     "text": [
      "usage: prog6.py [-h] [--verbosity VERBOSITY]\n",
      "\n",
      "optional arguments:\n",
      "  -h, --help            show this help message and exit\n",
      "  --verbosity VERBOSITY\n",
      "                        incrementa la verbosidad de la salida por pantalla\n"
     ]
    }
   ],
   "source": [
    "%run prog6.py --help"
   ]
  },
  {
   "cell_type": "code",
   "execution_count": 32,
   "metadata": {
    "collapsed": false
   },
   "outputs": [
    {
     "name": "stdout",
     "output_type": "stream",
     "text": [
      "Ahora saco más cosas por pantalla\n"
     ]
    }
   ],
   "source": [
    "# Corro el programa con un argumento asociandole un valor\n",
    "%run prog6.py --verbosity 1"
   ]
  },
  {
   "cell_type": "markdown",
   "metadata": {},
   "source": [
    "Vale, pero, ¿y si quiero pasarle simplemente `--verbosity`, como hacía con `--help`?"
   ]
  },
  {
   "cell_type": "code",
   "execution_count": 24,
   "metadata": {
    "collapsed": false
   },
   "outputs": [
    {
     "name": "stderr",
     "output_type": "stream",
     "text": [
      "usage: prog6.py [-h] [--verbosity VERBOSITY]\n",
      "prog6.py: error: argument --verbosity: expected one argument\n"
     ]
    },
    {
     "ename": "SystemExit",
     "evalue": "2",
     "output_type": "error",
     "traceback": [
      "An exception has occurred, use %tb to see the full traceback.\n",
      "\u001b[1;31mSystemExit\u001b[0m\u001b[1;31m:\u001b[0m 2\n"
     ]
    }
   ],
   "source": [
    "# Corro el programa sin darle valor al argumento optativo\n",
    "%run prog6.py --verbosity"
   ]
  },
  {
   "cell_type": "markdown",
   "metadata": {},
   "source": [
    "<div class=\"alert alert-info\">__Importante__: Los parámetros optativos, por defecto, esperan que se pase algún valor asociado a dicho parámetro</div>"
   ]
  },
  {
   "cell_type": "markdown",
   "metadata": {},
   "source": [
    "Si lo que queremos es construir un parámetro optativo que realmente actúe como un flag, que es como se comporta `--help`, tendremos que especificárselo."
   ]
  },
  {
   "cell_type": "code",
   "execution_count": null,
   "metadata": {
    "collapsed": true
   },
   "outputs": [],
   "source": [
    "# %load prog7.py\n",
    "import argparse\n",
    "parser = argparse.ArgumentParser()\n",
    "parser.add_argument(\"--verbose\", help=\"incrementa la verbosidad de la salida por pantalla\", action=\"store_true\")\n",
    "args = parser.parse_args()\n",
    "if args.verbose:\n",
    "    print(\"Ahora saco más cosas por pantalla\")\n"
   ]
  },
  {
   "cell_type": "code",
   "execution_count": 34,
   "metadata": {
    "collapsed": false
   },
   "outputs": [
    {
     "name": "stdout",
     "output_type": "stream",
     "text": [
      "usage: prog7.py [-h] [--verbose]\n",
      "\n",
      "optional arguments:\n",
      "  -h, --help  show this help message and exit\n",
      "  --verbose   incrementa la verbosidad de la salida por pantalla\n"
     ]
    }
   ],
   "source": [
    "%run prog7.py --help"
   ]
  },
  {
   "cell_type": "code",
   "execution_count": 29,
   "metadata": {
    "collapsed": false
   },
   "outputs": [
    {
     "name": "stdout",
     "output_type": "stream",
     "text": [
      "Ahora saco más cosas por pantalla\n"
     ]
    }
   ],
   "source": [
    "# Ahora no tengo que pasarle valor asociado al argumento optativo\n",
    "%run prog7.py --verbose"
   ]
  },
  {
   "cell_type": "markdown",
   "metadata": {},
   "source": [
    "La mayor parte de las veces, los argumentos opcionales tienen una _versión corta_. Es muy sencillo añadirla"
   ]
  },
  {
   "cell_type": "code",
   "execution_count": null,
   "metadata": {
    "collapsed": true
   },
   "outputs": [],
   "source": [
    "# %load prog8.py\n",
    "import argparse\n",
    "parser = argparse.ArgumentParser()\n",
    "parser.add_argument(\"--verbose\", \"-v\", help=\"incrementa la verbosidad de la salida por pantalla\", action=\"store_true\")\n",
    "args = parser.parse_args()\n",
    "if args.verbose:\n",
    "    print(\"Ahora saco más cosas por pantalla\")\n"
   ]
  },
  {
   "cell_type": "code",
   "execution_count": 35,
   "metadata": {
    "collapsed": false
   },
   "outputs": [
    {
     "name": "stdout",
     "output_type": "stream",
     "text": [
      "usage: prog8.py [-h] [--verbose]\n",
      "\n",
      "optional arguments:\n",
      "  -h, --help     show this help message and exit\n",
      "  --verbose, -v  incrementa la verbosidad de la salida por pantalla\n"
     ]
    }
   ],
   "source": [
    "# Miro la ayuda otra vez\n",
    "%run prog8.py --help"
   ]
  },
  {
   "cell_type": "code",
   "execution_count": 36,
   "metadata": {
    "collapsed": false
   },
   "outputs": [
    {
     "name": "stdout",
     "output_type": "stream",
     "text": [
      "Ahora saco más cosas por pantalla\n"
     ]
    }
   ],
   "source": [
    "# Corro el programa\n",
    "%run prog8.py -v"
   ]
  },
  {
   "cell_type": "markdown",
   "metadata": {},
   "source": [
    "## Mezclando parámetros posicionales y optativos"
   ]
  },
  {
   "cell_type": "markdown",
   "metadata": {},
   "source": [
    "Hagamos un programa un poco más complejo mezclando ambos conceptos"
   ]
  },
  {
   "cell_type": "code",
   "execution_count": null,
   "metadata": {
    "collapsed": true
   },
   "outputs": [],
   "source": [
    "# %load prog9.py\n",
    "import argparse\n",
    "parser = argparse.ArgumentParser()\n",
    "parser.add_argument(\"square\", type=int,\n",
    "                    help=\"Muestra el número que le hayamos pasado elevado al cuadrado\")\n",
    "parser.add_argument(\"-v\", \"--verbose\", action=\"store_true\",\n",
    "                    help=\"incrementa la verbosidad de la salida por pantalla\")\n",
    "args = parser.parse_args()\n",
    "answer = args.square**2\n",
    "if args.verbose:\n",
    "    print(\"El número {} elevado al cuadrado es {}\".format(args.square, answer))\n",
    "else:\n",
    "    print(answer)\n"
   ]
  },
  {
   "cell_type": "code",
   "execution_count": 38,
   "metadata": {
    "collapsed": false
   },
   "outputs": [
    {
     "name": "stdout",
     "output_type": "stream",
     "text": [
      "usage: prog9.py [-h] [-v] square\n",
      "\n",
      "positional arguments:\n",
      "  square         Muestra el número que le hayamos pasado elevado al cuadrado\n",
      "\n",
      "optional arguments:\n",
      "  -h, --help     show this help message and exit\n",
      "  -v, --verbose  incrementa la verbosidad de la salida por pantalla\n"
     ]
    }
   ],
   "source": [
    "# Mostramos la ayuda\n",
    "%run prog9.py --help"
   ]
  },
  {
   "cell_type": "code",
   "execution_count": 40,
   "metadata": {
    "collapsed": false
   },
   "outputs": [
    {
     "name": "stdout",
     "output_type": "stream",
     "text": [
      "El número 4 elevado al cuadrado es 16\n"
     ]
    }
   ],
   "source": [
    "%run prog9.py 4 -v"
   ]
  },
  {
   "cell_type": "code",
   "execution_count": 41,
   "metadata": {
    "collapsed": false
   },
   "outputs": [
    {
     "name": "stdout",
     "output_type": "stream",
     "text": [
      "El número 4 elevado al cuadrado es 16\n"
     ]
    }
   ],
   "source": [
    "%run prog9.py -v 4 "
   ]
  },
  {
   "cell_type": "markdown",
   "metadata": {},
   "source": [
    "<div class=\"alert alert-info\">_argparse_ gestiona también el orden de los parámetros de entrada</div>"
   ]
  },
  {
   "cell_type": "markdown",
   "metadata": {},
   "source": [
    "También podemos limitar los valores de una determinada opción a un rango"
   ]
  },
  {
   "cell_type": "code",
   "execution_count": null,
   "metadata": {
    "collapsed": true
   },
   "outputs": [],
   "source": [
    "# %load prog10.py\n",
    "import argparse\n",
    "parser = argparse.ArgumentParser()\n",
    "parser.add_argument(\"square\", type=int,\n",
    "                    help=\"Muestra el número que le hayamos pasado elevado al cuadrado\")\n",
    "parser.add_argument(\"-v\", \"--verbosity\", type=int, choices=[0, 1, 2],\n",
    "                    help=\"incrementa la verbosidad de la salida por pantalla\")\n",
    "args = parser.parse_args()\n",
    "answer = args.square**2\n",
    "if args.verbosity == 2:\n",
    "    print(\"El número {} elevado al cuadrado es {}\".format(args.square, answer))\n",
    "elif args.verbosity == 1:\n",
    "    print(\"{}^2 == {}\".format(args.square, answer))\n",
    "else:\n",
    "    print(answer)\n"
   ]
  },
  {
   "cell_type": "code",
   "execution_count": 49,
   "metadata": {
    "collapsed": false
   },
   "outputs": [
    {
     "name": "stdout",
     "output_type": "stream",
     "text": [
      "usage: prog10.py [-h] [-v {0,1,2}] square\n",
      "\n",
      "positional arguments:\n",
      "  square                Muestra el número que le hayamos pasado elevado al\n",
      "                        cuadrado\n",
      "\n",
      "optional arguments:\n",
      "  -h, --help            show this help message and exit\n",
      "  -v {0,1,2}, --verbosity {0,1,2}\n",
      "                        incrementa la verbosidad de la salida por pantalla\n"
     ]
    }
   ],
   "source": [
    "# Pedimos ayuda\n",
    "%run prog10 --help"
   ]
  },
  {
   "cell_type": "code",
   "execution_count": 46,
   "metadata": {
    "collapsed": false
   },
   "outputs": [
    {
     "name": "stdout",
     "output_type": "stream",
     "text": [
      "16\n",
      "4^2 == 16\n",
      "El número 4 elevado al cuadrado es 16\n"
     ]
    }
   ],
   "source": [
    "# Probamos todos los niveles de verbose\n",
    "\n",
    "%run prog10 4 -v 0\n",
    "\n",
    "%run prog10 4 -v 1\n",
    "\n",
    "%run prog10 4 -v 2"
   ]
  },
  {
   "cell_type": "markdown",
   "metadata": {},
   "source": [
    "Vamos a cambiar la manera de trabajar de `-v`, para que se asemeje más a los típicos programas escritos en Python, o incluso en C: en lugar de especificar un nivel de verbosidad, contaremos el número de veces que aparece `-v`"
   ]
  },
  {
   "cell_type": "code",
   "execution_count": null,
   "metadata": {
    "collapsed": true
   },
   "outputs": [],
   "source": [
    "# %load prog11.py\n",
    "import argparse\n",
    "parser = argparse.ArgumentParser()\n",
    "parser.add_argument(\"square\", type=int,\n",
    "                    help=\"Muestra el número que le hayamos pasado elevado al cuadrado\")\n",
    "parser.add_argument(\"-v\", \"--verbosity\", action=\"count\", default=0,\n",
    "                    help=\"incrementa la verbosidad de la salida por pantalla\")\n",
    "args = parser.parse_args()\n",
    "answer = args.square**2\n",
    "if args.verbosity >= 2:\n",
    "    print(\"El número {} elevado al cuadrado es {}\".format(args.square, answer))\n",
    "elif args.verbosity >= 1:\n",
    "    print(\"{}^2 == {}\".format(args.square, answer))\n",
    "else:\n",
    "    print(answer)\n"
   ]
  },
  {
   "cell_type": "code",
   "execution_count": 59,
   "metadata": {
    "collapsed": false
   },
   "outputs": [
    {
     "name": "stdout",
     "output_type": "stream",
     "text": [
      "16\n",
      "4^2 == 16\n",
      "El número 4 elevado al cuadrado es 16\n",
      "El número 4 elevado al cuadrado es 16\n"
     ]
    }
   ],
   "source": [
    "# Volvemos a probar todos los niveles de verbose\n",
    "\n",
    "%run prog11 4\n",
    "\n",
    "%run prog11 4 -v\n",
    "\n",
    "%run prog11 4 -vv\n",
    "\n",
    "%run prog11 4 -vvvvvvvv"
   ]
  },
  {
   "cell_type": "markdown",
   "metadata": {},
   "source": [
    "Para terminar este ejemplo, añadamos dos mejoras:\n",
    "\n",
    "* Permitamos elegir base y exponente de la potencia, no solo la base\n",
    "* Hagamos que el nivel de verbosidad añada texto, no que cambie en función del valor del flag"
   ]
  },
  {
   "cell_type": "code",
   "execution_count": null,
   "metadata": {
    "collapsed": true
   },
   "outputs": [],
   "source": [
    "# %load prog12.py\n",
    "import argparse\n",
    "parser = argparse.ArgumentParser()\n",
    "parser.add_argument(\"x\", type=int, help=\"la base\")\n",
    "parser.add_argument(\"y\", type=int, help=\"el exponente\")\n",
    "parser.add_argument(\"-v\", \"--verbosity\", action=\"count\", default=0)\n",
    "args = parser.parse_args()\n",
    "answer = args.x**args.y\n",
    "if args.verbosity >= 2:\n",
    "    print(\"Ejecutando '{}'\".format(__file__))\n",
    "if args.verbosity >= 1:\n",
    "    print(\"{}^{} == \".format(args.x, args.y), end=\"\")\n",
    "print(answer)\n"
   ]
  },
  {
   "cell_type": "code",
   "execution_count": 60,
   "metadata": {
    "collapsed": false
   },
   "outputs": [
    {
     "name": "stdout",
     "output_type": "stream",
     "text": [
      "16\n",
      "2^4 == 16\n",
      "Ejecutando 'D:\\github\\Curso-Python-Ing-I\\notebooks_completos\\prog12.py'\n",
      "2^4 == 16\n"
     ]
    }
   ],
   "source": [
    "# Probamos varios niveles de verbose\n",
    "\n",
    "%run prog12.py 2 4\n",
    "\n",
    "%run prog12.py 2 4 -v\n",
    "\n",
    "%run prog12.py 2 4 -vv"
   ]
  },
  {
   "cell_type": "markdown",
   "metadata": {},
   "source": [
    "## Gestionando conflictos entre opciones"
   ]
  },
  {
   "cell_type": "markdown",
   "metadata": {},
   "source": [
    "Hay ocasiones en las que dos o más opciones son excluyentes entre si. Para gestionar esa situación, _argparse_ proporciona la función [add_mutually_exclusive_group](https://docs.python.org/3/library/argparse.html#argparse.ArgumentParser.add_mutually_exclusive_group)"
   ]
  },
  {
   "cell_type": "code",
   "execution_count": null,
   "metadata": {
    "collapsed": true
   },
   "outputs": [],
   "source": [
    "# %load prog13.py\n",
    "import argparse\n",
    "\n",
    "parser = argparse.ArgumentParser()\n",
    "group = parser.add_mutually_exclusive_group()\n",
    "group.add_argument(\"-v\", \"--verbose\", action=\"store_true\")\n",
    "group.add_argument(\"-q\", \"--quiet\", action=\"store_true\")\n",
    "parser.add_argument(\"x\", type=int, help=\"la base\")\n",
    "parser.add_argument(\"y\", type=int, help=\"el exponente\")\n",
    "args = parser.parse_args()\n",
    "answer = args.x**args.y\n",
    "\n",
    "if args.quiet:\n",
    "    print(answer)\n",
    "elif args.verbose:\n",
    "    print(\"{} elevado a {} es igual a {}\".format(args.x, args.y, answer))\n",
    "else:\n",
    "    print(\"{}^{} == {}\".format(args.x, args.y, answer))\n"
   ]
  },
  {
   "cell_type": "code",
   "execution_count": 64,
   "metadata": {
    "collapsed": false
   },
   "outputs": [
    {
     "name": "stdout",
     "output_type": "stream",
     "text": [
      "usage: prog13.py [-h] [-v | -q] x y\n",
      "\n",
      "positional arguments:\n",
      "  x              la base\n",
      "  y              el exponente\n",
      "\n",
      "optional arguments:\n",
      "  -h, --help     show this help message and exit\n",
      "  -v, --verbose\n",
      "  -q, --quiet\n"
     ]
    }
   ],
   "source": [
    "# Primero pedimos ayuda\n",
    "%run prog13.py --help"
   ]
  },
  {
   "cell_type": "code",
   "execution_count": 67,
   "metadata": {
    "collapsed": false
   },
   "outputs": [
    {
     "name": "stdout",
     "output_type": "stream",
     "text": [
      "2^4 == 16\n",
      "2 elevado a 4 es igual a 16\n",
      "16\n"
     ]
    }
   ],
   "source": [
    "# Probamos las opciones exclusivas\n",
    "\n",
    "%run prog13 2 4\n",
    "\n",
    "%run prog13 2 4 -v\n",
    "\n",
    "%run prog13 2 4 -q"
   ]
  },
  {
   "cell_type": "markdown",
   "metadata": {},
   "source": [
    "Para terminar, añadamos una descripción de lo que nuestro programa hace"
   ]
  },
  {
   "cell_type": "code",
   "execution_count": null,
   "metadata": {
    "collapsed": true
   },
   "outputs": [],
   "source": [
    "# %load prog14.py\n",
    "import argparse\n",
    "\n",
    "parser = argparse.ArgumentParser(description=\"Este programa calcula X^Y\")\n",
    "group = parser.add_mutually_exclusive_group()\n",
    "group.add_argument(\"-v\", \"--verbose\", action=\"store_true\")\n",
    "group.add_argument(\"-q\", \"--quiet\", action=\"store_true\")\n",
    "parser.add_argument(\"x\", type=int, help=\"la base\")\n",
    "parser.add_argument(\"y\", type=int, help=\"el exponente\")\n",
    "args = parser.parse_args()\n",
    "answer = args.x**args.y\n",
    "\n",
    "if args.quiet:\n",
    "    print(answer)\n",
    "elif args.verbose:\n",
    "    print(\"{} elevado a {} es igual a {}\".format(args.x, args.y, answer))\n",
    "else:\n",
    "    print(\"{}^{} == {}\".format(args.x, args.y, answer))\n"
   ]
  },
  {
   "cell_type": "code",
   "execution_count": 71,
   "metadata": {
    "collapsed": false
   },
   "outputs": [
    {
     "name": "stdout",
     "output_type": "stream",
     "text": [
      "usage: prog14.py [-h] [-v | -q] x y\n",
      "\n",
      "Este programa calcula X^Y\n",
      "\n",
      "positional arguments:\n",
      "  x              la base\n",
      "  y              el exponente\n",
      "\n",
      "optional arguments:\n",
      "  -h, --help     show this help message and exit\n",
      "  -v, --verbose\n",
      "  -q, --quiet\n"
     ]
    }
   ],
   "source": [
    "# Probamos que aparece la descripción del programa\n",
    "%run prog14.py --help"
   ]
  },
  {
   "cell_type": "markdown",
   "metadata": {},
   "source": [
    "##### <a rel=\"license\" href=\"http://creativecommons.org/licenses/by/4.0/deed.es\"><img alt=\"Licencia Creative Commons\" style=\"border-width:0\" src=\"http://i.creativecommons.org/l/by/4.0/88x31.png\" /></a><br /><span xmlns:dct=\"http://purl.org/dc/terms/\" property=\"dct:title\">Curso Python</span> por <span xmlns:cc=\"http://creativecommons.org/ns#\" property=\"cc:attributionName\">Jorge Arévalo</span> se distribuye bajo una <a rel=\"license\" href=\"http://creativecommons.org/licenses/by/4.0/deed.es\">Licencia Creative Commons Atribución 4.0 Internacional</a>."
   ]
  },
  {
   "cell_type": "markdown",
   "metadata": {},
   "source": [
    "---\n",
    "_Las siguientes celdas contienen configuración del Notebook_\n",
    "\n",
    "_Para visualizar y utlizar los enlaces a Twitter el notebook debe ejecutarse como [seguro](http://ipython.org/ipython-doc/dev/notebook/security.html)_\n",
    "\n",
    "    File > Trusted Notebook"
   ]
  },
  {
   "cell_type": "code",
   "execution_count": 1,
   "metadata": {
    "collapsed": false
   },
   "outputs": [
    {
     "data": {
      "text/html": [
       "/* This template is inspired in the one used by Lorena Barba\n",
       "in the numerical-mooc repository: https://github.com/numerical-mooc/numerical-mooc\n",
       "We thank her work and hope you also enjoy the look of the notobooks with this style */\n",
       "\n",
       "<link href='http://fonts.googleapis.com/css?family=Source+Sans+Pro|Josefin+Sans:400,700,400italic|Ubuntu+Condensed' rel='stylesheet' type='text/css'>\n",
       "\n",
       "El estilo se ha aplicado =)\n",
       "\n",
       "<style>\n",
       "\n",
       "\n",
       "\n",
       "#notebook_panel { /* main background */\n",
       "    background: #f7f7f7;\n",
       "}\n",
       "\n",
       "div.cell { /* set cell width */\n",
       "    width: 900px;\n",
       "}\n",
       "\n",
       "div #notebook { /* centre the content */\n",
       "    background: #fff; /* white background for content */\n",
       "    width: 950px;\n",
       "    margin: auto;\n",
       "    padding-left: 0em;\n",
       "}\n",
       "\n",
       "#notebook li { /* More space between bullet points */\n",
       "    margin-top:0.7em;\n",
       "}\n",
       "\n",
       "/* draw border around running cells */\n",
       "div.cell.border-box-sizing.code_cell.running { \n",
       "    border: 1px solid #111;\n",
       "}\n",
       "\n",
       "/* Put a solid color box around each cell and its output, visually linking them*/\n",
       "div.cell.code_cell {\n",
       "    font-family: 'Source Sans Pro', sans-serif;\n",
       "    background-color: rgb(256,256,256);\n",
       "    font-size: 110%;\n",
       "    border-radius: 0px; \n",
       "    padding: 0.5em;\n",
       "    margin-left:1em;\n",
       "    margin-top: 1em;\n",
       "}\n",
       "\n",
       "div.text_cell_render{\n",
       "    font-family: 'Josefin Sans', serif;\n",
       "    line-height: 145%;\n",
       "    font-size: 125%;\n",
       "    font-weight: 500;\n",
       "    width:750px;\n",
       "    margin-left:auto;\n",
       "    margin-right:auto;\n",
       "}\n",
       "\n",
       "\n",
       "/* Formatting for header cells */\n",
       ".text_cell_render h1, .text_cell_render h2, .text_cell_render h3,\n",
       ".text_cell_render h4, .text_cell_render h5 {\n",
       "    font-family: 'Ubuntu Condensed', sans-serif;\n",
       "}\n",
       "/*\n",
       ".text_cell_render h1 {\n",
       "    font-family: Flux, 'Ubuntu Condensed', serif;\n",
       "    font-style:regular;\n",
       "    font-weight: 400;    \n",
       "    font-size: 30pt;\n",
       "    text-align: center;\n",
       "    line-height: 100%;\n",
       "    color: #335082;\n",
       "    margin-bottom: 0.5em;\n",
       "    margin-top: 0.5em;\n",
       "    display: block;\n",
       "}\n",
       "*/\n",
       ".text_cell_render h1 {\n",
       "    font-weight: 600;\n",
       "    font-size: 35pt;\n",
       "    line-height: 100%;\n",
       "    color: #000000;\n",
       "    margin-bottom: 0.1em;\n",
       "    margin-top: 0.3em;\n",
       "    display: block;\n",
       "}\n",
       "\n",
       ".text_cell_render h2 {\n",
       "    margin-top:16px;\n",
       "    font-size: 27pt;\n",
       "    font-weight: 550;\n",
       "    margin-bottom: 0.1em;\n",
       "    margin-top: 0.3em;\n",
       "    font-style: regular;\n",
       "    color: #2c6391;\n",
       "}\t\n",
       "\n",
       ".text_cell_render h3 {\n",
       "    font-size: 20pt;\n",
       "    font-weight: 550\n",
       "    text-align: left;\n",
       "    margin-bottom: 0.1em;\n",
       "    margin-top: 0.3em;\n",
       "    font-style: regular;\n",
       "    color:  #387eb8;\n",
       "}\n",
       "\n",
       ".text_cell_render h4 {    /*Use this for captions*/\n",
       "    font-size: 18pt;\n",
       "    font-weight: 450\n",
       "    text-align: left;\n",
       "    margin-bottom: 0.1em;\n",
       "    margin-top: 0.3em;\n",
       "    font-style: regular;\n",
       "    color:  #5797cc;\n",
       "}\n",
       "\n",
       ".text_cell_render h5 {  /*Use this for small titles*/\n",
       "    font-size: 18pt;\n",
       "    font-weight: 550;\n",
       "    color: rgb(163,0,0);\n",
       "    font-style: italic;\n",
       "    margin-bottom: .1em;\n",
       "    margin-top: 0.8em;\n",
       "    display: block;\n",
       "    color:  #b21c0d;\n",
       "}\n",
       "\n",
       ".text_cell_render h6 { /*use this for copyright note*/\n",
       "    font-family: 'Ubuntu Condensed', sans-serif;\n",
       "    font-weight: 300;\n",
       "    font-size: 14pt;\n",
       "    line-height: 100%;\n",
       "    color: #252525;\n",
       "    text-align: right;\n",
       "    margin-bottom: 1px;\n",
       "    margin-top: 1px;\n",
       "}\n",
       "\n",
       ".CodeMirror{\n",
       "        font-family: 'Duru Sans', sans-serif;\n",
       "        font-size: 100%;\n",
       "}\n",
       "\n",
       "</style>\n",
       "<script>\n",
       "    MathJax.Hub.Config({\n",
       "                        TeX: {\n",
       "                           extensions: [\"AMSmath.js\"],\n",
       "                           equationNumbers: { autoNumber: \"AMS\", useLabelIds: true}\n",
       "                           },\n",
       "                tex2jax: {\n",
       "                    inlineMath: [ ['$','$'], [\"\\\\(\",\"\\\\)\"] ],\n",
       "                    displayMath: [ ['$$','$$'], [\"\\\\[\",\"\\\\]\"] ]\n",
       "                },\n",
       "                displayAlign: 'center', // Change this to 'center' to center equations.\n",
       "                \"HTML-CSS\": {\n",
       "                    styles: {'.MathJax_Display': {\"margin\": 4}}\n",
       "                }\n",
       "        });\n",
       "</script>\n"
      ],
      "text/plain": [
       "<IPython.core.display.HTML object>"
      ]
     },
     "execution_count": 1,
     "metadata": {},
     "output_type": "execute_result"
    }
   ],
   "source": [
    "# Esta celda da el estilo al notebook\n",
    "from IPython.core.display import HTML\n",
    "css_file = '../static/styles/style.css'\n",
    "HTML(open(css_file, \"r\").read())"
   ]
  },
  {
   "cell_type": "code",
   "execution_count": null,
   "metadata": {
    "collapsed": true
   },
   "outputs": [],
   "source": []
  }
 ],
 "metadata": {
  "kernelspec": {
   "display_name": "Python 3",
   "language": "python",
   "name": "python3"
  },
  "language_info": {
   "codemirror_mode": {
    "name": "ipython",
    "version": 3
   },
   "file_extension": ".py",
   "mimetype": "text/x-python",
   "name": "python",
   "nbconvert_exporter": "python",
   "pygments_lexer": "ipython3",
   "version": "3.5.1+"
  }
 },
 "nbformat": 4,
 "nbformat_minor": 0
}
