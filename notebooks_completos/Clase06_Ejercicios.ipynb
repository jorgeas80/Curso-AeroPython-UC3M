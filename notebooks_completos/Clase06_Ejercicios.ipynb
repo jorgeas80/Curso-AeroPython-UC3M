{
 "cells": [
  {
   "cell_type": "markdown",
   "metadata": {},
   "source": [
    "<img src=\"../static/logopython.png\" alt=\"Logo Python\" style=\"width: 300px; display: inline\"/>\n",
    "<img src=\"../static/deimoslogo.png\" alt=\"Logo Deimos\" style=\"width: 300px; display: inline\"/>"
   ]
  },
  {
   "cell_type": "markdown",
   "metadata": {},
   "source": [
    "# Clase 6: Ejercicios prácticos\n",
    "\n",
    "En esta clase vamos a afianzar los conocimientos de Python que acabamos de adquirir haciendo algunos ejercicios sobre las herramientas del lenguaje Python para trabajar con parámetros de entrada en Python"
   ]
  },
  {
   "cell_type": "markdown",
   "metadata": {},
   "source": [
    "## Ejercicio 1\n",
    "\n",
    "Crea un script python que lea de un fichero de texto pasado como argumento (obligatorio) línea a línea. De cada línea, ha de eliminar símbolos de puntuación y pasar todo a minúsculas. Además, ha de sacar cada línea por pantalla.\n",
    "\n",
    "Para probarlo, lanza el intérprete de python3 desde consola, y usa cualquiera de los ficheros de texto disponibles con estos cuadernos (ej: quijote.txt)\n",
    "\n",
    "__Pista__: Para saber qué signos de puntuación eliminar, utiliza [string.punctuation](https://docs.python.org/3.1/library/string.html#string.punctuation)"
   ]
  },
  {
   "cell_type": "code",
   "execution_count": null,
   "metadata": {
    "collapsed": true
   },
   "outputs": [],
   "source": [
    "# %load simplifica.py\n",
    "#!/usr/bin/env python\n",
    "\"\"\"\n",
    "Script que lee un fichero, elimina espacios en blanco y símbolos de puntuación, y pone todo en minúsculas.\n",
    "\"\"\"\n",
    "\n",
    "import argparse\n",
    "import string\n",
    "\n",
    "def main():\n",
    "    parser = argparse.ArgumentParser()\n",
    "    parser.add_argument(\"source_file\", help=\"Fichero de entrada\")\n",
    "    args = parser.parse_args()\n",
    "    filename = args.source_file\n",
    "\n",
    "    with open(args.source_file, 'r') as f:\n",
    "        for line in f:\n",
    "\n",
    "            # Todos los caracteres en string.punctuation se mapean con un espacio en blanco\n",
    "            line = line.translate(str.maketrans(string.punctuation, ' '*len(string.punctuation)))\n",
    "            print(line.lower().strip())\n",
    "\n",
    "if __name__ == '__main__':\n",
    "    main()\n"
   ]
  },
  {
   "cell_type": "code",
   "execution_count": 4,
   "metadata": {
    "collapsed": false
   },
   "outputs": [
    {
     "name": "stdout",
     "output_type": "stream",
     "text": [
      "en un lugar de la mancha\n",
      "de cuyo nombre no quiero acordarme\n",
      "no ha mucho tiempo que vivía un hidalgo de los de lanza en astillero\n",
      "adarga antigua  rocín flaco y galgo corredor\n",
      "una olla de algo más vaca que carnero\n",
      "salpicón las más noches\n",
      "duelos y quebrantos los sábados\n",
      "lentejas los viernes\n",
      "algún palomino de añadidura los domingos\n",
      "consumían las tres partes de su hacienda\n",
      "el resto della concluían sayo de velarte\n",
      "calzas de velludo para las fiestas con sus pantuflos de lo mismo\n",
      "los días de entre semana se honraba con su vellori de lo más fino\n",
      "tenía en su casa una ama que pasaba de los cuarenta\n",
      "y una sobrina que no llegaba a los veinte\n",
      "y un mozo de campo y plaza\n",
      "que así ensillaba el rocín como tomaba la podadera\n",
      "frisaba la edad de nuestro hidalgo con los cincuenta años\n",
      "era de complexión recia\n",
      "seco de carnes\n",
      "enjuto de rostro\n",
      "gran madrugador y amigo de la caza\n",
      "quieren decir que tenía el sobrenombre de quijada o quesada  que en esto hay alguna diferencia en los autores que deste caso escriben\n",
      "aunque por conjeturas verosímiles se deja entender que se llama quijana\n",
      "pero esto importa poco a nuestro cuento\n",
      "basta que en la narración dél no se salga un punto de la verdad\n"
     ]
    }
   ],
   "source": [
    "%run simplifica.py quijote.txt"
   ]
  },
  {
   "cell_type": "markdown",
   "metadata": {},
   "source": [
    "## Ejercicio 2\n",
    "\n",
    "El fichero chebysev.py contiene código Python para graficar [polinomios de Chebysev](https://en.wikipedia.org/wiki/Chebyshev_polynomials). No te preocupes de las matemáticas ni de las funciones gráficas. Lo que debes hacer es gestionar los parámetros de entrada para que cumplan lo siguiente:\n",
    "\n",
    "* Cuando el usuario lance el script con la opción de mostrar ayuda de los parámetros, lo primero que le ha de aparecer es el texto: *Crea gráfica de polinomios de Chebysev de órdenes M a N para valores entre -X y +X*\n",
    "* Igualmente, lo último que ha de ver el usuario cuando pida ayuda es tu nombre y correo electrónico: *Autor: Fulanito de tal <correo@correo.com>*\n",
    "* El programa ha de exigir un único parámetro posicional, que será la ruta completa a un fichero de imagen en formato PNG que será creado. Ejempo: grafica.png. La variable que almacenará el valor de dicho fichero se llamará *file*, y será del tipo necesario para permitir que el programa escriba en el fichero datos de tipo binario (como de hecho, hace). El texto de ayuda asociado a la opción será *Nombre del fichero para guardar la gráfica (obligatorio)*\n",
    "* El programa ha de aceptar un parámetro opcional -k (modo extendido: --npts) de tipo entero, con valor por defecto 512, y con texto de ayuda: \"Número de puntos a graficar\". La variable que almacenará su valor se llamará *npts*\n",
    "* El programa ha de aceptar un parámetro opcional -x (modo extendido --limit) de tipo float con valor por defecto 1.0 y con texto de ayuda: \"Rango de valores para x.\" La variable que almacenará su valor se llamará *limit*\n",
    "* El programa ha de aceptar un parámetro opcional -m (modo extendido --min) de tipo entero con valor por defecto 1 y con texto de ayuda: \"Orden mínimo del polinomio.\" La variable que almacenará su valor se llamará *min*\n",
    "* El programa ha de aceptar un parámetro opcional -M (modo extendido --max) de tipo entero con valor por defecto 3 y con texto de ayuda: \"Orden maximo del polinomio.\" La variable que almacenará su valor se llamará *max*\n",
    "* El programa ha de aceptar un parámetro opcional -t (modo extendido --title) de tipo string con valor por defecto vacío y con texto de ayuda: \"Título de la gráfica.\" La variable que almacenará su valor se llamará *title*\n",
    "\n",
    "__Pista__: Investiga el uso de [argparse.FileType](https://docs.python.org/3/library/argparse.html#filetype-objects) para ver cómo declarar argumentos de tipo válido para que puedan ser tratados como ficheros\n",
    "\n",
    "__Pista__: Investiga la clase [argparse.ArgumentParser](https://docs.python.org/3/library/argparse.html#argumentparser-objects) para averiguar cómo obtener lo que se pide en el primer requisito"
   ]
  },
  {
   "cell_type": "code",
   "execution_count": null,
   "metadata": {
    "collapsed": true
   },
   "outputs": [],
   "source": [
    "# %load chebyshev.py\n",
    "import argparse\n",
    "import numpy\n",
    "\n",
    "# Build a basic parser.\n",
    "help_text = '''Crea gráfica de polinomios de Chebysev de órdenes M a N para valores entre -X y +X.'''\n",
    "sign_off = 'Author: Bob Dowling <rjd4@cam.ac.uk>'\n",
    "\n",
    "parser = argparse.ArgumentParser(description=help_text, epilog=sign_off)\n",
    "\n",
    "# Add the command line options\n",
    "parser.add_argument('-k', '--npts',  dest='npts',  type=int,   default=512, metavar='k', help='Número de puntos a graficar')\n",
    "parser.add_argument('-x', '--limit', dest='limit', type=float, default=1.0, metavar='X', help='Rango de valores para x.')\n",
    "parser.add_argument('-m', '--min',   dest='min',   type=int,   default=1,   metavar='m', help='Orden mínimo del polinomio.')\n",
    "parser.add_argument('-M', '--max',   dest='max',   type=int,   default=3,   metavar='M', help='Orden maximo del polinomio.')\n",
    "parser.add_argument('-t', '--title', dest='title', type=str,   default='',  metavar='title', help='Título de la gráfica')\n",
    "parser.add_argument(                 dest='file',  type=argparse.FileType('wb'),  metavar='fname', help='Nombre del fichero para guardar la gráfica (obligatorio)')\n",
    "\n",
    "# Parse the command line\n",
    "arguments = parser.parse_args()\n",
    "# print(arguments)\n",
    "\n",
    "# Create the graph\n",
    "# Matplotlib is slow to load so put it here to not delay the parsing\n",
    "import matplotlib.pyplot as pyplot\n",
    "\n",
    "npts = arguments.npts\n",
    "limit = arguments.limit\n",
    "x = numpy.linspace(-1.0*limit, limit, npts)\n",
    "\n",
    "# Run through the Chebyshev polynomials\n",
    "M = arguments.min\n",
    "N = arguments.max + 1\n",
    "for order in range(M,N):\n",
    "    y = numpy.where(\n",
    "        numpy.abs(x) < 1.0,\n",
    "        numpy.cos(order*numpy.arccos(x)),\n",
    "        numpy.where(\n",
    "            x > 0.0,\n",
    "            numpy.cosh(order*numpy.arccosh(x)),\n",
    "            (-1.0)**order*numpy.cosh(order*numpy.arccosh(numpy.abs(x)))\n",
    "            )\n",
    "        )\n",
    "\n",
    "    pyplot.plot(x,y)\n",
    "\n",
    "if arguments.title:\n",
    "    pyplot.suptitle(arguments.title)\n",
    "\n",
    "f = arguments.file\n",
    "pyplot.savefig(f)\n",
    "f.close()\n",
    "\n"
   ]
  },
  {
   "cell_type": "code",
   "execution_count": 6,
   "metadata": {
    "collapsed": false
   },
   "outputs": [
    {
     "name": "stderr",
     "output_type": "stream",
     "text": [
      "/home/jorge/Dev/github/Curso-Python-Ing-I/notebooks_completos/chebyshev.py:39: RuntimeWarning: invalid value encountered in arccosh\n",
      "  numpy.cosh(order*numpy.arccosh(x)),\n",
      "/home/jorge/Dev/github/Curso-Python-Ing-I/notebooks_completos/chebyshev.py:40: RuntimeWarning: invalid value encountered in arccosh\n",
      "  (-1.0)**order*numpy.cosh(order*numpy.arccosh(numpy.abs(x)))\n"
     ]
    }
   ],
   "source": [
    "%run chebyshev.py -k 100 -x 1 -m 1 -M 3 -t \"Grafica de prueba\" g.png"
   ]
  },
  {
   "cell_type": "markdown",
   "metadata": {},
   "source": [
    "##### <a rel=\"license\" href=\"http://creativecommons.org/licenses/by/4.0/deed.es\"><img alt=\"Licencia Creative Commons\" style=\"border-width:0\" src=\"http://i.creativecommons.org/l/by/4.0/88x31.png\" /></a><br /><span xmlns:dct=\"http://purl.org/dc/terms/\" property=\"dct:title\">Curso Python</span> por <span xmlns:cc=\"http://creativecommons.org/ns#\" property=\"cc:attributionName\">Jorge Arévalo</span> se distribuye bajo una <a rel=\"license\" href=\"http://creativecommons.org/licenses/by/4.0/deed.es\">Licencia Creative Commons Atribución 4.0 Internacional</a>."
   ]
  },
  {
   "cell_type": "markdown",
   "metadata": {},
   "source": [
    "---\n",
    "_Las siguientes celdas contienen configuración del Notebook_\n",
    "\n",
    "_Para visualizar y utlizar los enlaces a Twitter el notebook debe ejecutarse como [seguro](http://ipython.org/ipython-doc/dev/notebook/security.html)_\n",
    "\n",
    "    File > Trusted Notebook"
   ]
  },
  {
   "cell_type": "code",
   "execution_count": 3,
   "metadata": {
    "collapsed": false
   },
   "outputs": [
    {
     "data": {
      "text/html": [
       "/* This template is inspired in the one used by Lorena Barba\n",
       "in the numerical-mooc repository: https://github.com/numerical-mooc/numerical-mooc\n",
       "We thank her work and hope you also enjoy the look of the notobooks with this style */\n",
       "\n",
       "<link href='http://fonts.googleapis.com/css?family=Source+Sans+Pro|Josefin+Sans:400,700,400italic|Ubuntu+Condensed' rel='stylesheet' type='text/css'>\n",
       "\n",
       "El estilo se ha aplicado =)\n",
       "\n",
       "<style>\n",
       "\n",
       "\n",
       "\n",
       "#notebook_panel { /* main background */\n",
       "    background: #f7f7f7;\n",
       "}\n",
       "\n",
       "div.cell { /* set cell width */\n",
       "    width: 900px;\n",
       "}\n",
       "\n",
       "div #notebook { /* centre the content */\n",
       "    background: #fff; /* white background for content */\n",
       "    width: 950px;\n",
       "    margin: auto;\n",
       "    padding-left: 0em;\n",
       "}\n",
       "\n",
       "#notebook li { /* More space between bullet points */\n",
       "    margin-top:0.7em;\n",
       "}\n",
       "\n",
       "/* draw border around running cells */\n",
       "div.cell.border-box-sizing.code_cell.running { \n",
       "    border: 1px solid #111;\n",
       "}\n",
       "\n",
       "/* Put a solid color box around each cell and its output, visually linking them*/\n",
       "div.cell.code_cell {\n",
       "    font-family: 'Source Sans Pro', sans-serif;\n",
       "    background-color: rgb(256,256,256);\n",
       "    font-size: 110%;\n",
       "    border-radius: 0px; \n",
       "    padding: 0.5em;\n",
       "    margin-left:1em;\n",
       "    margin-top: 1em;\n",
       "}\n",
       "\n",
       "div.text_cell_render{\n",
       "    font-family: 'Josefin Sans', serif;\n",
       "    line-height: 145%;\n",
       "    font-size: 125%;\n",
       "    font-weight: 500;\n",
       "    width:750px;\n",
       "    margin-left:auto;\n",
       "    margin-right:auto;\n",
       "}\n",
       "\n",
       "\n",
       "/* Formatting for header cells */\n",
       ".text_cell_render h1, .text_cell_render h2, .text_cell_render h3,\n",
       ".text_cell_render h4, .text_cell_render h5 {\n",
       "    font-family: 'Ubuntu Condensed', sans-serif;\n",
       "}\n",
       "/*\n",
       ".text_cell_render h1 {\n",
       "    font-family: Flux, 'Ubuntu Condensed', serif;\n",
       "    font-style:regular;\n",
       "    font-weight: 400;    \n",
       "    font-size: 30pt;\n",
       "    text-align: center;\n",
       "    line-height: 100%;\n",
       "    color: #335082;\n",
       "    margin-bottom: 0.5em;\n",
       "    margin-top: 0.5em;\n",
       "    display: block;\n",
       "}\n",
       "*/\n",
       ".text_cell_render h1 {\n",
       "    font-weight: 600;\n",
       "    font-size: 35pt;\n",
       "    line-height: 100%;\n",
       "    color: #000000;\n",
       "    margin-bottom: 0.1em;\n",
       "    margin-top: 0.3em;\n",
       "    display: block;\n",
       "}\n",
       "\n",
       ".text_cell_render h2 {\n",
       "    margin-top:16px;\n",
       "    font-size: 27pt;\n",
       "    font-weight: 550;\n",
       "    margin-bottom: 0.1em;\n",
       "    margin-top: 0.3em;\n",
       "    font-style: regular;\n",
       "    color: #2c6391;\n",
       "}\t\n",
       "\n",
       ".text_cell_render h3 {\n",
       "    font-size: 20pt;\n",
       "    font-weight: 550\n",
       "    text-align: left;\n",
       "    margin-bottom: 0.1em;\n",
       "    margin-top: 0.3em;\n",
       "    font-style: regular;\n",
       "    color:  #387eb8;\n",
       "}\n",
       "\n",
       ".text_cell_render h4 {    /*Use this for captions*/\n",
       "    font-size: 18pt;\n",
       "    font-weight: 450\n",
       "    text-align: left;\n",
       "    margin-bottom: 0.1em;\n",
       "    margin-top: 0.3em;\n",
       "    font-style: regular;\n",
       "    color:  #5797cc;\n",
       "}\n",
       "\n",
       ".text_cell_render h5 {  /*Use this for small titles*/\n",
       "    font-size: 18pt;\n",
       "    font-weight: 550;\n",
       "    color: rgb(163,0,0);\n",
       "    font-style: italic;\n",
       "    margin-bottom: .1em;\n",
       "    margin-top: 0.8em;\n",
       "    display: block;\n",
       "    color:  #b21c0d;\n",
       "}\n",
       "\n",
       ".text_cell_render h6 { /*use this for copyright note*/\n",
       "    font-family: 'Ubuntu Condensed', sans-serif;\n",
       "    font-weight: 300;\n",
       "    font-size: 14pt;\n",
       "    line-height: 100%;\n",
       "    color: #252525;\n",
       "    text-align: right;\n",
       "    margin-bottom: 1px;\n",
       "    margin-top: 1px;\n",
       "}\n",
       "\n",
       ".CodeMirror{\n",
       "        font-family: 'Duru Sans', sans-serif;\n",
       "        font-size: 100%;\n",
       "}\n",
       "\n",
       "</style>\n",
       "<script>\n",
       "    MathJax.Hub.Config({\n",
       "                        TeX: {\n",
       "                           extensions: [\"AMSmath.js\"],\n",
       "                           equationNumbers: { autoNumber: \"AMS\", useLabelIds: true}\n",
       "                           },\n",
       "                tex2jax: {\n",
       "                    inlineMath: [ ['$','$'], [\"\\\\(\",\"\\\\)\"] ],\n",
       "                    displayMath: [ ['$$','$$'], [\"\\\\[\",\"\\\\]\"] ]\n",
       "                },\n",
       "                displayAlign: 'center', // Change this to 'center' to center equations.\n",
       "                \"HTML-CSS\": {\n",
       "                    styles: {'.MathJax_Display': {\"margin\": 4}}\n",
       "                }\n",
       "        });\n",
       "</script>\n"
      ],
      "text/plain": [
       "<IPython.core.display.HTML object>"
      ]
     },
     "execution_count": 3,
     "metadata": {},
     "output_type": "execute_result"
    }
   ],
   "source": [
    "# Esta celda da el estilo al notebook\n",
    "from IPython.core.display import HTML\n",
    "css_file = '../static/styles/style.css'\n",
    "HTML(open(css_file, \"r\").read())"
   ]
  },
  {
   "cell_type": "code",
   "execution_count": null,
   "metadata": {
    "collapsed": true
   },
   "outputs": [],
   "source": []
  }
 ],
 "metadata": {
  "kernelspec": {
   "display_name": "Python 3",
   "language": "python",
   "name": "python3"
  },
  "language_info": {
   "codemirror_mode": {
    "name": "ipython",
    "version": 3
   },
   "file_extension": ".py",
   "mimetype": "text/x-python",
   "name": "python",
   "nbconvert_exporter": "python",
   "pygments_lexer": "ipython3",
   "version": "3.5.1+"
  }
 },
 "nbformat": 4,
 "nbformat_minor": 0
}
